{
 "cells": [
  {
   "cell_type": "markdown",
   "id": "694b97ea",
   "metadata": {},
   "source": [
    "# Our first look at data"
   ]
  },
  {
   "cell_type": "code",
   "execution_count": 1,
   "id": "59d10bed",
   "metadata": {},
   "outputs": [
    {
     "data": {
      "text/html": [
       "<table class=\"dataframe\">\n",
       "<caption>A data.frame: 6 × 2</caption>\n",
       "<thead>\n",
       "\t<tr><th></th><th scope=col>Diet</th><th scope=col>Bodyweight</th></tr>\n",
       "\t<tr><th></th><th scope=col>&lt;chr&gt;</th><th scope=col>&lt;dbl&gt;</th></tr>\n",
       "</thead>\n",
       "<tbody>\n",
       "\t<tr><th scope=row>1</th><td>chow</td><td>21.51</td></tr>\n",
       "\t<tr><th scope=row>2</th><td>chow</td><td>28.14</td></tr>\n",
       "\t<tr><th scope=row>3</th><td>chow</td><td>24.04</td></tr>\n",
       "\t<tr><th scope=row>4</th><td>chow</td><td>23.45</td></tr>\n",
       "\t<tr><th scope=row>5</th><td>chow</td><td>23.68</td></tr>\n",
       "\t<tr><th scope=row>6</th><td>chow</td><td>19.79</td></tr>\n",
       "</tbody>\n",
       "</table>\n"
      ],
      "text/latex": [
       "A data.frame: 6 × 2\n",
       "\\begin{tabular}{r|ll}\n",
       "  & Diet & Bodyweight\\\\\n",
       "  & <chr> & <dbl>\\\\\n",
       "\\hline\n",
       "\t1 & chow & 21.51\\\\\n",
       "\t2 & chow & 28.14\\\\\n",
       "\t3 & chow & 24.04\\\\\n",
       "\t4 & chow & 23.45\\\\\n",
       "\t5 & chow & 23.68\\\\\n",
       "\t6 & chow & 19.79\\\\\n",
       "\\end{tabular}\n"
      ],
      "text/markdown": [
       "\n",
       "A data.frame: 6 × 2\n",
       "\n",
       "| <!--/--> | Diet &lt;chr&gt; | Bodyweight &lt;dbl&gt; |\n",
       "|---|---|---|\n",
       "| 1 | chow | 21.51 |\n",
       "| 2 | chow | 28.14 |\n",
       "| 3 | chow | 24.04 |\n",
       "| 4 | chow | 23.45 |\n",
       "| 5 | chow | 23.68 |\n",
       "| 6 | chow | 19.79 |\n",
       "\n"
      ],
      "text/plain": [
       "  Diet Bodyweight\n",
       "1 chow 21.51     \n",
       "2 chow 28.14     \n",
       "3 chow 24.04     \n",
       "4 chow 23.45     \n",
       "5 chow 23.68     \n",
       "6 chow 19.79     "
      ]
     },
     "metadata": {},
     "output_type": "display_data"
    }
   ],
   "source": [
    "data=read.csv('D:/desktop/dataR/femaleMiceWeights.csv',1)\n",
    "head(data)"
   ]
  },
  {
   "cell_type": "code",
   "execution_count": 2,
   "id": "998aba4c",
   "metadata": {},
   "outputs": [
    {
     "name": "stderr",
     "output_type": "stream",
     "text": [
      "\n",
      "Attaching package: 'dplyr'\n",
      "\n",
      "\n",
      "The following objects are masked from 'package:stats':\n",
      "\n",
      "    filter, lag\n",
      "\n",
      "\n",
      "The following objects are masked from 'package:base':\n",
      "\n",
      "    intersect, setdiff, setequal, union\n",
      "\n",
      "\n"
     ]
    }
   ],
   "source": [
    "library(dplyr)\n",
    "control <- filter(data,Diet==\"chow\") %>% select(Bodyweight) %>% unlist\n",
    "treatment <- filter(data,Diet==\"hf\") %>% select(Bodyweight) %>% unlist"
   ]
  },
  {
   "cell_type": "code",
   "execution_count": 3,
   "id": "163d137d",
   "metadata": {},
   "outputs": [
    {
     "name": "stdout",
     "output_type": "stream",
     "text": [
      "[1] 26.83417\n"
     ]
    }
   ],
   "source": [
    "print( mean(treatment) )"
   ]
  },
  {
   "cell_type": "code",
   "execution_count": 4,
   "id": "bcdaa3e1",
   "metadata": {},
   "outputs": [
    {
     "name": "stdout",
     "output_type": "stream",
     "text": [
      "[1] 3.020833\n"
     ]
    }
   ],
   "source": [
    "obsdiff <- mean(treatment) - mean(control)\n",
    "print(obsdiff)"
   ]
  },
  {
   "cell_type": "markdown",
   "id": "80d56ee2",
   "metadata": {},
   "source": [
    "# Random Variables"
   ]
  },
  {
   "cell_type": "code",
   "execution_count": 5,
   "id": "0c3b9ff5",
   "metadata": {},
   "outputs": [],
   "source": [
    "library(downloader)\n",
    "url <- \"https://raw.githubusercontent.com/genomicsclass/dagdata/master/inst/extdata/\\\n",
    "femaleControlsPopulation.csv\"\n",
    "filename <- \"femaleControlsPopulation.csv\"\n",
    "if (!file.exists(filename)) download(url,destfile=filename)"
   ]
  },
  {
   "cell_type": "code",
   "execution_count": 6,
   "id": "0d87b1f3",
   "metadata": {},
   "outputs": [],
   "source": [
    "population <- read.csv(filename)\n",
    "population <- unlist(population)"
   ]
  },
  {
   "cell_type": "code",
   "execution_count": 7,
   "id": "af5b3482",
   "metadata": {},
   "outputs": [
    {
     "data": {
      "text/html": [
       "23.3375"
      ],
      "text/latex": [
       "23.3375"
      ],
      "text/markdown": [
       "23.3375"
      ],
      "text/plain": [
       "[1] 23.3375"
      ]
     },
     "metadata": {},
     "output_type": "display_data"
    }
   ],
   "source": [
    "control <- sample(population,12)\n",
    "mean(control)"
   ]
  },
  {
   "cell_type": "code",
   "execution_count": 8,
   "id": "696ea500",
   "metadata": {},
   "outputs": [
    {
     "data": {
      "text/html": [
       "22.6708333333333"
      ],
      "text/latex": [
       "22.6708333333333"
      ],
      "text/markdown": [
       "22.6708333333333"
      ],
      "text/plain": [
       "[1] 22.67083"
      ]
     },
     "metadata": {},
     "output_type": "display_data"
    }
   ],
   "source": [
    "control <- sample(population,12)\n",
    "mean(control)"
   ]
  },
  {
   "cell_type": "code",
   "execution_count": 9,
   "id": "a35620c1",
   "metadata": {},
   "outputs": [
    {
     "data": {
      "text/html": [
       "25.7241666666667"
      ],
      "text/latex": [
       "25.7241666666667"
      ],
      "text/markdown": [
       "25.7241666666667"
      ],
      "text/plain": [
       "[1] 25.72417"
      ]
     },
     "metadata": {},
     "output_type": "display_data"
    }
   ],
   "source": [
    "control <- sample(population,12)\n",
    "mean(control)"
   ]
  },
  {
   "cell_type": "markdown",
   "id": "af97cb89",
   "metadata": {},
   "source": [
    "The Null Hypothesis"
   ]
  },
  {
   "cell_type": "code",
   "execution_count": 10,
   "id": "22c40c82",
   "metadata": {},
   "outputs": [
    {
     "name": "stdout",
     "output_type": "stream",
     "text": [
      "[1] -2.768333\n"
     ]
    }
   ],
   "source": [
    "control <- sample(population,12)\n",
    "##another 12 control mice that we act as if they were not\n",
    "treatment <- sample(population,12)\n",
    "print(mean(treatment) - mean(control))"
   ]
  },
  {
   "cell_type": "code",
   "execution_count": 11,
   "id": "faaf1a98",
   "metadata": {},
   "outputs": [],
   "source": [
    "n <- 10000\n",
    "null <- vector(\"numeric\",n)\n",
    "for (i in 1:n) {\n",
    "control <- sample(population,12)\n",
    "treatment <- sample(population,12)\n",
    "null[i] <- mean(treatment) - mean(control)\n",
    "}"
   ]
  },
  {
   "cell_type": "code",
   "execution_count": 12,
   "id": "3406c0c0",
   "metadata": {},
   "outputs": [
    {
     "data": {
      "text/html": [
       "0.0117"
      ],
      "text/latex": [
       "0.0117"
      ],
      "text/markdown": [
       "0.0117"
      ],
      "text/plain": [
       "[1] 0.0117"
      ]
     },
     "metadata": {},
     "output_type": "display_data"
    }
   ],
   "source": [
    "mean(null >= obsdiff)"
   ]
  },
  {
   "cell_type": "markdown",
   "id": "c9a03f74",
   "metadata": {},
   "source": [
    "# Distributions"
   ]
  },
  {
   "cell_type": "code",
   "execution_count": 13,
   "id": "7d08c94c",
   "metadata": {},
   "outputs": [
    {
     "name": "stderr",
     "output_type": "stream",
     "text": [
      "Loading required package: MASS\n",
      "\n",
      "\n",
      "Attaching package: 'MASS'\n",
      "\n",
      "\n",
      "The following object is masked from 'package:dplyr':\n",
      "\n",
      "    select\n",
      "\n",
      "\n",
      "Loading required package: HistData\n",
      "\n",
      "Loading required package: Hmisc\n",
      "\n",
      "Loading required package: lattice\n",
      "\n",
      "Loading required package: survival\n",
      "\n",
      "Loading required package: Formula\n",
      "\n",
      "Loading required package: ggplot2\n",
      "\n",
      "\n",
      "Attaching package: 'Hmisc'\n",
      "\n",
      "\n",
      "The following objects are masked from 'package:dplyr':\n",
      "\n",
      "    src, summarize\n",
      "\n",
      "\n",
      "The following objects are masked from 'package:base':\n",
      "\n",
      "    format.pval, units\n",
      "\n",
      "\n",
      "\n",
      "Attaching package: 'UsingR'\n",
      "\n",
      "\n",
      "The following object is masked from 'package:survival':\n",
      "\n",
      "    cancer\n",
      "\n",
      "\n"
     ]
    },
    {
     "data": {
      "text/html": [
       "<table class=\"dataframe\">\n",
       "<caption>A data.frame: 6 × 2</caption>\n",
       "<thead>\n",
       "\t<tr><th></th><th scope=col>fheight</th><th scope=col>sheight</th></tr>\n",
       "\t<tr><th></th><th scope=col>&lt;dbl&gt;</th><th scope=col>&lt;dbl&gt;</th></tr>\n",
       "</thead>\n",
       "<tbody>\n",
       "\t<tr><th scope=row>1</th><td>65.04851</td><td>59.77827</td></tr>\n",
       "\t<tr><th scope=row>2</th><td>63.25094</td><td>63.21404</td></tr>\n",
       "\t<tr><th scope=row>3</th><td>64.95532</td><td>63.34242</td></tr>\n",
       "\t<tr><th scope=row>4</th><td>65.75250</td><td>62.79238</td></tr>\n",
       "\t<tr><th scope=row>5</th><td>61.13723</td><td>64.28113</td></tr>\n",
       "\t<tr><th scope=row>6</th><td>63.02254</td><td>64.24221</td></tr>\n",
       "</tbody>\n",
       "</table>\n"
      ],
      "text/latex": [
       "A data.frame: 6 × 2\n",
       "\\begin{tabular}{r|ll}\n",
       "  & fheight & sheight\\\\\n",
       "  & <dbl> & <dbl>\\\\\n",
       "\\hline\n",
       "\t1 & 65.04851 & 59.77827\\\\\n",
       "\t2 & 63.25094 & 63.21404\\\\\n",
       "\t3 & 64.95532 & 63.34242\\\\\n",
       "\t4 & 65.75250 & 62.79238\\\\\n",
       "\t5 & 61.13723 & 64.28113\\\\\n",
       "\t6 & 63.02254 & 64.24221\\\\\n",
       "\\end{tabular}\n"
      ],
      "text/markdown": [
       "\n",
       "A data.frame: 6 × 2\n",
       "\n",
       "| <!--/--> | fheight &lt;dbl&gt; | sheight &lt;dbl&gt; |\n",
       "|---|---|---|\n",
       "| 1 | 65.04851 | 59.77827 |\n",
       "| 2 | 63.25094 | 63.21404 |\n",
       "| 3 | 64.95532 | 63.34242 |\n",
       "| 4 | 65.75250 | 62.79238 |\n",
       "| 5 | 61.13723 | 64.28113 |\n",
       "| 6 | 63.02254 | 64.24221 |\n",
       "\n"
      ],
      "text/plain": [
       "  fheight  sheight \n",
       "1 65.04851 59.77827\n",
       "2 63.25094 63.21404\n",
       "3 64.95532 63.34242\n",
       "4 65.75250 62.79238\n",
       "5 61.13723 64.28113\n",
       "6 63.02254 64.24221"
      ]
     },
     "metadata": {},
     "output_type": "display_data"
    }
   ],
   "source": [
    "library(UsingR)\n",
    "head(father.son)"
   ]
  },
  {
   "cell_type": "code",
   "execution_count": 14,
   "id": "8e73fe11",
   "metadata": {},
   "outputs": [
    {
     "data": {
      "text/html": [
       "<style>\n",
       ".list-inline {list-style: none; margin:0; padding: 0}\n",
       ".list-inline>li {display: inline-block}\n",
       ".list-inline>li:not(:last-child)::after {content: \"\\00b7\"; padding: 0 .5ex}\n",
       "</style>\n",
       "<ol class=list-inline><li>65.8</li><li>68</li><li>69.9</li><li>68.7</li><li>64.3</li><li>71</li><li>68.4</li><li>64.6</li><li>67.2</li><li>70.1</li></ol>\n"
      ],
      "text/latex": [
       "\\begin{enumerate*}\n",
       "\\item 65.8\n",
       "\\item 68\n",
       "\\item 69.9\n",
       "\\item 68.7\n",
       "\\item 64.3\n",
       "\\item 71\n",
       "\\item 68.4\n",
       "\\item 64.6\n",
       "\\item 67.2\n",
       "\\item 70.1\n",
       "\\end{enumerate*}\n"
      ],
      "text/markdown": [
       "1. 65.8\n",
       "2. 68\n",
       "3. 69.9\n",
       "4. 68.7\n",
       "5. 64.3\n",
       "6. 71\n",
       "7. 68.4\n",
       "8. 64.6\n",
       "9. 67.2\n",
       "10. 70.1\n",
       "\n",
       "\n"
      ],
      "text/plain": [
       " [1] 65.8 68.0 69.9 68.7 64.3 71.0 68.4 64.6 67.2 70.1"
      ]
     },
     "metadata": {},
     "output_type": "display_data"
    }
   ],
   "source": [
    "x <- father.son$fheight\n",
    "round(sample(x,10),1)"
   ]
  },
  {
   "cell_type": "markdown",
   "id": "0b5ccc6c",
   "metadata": {},
   "source": [
    "Cumulative Distribution Function"
   ]
  },
  {
   "cell_type": "markdown",
   "id": "c894f504",
   "metadata": {},
   "source": [
    "CDF $F(a)\\equiv Pr(x\\le a)$"
   ]
  },
  {
   "cell_type": "code",
   "execution_count": 15,
   "id": "9a791cc2",
   "metadata": {},
   "outputs": [
    {
     "data": {
      "image/png": "[encoded data removed]",
      "text/plain": [
       "plot without title"
      ]
     },
     "metadata": {
      "image/png": {
       "height": 420,
       "width": 420
      }
     },
     "output_type": "display_data"
    }
   ],
   "source": [
    "smallest <- floor( min(x) )\n",
    "largest <- ceiling( max(x) )\n",
    "values <- seq(smallest, largest,len=300)\n",
    "heightecdf <- ecdf(x)\n",
    "plot(values, heightecdf(values), type=\"l\",\n",
    "xlab=\"a (Height in inches)\",ylab=\"Pr(x <= a)\")"
   ]
  },
  {
   "cell_type": "markdown",
   "id": "8f1cef7c",
   "metadata": {},
   "source": [
    "Histograms"
   ]
  },
  {
   "cell_type": "markdown",
   "id": "a2599b47",
   "metadata": {},
   "source": [
    "$Pr(a\\le x\\le b)=F(b)-F(a)$"
   ]
  },
  {
   "cell_type": "code",
   "execution_count": 16,
   "id": "bc222855",
   "metadata": {},
   "outputs": [
    {
     "data": {
      "image/png": "[encoded data removed]",
      "text/plain": [
       "Plot with title \"Adult men heights\""
      ]
     },
     "metadata": {
      "image/png": {
       "height": 420,
       "width": 420
      }
     },
     "output_type": "display_data"
    }
   ],
   "source": [
    "bins <- seq(smallest, largest)\n",
    "hist(x,breaks=bins,xlab=\"Height (in inches)\",main=\"Adult men heights\")"
   ]
  },
  {
   "cell_type": "markdown",
   "id": "c0a4798c",
   "metadata": {},
   "source": [
    "# Probability Distribution"
   ]
  },
  {
   "cell_type": "markdown",
   "id": "1d4642f6",
   "metadata": {},
   "source": [
    "$Pr(a\\le X\\le b)=F(b)-F(a)$"
   ]
  },
  {
   "cell_type": "code",
   "execution_count": 17,
   "id": "2da8dc5f",
   "metadata": {},
   "outputs": [
    {
     "data": {
      "image/png": "[encoded data removed]",
      "text/plain": [
       "plot without title"
      ]
     },
     "metadata": {
      "image/png": {
       "height": 420,
       "width": 420
      }
     },
     "output_type": "display_data"
    }
   ],
   "source": [
    "n <- 100\n",
    "library(rafalib)\n",
    "nullplot(-5,5,1,30, xlab=\"Observed differences (grams)\", ylab=\"Frequency\")\n",
    "totals <- vector(\"numeric\",11)\n",
    "for (i in 1:n) {\n",
    "control <- sample(population,12)\n",
    "treatment <- sample(population,12)\n",
    "nulldiff <- mean(treatment) - mean(control)\n",
    "j <- pmax(pmin(round(nulldiff)+6,11),1)\n",
    "totals[j] <- totals[j]+1\n",
    "text(j-6,totals[j],pch=15,round(nulldiff,1))\n",
    "##if(i < 15) Sys.sleep(1) ##You can add this line to see values appear slowly\n",
    "}"
   ]
  },
  {
   "cell_type": "code",
   "execution_count": 18,
   "id": "badc7100",
   "metadata": {},
   "outputs": [
    {
     "data": {
      "image/png": "[encoded data removed]",
      "text/plain": [
       "Plot with title \"Histogram of null\""
      ]
     },
     "metadata": {
      "image/png": {
       "height": 420,
       "width": 420
      }
     },
     "output_type": "display_data"
    }
   ],
   "source": [
    "hist(null, freq=TRUE)\n",
    "abline(v=obsdiff, col=\"red\", lwd=2)"
   ]
  },
  {
   "cell_type": "markdown",
   "id": "aca70ba4",
   "metadata": {},
   "source": [
    "Normal Distribution"
   ]
  },
  {
   "cell_type": "markdown",
   "id": "8f32694f",
   "metadata": {},
   "source": [
    "$$Pr(a\\lt x\\lt b)=\\int_a^b\\frac{1}{\\sqrt{2\\pi \\sigma^2}}exp(\\frac{-(x-\\mu)^2}{2\\sigma^2})dx$$"
   ]
  },
  {
   "cell_type": "code",
   "execution_count": 19,
   "id": "9ae8e66e",
   "metadata": {},
   "outputs": [
    {
     "data": {
      "text/html": [
       "0.0121758465065934"
      ],
      "text/latex": [
       "0.0121758465065934"
      ],
      "text/markdown": [
       "0.0121758465065934"
      ],
      "text/plain": [
       "[1] 0.01217585"
      ]
     },
     "metadata": {},
     "output_type": "display_data"
    }
   ],
   "source": [
    "1 - pnorm(obsdiff,mean(null),sd(null))"
   ]
  },
  {
   "cell_type": "code",
   "execution_count": 1,
   "id": "a94382dd",
   "metadata": {},
   "outputs": [],
   "source": [
    "x=read.csv('D:\\\\desktop\\\\dataR\\\\dagdata-master\\\\inst\\\\extdata\\\\femaleControlsPopulation.csv')"
   ]
  },
  {
   "cell_type": "code",
   "execution_count": 2,
   "id": "2d99cf87",
   "metadata": {},
   "outputs": [
    {
     "data": {
      "text/html": [
       "<table class=\"dataframe\">\n",
       "<caption>A data.frame: 6 × 1</caption>\n",
       "<thead>\n",
       "\t<tr><th></th><th scope=col>Bodyweight</th></tr>\n",
       "\t<tr><th></th><th scope=col>&lt;dbl&gt;</th></tr>\n",
       "</thead>\n",
       "<tbody>\n",
       "\t<tr><th scope=row>1</th><td>27.03</td></tr>\n",
       "\t<tr><th scope=row>2</th><td>24.80</td></tr>\n",
       "\t<tr><th scope=row>3</th><td>27.02</td></tr>\n",
       "\t<tr><th scope=row>4</th><td>28.07</td></tr>\n",
       "\t<tr><th scope=row>5</th><td>23.55</td></tr>\n",
       "\t<tr><th scope=row>6</th><td>22.72</td></tr>\n",
       "</tbody>\n",
       "</table>\n"
      ],
      "text/latex": [
       "A data.frame: 6 × 1\n",
       "\\begin{tabular}{r|l}\n",
       "  & Bodyweight\\\\\n",
       "  & <dbl>\\\\\n",
       "\\hline\n",
       "\t1 & 27.03\\\\\n",
       "\t2 & 24.80\\\\\n",
       "\t3 & 27.02\\\\\n",
       "\t4 & 28.07\\\\\n",
       "\t5 & 23.55\\\\\n",
       "\t6 & 22.72\\\\\n",
       "\\end{tabular}\n"
      ],
      "text/markdown": [
       "\n",
       "A data.frame: 6 × 1\n",
       "\n",
       "| <!--/--> | Bodyweight &lt;dbl&gt; |\n",
       "|---|---|\n",
       "| 1 | 27.03 |\n",
       "| 2 | 24.80 |\n",
       "| 3 | 27.02 |\n",
       "| 4 | 28.07 |\n",
       "| 5 | 23.55 |\n",
       "| 6 | 22.72 |\n",
       "\n"
      ],
      "text/plain": [
       "  Bodyweight\n",
       "1 27.03     \n",
       "2 24.80     \n",
       "3 27.02     \n",
       "4 28.07     \n",
       "5 23.55     \n",
       "6 22.72     "
      ]
     },
     "metadata": {},
     "output_type": "display_data"
    }
   ],
   "source": [
    "head(x)"
   ]
  },
  {
   "cell_type": "markdown",
   "id": "f99b9333",
   "metadata": {},
   "source": [
    "Q1:What is the average of these weights?"
   ]
  },
  {
   "cell_type": "code",
   "execution_count": 3,
   "id": "7272a6bd",
   "metadata": {},
   "outputs": [
    {
     "data": {
      "text/html": [
       "23.8933777777778"
      ],
      "text/latex": [
       "23.8933777777778"
      ],
      "text/markdown": [
       "23.8933777777778"
      ],
      "text/plain": [
       "[1] 23.89338"
      ]
     },
     "metadata": {},
     "output_type": "display_data"
    }
   ],
   "source": [
    "mean(x$Bodyweight)"
   ]
  },
  {
   "cell_type": "markdown",
   "id": "a2f047ac",
   "metadata": {},
   "source": [
    "Q2:After setting the seed at 1, set.seed(1) take a random sample of size 5. What is the absolute value (use abs) of the difference \n",
    "between the average of the sample and the average of all the values?"
   ]
  },
  {
   "cell_type": "code",
   "execution_count": 5,
   "id": "577098ea",
   "metadata": {},
   "outputs": [
    {
     "data": {
      "text/html": [
       "0.329377777777779"
      ],
      "text/latex": [
       "0.329377777777779"
      ],
      "text/markdown": [
       "0.329377777777779"
      ],
      "text/plain": [
       "[1] 0.3293778"
      ]
     },
     "metadata": {},
     "output_type": "display_data"
    }
   ],
   "source": [
    "set.seed(1)\n",
    "sam=sample(x$Bodyweight,size=5)\n",
    "diff=abs(mean(sam)-mean(x$Bodyweight))\n",
    "diff"
   ]
  },
  {
   "cell_type": "markdown",
   "id": "993487da",
   "metadata": {},
   "source": [
    "Q3:After setting the seed at 5, set.seed(5) take a random sample of size 5. What is the absolute\n",
    "value of the difference between the average of the sample and the average of all the values?"
   ]
  },
  {
   "cell_type": "code",
   "execution_count": 6,
   "id": "863f1ed1",
   "metadata": {},
   "outputs": [
    {
     "data": {
      "text/html": [
       "0.381377777777779"
      ],
      "text/latex": [
       "0.381377777777779"
      ],
      "text/markdown": [
       "0.381377777777779"
      ],
      "text/plain": [
       "[1] 0.3813778"
      ]
     },
     "metadata": {},
     "output_type": "display_data"
    }
   ],
   "source": [
    "set.seed(5)\n",
    "sam=sample(x$Bodyweight,size=5)\n",
    "diff=abs(mean(sam)-mean(x$Bodyweight))\n",
    "diff"
   ]
  },
  {
   "cell_type": "markdown",
   "id": "d1d83ffd",
   "metadata": {},
   "source": [
    "Q4:Why are the answers from 2 and 3 different?\n",
    "• A) Because we made a coding mistake.\n",
    "• B) Because the average of the x is random.\n",
    "• C) Because the average of the samples is a random variable.\n",
    "• D) All of the above.\n",
    "A"
   ]
  },
  {
   "cell_type": "markdown",
   "id": "311c2246",
   "metadata": {},
   "source": [
    "Q5:Set the seed at 1, then using a for-loop take a random sample of 5 mice 1,000 times. Save these averages. What percent of these 1,000 averages are more than 1 ounce away from the average of x ?"
   ]
  },
  {
   "cell_type": "code",
   "execution_count": 11,
   "id": "2e4d900f",
   "metadata": {},
   "outputs": [
    {
     "data": {
      "text/html": [
       "50.3"
      ],
      "text/latex": [
       "50.3"
      ],
      "text/markdown": [
       "50.3"
      ],
      "text/plain": [
       "[1] 50.3"
      ]
     },
     "metadata": {},
     "output_type": "display_data"
    }
   ],
   "source": [
    "k=0\n",
    "set.seed(1)\n",
    "for (i in 1:1000){\n",
    "    a=sample(x$Bodyweight,size=5)\n",
    "    b=mean(a)\n",
    "    if(abs(b-mean(x$Bodyweight))>1){k=k+1}\n",
    "}\n",
    "percentage1=k/1000*100\n",
    "percentage1"
   ]
  },
  {
   "cell_type": "markdown",
   "id": "e2d8cd5a",
   "metadata": {},
   "source": [
    "Q6:We are now going to increase the number of times we redo the sample from 1,000 to 10,000.\n",
    "Set the seed at 1, then using a for-loop take a random sample of 5 mice 10,000 times. Save these\n",
    "averages. What percent of these 10,000 averages are more than 1 ounce away from the average\n",
    "of x ?"
   ]
  },
  {
   "cell_type": "code",
   "execution_count": 9,
   "id": "84bd34de",
   "metadata": {},
   "outputs": [
    {
     "data": {
      "text/html": [
       "50.84"
      ],
      "text/latex": [
       "50.84"
      ],
      "text/markdown": [
       "50.84"
      ],
      "text/plain": [
       "[1] 50.84"
      ]
     },
     "metadata": {},
     "output_type": "display_data"
    }
   ],
   "source": [
    "k=0\n",
    "set.seed(1)\n",
    "for (i in 1:10000){\n",
    "    a=sample(x$Bodyweight,size=5)\n",
    "    b=mean(a)\n",
    "    if(abs(b-mean(x$Bodyweight))>1){k=k+1}\n",
    "}\n",
    "percentage=k/10000*100\n",
    "percentage"
   ]
  },
  {
   "cell_type": "markdown",
   "id": "546fcb76",
   "metadata": {},
   "source": [
    "Q7:Note that the answers to 4 and 5 barely changed. This is expected. The way we think about the\n",
    "random value distributions is as the distribution of the list of values obtained if we repeated the\n",
    "experiment an infinite number of times. On a computer, we can’t perform an infinite number\n",
    "of iterations so instead, for our examples, we consider 1,000 to be large enough, thus 10,000 is\n",
    "Inference as well. Now if instead we change the sample size, then we change the random variable and\n",
    "thus its distribution. Set the seed at 1, then using a for-loop take a random sample of 50 mice 1,000 times. Save these\n",
    "averages. What percent of these 1,000 averages are more than 1 ounce away from the average of x ?"
   ]
  },
  {
   "cell_type": "code",
   "execution_count": 10,
   "id": "3e83dd91",
   "metadata": {},
   "outputs": [
    {
     "data": {
      "text/html": [
       "1.4"
      ],
      "text/latex": [
       "1.4"
      ],
      "text/markdown": [
       "1.4"
      ],
      "text/plain": [
       "[1] 1.4"
      ]
     },
     "metadata": {},
     "output_type": "display_data"
    }
   ],
   "source": [
    "k=0\n",
    "set.seed(1)\n",
    "for (i in 1:1000){\n",
    "    a=sample(x$Bodyweight,size=50)\n",
    "    b=mean(a)\n",
    "    if(abs(b-mean(x$Bodyweight))>1){k=k+1}\n",
    "}\n",
    "percentage=k/1000*100\n",
    "percentage"
   ]
  },
  {
   "cell_type": "markdown",
   "id": "2252dc9a",
   "metadata": {},
   "source": [
    "Q8:Use a histogram to “look” at the distribution of averages we get with a sample size of 5 and a\n",
    "sample size of 50. How would you say they differ?\n",
    "• A) They are actually the same.\n",
    "• B) They both look roughly normal, but with a sample size of 50 the spread is smaller.\n",
    "• C) They both look roughly normal, but with a sample size of 50 the spread is larger.\n",
    "• D) The second distribution does not look normal at all.\n",
    "\n",
    "B"
   ]
  },
  {
   "cell_type": "code",
   "execution_count": 14,
   "id": "14038ee9",
   "metadata": {},
   "outputs": [
    {
     "data": {
      "image/png": "[encoded data removed]",
      "text/plain": [
       "Plot with title \"Histogram of b\""
      ]
     },
     "metadata": {
      "image/png": {
       "height": 420,
       "width": 420
      }
     },
     "output_type": "display_data"
    }
   ],
   "source": [
    "set.seed(1)\n",
    "b=numeric()\n",
    "for (i in 1:1000){\n",
    "    a=sample(x$Bodyweight,size=5)\n",
    "    b[i]=mean(a[i])\n",
    "}\n",
    "hist(b)"
   ]
  },
  {
   "cell_type": "code",
   "execution_count": 21,
   "id": "5a4e6703",
   "metadata": {},
   "outputs": [
    {
     "data": {
      "image/png": "[encoded data removed]",
      "text/plain": [
       "Plot with title \"Histogram of b1\""
      ]
     },
     "metadata": {
      "image/png": {
       "height": 420,
       "width": 420
      }
     },
     "output_type": "display_data"
    }
   ],
   "source": [
    "set.seed(1)\n",
    "b1=numeric()\n",
    "for (i in 1:1000){\n",
    "    a=sample(x$Bodyweight,size=50)\n",
    "    b1[i]=mean(a[i])\n",
    "}\n",
    "hist(b1)"
   ]
  },
  {
   "cell_type": "markdown",
   "id": "54f876ce",
   "metadata": {},
   "source": [
    "Q9:For the last set of averages, the ones obtained from a sample size of 50, what percent are between 23 and 25?"
   ]
  },
  {
   "cell_type": "code",
   "execution_count": 25,
   "id": "a99ba9b4",
   "metadata": {},
   "outputs": [
    {
     "data": {
      "text/html": [
       "30"
      ],
      "text/latex": [
       "30"
      ],
      "text/markdown": [
       "30"
      ],
      "text/plain": [
       "[1] 30"
      ]
     },
     "metadata": {},
     "output_type": "display_data"
    }
   ],
   "source": [
    "length(which(b1>=23&b1<=25))/50*100"
   ]
  },
  {
   "cell_type": "code",
   "execution_count": 26,
   "id": "03819215",
   "metadata": {},
   "outputs": [
    {
     "data": {
      "text/html": [
       "98"
      ],
      "text/latex": [
       "98"
      ],
      "text/markdown": [
       "98"
      ],
      "text/plain": [
       "[1] 98"
      ]
     },
     "metadata": {},
     "output_type": "display_data"
    }
   ],
   "source": [
    "num=rnorm(50, 23.9,0.43)\n",
    "length(which(num>=23&num<=25))/50*100"
   ]
  },
  {
   "cell_type": "markdown",
   "id": "f4f105de",
   "metadata": {},
   "source": [
    "# Populations, Samples and Estimates"
   ]
  },
  {
   "cell_type": "markdown",
   "id": "00650035",
   "metadata": {},
   "source": [
    "$\\hat{X}=\\frac{1}{M}\\sum_{i=1}^\\infty X_i, \\hat{Y}=\\frac{1}{N}\\sum_{i=1}^\\infty Y_i$"
   ]
  },
  {
   "cell_type": "code",
   "execution_count": 29,
   "id": "60252982",
   "metadata": {},
   "outputs": [],
   "source": [
    "dat=read.csv(\"D:\\\\desktop\\\\dataR\\\\dagdata-master\\\\inst\\\\extdata\\\\mice_pheno.csv\")\n",
    "dat <- na.omit( dat )"
   ]
  },
  {
   "cell_type": "code",
   "execution_count": 31,
   "id": "fe07ec0b",
   "metadata": {},
   "outputs": [
    {
     "data": {
      "text/html": [
       "<table class=\"dataframe\">\n",
       "<caption>A data.frame: 6 × 3</caption>\n",
       "<thead>\n",
       "\t<tr><th></th><th scope=col>Sex</th><th scope=col>Diet</th><th scope=col>Bodyweight</th></tr>\n",
       "\t<tr><th></th><th scope=col>&lt;chr&gt;</th><th scope=col>&lt;chr&gt;</th><th scope=col>&lt;dbl&gt;</th></tr>\n",
       "</thead>\n",
       "<tbody>\n",
       "\t<tr><th scope=row>1</th><td>F</td><td>hf</td><td>31.94</td></tr>\n",
       "\t<tr><th scope=row>2</th><td>F</td><td>hf</td><td>32.48</td></tr>\n",
       "\t<tr><th scope=row>3</th><td>F</td><td>hf</td><td>22.82</td></tr>\n",
       "\t<tr><th scope=row>4</th><td>F</td><td>hf</td><td>19.92</td></tr>\n",
       "\t<tr><th scope=row>5</th><td>F</td><td>hf</td><td>32.22</td></tr>\n",
       "\t<tr><th scope=row>6</th><td>F</td><td>hf</td><td>27.50</td></tr>\n",
       "</tbody>\n",
       "</table>\n"
      ],
      "text/latex": [
       "A data.frame: 6 × 3\n",
       "\\begin{tabular}{r|lll}\n",
       "  & Sex & Diet & Bodyweight\\\\\n",
       "  & <chr> & <chr> & <dbl>\\\\\n",
       "\\hline\n",
       "\t1 & F & hf & 31.94\\\\\n",
       "\t2 & F & hf & 32.48\\\\\n",
       "\t3 & F & hf & 22.82\\\\\n",
       "\t4 & F & hf & 19.92\\\\\n",
       "\t5 & F & hf & 32.22\\\\\n",
       "\t6 & F & hf & 27.50\\\\\n",
       "\\end{tabular}\n"
      ],
      "text/markdown": [
       "\n",
       "A data.frame: 6 × 3\n",
       "\n",
       "| <!--/--> | Sex &lt;chr&gt; | Diet &lt;chr&gt; | Bodyweight &lt;dbl&gt; |\n",
       "|---|---|---|---|\n",
       "| 1 | F | hf | 31.94 |\n",
       "| 2 | F | hf | 32.48 |\n",
       "| 3 | F | hf | 22.82 |\n",
       "| 4 | F | hf | 19.92 |\n",
       "| 5 | F | hf | 32.22 |\n",
       "| 6 | F | hf | 27.50 |\n",
       "\n"
      ],
      "text/plain": [
       "  Sex Diet Bodyweight\n",
       "1 F   hf   31.94     \n",
       "2 F   hf   32.48     \n",
       "3 F   hf   22.82     \n",
       "4 F   hf   19.92     \n",
       "5 F   hf   32.22     \n",
       "6 F   hf   27.50     "
      ]
     },
     "metadata": {},
     "output_type": "display_data"
    }
   ],
   "source": [
    "head(dat)"
   ]
  },
  {
   "cell_type": "markdown",
   "id": "9ed746cf",
   "metadata": {},
   "source": [
    "Q1:Use dplyr to create a vector x with the body weight of all males on the control (chow) diet.\n",
    "What is this population’s average?"
   ]
  },
  {
   "cell_type": "code",
   "execution_count": 33,
   "id": "9a75f764",
   "metadata": {},
   "outputs": [
    {
     "data": {
      "text/html": [
       "30.9638116591928"
      ],
      "text/latex": [
       "30.9638116591928"
      ],
      "text/markdown": [
       "30.9638116591928"
      ],
      "text/plain": [
       "[1] 30.96381"
      ]
     },
     "metadata": {},
     "output_type": "display_data"
    }
   ],
   "source": [
    "library(dplyr)\n",
    "dx=filter(dat, Sex ==\"M\"& Diet ==\"chow\")\n",
    "mean(dx$Bodyweight)"
   ]
  },
  {
   "cell_type": "markdown",
   "id": "71afd11b",
   "metadata": {},
   "source": [
    "Q2:Now use the rafalib package and use the popsd function to compute the population standard deviation"
   ]
  },
  {
   "cell_type": "code",
   "execution_count": 35,
   "id": "fb3e69fa",
   "metadata": {},
   "outputs": [
    {
     "data": {
      "text/html": [
       "4.42050058042843"
      ],
      "text/latex": [
       "4.42050058042843"
      ],
      "text/markdown": [
       "4.42050058042843"
      ],
      "text/plain": [
       "[1] 4.420501"
      ]
     },
     "metadata": {},
     "output_type": "display_data"
    }
   ],
   "source": [
    "library(rafalib)\n",
    "popsd(dx$Bodyweight)"
   ]
  },
  {
   "cell_type": "markdown",
   "id": "993be8fd",
   "metadata": {},
   "source": [
    "Q3:Set the seed at 1. Take a random sample X of size 25 from x. What is the sample average?"
   ]
  },
  {
   "cell_type": "code",
   "execution_count": 36,
   "id": "06bc8b57",
   "metadata": {},
   "outputs": [
    {
     "data": {
      "text/html": [
       "30.5196"
      ],
      "text/latex": [
       "30.5196"
      ],
      "text/markdown": [
       "30.5196"
      ],
      "text/plain": [
       "[1] 30.5196"
      ]
     },
     "metadata": {},
     "output_type": "display_data"
    }
   ],
   "source": [
    "set.seed(1)\n",
    "aa=sample(dx$Bodyweight,size=25)\n",
    "mean(aa)"
   ]
  },
  {
   "cell_type": "markdown",
   "id": "17388652",
   "metadata": {},
   "source": [
    "Q4:Use dplyr to create a vector y with the body weight of all males on the high fat (hf) diet. What is this population’s average?"
   ]
  },
  {
   "cell_type": "code",
   "execution_count": 37,
   "id": "fefedf15",
   "metadata": {},
   "outputs": [
    {
     "data": {
      "text/html": [
       "34.8479274611399"
      ],
      "text/latex": [
       "34.8479274611399"
      ],
      "text/markdown": [
       "34.8479274611399"
      ],
      "text/plain": [
       "[1] 34.84793"
      ]
     },
     "metadata": {},
     "output_type": "display_data"
    }
   ],
   "source": [
    "dx1=filter(dat, Sex ==\"M\"& Diet ==\"hf\")\n",
    "mean(dx1$Bodyweight)"
   ]
  },
  {
   "cell_type": "markdown",
   "id": "7ecfd834",
   "metadata": {},
   "source": [
    "Q5:Now use the rafalib package and use the popsd function to compute the population standard\n",
    "deviation."
   ]
  },
  {
   "cell_type": "code",
   "execution_count": 38,
   "id": "c4933a52",
   "metadata": {},
   "outputs": [
    {
     "data": {
      "text/html": [
       "5.57460905991657"
      ],
      "text/latex": [
       "5.57460905991657"
      ],
      "text/markdown": [
       "5.57460905991657"
      ],
      "text/plain": [
       "[1] 5.574609"
      ]
     },
     "metadata": {},
     "output_type": "display_data"
    }
   ],
   "source": [
    "popsd(dx1$Bodyweight)"
   ]
  },
  {
   "cell_type": "markdown",
   "id": "e9cb8cb9",
   "metadata": {},
   "source": [
    "Q6:Set the seed at 1. Take a random sample Y of size 25 from y. What is the sample average?"
   ]
  },
  {
   "cell_type": "code",
   "execution_count": 39,
   "id": "c213f378",
   "metadata": {},
   "outputs": [
    {
     "data": {
      "text/html": [
       "35.8036"
      ],
      "text/latex": [
       "35.8036"
      ],
      "text/markdown": [
       "35.8036"
      ],
      "text/plain": [
       "[1] 35.8036"
      ]
     },
     "metadata": {},
     "output_type": "display_data"
    }
   ],
   "source": [
    "set.seed(1)\n",
    "bb=sample(dx1$Bodyweight,size=25)\n",
    "mean(bb)"
   ]
  },
  {
   "cell_type": "markdown",
   "id": "8b4a9ffd",
   "metadata": {},
   "source": [
    "Q7:What is the difference in absolute value between $\\hat{y}-\\hat{x}and \\hat{X}-\\hat{Y}$"
   ]
  },
  {
   "cell_type": "code",
   "execution_count": 43,
   "id": "7beb9d49",
   "metadata": {},
   "outputs": [
    {
     "data": {
      "text/html": [
       "1.39988419805293"
      ],
      "text/latex": [
       "1.39988419805293"
      ],
      "text/markdown": [
       "1.39988419805293"
      ],
      "text/plain": [
       "[1] 1.399884"
      ]
     },
     "metadata": {},
     "output_type": "display_data"
    }
   ],
   "source": [
    "abs((mean(aa)-mean(bb))-(mean(dx$Bodyweight)-mean(dx1$Bodyweight)))"
   ]
  },
  {
   "cell_type": "markdown",
   "id": "93636700",
   "metadata": {},
   "source": [
    "Q8:Repeat the above for females. Make sure to set the seed to 1 before each sample call. What is\n",
    "the difference in absolute value between $\\hat{y}-\\hat{x}and \\hat{X}-\\hat{Y}$"
   ]
  },
  {
   "cell_type": "code",
   "execution_count": 45,
   "id": "8f1724da",
   "metadata": {},
   "outputs": [
    {
     "data": {
      "text/html": [
       "0.45671722222222"
      ],
      "text/latex": [
       "0.45671722222222"
      ],
      "text/markdown": [
       "0.45671722222222"
      ],
      "text/plain": [
       "[1] 0.4567172"
      ]
     },
     "metadata": {},
     "output_type": "display_data"
    }
   ],
   "source": [
    "dxa=filter(dat, Sex ==\"F\"& Diet ==\"chow\")\n",
    "set.seed(1)\n",
    "cc=sample(dxa$Bodyweight,size=25)\n",
    "dxa1=filter(dat, Sex ==\"F\"& Diet ==\"hf\")\n",
    "cc1=sample(dxa1$Bodyweight,size=25)\n",
    "abs((mean(cc)-mean(cc1))-(mean(dxa$Bodyweight)-mean(dxa1$Bodyweight)))"
   ]
  },
  {
   "cell_type": "markdown",
   "id": "5af6074f",
   "metadata": {},
   "source": [
    "Q9:For the females, our sample estimates were closer to the population difference than with males.\n",
    "What is a possible explanation for this?\n",
    "• A) The population variance of the females is smaller than that of the males; thus, the\n",
    "sample variable has less variability.\n",
    "• B) Statistical estimates are more precise for females.\n",
    "• C) The sample size was larger for females.\n",
    "• D) The sample size was smaller for females.\n",
    "A"
   ]
  },
  {
   "cell_type": "code",
   "execution_count": 46,
   "id": "ef067304",
   "metadata": {},
   "outputs": [
    {
     "data": {
      "text/html": [
       "25"
      ],
      "text/latex": [
       "25"
      ],
      "text/markdown": [
       "25"
      ],
      "text/plain": [
       "[1] 25"
      ]
     },
     "metadata": {},
     "output_type": "display_data"
    },
    {
     "data": {
      "text/html": [
       "25"
      ],
      "text/latex": [
       "25"
      ],
      "text/markdown": [
       "25"
      ],
      "text/plain": [
       "[1] 25"
      ]
     },
     "metadata": {},
     "output_type": "display_data"
    },
    {
     "data": {
      "text/html": [
       "25"
      ],
      "text/latex": [
       "25"
      ],
      "text/markdown": [
       "25"
      ],
      "text/plain": [
       "[1] 25"
      ]
     },
     "metadata": {},
     "output_type": "display_data"
    },
    {
     "data": {
      "text/html": [
       "25"
      ],
      "text/latex": [
       "25"
      ],
      "text/markdown": [
       "25"
      ],
      "text/plain": [
       "[1] 25"
      ]
     },
     "metadata": {},
     "output_type": "display_data"
    }
   ],
   "source": [
    "length(aa)\n",
    "length(bb)\n",
    "length(cc)\n",
    "length(cc1)"
   ]
  },
  {
   "cell_type": "code",
   "execution_count": 49,
   "id": "c19f4481",
   "metadata": {},
   "outputs": [
    {
     "data": {
      "text/html": [
       "19.7274296165594"
      ],
      "text/latex": [
       "19.7274296165594"
      ],
      "text/markdown": [
       "19.7274296165594"
      ],
      "text/plain": [
       "[1] 19.72743"
      ]
     },
     "metadata": {},
     "output_type": "display_data"
    },
    {
     "data": {
      "text/html": [
       "28.7136017400371"
      ],
      "text/latex": [
       "28.7136017400371"
      ],
      "text/markdown": [
       "28.7136017400371"
      ],
      "text/plain": [
       "[1] 28.7136"
      ]
     },
     "metadata": {},
     "output_type": "display_data"
    }
   ],
   "source": [
    "var(filter(dat, Sex ==\"F\")$Bodyweight)\n",
    "var(filter(dat, Sex ==\"M\")$Bodyweight)"
   ]
  },
  {
   "cell_type": "markdown",
   "id": "1b69895c",
   "metadata": {},
   "source": [
    "# Central Limit Theorem and t-distribution"
   ]
  },
  {
   "cell_type": "markdown",
   "id": "f3cf800d",
   "metadata": {},
   "source": [
    "Central Limit Theorem"
   ]
  },
  {
   "cell_type": "markdown",
   "id": "136b20ec",
   "metadata": {},
   "source": [
    "$$sd=\\frac{\\hat{Y}-\\mu}{\\sigma_Y/\\sqrt{N}}$$"
   ]
  },
  {
   "cell_type": "markdown",
   "id": "467153a4",
   "metadata": {},
   "source": [
    "$$\\frac{\\hat{Y}-\\hat{X}}{\\sqrt{\\frac{\\sigma_X^2}{M}+\\frac{\\sigma_Y^2}{N}}}$$"
   ]
  },
  {
   "cell_type": "code",
   "execution_count": 1,
   "id": "c1ffb990",
   "metadata": {},
   "outputs": [
    {
     "data": {
      "text/html": [
       "0.0455002638963584"
      ],
      "text/latex": [
       "0.0455002638963584"
      ],
      "text/markdown": [
       "0.0455002638963584"
      ],
      "text/plain": [
       "[1] 0.04550026"
      ]
     },
     "metadata": {},
     "output_type": "display_data"
    }
   ],
   "source": [
    "pnorm(-2) + (1 - pnorm(2))"
   ]
  },
  {
   "cell_type": "markdown",
   "id": "f70052b0",
   "metadata": {},
   "source": [
    "The t-distribution"
   ]
  },
  {
   "cell_type": "markdown",
   "id": "502c9742",
   "metadata": {},
   "source": [
    "$$\\sqrt{Y}\\frac{\\hat{Y}}{S_Y}$$"
   ]
  },
  {
   "cell_type": "code",
   "execution_count": 1,
   "id": "f1901fff",
   "metadata": {},
   "outputs": [
    {
     "name": "stderr",
     "output_type": "stream",
     "text": [
      "\n",
      "Attaching package: 'dplyr'\n",
      "\n",
      "\n",
      "The following objects are masked from 'package:stats':\n",
      "\n",
      "    filter, lag\n",
      "\n",
      "\n",
      "The following objects are masked from 'package:base':\n",
      "\n",
      "    intersect, setdiff, setequal, union\n",
      "\n",
      "\n"
     ]
    }
   ],
   "source": [
    "library(dplyr)\n",
    "dat=read.csv(\"D:\\\\desktop\\\\dataR\\\\dagdata-master\\\\inst\\\\extdata\\\\mice_pheno.csv\")\n",
    "controlPopulation=filter(dat,Sex == \"F\" & Diet == \"chow\")\n",
    "hfPopulation=filter(dat,Sex == \"F\" & Diet == \"hf\")"
   ]
  },
  {
   "cell_type": "code",
   "execution_count": 9,
   "id": "6b7a640e",
   "metadata": {},
   "outputs": [
    {
     "data": {
      "image/png": "[encoded data removed]",
      "text/plain": [
       "Plot with title \"Histogram of controlPopulation$Bodyweight\""
      ]
     },
     "metadata": {
      "image/png": {
       "height": 420,
       "width": 420
      }
     },
     "output_type": "display_data"
    }
   ],
   "source": [
    "library(rafalib)\n",
    "mypar(1,2)\n",
    "hist(hfPopulation$Bodyweight)\n",
    "hist(controlPopulation$Bodyweight)"
   ]
  },
  {
   "cell_type": "code",
   "execution_count": 10,
   "id": "296a17c5",
   "metadata": {},
   "outputs": [
    {
     "data": {
      "image/png": "[encoded data removed]",
      "text/plain": [
       "Plot with title \"Normal Q-Q Plot\""
      ]
     },
     "metadata": {
      "image/png": {
       "height": 420,
       "width": 420
      }
     },
     "output_type": "display_data"
    }
   ],
   "source": [
    "mypar(1,2)\n",
    "qqnorm(hfPopulation$Bodyweight)\n",
    "qqline(hfPopulation$Bodyweight)\n",
    "qqnorm(controlPopulation$Bodyweight)\n",
    "qqline(controlPopulation$Bodyweight)"
   ]
  },
  {
   "cell_type": "code",
   "execution_count": 13,
   "id": "cfb9a577",
   "metadata": {},
   "outputs": [],
   "source": [
    "d1=hfPopulation$Bodyweight\n",
    "d2=controlPopulation$Bodyweight"
   ]
  },
  {
   "cell_type": "markdown",
   "id": "440d9f0d",
   "metadata": {},
   "source": [
    "Q1:If a list of numbers has a distribution that is well approximated by the normal distribution, what proportion of these numbers are within one standard deviation away from the list’s average?"
   ]
  },
  {
   "cell_type": "code",
   "execution_count": 22,
   "id": "759fd78f",
   "metadata": {},
   "outputs": [
    {
     "data": {
      "text/html": [
       "0.145"
      ],
      "text/latex": [
       "0.145"
      ],
      "text/markdown": [
       "0.145"
      ],
      "text/plain": [
       "[1] 0.145"
      ]
     },
     "metadata": {},
     "output_type": "display_data"
    }
   ],
   "source": [
    "length(which(d1<=mean(d1)-sd(d1))+length(d1>=mean(d1)+sd(d1)))/length(d1)"
   ]
  },
  {
   "cell_type": "code",
   "execution_count": 25,
   "id": "6778cfc1",
   "metadata": {},
   "outputs": [
    {
     "data": {
      "text/html": [
       "0.142222222222222"
      ],
      "text/latex": [
       "0.142222222222222"
      ],
      "text/markdown": [
       "0.142222222222222"
      ],
      "text/plain": [
       "[1] 0.1422222"
      ]
     },
     "metadata": {},
     "output_type": "display_data"
    }
   ],
   "source": [
    "length(which(d2<=mean(d2)-sd(d2))+length(d2>=mean(d2)+sd(d2)))/length(d2)"
   ]
  },
  {
   "cell_type": "markdown",
   "id": "30fa7379",
   "metadata": {},
   "source": [
    "Q2:What proportion of these numbers are within two standard deviations away from the list’s average?"
   ]
  },
  {
   "cell_type": "code",
   "execution_count": 23,
   "id": "41c013d8",
   "metadata": {},
   "outputs": [
    {
     "data": {
      "text/html": [
       "0.005"
      ],
      "text/latex": [
       "0.005"
      ],
      "text/markdown": [
       "0.005"
      ],
      "text/plain": [
       "[1] 0.005"
      ]
     },
     "metadata": {},
     "output_type": "display_data"
    }
   ],
   "source": [
    "length(which(d1<=mean(d1)-2*sd(d1))+length(d1>=mean(d1)+2*sd(d1)))/length(d1)"
   ]
  },
  {
   "cell_type": "code",
   "execution_count": 26,
   "id": "2b75a1ec",
   "metadata": {},
   "outputs": [
    {
     "data": {
      "text/html": [
       "0.0222222222222222"
      ],
      "text/latex": [
       "0.0222222222222222"
      ],
      "text/markdown": [
       "0.0222222222222222"
      ],
      "text/plain": [
       "[1] 0.02222222"
      ]
     },
     "metadata": {},
     "output_type": "display_data"
    }
   ],
   "source": [
    "length(which(d2<=mean(d2)-2*sd(d2))+length(d2>=mean(d2)+2*sd(d2)))/length(d2)"
   ]
  },
  {
   "cell_type": "markdown",
   "id": "6855d4e2",
   "metadata": {},
   "source": [
    "Q3:What proportion of these numbers are within three standard deviations away from the list’s average?"
   ]
  },
  {
   "cell_type": "code",
   "execution_count": 24,
   "id": "4087b5df",
   "metadata": {},
   "outputs": [
    {
     "data": {
      "text/html": [
       "0"
      ],
      "text/latex": [
       "0"
      ],
      "text/markdown": [
       "0"
      ],
      "text/plain": [
       "[1] 0"
      ]
     },
     "metadata": {},
     "output_type": "display_data"
    }
   ],
   "source": [
    "length(which(d1<=mean(d1)-3*sd(d1))+length(d1>=mean(d1)+3*sd(d1)))/length(d1)"
   ]
  },
  {
   "cell_type": "code",
   "execution_count": 27,
   "id": "4c9b238b",
   "metadata": {},
   "outputs": [
    {
     "data": {
      "text/html": [
       "0"
      ],
      "text/latex": [
       "0"
      ],
      "text/markdown": [
       "0"
      ],
      "text/plain": [
       "[1] 0"
      ]
     },
     "metadata": {},
     "output_type": "display_data"
    }
   ],
   "source": [
    "length(which(d2<=mean(d2)-3*sd(d2))+length(d2>=mean(d2)+3*sd(d2)))/length(d2)"
   ]
  },
  {
   "cell_type": "markdown",
   "id": "da7e44bc",
   "metadata": {},
   "source": [
    "Q4: Define y to be the weights of males on the control diet. What proportion of the mice are\n",
    "within one standard deviation away from the average weight (remember to use popsd for the\n",
    "population sd)?"
   ]
  },
  {
   "cell_type": "code",
   "execution_count": 4,
   "id": "e49df46a",
   "metadata": {},
   "outputs": [
    {
     "data": {
      "text/html": [
       "<table class=\"dataframe\">\n",
       "<caption>A data.frame: 6 × 3</caption>\n",
       "<thead>\n",
       "\t<tr><th></th><th scope=col>Sex</th><th scope=col>Diet</th><th scope=col>Bodyweight</th></tr>\n",
       "\t<tr><th></th><th scope=col>&lt;chr&gt;</th><th scope=col>&lt;chr&gt;</th><th scope=col>&lt;dbl&gt;</th></tr>\n",
       "</thead>\n",
       "<tbody>\n",
       "\t<tr><th scope=row>1</th><td>F</td><td>chow</td><td>27.03</td></tr>\n",
       "\t<tr><th scope=row>2</th><td>F</td><td>chow</td><td>24.80</td></tr>\n",
       "\t<tr><th scope=row>3</th><td>F</td><td>chow</td><td>27.02</td></tr>\n",
       "\t<tr><th scope=row>4</th><td>F</td><td>chow</td><td>28.07</td></tr>\n",
       "\t<tr><th scope=row>5</th><td>F</td><td>chow</td><td>23.55</td></tr>\n",
       "\t<tr><th scope=row>6</th><td>F</td><td>chow</td><td>22.72</td></tr>\n",
       "</tbody>\n",
       "</table>\n"
      ],
      "text/latex": [
       "A data.frame: 6 × 3\n",
       "\\begin{tabular}{r|lll}\n",
       "  & Sex & Diet & Bodyweight\\\\\n",
       "  & <chr> & <chr> & <dbl>\\\\\n",
       "\\hline\n",
       "\t1 & F & chow & 27.03\\\\\n",
       "\t2 & F & chow & 24.80\\\\\n",
       "\t3 & F & chow & 27.02\\\\\n",
       "\t4 & F & chow & 28.07\\\\\n",
       "\t5 & F & chow & 23.55\\\\\n",
       "\t6 & F & chow & 22.72\\\\\n",
       "\\end{tabular}\n"
      ],
      "text/markdown": [
       "\n",
       "A data.frame: 6 × 3\n",
       "\n",
       "| <!--/--> | Sex &lt;chr&gt; | Diet &lt;chr&gt; | Bodyweight &lt;dbl&gt; |\n",
       "|---|---|---|---|\n",
       "| 1 | F | chow | 27.03 |\n",
       "| 2 | F | chow | 24.80 |\n",
       "| 3 | F | chow | 27.02 |\n",
       "| 4 | F | chow | 28.07 |\n",
       "| 5 | F | chow | 23.55 |\n",
       "| 6 | F | chow | 22.72 |\n",
       "\n"
      ],
      "text/plain": [
       "  Sex Diet Bodyweight\n",
       "1 F   chow 27.03     \n",
       "2 F   chow 24.80     \n",
       "3 F   chow 27.02     \n",
       "4 F   chow 28.07     \n",
       "5 F   chow 23.55     \n",
       "6 F   chow 22.72     "
      ]
     },
     "metadata": {},
     "output_type": "display_data"
    }
   ],
   "source": [
    "head(controlPopulation)"
   ]
  },
  {
   "cell_type": "code",
   "execution_count": 5,
   "id": "83f627bd",
   "metadata": {},
   "outputs": [
    {
     "data": {
      "text/html": [
       "23.8933777777778"
      ],
      "text/latex": [
       "23.8933777777778"
      ],
      "text/markdown": [
       "23.8933777777778"
      ],
      "text/plain": [
       "[1] 23.89338"
      ]
     },
     "metadata": {},
     "output_type": "display_data"
    },
    {
     "data": {
      "text/html": [
       "3.42405593929142"
      ],
      "text/latex": [
       "3.42405593929142"
      ],
      "text/markdown": [
       "3.42405593929142"
      ],
      "text/plain": [
       "[1] 3.424056"
      ]
     },
     "metadata": {},
     "output_type": "display_data"
    }
   ],
   "source": [
    "mean(controlPopulation$Bodyweight)\n",
    "sd(controlPopulation$Bodyweight)"
   ]
  },
  {
   "cell_type": "code",
   "execution_count": 7,
   "id": "9d7dc4c4",
   "metadata": {},
   "outputs": [
    {
     "data": {
      "text/html": [
       "0.142222222222222"
      ],
      "text/latex": [
       "0.142222222222222"
      ],
      "text/markdown": [
       "0.142222222222222"
      ],
      "text/plain": [
       "[1] 0.1422222"
      ]
     },
     "metadata": {},
     "output_type": "display_data"
    }
   ],
   "source": [
    "quant<-length(which(controlPopulation$Bodyweight<mean(controlPopulation$Bodyweight)-sd(controlPopulation$Bodyweight)))/length(controlPopulation$Bodyweight)\n",
    "quant"
   ]
  },
  {
   "cell_type": "markdown",
   "id": "a6a296b6",
   "metadata": {},
   "source": [
    "Q5:What proportion of these numbers are within two standard deviations away from the list’s average?"
   ]
  },
  {
   "cell_type": "code",
   "execution_count": 8,
   "id": "cebc1c50",
   "metadata": {},
   "outputs": [
    {
     "data": {
      "text/html": [
       "0.0222222222222222"
      ],
      "text/latex": [
       "0.0222222222222222"
      ],
      "text/markdown": [
       "0.0222222222222222"
      ],
      "text/plain": [
       "[1] 0.02222222"
      ]
     },
     "metadata": {},
     "output_type": "display_data"
    }
   ],
   "source": [
    "quant1<-length(which(controlPopulation$Bodyweight<mean(controlPopulation$Bodyweight)-2*sd(controlPopulation$Bodyweight)))/length(controlPopulation$Bodyweight)\n",
    "quant1"
   ]
  },
  {
   "cell_type": "markdown",
   "id": "11f4d863",
   "metadata": {},
   "source": [
    "Q6: What proportion of these numbers are within three standard deviations away from the list’s\n",
    "average?"
   ]
  },
  {
   "cell_type": "code",
   "execution_count": 9,
   "id": "15618b1f",
   "metadata": {},
   "outputs": [
    {
     "data": {
      "text/html": [
       "0"
      ],
      "text/latex": [
       "0"
      ],
      "text/markdown": [
       "0"
      ],
      "text/plain": [
       "[1] 0"
      ]
     },
     "metadata": {},
     "output_type": "display_data"
    }
   ],
   "source": [
    "quant2<-length(which(controlPopulation$Bodyweight<mean(controlPopulation$Bodyweight)-3*sd(controlPopulation$Bodyweight)))/length(controlPopulation$Bodyweight)\n",
    "quant2"
   ]
  },
  {
   "cell_type": "markdown",
   "id": "6817a494",
   "metadata": {},
   "source": [
    "Q7: Note that the numbers for the normal distribution and our weights are relatively close. Also,\n",
    "notice that we are indirectly comparing quantiles of the normal distribution to quantiles of the\n",
    "mouse weight distribution. We can actually compare all quantiles using a qqplot. Which of the\n",
    "following best describes the qq-plot comparing mouse weights to the normal distribution?\n",
    "• A) The points on the qq-plot fall exactly on the identity line.\n",
    "• B) The average of the mouse weights is not 0 and thus it can’t follow a normal distribution.\n",
    "• C) The mouse weights are well approximated by the normal distribution, although the\n",
    "larger values (right tail) are larger than predicted by the normal. This is consistent with\n",
    "the differences seen between question 3 and 6.\n",
    "• D) These are not random variables and thus they can’t follow a normal distribution\n",
    "\n",
    "A"
   ]
  },
  {
   "cell_type": "markdown",
   "id": "2e4a9969",
   "metadata": {},
   "source": [
    "Q8: Create the above qq-plot for the four populations: male/females on each of the two diets. What\n",
    "is the most likely explanation for the mouse weights being well approximated? What is the\n",
    "best explanation for all these being well approximated by the normal distribution?\n",
    "• A) The CLT tells us that sample averages are approximately normal.\n",
    "• B) This just happens to be how nature behaves. Perhaps the result of many biological\n",
    "factors averaging out.\n",
    "• C) Everything measured in nature follows a normal distribution.\n",
    "• D) Measurement error is normally distributed.\n",
    "\n",
    "A"
   ]
  },
  {
   "cell_type": "code",
   "execution_count": 10,
   "id": "299e35ad",
   "metadata": {},
   "outputs": [],
   "source": [
    "controlPopulation2=filter(dat,Sex == \"M\" & Diet == \"chow\")\n",
    "hfPopulation2=filter(dat,Sex == \"M\" & Diet == \"hf\")"
   ]
  },
  {
   "cell_type": "code",
   "execution_count": 12,
   "id": "7046434d",
   "metadata": {},
   "outputs": [
    {
     "data": {
      "image/png": "[encoded data removed]",
      "text/plain": [
       "Plot with title \"Normal Q-Q Plot\""
      ]
     },
     "metadata": {
      "image/png": {
       "height": 420,
       "width": 420
      }
     },
     "output_type": "display_data"
    }
   ],
   "source": [
    "library(rafalib)\n",
    "mypar(1,2)\n",
    "qqnorm(hfPopulation2$Bodyweight)\n",
    "qqline(hfPopulation2$Bodyweight)\n",
    "qqnorm(controlPopulation2$Bodyweight)\n",
    "qqline(controlPopulation2$Bodyweight)"
   ]
  },
  {
   "cell_type": "code",
   "execution_count": 13,
   "id": "bcac7e3b",
   "metadata": {},
   "outputs": [
    {
     "data": {
      "image/png": "[encoded data removed]",
      "text/plain": [
       "Plot with title \"Histogram of controlPopulation2$Bodyweight\""
      ]
     },
     "metadata": {
      "image/png": {
       "height": 420,
       "width": 420
      }
     },
     "output_type": "display_data"
    }
   ],
   "source": [
    "library(rafalib)\n",
    "mypar(1,2)\n",
    "hist(hfPopulation2$Bodyweight)\n",
    "hist(controlPopulation2$Bodyweight)"
   ]
  },
  {
   "cell_type": "markdown",
   "id": "51b6f7a1",
   "metadata": {},
   "source": [
    "Q9: Here we are going to use the function replicate to learn about the distribution of random\n",
    "variables. All the above exercises relate to the normal distribution as an approximation of the\n",
    "distribution of a fixed list of numbers or a population. We have not yet discussed probability in\n",
    "these exercises. If the distribution of a list of numbers is approximately normal, then if we pick\n",
    "a number at random from this distribution, it will follow a normal distribution. However, it is\n",
    "important to remember that stating that some quantity has a distribution does not necessarily\n",
    "imply this quantity is random. Also, keep in mind that this is not related to the central limit\n",
    "theorem. The central limit applies to averages of random variables. Let’s explore this concept.\n",
    "We will now take a sample of size 25 from the population of males on the chow diet. The\n",
    "average of this sample is our random variable. We will use the replicate to observe 10,000\n",
    "realizations of this random variable. Set the seed at 1, generate these 10,000 averages. Make a\n",
    "histogram and qq-plot of these 10,000 numbers against the normal distribution.\n",
    "We can see that, as predicted by the CLT, the distribution of the random variable is very well\n",
    "approximated by the normal distribution."
   ]
  },
  {
   "cell_type": "code",
   "execution_count": 19,
   "id": "840ed5a3",
   "metadata": {},
   "outputs": [
    {
     "data": {
      "image/png": "[encoded data removed]",
      "text/plain": [
       "Plot with title \"Normal Q-Q Plot\""
      ]
     },
     "metadata": {
      "image/png": {
       "height": 420,
       "width": 420
      }
     },
     "output_type": "display_data"
    }
   ],
   "source": [
    "y <- filter(dat, Sex==\"M\" & Diet==\"chow\") %>% select(Bodyweight) %>% unlist\n",
    "avgs <- replicate(10000, mean( sample(y, 25)))\n",
    "mypar(1,2)\n",
    "hist(avgs)\n",
    "qqnorm(avgs)\n",
    "qqline(avgs)"
   ]
  },
  {
   "cell_type": "markdown",
   "id": "b17f5b2c",
   "metadata": {},
   "source": [
    "What is the average of the distribution of the sample average?"
   ]
  },
  {
   "cell_type": "code",
   "execution_count": 23,
   "id": "e094994c",
   "metadata": {},
   "outputs": [
    {
     "data": {
      "text/html": [
       "30.9715594679892"
      ],
      "text/latex": [
       "30.9715594679892"
      ],
      "text/markdown": [
       "30.9715594679892"
      ],
      "text/plain": [
       "[1] 30.97156"
      ]
     },
     "metadata": {},
     "output_type": "display_data"
    }
   ],
   "source": [
    "mean(avgs,na.rm=TRUE)"
   ]
  },
  {
   "cell_type": "markdown",
   "id": "4e560065",
   "metadata": {},
   "source": [
    "Q10: What is the standard deviation of the distribution of sample averages?"
   ]
  },
  {
   "cell_type": "code",
   "execution_count": 24,
   "id": "5d0e19ab",
   "metadata": {},
   "outputs": [
    {
     "data": {
      "text/html": [
       "0.827517377370773"
      ],
      "text/latex": [
       "0.827517377370773"
      ],
      "text/markdown": [
       "0.827517377370773"
      ],
      "text/plain": [
       "[1] 0.8275174"
      ]
     },
     "metadata": {},
     "output_type": "display_data"
    }
   ],
   "source": [
    "sd(avgs,na.rm=TRUE)"
   ]
  },
  {
   "cell_type": "markdown",
   "id": "2eca4926",
   "metadata": {},
   "source": [
    "Q11:According to the CLT, the answer to exercise 9 should be the same as mean(y). You should be\n",
    "able to confirm that these two numbers are very close. Which of the following does the CLT\n",
    "tell us should be close to your answer to exercise 10?\n",
    "• A) popsd(y)\n",
    "• B) popsd(avgs)/sqrt(25)\n",
    "• C) sqrt(25) / popsd(y)\n",
    "• D) popsd(y)/sqrt(25)\n",
    "\n",
    "D"
   ]
  },
  {
   "cell_type": "code",
   "execution_count": 27,
   "id": "7e108778",
   "metadata": {},
   "outputs": [
    {
     "data": {
      "text/html": [
       "4.42054502700136"
      ],
      "text/latex": [
       "4.42054502700136"
      ],
      "text/markdown": [
       "4.42054502700136"
      ],
      "text/plain": [
       "[1] 4.420545"
      ]
     },
     "metadata": {},
     "output_type": "display_data"
    },
    {
     "data": {
      "text/html": [
       "0.165495200093491"
      ],
      "text/latex": [
       "0.165495200093491"
      ],
      "text/markdown": [
       "0.165495200093491"
      ],
      "text/plain": [
       "[1] 0.1654952"
      ]
     },
     "metadata": {},
     "output_type": "display_data"
    },
    {
     "data": {
      "text/html": [
       "1.13108224652373"
      ],
      "text/latex": [
       "1.13108224652373"
      ],
      "text/markdown": [
       "1.13108224652373"
      ],
      "text/plain": [
       "[1] 1.131082"
      ]
     },
     "metadata": {},
     "output_type": "display_data"
    },
    {
     "data": {
      "text/html": [
       "0.884109005400272"
      ],
      "text/latex": [
       "0.884109005400272"
      ],
      "text/markdown": [
       "0.884109005400272"
      ],
      "text/plain": [
       "[1] 0.884109"
      ]
     },
     "metadata": {},
     "output_type": "display_data"
    }
   ],
   "source": [
    "popsd(y,na.rm=TRUE)\n",
    "popsd(avgs,na.rm=TRUE)/sqrt(25)\n",
    "sqrt(25) / popsd(y,na.rm=TRUE)\n",
    "popsd(y,na.rm=TRUE)/sqrt(25)"
   ]
  },
  {
   "cell_type": "markdown",
   "id": "df3ed619",
   "metadata": {},
   "source": [
    "Q12: In practice we do not know σ (popsd(y)) which is why we can’t use the CLT directly. This\n",
    "is because we see a sample and not the entire distribution. We also can’t use popsd(avgs)\n",
    "because to construct averages, we have to take 10,000 samples and this is never practical. We\n",
    "usually just get one sample. Instead we have to estimate popsd(y). As described, what we use\n",
    "is the sample standard deviation. Set the seed at 1, using the replicate function, create 10,000\n",
    "samples of 25 and now, instead of the sample average, keep the standard deviation. Look at\n",
    "the distribution of the sample standard deviations. It is a random variable. The real population\n",
    "SD is about 4.5. What proportion of the sample SDs are below 3.5?"
   ]
  },
  {
   "cell_type": "code",
   "execution_count": 29,
   "id": "5983bb8a",
   "metadata": {},
   "outputs": [
    {
     "data": {
      "image/png": "[encoded data removed]",
      "text/plain": [
       "Plot with title \"Normal Q-Q Plot\""
      ]
     },
     "metadata": {
      "image/png": {
       "height": 420,
       "width": 420
      }
     },
     "output_type": "display_data"
    }
   ],
   "source": [
    "y <- filter(dat, Sex==\"M\" & Diet==\"chow\") %>% select(Bodyweight) %>% unlist\n",
    "sds <- replicate(10000,sd(sample(y, 25)))\n",
    "mypar(1,2)\n",
    "hist(sds)\n",
    "qqnorm(sds)\n",
    "qqline(sds)"
   ]
  },
  {
   "cell_type": "code",
   "execution_count": 30,
   "id": "bc1f5836",
   "metadata": {},
   "outputs": [
    {
     "data": {
      "text/html": [
       "0.0823"
      ],
      "text/latex": [
       "0.0823"
      ],
      "text/markdown": [
       "0.0823"
      ],
      "text/plain": [
       "[1] 0.0823"
      ]
     },
     "metadata": {},
     "output_type": "display_data"
    }
   ],
   "source": [
    "quant3<-length(which(sds<3.5))/length(sds)\n",
    "quant3"
   ]
  },
  {
   "cell_type": "markdown",
   "id": "c0c9a0bc",
   "metadata": {},
   "source": [
    "Q13: What the answer to question 12 reveals is that the denominator of the t-test is a random\n",
    "variable. By decreasing the sample size, you can see how this variability can increase. It\n",
    "therefore adds variability. The smaller the sample size, the more variability is added. The\n",
    "normal distribution stops providing a useful approximation. When the distribution of the\n",
    "population values is approximately normal, as it is for the weights, the t-distribution provides\n",
    "a better approximation. We will see this later on. Here we will look at the difference\n",
    "between the t-distribution and normal. Use the function qt and qnorm to get the quantiles\n",
    "of x=seq(0.0001,0.9999,len=300). Do this for degrees of freedom 3, 10, 30, and 100. Which\n",
    "of the following is true?\n",
    "• A) The t-distribution and normal distribution are always the same.\n",
    "• B) The t-distribution has a higher average than the normal distribution.\n",
    "• C) The t-distribution has larger tails up until 30 degrees of freedom, at which point it is\n",
    "practically the same as the normal distribution.\n",
    "• D) The variance of the t-distribution grows as the degrees of freedom grow.\n",
    "\n",
    "C"
   ]
  },
  {
   "cell_type": "code",
   "execution_count": 34,
   "id": "e2d9df40",
   "metadata": {},
   "outputs": [],
   "source": [
    "x=seq(0.0001,0.9999,len=300)"
   ]
  },
  {
   "cell_type": "code",
   "execution_count": 37,
   "id": "364b2987",
   "metadata": {},
   "outputs": [],
   "source": [
    "a=qnorm(x)\n",
    "b1=qt(x,df=3)\n",
    "b2=qt(x,df=10)\n",
    "b3=qt(x,df=30)\n",
    "b4=qt(x,df=100)"
   ]
  },
  {
   "cell_type": "code",
   "execution_count": 39,
   "id": "ec9dc96d",
   "metadata": {},
   "outputs": [
    {
     "data": {
      "image/png": "[encoded data removed]",
      "text/plain": [
       "Plot with title \"Histogram of b3\""
      ]
     },
     "metadata": {
      "image/png": {
       "height": 420,
       "width": 420
      }
     },
     "output_type": "display_data"
    }
   ],
   "source": [
    "mypar(2,2)\n",
    "hist(a)\n",
    "hist(b1)\n",
    "hist(b2)\n",
    "hist(b3)"
   ]
  },
  {
   "cell_type": "markdown",
   "id": "831e72ee",
   "metadata": {},
   "source": [
    "# Central Limit Theorem in Practice"
   ]
  },
  {
   "cell_type": "code",
   "execution_count": 40,
   "id": "59c1eabb",
   "metadata": {},
   "outputs": [],
   "source": [
    "library(dplyr)\n",
    "controlPopulation <- filter(dat,Sex == \"F\" & Diet == \"chow\") %>%\n",
    "select(Bodyweight) %>% unlist\n",
    "hfPopulation <- filter(dat,Sex == \"F\" & Diet == \"hf\") %>%\n",
    "select(Bodyweight) %>% unlist"
   ]
  },
  {
   "cell_type": "code",
   "execution_count": 41,
   "id": "0c5d9048",
   "metadata": {},
   "outputs": [
    {
     "name": "stdout",
     "output_type": "stream",
     "text": [
      "[1] 2.375517\n"
     ]
    }
   ],
   "source": [
    "mu_hf <- mean(hfPopulation)\n",
    "mu_control <- mean(controlPopulation)\n",
    "print(mu_hf - mu_control)"
   ]
  },
  {
   "cell_type": "code",
   "execution_count": 42,
   "id": "e8ab951f",
   "metadata": {},
   "outputs": [
    {
     "data": {
      "text/html": [
       "FALSE"
      ],
      "text/latex": [
       "FALSE"
      ],
      "text/markdown": [
       "FALSE"
      ],
      "text/plain": [
       "[1] FALSE"
      ]
     },
     "metadata": {},
     "output_type": "display_data"
    }
   ],
   "source": [
    "x <- controlPopulation\n",
    "N <- length(x)\n",
    "populationvar <- mean((x-mean(x))^2)\n",
    "identical(var(x), populationvar)"
   ]
  },
  {
   "cell_type": "code",
   "execution_count": 43,
   "id": "6351d488",
   "metadata": {},
   "outputs": [
    {
     "data": {
      "text/html": [
       "TRUE"
      ],
      "text/latex": [
       "TRUE"
      ],
      "text/markdown": [
       "TRUE"
      ],
      "text/plain": [
       "[1] TRUE"
      ]
     },
     "metadata": {},
     "output_type": "display_data"
    }
   ],
   "source": [
    "identical(var(x)*(N-1)/N, populationvar)"
   ]
  },
  {
   "cell_type": "code",
   "execution_count": 44,
   "id": "4f8bd029",
   "metadata": {},
   "outputs": [],
   "source": [
    "library(rafalib)\n",
    "sd_hf <- popsd(hfPopulation)\n",
    "sd_control <- popsd(controlPopulation)"
   ]
  },
  {
   "cell_type": "code",
   "execution_count": 45,
   "id": "37b0ff8b",
   "metadata": {},
   "outputs": [],
   "source": [
    "N <- 12\n",
    "hf <- sample(hfPopulation, 12)\n",
    "control <- sample(controlPopulation, 12)"
   ]
  },
  {
   "cell_type": "code",
   "execution_count": 47,
   "id": "2cd1e41c",
   "metadata": {},
   "outputs": [],
   "source": [
    "Ns <- c(3,12,25,50) \n",
    "B <- 10000 #number of simulations\n",
    "res <- sapply(Ns,function(n) {\n",
    "replicate(B,mean(sample(hfPopulation,n))-mean(sample(controlPopulation,n)))\n",
    "})"
   ]
  },
  {
   "cell_type": "code",
   "execution_count": 48,
   "id": "1a7008b4",
   "metadata": {},
   "outputs": [
    {
     "data": {
      "image/png": "[encoded data removed]",
      "text/plain": [
       "Plot with title \"N=50 Avg=2.37 SD=0.757\""
      ]
     },
     "metadata": {
      "image/png": {
       "height": 420,
       "width": 420
      }
     },
     "output_type": "display_data"
    }
   ],
   "source": [
    "mypar(2,2)\n",
    "for (i in seq(along=Ns)) {\n",
    "titleavg <- signif(mean(res[,i]),3)\n",
    "titlesd <- signif(popsd(res[,i]),3)\n",
    "title <- paste0(\"N=\",Ns[i],\" Avg=\",titleavg,\" SD=\",titlesd)\n",
    "qqnorm(res[,i],main=title)\n",
    "qqline(res[,i],col=2) }"
   ]
  },
  {
   "cell_type": "code",
   "execution_count": 50,
   "id": "b6fab08b",
   "metadata": {},
   "outputs": [
    {
     "data": {
      "image/png": "[encoded data removed]",
      "text/plain": [
       "Plot with title \"50\""
      ]
     },
     "metadata": {
      "image/png": {
       "height": 420,
       "width": 420
      }
     },
     "output_type": "display_data"
    }
   ],
   "source": [
    "Ns <- c(3,12,25,50) \n",
    "B <- 10000 #number of simulations\n",
    "##function to compute a t-stat\n",
    "computetstat <- function(n) {\n",
    "y <- sample(hfPopulation,n)\n",
    "x <- sample(controlPopulation,n)\n",
    "(mean(y)-mean(x))/sqrt(var(y)/n+var(x)/n)\n",
    "}\n",
    "res <- sapply(Ns,function(n) {\n",
    "replicate(B,computetstat(n))\n",
    "})\n",
    "mypar(2,2)\n",
    "for (i in seq(along=Ns)) {\n",
    "qqnorm(res[,i],main=Ns[i])\n",
    "qqline(res[,i],col=2) }"
   ]
  },
  {
   "cell_type": "code",
   "execution_count": 52,
   "id": "80b91af1",
   "metadata": {},
   "outputs": [],
   "source": [
    "dat <- read.csv(\"D:\\\\desktop\\\\dataR\\\\dagdata-master\\\\inst\\\\extdata\\\\femaleMiceWeights.csv\")"
   ]
  },
  {
   "cell_type": "markdown",
   "id": "4157bbfb",
   "metadata": {},
   "source": [
    "Q1: The CLT is a result from probability theory. Much of probability theory was originally inspired\n",
    "by gambling. This theory is still used in practice by casinos. For example, they can estimate\n",
    "how many people need to play slots for there to be a 99.9999% probability of earning enough\n",
    "money to cover expenses. Let’s try a simple example related to gambling.\n",
    "Suppose we are interested in the proportion of times we see a 6 when rolling n=100 die. This\n",
    "is a random variable which we can simulate with x=sample(1:6, n, replace=TRUE) and the\n",
    "proportion we are interested in can be expressed as an average: mean(x==6). Because the die\n",
    "rolls are independent, the CLT applies.\n",
    "We want to roll n dice 10,000 times and keep these proportions. This random variable\n",
    "(proportion of 6s) has mean p=1/6 and variance p*(1-p)/n. So according to CLT z =\n",
    "(mean(x==6) - p) / sqrt(p*(1-p)/n) should be normal with mean 0 and SD 1. Set the\n",
    "seed to 1, then use replicate to perform the simulation, and report what proportion of times\n",
    "z was larger than 2 in absolute value (CLT says it should be about 0.05)."
   ]
  },
  {
   "cell_type": "code",
   "execution_count": 11,
   "id": "07be8547",
   "metadata": {},
   "outputs": [
    {
     "data": {
      "text/html": [
       "0.0431"
      ],
      "text/latex": [
       "0.0431"
      ],
      "text/markdown": [
       "0.0431"
      ],
      "text/plain": [
       "[1] 0.0431"
      ]
     },
     "metadata": {},
     "output_type": "display_data"
    }
   ],
   "source": [
    "n <- 100\n",
    "B <- 10000\n",
    "p <- 1/6\n",
    "\n",
    "set.seed(1)\n",
    "res_list <- replicate(B, {\n",
    "  x = sample(1:6,n, replace = T)\n",
    "  z <- (mean(x==6)-p) / sqrt(p*(1-p)/n)\n",
    "  return(z)\n",
    "})\n",
    "mean(abs(res_list) > 2)"
   ]
  },
  {
   "cell_type": "markdown",
   "id": "6d909a1f",
   "metadata": {},
   "source": [
    "Q2: For the last simulation you can make a qqplot to confirm the normal approximation. Now, the\n",
    "CLT is an asympototic result, meaning it is closer and closer to being a perfect approximation\n",
    "as the sample size increases. In practice, however, we need to decide if it is appropriate for\n",
    "actual sample sizes. Is 10 enough? 15? 30?\n",
    "In the example used in exercise 1, the original data is binary (either 6 or not). In this case, the\n",
    "success probability also affects the appropriateness of the CLT. With very low probabilities,\n",
    "we need larger sample sizes for the CLT to “kick in”.\n",
    "Run the simulation from exercise 1, but for different values of p and n. For which of the\n",
    "following is the normal approximation best?\n",
    "• A) p=0.5 and n=5\n",
    "• B) p=0.5 and n=30\n",
    "• C) p=0.01 and n=30\n",
    "• D) p=0.01 and n=100\n",
    "\n",
    "D"
   ]
  },
  {
   "cell_type": "code",
   "execution_count": 12,
   "id": "ab8f8a75",
   "metadata": {},
   "outputs": [],
   "source": [
    "set.seed(1)\n",
    "P <- c(0.01,0.5)\n",
    "N <- c(5,30,100)\n",
    "f1 <- function(n,p, B) {\n",
    "  res_list <- replicate(B, {\n",
    "    sides <- 1/p\n",
    "    x = sample(1:sides, n, replace = T)\n",
    "    y <- (mean(x==1)-p) / sqrt(p*(1-p)/n)\n",
    "    return(y)\n",
    "  })\n",
    "}"
   ]
  },
  {
   "cell_type": "code",
   "execution_count": 13,
   "id": "841f3c9f",
   "metadata": {},
   "outputs": [
    {
     "data": {
      "image/png": "[encoded data removed]",
      "text/plain": [
       "Plot with title \"D\""
      ]
     },
     "metadata": {
      "image/png": {
       "height": 420,
       "width": 420
      }
     },
     "output_type": "display_data"
    }
   ],
   "source": [
    "mypar(2,2)\n",
    "qqnorm(f1(5,0.5,10000), main = 'A')\n",
    "qqnorm(f1(30,0.5,10000), main = 'B') # the answer is B\n",
    "qqnorm(f1(30,0.01,10000), main = 'C')\n",
    "qqnorm(f1(100,0.01,10000), main = 'D')"
   ]
  },
  {
   "cell_type": "markdown",
   "id": "b5799a12",
   "metadata": {},
   "source": [
    "Q3: As we have already seen, the CLT also applies to averages of quantitative data. A major\n",
    "difference with binary data, for which we know the variance is p(1−p), is that with quantitative\n",
    "data we need to estimate the population standard deviation.\n",
    "In several previous exercises we have illustrated statistical concepts with the unrealistic\n",
    "situation of having access to the entire population. In practice, we do not have access to entire\n",
    "populations. Instead, we obtain one random sample and need to reach conclusions analyzing\n",
    "that data. dat is an example of a typical simple dataset representing just one sample. We have\n",
    "12 measurements for each of two populations:"
   ]
  },
  {
   "cell_type": "code",
   "execution_count": 1,
   "id": "1a430044",
   "metadata": {},
   "outputs": [
    {
     "name": "stderr",
     "output_type": "stream",
     "text": [
      "\n",
      "Attaching package: 'dplyr'\n",
      "\n",
      "\n",
      "The following objects are masked from 'package:stats':\n",
      "\n",
      "    filter, lag\n",
      "\n",
      "\n",
      "The following objects are masked from 'package:base':\n",
      "\n",
      "    intersect, setdiff, setequal, union\n",
      "\n",
      "\n"
     ]
    }
   ],
   "source": [
    "library(rafalib)\n",
    "library(dplyr)\n",
    "dat <- read.csv(\"D:\\\\desktop\\\\dataR\\\\dagdata-master\\\\inst\\\\extdata\\\\mice_pheno.csv\")\n",
    "X <- filter(dat, Diet==\"chow\") %>% select(Bodyweight) %>% unlist\n",
    "Y <- filter(dat, Diet==\"hf\") %>% select(Bodyweight) %>% unlist"
   ]
  },
  {
   "cell_type": "markdown",
   "id": "1ab51c3e",
   "metadata": {},
   "source": [
    "We think of X as a random sample from the population of all mice in the control diet and Y\n",
    "as a random sample from the population of all mice in the high fat diet.\n",
    "Define the parameter $\\mu_x$ as the average of the control population. We estimate this parameter\n",
    "with the sample average $\\hat{X}$. What is the sample average?"
   ]
  },
  {
   "cell_type": "code",
   "execution_count": 6,
   "id": "2c6c10d5",
   "metadata": {},
   "outputs": [
    {
     "data": {
      "text/html": [
       "27.4128125"
      ],
      "text/latex": [
       "27.4128125"
      ],
      "text/markdown": [
       "27.4128125"
      ],
      "text/plain": [
       "[1] 27.41281"
      ]
     },
     "metadata": {},
     "output_type": "display_data"
    }
   ],
   "source": [
    "mean(X,na.rm=TRUE)"
   ]
  },
  {
   "cell_type": "markdown",
   "id": "95891330",
   "metadata": {},
   "source": [
    "Q4: We don’t know $\\mu_x$ , but want to use $\\bar{X}$ to understand $\\mu_x$. Which of the following uses CLT to\n",
    "understand how well $\\bar{X}$ approximates $\\mu_x$ ? \n",
    "\n",
    "• A) $\\bar{X}$ follows a normal distribution with mean 0 and standard deviation 1.\n",
    "\n",
    "• B) $\\mu_x$ follows a normal distribution with mean $\\bar{X}$ and standard deviation $\\frac{\\mu_x}{\\sqrt{12}}$ where $\\mu_x$ is the population standard deviation.\n",
    "\n",
    "• C) $\\bar{X}$ follows a normal distribution with mean $\\mu_x$ and standard deviation $\\mu_x$ where $\\mu_x$ is\n",
    "the population standard deviation.\n",
    "\n",
    "• D) $\\bar{X}$ follows a normal distribution with mean µX and standard deviation $\\frac{\\mu_x}{\\sqrt{12}}$  where $\\mu_x$ is the population standard deviation\n",
    "\n",
    "A"
   ]
  },
  {
   "cell_type": "markdown",
   "id": "ede4df48",
   "metadata": {},
   "source": [
    "Q5:What does the CLT tell us is the mean of Z (you don’t need code)?\n",
    "\n",
    "0"
   ]
  },
  {
   "cell_type": "markdown",
   "id": "8d8da869",
   "metadata": {},
   "source": [
    "Q6: The result of 4 and 5 tell us that we know the distribution of the difference between our\n",
    "estimate and what we want to estimate, but don’t know. However, the equation involves the\n",
    "population standard deviation $\\mu_x$, which we don’t know. Given what we discussed, what is\n",
    "your estimate of $\\mu_x$?"
   ]
  },
  {
   "cell_type": "code",
   "execution_count": 15,
   "id": "ef1df5c8",
   "metadata": {},
   "outputs": [
    {
     "data": {
      "text/html": [
       "5.30558358034967"
      ],
      "text/latex": [
       "5.30558358034967"
      ],
      "text/markdown": [
       "5.30558358034967"
      ],
      "text/plain": [
       "[1] 5.305584"
      ]
     },
     "metadata": {},
     "output_type": "display_data"
    }
   ],
   "source": [
    "sd(X,na.rm=TRUE)"
   ]
  },
  {
   "cell_type": "markdown",
   "id": "9326a887",
   "metadata": {},
   "source": [
    "Q7: Use the CLT to approximate the probability that our estimate $\\hat{X}$ is off by more than 5.21 ounces\n",
    "from $\\mu_x$."
   ]
  },
  {
   "cell_type": "markdown",
   "id": "37f0d97c",
   "metadata": {},
   "source": [
    "$$Z=\\frac{\\bar{X_1}-\\bar{X_2}}{\\frac{S_1}{n_1}+\\frac{S_2}{n_2}}$$"
   ]
  },
  {
   "cell_type": "code",
   "execution_count": 17,
   "id": "4917f009",
   "metadata": {},
   "outputs": [
    {
     "data": {
      "text/html": [
       "0.191609540623797"
      ],
      "text/latex": [
       "0.191609540623797"
      ],
      "text/markdown": [
       "0.191609540623797"
      ],
      "text/plain": [
       "[1] 0.1916095"
      ]
     },
     "metadata": {},
     "output_type": "display_data"
    }
   ],
   "source": [
    "z <- 2/(sqrt(sd(X,na.rm=TRUE)^2/12))\n",
    "pnorm(-z) + 1- pnorm(z)"
   ]
  },
  {
   "cell_type": "markdown",
   "id": "34b10612",
   "metadata": {},
   "source": [
    "Q8:$SE(\\bar{X}-\\bar{Y})$"
   ]
  },
  {
   "cell_type": "code",
   "execution_count": 18,
   "id": "71b1c4c2",
   "metadata": {},
   "outputs": [
    {
     "data": {
      "text/html": [
       "2.50007713363929"
      ],
      "text/latex": [
       "2.50007713363929"
      ],
      "text/markdown": [
       "2.50007713363929"
      ],
      "text/plain": [
       "[1] 2.500077"
      ]
     },
     "metadata": {},
     "output_type": "display_data"
    }
   ],
   "source": [
    "sqrt((sd(X,na.rm=TRUE)^2 + sd(Y,na.rm=TRUE)^2)/12)"
   ]
  },
  {
   "cell_type": "markdown",
   "id": "fa7c4e0c",
   "metadata": {},
   "source": [
    "Q9: So now we can compute $\\bar{Y}-\\bar{X}$as well as an estimate of this standard error and construct a\n",
    "t-statistic. What is this t-statistic?"
   ]
  },
  {
   "cell_type": "code",
   "execution_count": 20,
   "id": "c57b86aa",
   "metadata": {},
   "outputs": [
    {
     "data": {
      "text/html": [
       "3.06919513358779"
      ],
      "text/latex": [
       "3.06919513358779"
      ],
      "text/markdown": [
       "3.06919513358779"
      ],
      "text/plain": [
       "[1] 3.069195"
      ]
     },
     "metadata": {},
     "output_type": "display_data"
    }
   ],
   "source": [
    "mean(Y,na.rm=TRUE)-mean(X,na.rm=TRUE)"
   ]
  },
  {
   "cell_type": "markdown",
   "id": "a14ccac4",
   "metadata": {},
   "source": [
    "Q10: If we apply the CLT, what is the distribution of this t-statistic?\n",
    "\n",
    "• A) Normal with mean 0 and standard deviation 1.\n",
    "\n",
    "• B) t-distributed with 22 degrees of freedom.\n",
    "\n",
    "• C) Normal with mean 0 and standard deviation$\\sqrt{\\sigma^2_y+\\sigma^2_x}$\n",
    "\n",
    "• D) t-distributed with 12 degrees of freedom\n",
    "\n",
    "A"
   ]
  },
  {
   "cell_type": "markdown",
   "id": "1b984a88",
   "metadata": {},
   "source": [
    "Q11: Now we are ready to compute a p-value using the CLT. What is the probability of observing\n",
    "a quantity as large as what we computed in 10, when the null distribution is true?"
   ]
  },
  {
   "cell_type": "code",
   "execution_count": 21,
   "id": "ec36ddce",
   "metadata": {},
   "outputs": [
    {
     "data": {
      "text/html": [
       "0.219582072837948"
      ],
      "text/latex": [
       "0.219582072837948"
      ],
      "text/markdown": [
       "0.219582072837948"
      ],
      "text/plain": [
       "[1] 0.2195821"
      ]
     },
     "metadata": {},
     "output_type": "display_data"
    }
   ],
   "source": [
    "t <- (mean(Y,na.rm=TRUE) - mean(X,na.rm=TRUE))/ sqrt((sd(X,na.rm=TRUE)^2 + sd(Y,na.rm=TRUE)^2)/12) \n",
    "(1-pnorm(t))*2"
   ]
  },
  {
   "cell_type": "markdown",
   "id": "d9e7a268",
   "metadata": {},
   "source": [
    "Q12:CLT provides an approximation for cases in which the sample size is large. In practice, we\n",
    "can’t check the assumption because we only get to see 1 outcome (which you computed\n",
    "above). As a result, if this approximation is off, so is our p-value. As described earlier, there\n",
    "is another approach that does not require a large sample size, but rather that the distribution\n",
    "of the population is approximately normal. We don’t get to see this distribution so it is again\n",
    "an assumption, although we can look at the distribution of the sample with qqnorm(X) and\n",
    "qqnorm(Y). If we are willing to assume this, then it follows that the t-statistic follows t\u0002distribution. What is the p-value under the t-distribution approximation? Hint: use the t.test\n",
    "function."
   ]
  },
  {
   "cell_type": "code",
   "execution_count": 24,
   "id": "e87c8951",
   "metadata": {},
   "outputs": [
    {
     "data": {
      "text/plain": [
       "\n",
       "\tWelch Two Sample t-test\n",
       "\n",
       "data:  X and Y\n",
       "t = -7.1932, df = 735.02, p-value = 1.563e-12\n",
       "alternative hypothesis: true difference in means is not equal to 0\n",
       "95 percent confidence interval:\n",
       " -3.906857 -2.231533\n",
       "sample estimates:\n",
       "mean of x mean of y \n",
       " 27.41281  30.48201 \n"
      ]
     },
     "metadata": {},
     "output_type": "display_data"
    }
   ],
   "source": [
    "t.test(X,Y)"
   ]
  },
  {
   "cell_type": "code",
   "execution_count": 25,
   "id": "8931b706",
   "metadata": {},
   "outputs": [
    {
     "data": {
      "image/png": "[encoded data removed]",
      "text/plain": [
       "Plot with title \"Normal Q-Q Plot\""
      ]
     },
     "metadata": {
      "image/png": {
       "height": 420,
       "width": 420
      }
     },
     "output_type": "display_data"
    }
   ],
   "source": [
    "mypar(1,2)\n",
    "qqnorm(X)\n",
    "qqline(X)\n",
    "qqnorm(Y)\n",
    "qqline(Y)"
   ]
  },
  {
   "cell_type": "markdown",
   "id": "e7bf0f7c",
   "metadata": {},
   "source": [
    "Q13:\n",
    "\n",
    "With the CLT distribution, we obtained a p-value smaller than 0.05 and with the t-distribution,\n",
    "one that is larger. They can’t both be right. What best describes the difference?\n",
    "\n",
    "• A) A sample size of 12 is not large enough, so we have to use the t-distribution\n",
    "approximation.\n",
    "\n",
    "• B) These are two different assumptions. The t-distribution accounts for the variability\n",
    "introduced by the estimation of the standard error and thus, under the null, large values\n",
    "are more probable under the null distribution.\n",
    "\n",
    "• C) The population data is probably not normally distributed so the t-distribution\n",
    "approximation is wrong.\n",
    "\n",
    "• D) Neither assumption is useful. Both are wrong"
   ]
  },
  {
   "cell_type": "markdown",
   "id": "aa2eee2a",
   "metadata": {},
   "source": [
    "B"
   ]
  },
  {
   "cell_type": "markdown",
   "id": "d3576f4c",
   "metadata": {},
   "source": [
    "t-tests in Practice"
   ]
  },
  {
   "cell_type": "code",
   "execution_count": 26,
   "id": "5bd6b51a",
   "metadata": {},
   "outputs": [
    {
     "name": "stdout",
     "output_type": "stream",
     "text": [
      "[1] 3.020833\n"
     ]
    }
   ],
   "source": [
    "library(dplyr)\n",
    "dat <- read.csv(\"D:\\\\desktop\\\\dataR\\\\dagdata-master\\\\inst\\\\extdata\\\\femaleMiceWeights.csv\")\n",
    "control <- filter(dat,Diet==\"chow\") %>% select(Bodyweight) %>% unlist\n",
    "treatment <- filter(dat,Diet==\"hf\") %>% select(Bodyweight) %>% unlist\n",
    "diff <- mean(treatment) - mean(control)\n",
    "print(diff)"
   ]
  },
  {
   "cell_type": "markdown",
   "id": "2e16fce8",
   "metadata": {},
   "source": [
    "$$SE(\\hat{X})=\\frac{\\sigma} {\\sqrt{N}}$$"
   ]
  },
  {
   "cell_type": "code",
   "execution_count": 27,
   "id": "2c53b719",
   "metadata": {},
   "outputs": [
    {
     "data": {
      "text/html": [
       "0.872532306715703"
      ],
      "text/latex": [
       "0.872532306715703"
      ],
      "text/markdown": [
       "0.872532306715703"
      ],
      "text/plain": [
       "[1] 0.8725323"
      ]
     },
     "metadata": {},
     "output_type": "display_data"
    }
   ],
   "source": [
    "sd(control)/sqrt(length(control))"
   ]
  },
  {
   "cell_type": "code",
   "execution_count": 28,
   "id": "a98115fd",
   "metadata": {},
   "outputs": [],
   "source": [
    "se <- sqrt(\n",
    "var(treatment)/length(treatment) +\n",
    "var(control)/length(control)\n",
    ")"
   ]
  },
  {
   "cell_type": "code",
   "execution_count": 29,
   "id": "6c0feb50",
   "metadata": {},
   "outputs": [],
   "source": [
    "tstat <- diff/se"
   ]
  },
  {
   "cell_type": "code",
   "execution_count": 30,
   "id": "1bebaf89",
   "metadata": {},
   "outputs": [
    {
     "name": "stdout",
     "output_type": "stream",
     "text": [
      "[1] 0.0398622\n"
     ]
    }
   ],
   "source": [
    "righttail <- 1 - pnorm(abs(tstat))\n",
    "lefttail <- pnorm(-abs(tstat))\n",
    "pval <- lefttail + righttail\n",
    "print(pval)"
   ]
  },
  {
   "cell_type": "markdown",
   "id": "a03e08ff",
   "metadata": {},
   "source": [
    "The t-distribution in Practice"
   ]
  },
  {
   "cell_type": "code",
   "execution_count": 31,
   "id": "3ffadf5b",
   "metadata": {},
   "outputs": [
    {
     "data": {
      "image/png": "[encoded data removed]",
      "text/plain": [
       "Plot with title \"Normal Q-Q Plot\""
      ]
     },
     "metadata": {
      "image/png": {
       "height": 420,
       "width": 420
      }
     },
     "output_type": "display_data"
    }
   ],
   "source": [
    "library(rafalib)\n",
    "mypar(1,2)\n",
    "qqnorm(treatment)\n",
    "qqline(treatment,col=2)\n",
    "qqnorm(control)\n",
    "qqline(control,col=2)"
   ]
  },
  {
   "cell_type": "code",
   "execution_count": 32,
   "id": "b18b036e",
   "metadata": {},
   "outputs": [
    {
     "data": {
      "text/plain": [
       "\n",
       "\tWelch Two Sample t-test\n",
       "\n",
       "data:  treatment and control\n",
       "t = 2.0552, df = 20.236, p-value = 0.053\n",
       "alternative hypothesis: true difference in means is not equal to 0\n",
       "95 percent confidence interval:\n",
       " -0.04296563  6.08463229\n",
       "sample estimates:\n",
       "mean of x mean of y \n",
       " 26.83417  23.81333 \n"
      ]
     },
     "metadata": {},
     "output_type": "display_data"
    }
   ],
   "source": [
    "t.test(treatment, control)"
   ]
  },
  {
   "cell_type": "code",
   "execution_count": 33,
   "id": "45410927",
   "metadata": {},
   "outputs": [
    {
     "data": {
      "text/html": [
       "0.0529988787453232"
      ],
      "text/latex": [
       "0.0529988787453232"
      ],
      "text/markdown": [
       "0.0529988787453232"
      ],
      "text/plain": [
       "[1] 0.05299888"
      ]
     },
     "metadata": {},
     "output_type": "display_data"
    }
   ],
   "source": [
    "result <- t.test(treatment,control)\n",
    "result$p.value"
   ]
  },
  {
   "cell_type": "code",
   "execution_count": 34,
   "id": "29db4364",
   "metadata": {},
   "outputs": [
    {
     "data": {
      "text/plain": [
       "\n",
       "\tWelch Two Sample t-test\n",
       "\n",
       "data:  treatment and control\n",
       "t = 7.1932, df = 735.02, p-value = 1.563e-12\n",
       "alternative hypothesis: true difference in means is not equal to 0\n",
       "95 percent confidence interval:\n",
       " 2.231533 3.906857\n",
       "sample estimates:\n",
       "mean of x mean of y \n",
       " 30.48201  27.41281 \n"
      ]
     },
     "metadata": {},
     "output_type": "display_data"
    }
   ],
   "source": [
    "dat <- read.csv(\"D:\\\\desktop\\\\dataR\\\\dagdata-master\\\\inst\\\\extdata\\\\mice_pheno.csv\")\n",
    "control <- filter(dat,Diet==\"chow\") %>% select(Bodyweight)\n",
    "treatment <- filter(dat,Diet==\"hf\") %>% select(Bodyweight)\n",
    "t.test(treatment,control)"
   ]
  },
  {
   "cell_type": "markdown",
   "id": "5a171874",
   "metadata": {},
   "source": [
    "Confidence Intervals"
   ]
  },
  {
   "cell_type": "code",
   "execution_count": 35,
   "id": "88ca55dd",
   "metadata": {},
   "outputs": [
    {
     "name": "stdout",
     "output_type": "stream",
     "text": [
      "[1] 23.89338\n"
     ]
    }
   ],
   "source": [
    "chowPopulation <- dat[dat$Sex==\"F\" & dat$Diet==\"chow\",3]\n",
    "mu_chow <- mean(chowPopulation)\n",
    "print(mu_chow)"
   ]
  },
  {
   "cell_type": "code",
   "execution_count": 36,
   "id": "485b35c3",
   "metadata": {},
   "outputs": [
    {
     "name": "stdout",
     "output_type": "stream",
     "text": [
      "[1] 23.96833\n"
     ]
    }
   ],
   "source": [
    "N <- 30\n",
    "chow <- sample(chowPopulation,N)\n",
    "print(mean(chow))"
   ]
  },
  {
   "cell_type": "code",
   "execution_count": 37,
   "id": "0209d53b",
   "metadata": {},
   "outputs": [
    {
     "name": "stdout",
     "output_type": "stream",
     "text": [
      "[1] 0.7000092\n"
     ]
    }
   ],
   "source": [
    "se <- sd(chow)/sqrt(N)\n",
    "print(se)"
   ]
  },
  {
   "cell_type": "markdown",
   "id": "99758868",
   "metadata": {},
   "source": [
    "confidence interval: $-2\\le \\sqrt{N}(\\bar{X}-\\mu_X)/s_X\\le 2$"
   ]
  },
  {
   "cell_type": "code",
   "execution_count": 38,
   "id": "95c7908b",
   "metadata": {},
   "outputs": [
    {
     "data": {
      "text/html": [
       "0.954499736103642"
      ],
      "text/latex": [
       "0.954499736103642"
      ],
      "text/markdown": [
       "0.954499736103642"
      ],
      "text/plain": [
       "[1] 0.9544997"
      ]
     },
     "metadata": {},
     "output_type": "display_data"
    }
   ],
   "source": [
    "pnorm(2) - pnorm(-2)"
   ]
  },
  {
   "cell_type": "markdown",
   "id": "baa08ac4",
   "metadata": {},
   "source": [
    "confidence interval: $\\bar{X}-2s_X/\\sqrt{N}\\le \\mu_X \\le \\bar{X}+2s_X/\\sqrt{N}$"
   ]
  },
  {
   "cell_type": "code",
   "execution_count": 39,
   "id": "77296089",
   "metadata": {},
   "outputs": [
    {
     "data": {
      "text/html": [
       "<style>\n",
       ".list-inline {list-style: none; margin:0; padding: 0}\n",
       ".list-inline>li {display: inline-block}\n",
       ".list-inline>li:not(:last-child)::after {content: \"\\00b7\"; padding: 0 .5ex}\n",
       "</style>\n",
       "<ol class=list-inline><li>22.5963404947973</li><li>25.3403261718694</li></ol>\n"
      ],
      "text/latex": [
       "\\begin{enumerate*}\n",
       "\\item 22.5963404947973\n",
       "\\item 25.3403261718694\n",
       "\\end{enumerate*}\n"
      ],
      "text/markdown": [
       "1. 22.5963404947973\n",
       "2. 25.3403261718694\n",
       "\n",
       "\n"
      ],
      "text/plain": [
       "[1] 22.59634 25.34033"
      ]
     },
     "metadata": {},
     "output_type": "display_data"
    }
   ],
   "source": [
    "Q <- qnorm(1- 0.05/2)\n",
    "interval <- c(mean(chow)-Q*se, mean(chow)+Q*se )\n",
    "interval"
   ]
  },
  {
   "cell_type": "code",
   "execution_count": 40,
   "id": "a8e1f9e1",
   "metadata": {},
   "outputs": [
    {
     "data": {
      "text/html": [
       "TRUE"
      ],
      "text/latex": [
       "TRUE"
      ],
      "text/markdown": [
       "TRUE"
      ],
      "text/plain": [
       "[1] TRUE"
      ]
     },
     "metadata": {},
     "output_type": "display_data"
    }
   ],
   "source": [
    "interval[1] < mu_chow & interval[2] > mu_chow"
   ]
  },
  {
   "cell_type": "code",
   "execution_count": 41,
   "id": "77ab1300",
   "metadata": {},
   "outputs": [
    {
     "data": {
      "image/png": "[encoded data removed]",
      "text/plain": [
       "plot without title"
      ]
     },
     "metadata": {
      "image/png": {
       "height": 420,
       "width": 420
      }
     },
     "output_type": "display_data"
    }
   ],
   "source": [
    "library(rafalib)\n",
    "B <- 250\n",
    "mypar()\n",
    "plot(mean(chowPopulation)+c(-7,7),c(1,1),type=\"n\",\n",
    "xlab=\"weight\",ylab=\"interval\",ylim=c(1,B))\n",
    "abline(v=mean(chowPopulation))\n",
    "for (i in 1:B) {\n",
    "chow <- sample(chowPopulation,N)\n",
    "se <- sd(chow)/sqrt(N)\n",
    "interval <- c(mean(chow)-Q*se, mean(chow)+Q*se)\n",
    "covered <-\n",
    "mean(chowPopulation) <= interval[2] & mean(chowPopulation) >= interval[1]\n",
    "color <- ifelse(covered,1,2)\n",
    "lines(interval, c(i,i),col=color)\n",
    "}"
   ]
  },
  {
   "cell_type": "markdown",
   "id": "82da49f6",
   "metadata": {},
   "source": [
    "Small Sample Size And The CLT"
   ]
  },
  {
   "cell_type": "code",
   "execution_count": 45,
   "id": "45fa2139",
   "metadata": {},
   "outputs": [
    {
     "data": {
      "image/png": "[encoded data removed]",
      "text/plain": [
       "plot without title"
      ]
     },
     "metadata": {
      "image/png": {
       "height": 420,
       "width": 420
      }
     },
     "output_type": "display_data"
    }
   ],
   "source": [
    "mypar()\n",
    "plot(mean(chowPopulation)+c(-7,7),c(1,1),type=\"n\",\n",
    "xlab=\"weight\",ylab=\"interval\",ylim=c(1,B))\n",
    "abline(v=mean(chowPopulation))\n",
    "Q <- qnorm(1- 0.05/2) \n",
    "N <- 5\n",
    "for (i in 1:B) {\n",
    "chow <- sample(chowPopulation,N)\n",
    "se <- sd(chow)/sqrt(N)\n",
    "interval <- c(mean(chow)-Q*se, mean(chow)+Q*se)\n",
    "covered <- mean(chowPopulation) <= interval[2] & mean(chowPopulation) >= interval[\n",
    "    1]\n",
    "    color <- ifelse(covered,1,2)\n",
    "    lines(interval, c(i,i),col=color)\n",
    "}"
   ]
  },
  {
   "cell_type": "code",
   "execution_count": 52,
   "id": "c5b52965",
   "metadata": {},
   "outputs": [
    {
     "data": {
      "image/png": "[encoded data removed]",
      "text/plain": [
       "plot without title"
      ]
     },
     "metadata": {
      "image/png": {
       "height": 420,
       "width": 420
      }
     },
     "output_type": "display_data"
    }
   ],
   "source": [
    "mypar()\n",
    "plot(mean(chowPopulation)+c(-7,7),c(1,1),type=\"n\",\n",
    "xlab=\"weight\",ylab=\"interval\",ylim=c(1,B))\n",
    "abline(v=mean(chowPopulation))\n",
    "Q <- qt(1- 0.05/2, df=4)\n",
    "N <- 5\n",
    "for (i in 1:B) {\n",
    "chow <- sample(chowPopulation,N)\n",
    "se <- sd(chow)/sqrt(N)\n",
    "interval <- c(mean(chow)-Q*se, mean(chow)+Q*se)\n",
    "covered <- mean(chowPopulation) <= interval[2] & mean(chowPopulation) >= interval[\n",
    "    1]\n",
    "    color <- ifelse(covered,1,2)\n",
    "    lines(interval, c(i,i),col=color)\n",
    "}"
   ]
  },
  {
   "cell_type": "code",
   "execution_count": 53,
   "id": "7ddbc24f",
   "metadata": {},
   "outputs": [
    {
     "data": {
      "text/html": [
       "2.77644510519779"
      ],
      "text/latex": [
       "2.77644510519779"
      ],
      "text/markdown": [
       "2.77644510519779"
      ],
      "text/plain": [
       "[1] 2.776445"
      ]
     },
     "metadata": {},
     "output_type": "display_data"
    }
   ],
   "source": [
    "qt(1- 0.05/2, df=4)"
   ]
  },
  {
   "cell_type": "code",
   "execution_count": 54,
   "id": "22bf1308",
   "metadata": {},
   "outputs": [
    {
     "data": {
      "text/html": [
       "1.95996398454005"
      ],
      "text/latex": [
       "1.95996398454005"
      ],
      "text/markdown": [
       "1.95996398454005"
      ],
      "text/plain": [
       "[1] 1.959964"
      ]
     },
     "metadata": {},
     "output_type": "display_data"
    }
   ],
   "source": [
    "qnorm(1- 0.05/2)"
   ]
  },
  {
   "cell_type": "markdown",
   "id": "ab179007",
   "metadata": {},
   "source": [
    "Connection Between Confidence Intervals and p-values"
   ]
  },
  {
   "cell_type": "code",
   "execution_count": 57,
   "id": "1a58c392",
   "metadata": {},
   "outputs": [
    {
     "data": {
      "text/html": [
       "<style>\n",
       ".list-inline {list-style: none; margin:0; padding: 0}\n",
       ".list-inline>li {display: inline-block}\n",
       ".list-inline>li:not(:last-child)::after {content: \"\\00b7\"; padding: 0 .5ex}\n",
       "</style>\n",
       "<ol class=list-inline><li>2.36647904439721</li><li>3.77191122277837</li></ol>\n"
      ],
      "text/latex": [
       "\\begin{enumerate*}\n",
       "\\item 2.36647904439721\n",
       "\\item 3.77191122277837\n",
       "\\end{enumerate*}\n"
      ],
      "text/markdown": [
       "1. 2.36647904439721\n",
       "2. 3.77191122277837\n",
       "\n",
       "\n"
      ],
      "text/plain": [
       "[1] 2.366479 3.771911\n",
       "attr(,\"conf.level\")\n",
       "[1] 0.9"
      ]
     },
     "metadata": {},
     "output_type": "display_data"
    }
   ],
   "source": [
    "t.test(treatment,control,conf.level=0.9)$conf.int"
   ]
  },
  {
   "cell_type": "markdown",
   "id": "45fc9e16",
   "metadata": {},
   "source": [
    "Power Calculations"
   ]
  },
  {
   "cell_type": "code",
   "execution_count": 58,
   "id": "8c26e061",
   "metadata": {},
   "outputs": [
    {
     "name": "stdout",
     "output_type": "stream",
     "text": [
      "[1] 2.375517\n"
     ]
    }
   ],
   "source": [
    "controlPopulation <- filter(dat,Sex == \"F\" & Diet == \"chow\") %>%\n",
    "select(Bodyweight) %>% unlist\n",
    "hfPopulation <- filter(dat,Sex == \"F\" & Diet == \"hf\") %>%\n",
    "select(Bodyweight) %>% unlist\n",
    "mu_hf <- mean(hfPopulation)\n",
    "mu_control <- mean(controlPopulation)\n",
    "print(mu_hf - mu_control)"
   ]
  },
  {
   "cell_type": "code",
   "execution_count": 59,
   "id": "70d79008",
   "metadata": {},
   "outputs": [
    {
     "name": "stdout",
     "output_type": "stream",
     "text": [
      "[1] 9.942157\n"
     ]
    }
   ],
   "source": [
    "print((mu_hf - mu_control)/mu_control * 100)"
   ]
  },
  {
   "cell_type": "code",
   "execution_count": null,
   "id": "afd3650e",
   "metadata": {},
   "outputs": [],
   "source": []
  },
  {
   "cell_type": "code",
   "execution_count": 1,
   "id": "6380948d",
   "metadata": {},
   "outputs": [
    {
     "name": "stderr",
     "output_type": "stream",
     "text": [
      "\n",
      "Attaching package: 'dplyr'\n",
      "\n",
      "\n",
      "The following objects are masked from 'package:stats':\n",
      "\n",
      "    filter, lag\n",
      "\n",
      "\n",
      "The following objects are masked from 'package:base':\n",
      "\n",
      "    intersect, setdiff, setequal, union\n",
      "\n",
      "\n"
     ]
    },
    {
     "name": "stdout",
     "output_type": "stream",
     "text": [
      "[1] 2.375517\n"
     ]
    }
   ],
   "source": [
    "library(dplyr)\n",
    "dat <- read.csv(\"D:\\\\desktop\\\\dataR\\\\dagdata-master\\\\inst\\\\extdata\\\\mice_pheno.csv\")\n",
    "controlPopulation <- filter(dat,Sex == \"F\" & Diet == \"chow\") %>%\n",
    "select(Bodyweight) %>% unlist\n",
    "hfPopulation <- filter(dat,Sex == \"F\" & Diet == \"hf\") %>%\n",
    "select(Bodyweight) %>% unlist\n",
    "mu_hf <- mean(hfPopulation)\n",
    "mu_control <- mean(controlPopulation)\n",
    "print(mu_hf - mu_control)"
   ]
  },
  {
   "cell_type": "code",
   "execution_count": 3,
   "id": "5aff7759",
   "metadata": {},
   "outputs": [
    {
     "data": {
      "text/html": [
       "0.580666107209601"
      ],
      "text/latex": [
       "0.580666107209601"
      ],
      "text/markdown": [
       "0.580666107209601"
      ],
      "text/plain": [
       "[1] 0.5806661"
      ]
     },
     "metadata": {},
     "output_type": "display_data"
    }
   ],
   "source": [
    "set.seed(1) \n",
    "N <- 5\n",
    "hf <- sample(hfPopulation,N)\n",
    "control <- sample(controlPopulation,N)\n",
    "t.test(hf,control)$p.value"
   ]
  },
  {
   "cell_type": "code",
   "execution_count": 4,
   "id": "ff7d236f",
   "metadata": {},
   "outputs": [],
   "source": [
    "N <- 12\n",
    "alpha <- 0.05\n",
    "B <- 2000\n",
    "reject <- function(N, alpha=0.05){\n",
    "hf <- sample(hfPopulation,N)\n",
    "control <- sample(controlPopulation,N)\n",
    "pval <- t.test(hf,control)$p.value\n",
    "pval < alpha\n",
    "}"
   ]
  },
  {
   "cell_type": "code",
   "execution_count": 5,
   "id": "a4f36b53",
   "metadata": {},
   "outputs": [
    {
     "data": {
      "text/html": [
       "TRUE"
      ],
      "text/latex": [
       "TRUE"
      ],
      "text/markdown": [
       "TRUE"
      ],
      "text/plain": [
       "[1] TRUE"
      ]
     },
     "metadata": {},
     "output_type": "display_data"
    }
   ],
   "source": [
    "reject(12)"
   ]
  },
  {
   "cell_type": "code",
   "execution_count": 6,
   "id": "502fbfde",
   "metadata": {},
   "outputs": [
    {
     "data": {
      "text/html": [
       "0.2155"
      ],
      "text/latex": [
       "0.2155"
      ],
      "text/markdown": [
       "0.2155"
      ],
      "text/plain": [
       "[1] 0.2155"
      ]
     },
     "metadata": {},
     "output_type": "display_data"
    }
   ],
   "source": [
    "rejections <- replicate(B,reject(N))\n",
    "mean(rejections)"
   ]
  },
  {
   "cell_type": "code",
   "execution_count": 7,
   "id": "201aeeeb",
   "metadata": {},
   "outputs": [
    {
     "data": {
      "image/png": "[encoded data removed]",
      "text/plain": [
       "plot without title"
      ]
     },
     "metadata": {
      "image/png": {
       "height": 420,
       "width": 420
      }
     },
     "output_type": "display_data"
    }
   ],
   "source": [
    "Ns <- seq(5, 50, 5)\n",
    "power <- sapply(Ns,function(N){\n",
    "rejections <- replicate(B, reject(N))\n",
    "mean(rejections)\n",
    "})\n",
    "plot(Ns, power, type=\"b\")"
   ]
  },
  {
   "cell_type": "code",
   "execution_count": 8,
   "id": "5d2a6dff",
   "metadata": {},
   "outputs": [
    {
     "data": {
      "image/png": "[encoded data removed]",
      "text/plain": [
       "plot without title"
      ]
     },
     "metadata": {
      "image/png": {
       "height": 420,
       "width": 420
      }
     },
     "output_type": "display_data"
    }
   ],
   "source": [
    "N <- 30\n",
    "alphas <- c(0.1,0.05,0.01,0.001,0.0001)\n",
    "power <- sapply(alphas,function(alpha){\n",
    "rejections <- replicate(B,reject(N,alpha=alpha))\n",
    "mean(rejections)\n",
    "})\n",
    "plot(alphas, power, xlab=\"alpha\", type=\"b\", log=\"x\")"
   ]
  },
  {
   "cell_type": "code",
   "execution_count": 9,
   "id": "4ef8b174",
   "metadata": {},
   "outputs": [],
   "source": [
    "calculatePvalue <- function(N) {\n",
    "hf <- sample(hfPopulation,N)\n",
    "control <- sample(controlPopulation,N)\n",
    "t.test(hf,control)$p.value\n",
    "}"
   ]
  },
  {
   "cell_type": "code",
   "execution_count": 10,
   "id": "bc1eb0c9",
   "metadata": {},
   "outputs": [],
   "source": [
    "Ns <- seq(10,200,by=10)\n",
    "Ns_rep <- rep(Ns, each=10)"
   ]
  },
  {
   "cell_type": "code",
   "execution_count": 11,
   "id": "0320a220",
   "metadata": {},
   "outputs": [],
   "source": [
    "pvalues <- sapply(Ns_rep, calculatePvalue)"
   ]
  },
  {
   "cell_type": "code",
   "execution_count": 12,
   "id": "6c600e26",
   "metadata": {},
   "outputs": [
    {
     "data": {
      "image/png": "[encoded data removed]",
      "text/plain": [
       "plot without title"
      ]
     },
     "metadata": {
      "image/png": {
       "height": 420,
       "width": 420
      }
     },
     "output_type": "display_data"
    }
   ],
   "source": [
    "plot(Ns_rep, pvalues, log=\"y\", xlab=\"sample size\",\n",
    "ylab=\"p-values\")\n",
    "abline(h=c(.01, .05), col=\"red\", lwd=2)"
   ]
  },
  {
   "cell_type": "code",
   "execution_count": 13,
   "id": "528dbc13",
   "metadata": {},
   "outputs": [
    {
     "data": {
      "text/html": [
       "5.1962928251588"
      ],
      "text/latex": [
       "5.1962928251588"
      ],
      "text/markdown": [
       "5.1962928251588"
      ],
      "text/plain": [
       "[1] 5.196293"
      ]
     },
     "metadata": {},
     "output_type": "display_data"
    }
   ],
   "source": [
    "N <- 12\n",
    "hf <- sample(hfPopulation, N)\n",
    "control <- sample(controlPopulation, N)\n",
    "diff <- mean(hf) - mean(control)\n",
    "diff / mean(control) * 100"
   ]
  },
  {
   "cell_type": "code",
   "execution_count": 14,
   "id": "3b7d994f",
   "metadata": {},
   "outputs": [
    {
     "data": {
      "text/html": [
       "<style>\n",
       ".list-inline {list-style: none; margin:0; padding: 0}\n",
       ".list-inline>li {display: inline-block}\n",
       ".list-inline>li:not(:last-child)::after {content: \"\\00b7\"; padding: 0 .5ex}\n",
       "</style>\n",
       "<ol class=list-inline><li>-7.77530671266046</li><li>18.1678923629781</li></ol>\n"
      ],
      "text/latex": [
       "\\begin{enumerate*}\n",
       "\\item -7.77530671266046\n",
       "\\item 18.1678923629781\n",
       "\\end{enumerate*}\n"
      ],
      "text/markdown": [
       "1. -7.77530671266046\n",
       "2. 18.1678923629781\n",
       "\n",
       "\n"
      ],
      "text/plain": [
       "[1] -7.775307 18.167892\n",
       "attr(,\"conf.level\")\n",
       "[1] 0.95"
      ]
     },
     "metadata": {},
     "output_type": "display_data"
    }
   ],
   "source": [
    "t.test(hf, control)$conf.int / mean(control) * 100"
   ]
  },
  {
   "cell_type": "code",
   "execution_count": 15,
   "id": "68d716fe",
   "metadata": {},
   "outputs": [
    {
     "data": {
      "text/html": [
       "0.33978863082701"
      ],
      "text/latex": [
       "0.33978863082701"
      ],
      "text/markdown": [
       "0.33978863082701"
      ],
      "text/plain": [
       "[1] 0.3397886"
      ]
     },
     "metadata": {},
     "output_type": "display_data"
    }
   ],
   "source": [
    "sd_pool <- sqrt(((N-1)*var(hf) + (N-1)*var(control))/(2*N - 2))\n",
    "diff / sd_pool"
   ]
  },
  {
   "cell_type": "code",
   "execution_count": 1,
   "id": "28044e00",
   "metadata": {},
   "outputs": [],
   "source": [
    "babies <- read.table(\"D:\\\\desktop\\\\dataR\\\\dagdata-master\\\\inst\\\\extdata\\\\babies.txt\", header=TRUE)"
   ]
  },
  {
   "cell_type": "code",
   "execution_count": 4,
   "id": "f39bf214",
   "metadata": {},
   "outputs": [
    {
     "name": "stderr",
     "output_type": "stream",
     "text": [
      "\n",
      "Attaching package: 'dplyr'\n",
      "\n",
      "\n",
      "The following objects are masked from 'package:stats':\n",
      "\n",
      "    filter, lag\n",
      "\n",
      "\n",
      "The following objects are masked from 'package:base':\n",
      "\n",
      "    intersect, setdiff, setequal, union\n",
      "\n",
      "\n"
     ]
    }
   ],
   "source": [
    "library(dplyr)\n",
    "bwt.nonsmoke <- filter(babies, smoke==0) %>% select(bwt) %>% unlist\n",
    "bwt.smoke <- filter(babies, smoke==1) %>% select(bwt) %>% unlist"
   ]
  },
  {
   "cell_type": "code",
   "execution_count": 5,
   "id": "7d177cff",
   "metadata": {},
   "outputs": [
    {
     "data": {
      "text/html": [
       "8.93766567908935"
      ],
      "text/latex": [
       "8.93766567908935"
      ],
      "text/markdown": [
       "8.93766567908935"
      ],
      "text/plain": [
       "[1] 8.937666"
      ]
     },
     "metadata": {},
     "output_type": "display_data"
    },
    {
     "data": {
      "text/html": [
       "17.3869606414067"
      ],
      "text/latex": [
       "17.3869606414067"
      ],
      "text/markdown": [
       "17.3869606414067"
      ],
      "text/plain": [
       "[1] 17.38696"
      ]
     },
     "metadata": {},
     "output_type": "display_data"
    },
    {
     "data": {
      "text/html": [
       "18.0802387605477"
      ],
      "text/latex": [
       "18.0802387605477"
      ],
      "text/markdown": [
       "18.0802387605477"
      ],
      "text/plain": [
       "[1] 18.08024"
      ]
     },
     "metadata": {},
     "output_type": "display_data"
    }
   ],
   "source": [
    "library(rafalib)\n",
    "mean(bwt.nonsmoke)-mean(bwt.smoke)\n",
    "popsd(bwt.nonsmoke)\n",
    "popsd(bwt.smoke)"
   ]
  },
  {
   "cell_type": "markdown",
   "id": "0d19fb4a",
   "metadata": {},
   "source": [
    "P73\n",
    "\n",
    "Q1: Set the seed at 1 and obtain two samples, each of size N = 25, from non-smoking mothers\n",
    "(dat.ns) and smoking mothers (dat.s). Compute the t-statistic (call it tval)."
   ]
  },
  {
   "cell_type": "code",
   "execution_count": 6,
   "id": "66414989",
   "metadata": {},
   "outputs": [
    {
     "data": {
      "text/plain": [
       "\n",
       "\tWelch Two Sample t-test\n",
       "\n",
       "data:  b1 and b2\n",
       "t = -2.256, df = 36.806, p-value = 0.0301\n",
       "alternative hypothesis: true difference in means is not equal to 0\n",
       "95 percent confidence interval:\n",
       " -22.931307  -1.228693\n",
       "sample estimates:\n",
       "mean of x mean of y \n",
       "   110.64    122.72 \n"
      ]
     },
     "metadata": {},
     "output_type": "display_data"
    }
   ],
   "source": [
    "set.seed(1)\n",
    "b1=sample(bwt.smoke, 25)\n",
    "b2=sample(bwt.nonsmoke, 25)\n",
    "t.test(b1,b2)"
   ]
  },
  {
   "cell_type": "code",
   "execution_count": 7,
   "id": "ecabb6b6",
   "metadata": {},
   "outputs": [],
   "source": [
    "tval=-2.256"
   ]
  },
  {
   "cell_type": "markdown",
   "id": "a1afba12",
   "metadata": {},
   "source": [
    "Q2:Recall that we summarize our data using a t-statistics because we know that in situations where\n",
    "the null hypothesis is true (what we mean when we say “under the null”) and the sample size\n",
    "is relatively large, this t-value will have an approximate standard normal distribution. Because\n",
    "we know the distribution of the t-value under the null, we can quantitatively determine how\n",
    "unusual the observed t-value would be if the null hypothesis were true."
   ]
  },
  {
   "cell_type": "markdown",
   "id": "36ed0eab",
   "metadata": {},
   "source": [
    "The standard procedure is to examine the probability a t-statistic that actually does follow the\n",
    "null hypothesis would have larger absolute value than the absolute value of the t-value we\n",
    "just observed – this is called a two-sided test.\n",
    "We have computed these by taking one minus the area under the standard normal curve\n",
    "between -abs(tval) and abs(tval). In R, we can do this by using the pnorm function, which\n",
    "computes the area under a normal curve from negative infinity up to the value given as its\n",
    "first argument:"
   ]
  },
  {
   "cell_type": "code",
   "execution_count": 8,
   "id": "79c9c0bb",
   "metadata": {},
   "outputs": [
    {
     "data": {
      "text/html": [
       "0.987964684434037"
      ],
      "text/latex": [
       "0.987964684434037"
      ],
      "text/markdown": [
       "0.987964684434037"
      ],
      "text/plain": [
       "[1] 0.9879647"
      ]
     },
     "metadata": {},
     "output_type": "display_data"
    },
    {
     "data": {
      "text/html": [
       "0.0120353155659633"
      ],
      "text/latex": [
       "0.0120353155659633"
      ],
      "text/markdown": [
       "0.0120353155659633"
      ],
      "text/plain": [
       "[1] 0.01203532"
      ]
     },
     "metadata": {},
     "output_type": "display_data"
    }
   ],
   "source": [
    "pnorm(abs(tval))\n",
    "pnorm(-abs(tval))"
   ]
  },
  {
   "cell_type": "markdown",
   "id": "ebf58307",
   "metadata": {},
   "source": [
    "Q3: Because of the symmetry of the standard normal distribution, there is a simpler way to\n",
    "calculate the probability that a t-value under the null could have a larger absolute value than\n",
    "tval. Choose the simplified calculation from the following:\n",
    "\n",
    "• A) 1-2*pnorm(abs(tval))\n",
    "\n",
    "• B) 1-2*pnorm(-abs(tval))\n",
    "\n",
    "• C) 1-pnorm(-abs(tval))\n",
    "\n",
    "• D) 2*pnorm(-abs(tval))"
   ]
  },
  {
   "cell_type": "code",
   "execution_count": 9,
   "id": "066a512b",
   "metadata": {},
   "outputs": [
    {
     "data": {
      "text/html": [
       "-0.975929368868073"
      ],
      "text/latex": [
       "-0.975929368868073"
      ],
      "text/markdown": [
       "-0.975929368868073"
      ],
      "text/plain": [
       "[1] -0.9759294"
      ]
     },
     "metadata": {},
     "output_type": "display_data"
    },
    {
     "data": {
      "text/html": [
       "0.975929368868073"
      ],
      "text/latex": [
       "0.975929368868073"
      ],
      "text/markdown": [
       "0.975929368868073"
      ],
      "text/plain": [
       "[1] 0.9759294"
      ]
     },
     "metadata": {},
     "output_type": "display_data"
    },
    {
     "data": {
      "text/html": [
       "0.987964684434037"
      ],
      "text/latex": [
       "0.987964684434037"
      ],
      "text/markdown": [
       "0.987964684434037"
      ],
      "text/plain": [
       "[1] 0.9879647"
      ]
     },
     "metadata": {},
     "output_type": "display_data"
    },
    {
     "data": {
      "text/html": [
       "0.0240706311319265"
      ],
      "text/latex": [
       "0.0240706311319265"
      ],
      "text/markdown": [
       "0.0240706311319265"
      ],
      "text/plain": [
       "[1] 0.02407063"
      ]
     },
     "metadata": {},
     "output_type": "display_data"
    }
   ],
   "source": [
    "1-2*pnorm(abs(tval))\n",
    "1-2*pnorm(-abs(tval))\n",
    "1-pnorm(-abs(tval))\n",
    "2*pnorm(-abs(tval))"
   ]
  },
  {
   "cell_type": "markdown",
   "id": "0670a8be",
   "metadata": {},
   "source": [
    "Q4: By reporting only p-values, many scientific publications provide an incomplete story of their\n",
    "findings. As we have mentioned, with very large sample sizes, scientifically insignificant\n",
    "differences between two groups can lead to small p-values. Confidence intervals are more\n",
    "informative as they include the estimate itself. Our estimate of the difference between babies\n",
    "of smoker and non-smokers: mean(dat.s) - mean( dat.ns). If we use the CLT, what quantity\n",
    "would we add and subtract to this estimate to obtain a 99% confidence interval?"
   ]
  },
  {
   "cell_type": "code",
   "execution_count": 10,
   "id": "018536c5",
   "metadata": {},
   "outputs": [
    {
     "data": {
      "text/html": [
       "-8.93766567908935"
      ],
      "text/latex": [
       "-8.93766567908935"
      ],
      "text/markdown": [
       "-8.93766567908935"
      ],
      "text/plain": [
       "[1] -8.937666"
      ]
     },
     "metadata": {},
     "output_type": "display_data"
    }
   ],
   "source": [
    "mean(bwt.smoke)-mean(bwt.nonsmoke)"
   ]
  },
  {
   "cell_type": "code",
   "execution_count": 11,
   "id": "b12c4c16",
   "metadata": {},
   "outputs": [
    {
     "data": {
      "text/html": [
       "-21.8711629738413"
      ],
      "text/latex": [
       "-21.8711629738413"
      ],
      "text/markdown": [
       "-21.8711629738413"
      ],
      "text/plain": [
       "[1] -21.87116"
      ]
     },
     "metadata": {},
     "output_type": "display_data"
    },
    {
     "data": {
      "text/html": [
       "3.99583161566258"
      ],
      "text/latex": [
       "3.99583161566258"
      ],
      "text/markdown": [
       "3.99583161566258"
      ],
      "text/plain": [
       "[1] 3.995832"
      ]
     },
     "metadata": {},
     "output_type": "display_data"
    }
   ],
   "source": [
    "qstat=qnorm(0.5 + 0.99/2)\n",
    "se=sqrt(var(bwt.nonsmoke)/25 + var(bwt.smoke)/25)\n",
    "mean(bwt.smoke) - mean(bwt.nonsmoke) - qstat*se\n",
    "mean(bwt.smoke) - mean(bwt.nonsmoke) + qstat*se"
   ]
  },
  {
   "cell_type": "code",
   "execution_count": 12,
   "id": "7e54034d",
   "metadata": {},
   "outputs": [
    {
     "data": {
      "text/html": [
       "12.9334972947519"
      ],
      "text/latex": [
       "12.9334972947519"
      ],
      "text/markdown": [
       "12.9334972947519"
      ],
      "text/plain": [
       "[1] 12.9335"
      ]
     },
     "metadata": {},
     "output_type": "display_data"
    }
   ],
   "source": [
    "qstat*se"
   ]
  },
  {
   "cell_type": "markdown",
   "id": "0eb8cfc3",
   "metadata": {},
   "source": [
    "Q5: If instead of CLT, we use the t-distribution approximation, what do we add and subtract (use\n",
    "2*N-2 degrees of freedom)?"
   ]
  },
  {
   "cell_type": "code",
   "execution_count": 13,
   "id": "d5ae170b",
   "metadata": {},
   "outputs": [
    {
     "data": {
      "text/html": [
       "-22.4052811296699"
      ],
      "text/latex": [
       "-22.4052811296699"
      ],
      "text/markdown": [
       "-22.4052811296699"
      ],
      "text/plain": [
       "[1] -22.40528"
      ]
     },
     "metadata": {},
     "output_type": "display_data"
    },
    {
     "data": {
      "text/html": [
       "4.52994977149122"
      ],
      "text/latex": [
       "4.52994977149122"
      ],
      "text/markdown": [
       "4.52994977149122"
      ],
      "text/plain": [
       "[1] 4.52995"
      ]
     },
     "metadata": {},
     "output_type": "display_data"
    }
   ],
   "source": [
    "qstat1=qt(0.5 + 0.99/2, df = 25*2-2)\n",
    "mean(bwt.smoke) - mean(bwt.nonsmoke) - qstat1*se\n",
    "mean(bwt.smoke) - mean(bwt.nonsmoke) + qstat1*se"
   ]
  },
  {
   "cell_type": "markdown",
   "id": "86505963",
   "metadata": {},
   "source": [
    "Q6: Why are the values from 4 and 5 so similar?\n",
    "\n",
    "• A) Coincidence.\n",
    "\n",
    "• B) They are both related to 99% confidence intervals.\n",
    "\n",
    "• C) N and thus the degrees of freedom is large enough to make the normal and t\u0002distributions very similar.\n",
    "\n",
    "• D) They are actually quite different, differing by more than 1 ounce.\n",
    "\n",
    "C freedom is large enough"
   ]
  },
  {
   "cell_type": "markdown",
   "id": "28b766d1",
   "metadata": {},
   "source": [
    "Q7: Which of the following sentences about a Type I error is not true?\n",
    "\n",
    "• A) The following is another way to describe a Type I error: you decided to reject the null\n",
    "hypothesis on the basis of data that was actually generated by the null hypothesis.\n",
    "\n",
    "• B) The following is the another way to describe a Type I error: due to random fluctuations,\n",
    "even though the data you observed were actually generated by the null hypothesis, the\n",
    "p-value calculated from the observed data was small, so you rejected it.\n",
    "\n",
    "• C) From the original data alone, you can tell whether you have made a Type I error.\n",
    "\n",
    "• D) In scientific practice, a Type I error constitutes reporting a “significant” result when\n",
    "there is actually no result.\n",
    "\n",
    "C"
   ]
  },
  {
   "cell_type": "markdown",
   "id": "b6e18605",
   "metadata": {},
   "source": [
    "Q8: \n",
    "\n",
    "In the simulation we have set up here, we know the null hypothesis is false – the true value of\n",
    "difference in means is actually around 8.9. Thus, we are concerned with how often the decision\n",
    "rule outlined in the last section allows us to conclude that the null hypothesis is actually false.\n",
    "In other words, we would like to quantify the Type II error rate of the test, or the probability\n",
    "that we fail to reject the null hypothesis when the alternative hypothesis is true.\n",
    "Unlike the Type I error rate, which we can characterize by assuming that the null hypothesis of\n",
    "“no difference” is true, the Type II error rate cannot be computed by assuming the alternative\n",
    "hypothesis alone because the alternative hypothesis alone does not specify a particular value\n",
    "for the difference. It thus does not nail down a specific distribution for the t-value under the\n",
    "alternative.\n",
    "For this reason, when we study the Type II error rate of a hypothesis testing procedure, we need\n",
    "to assume a particular effect size, or hypothetical size of the difference between population\n",
    "means, that we wish to target. We ask questions such as “what is the smallest difference I\n",
    "could reliably distinguish from 0 given my sample size N?” or, more commonly, “How big\n",
    "does N have to be in order to detect that the absolute value of the difference is greater than\n",
    "zero?” Type II error control plays a major role in designing data collection procedures before\n",
    "you actually see the data, so that you know the test you will run has enough sensitivity or\n",
    "power. Power is one minus the Type II error rate, or the probability that you will reject the\n",
    "null hypothesis when the alternative hypothesis is true.\n",
    "There are several aspects of a hypothesis test that affect its power for a particular effect size.\n",
    "Intuitively, setting a lower α decreases the power of the test for a given effect size because the\n",
    "null hypothesis will be more difficult to reject. This means that for an experiment with fixed\n",
    "parameters (i.e., with a predetermined sample size, recording mechanism, etc), the power of\n",
    "the hypothesis test trades off with its Type I error rate, no matter what effect size you target.\n",
    "We can explore the trade off of power and Type I error concretely using the babies data. Since\n",
    "we have the full population, we know what the true effect size is (about 8.93) and we can\n",
    "compute the power of the test for true difference between populations.\n",
    "Set the seed at 1 and take a random sample of N = 5 measurements from each of the smoking\n",
    "and nonsmoking datasets. What is the p-value (use the t-test function)?"
   ]
  },
  {
   "cell_type": "code",
   "execution_count": 14,
   "id": "7dc9d302",
   "metadata": {},
   "outputs": [
    {
     "data": {
      "text/html": [
       "0.133620595621413"
      ],
      "text/latex": [
       "0.133620595621413"
      ],
      "text/markdown": [
       "0.133620595621413"
      ],
      "text/plain": [
       "[1] 0.1336206"
      ]
     },
     "metadata": {},
     "output_type": "display_data"
    }
   ],
   "source": [
    "set.seed(1)\n",
    "b11=sample(bwt.smoke, 5)\n",
    "b21=sample(bwt.nonsmoke, 5)\n",
    "t.test(b11,b21)$p.value"
   ]
  },
  {
   "cell_type": "markdown",
   "id": "18ce09c9",
   "metadata": {},
   "source": [
    "Q9: The p-value is larger than 0.05 so using the typical cut-off, we would not reject. This is a type\n",
    "II error. Which of the following is not a way to decrease this type of error?\n",
    "\n",
    "• A) Increase our chance of a type I error.\n",
    "\n",
    "• B) Take a larger sample size.\n",
    "\n",
    "• C) Find a population for which the null is not true.\n",
    "\n",
    "• D) Use a higher α level.\n",
    "\n",
    "C"
   ]
  },
  {
   "cell_type": "markdown",
   "id": "9f7e51e2",
   "metadata": {},
   "source": [
    "Q10: Set the seed at 1, then use the replicate function to repeat the code used in exercise 9 10,000\n",
    "times. What proportion of the time do we reject at the 0.05 level?"
   ]
  },
  {
   "cell_type": "markdown",
   "id": "4c190a75",
   "metadata": {},
   "source": [
    "Q11: Note that, not surprisingly, the power is lower than 10%. Repeat the exercise above for samples\n",
    "sizes of 30, 60, 90 and 120. Which of those four gives you power of about 80%?"
   ]
  },
  {
   "cell_type": "code",
   "execution_count": 18,
   "id": "ad7ffdb9",
   "metadata": {
    "scrolled": true
   },
   "outputs": [
    {
     "name": "stdout",
     "output_type": "stream",
     "text": [
      "    30     60     90    120 \n",
      "0.4801 0.7892 0.9359 0.9840 \n"
     ]
    }
   ],
   "source": [
    "f=function(N) {\n",
    "  nss <- sample(bwt.nonsmoke, N)\n",
    "  ss <- sample(bwt.smoke, N)\n",
    "  pvalue <- t.test(nss, ss)$p.value\n",
    "  return(pvalue)\n",
    "}\n",
    "\n",
    "n = c(30,60,90,120)\n",
    "B = 10000\n",
    "alpha = 0.05\n",
    "res_list <- vector('double',length(n))\n",
    "for (i in seq_along(n)) {\n",
    "  res_list[[i]] = mean(replicate(B, f(n[[i]])) < alpha)\n",
    "}\n",
    "names(res_list) = n\n",
    "print(res_list)"
   ]
  },
  {
   "cell_type": "markdown",
   "id": "232ba502",
   "metadata": {},
   "source": [
    "90"
   ]
  },
  {
   "cell_type": "markdown",
   "id": "44b9a800",
   "metadata": {},
   "source": [
    "Why can't I use for round to get the same result????"
   ]
  },
  {
   "cell_type": "markdown",
   "id": "bd3fec3d",
   "metadata": {},
   "source": [
    "Q12: Repeat problem 11, but now require an α level of 0.01. Which of those four gives you power\n",
    "of about 80%?"
   ]
  },
  {
   "cell_type": "code",
   "execution_count": 19,
   "id": "0bee3de5",
   "metadata": {},
   "outputs": [
    {
     "name": "stdout",
     "output_type": "stream",
     "text": [
      "    30     60     90    120 \n",
      "0.2428 0.5678 0.7935 0.9293 \n"
     ]
    }
   ],
   "source": [
    "alpha = 0.01\n",
    "res_list <- vector('double',length(n))\n",
    "for (i in seq_along(n)) {\n",
    "  res_list[[i]] = mean(replicate(B, f(n[[i]])) < alpha)\n",
    "}\n",
    "names(res_list) = n\n",
    "print(res_list)"
   ]
  },
  {
   "cell_type": "markdown",
   "id": "57224577",
   "metadata": {},
   "source": [
    "120"
   ]
  },
  {
   "cell_type": "code",
   "execution_count": null,
   "id": "28e2969e",
   "metadata": {},
   "outputs": [],
   "source": []
  },
  {
   "cell_type": "markdown",
   "id": "74093ead",
   "metadata": {},
   "source": [
    "# Monte Carlo Simulation"
   ]
  },
  {
   "cell_type": "code",
   "execution_count": 20,
   "id": "30c9b0e9",
   "metadata": {},
   "outputs": [],
   "source": [
    "dat <- read.csv(\"D:\\\\desktop\\\\dataR\\\\dagdata-master\\\\inst\\\\extdata\\\\mice_pheno.csv\")\n",
    "controlPopulation <- filter(dat,Sex == \"F\" & Diet == \"chow\") %>%\n",
    "select(Bodyweight) %>% unlist"
   ]
  },
  {
   "cell_type": "code",
   "execution_count": 21,
   "id": "66d68447",
   "metadata": {},
   "outputs": [],
   "source": [
    "ttestgenerator <- function(n) {\n",
    "cases <- sample(controlPopulation,n)\n",
    "controls <- sample(controlPopulation,n)\n",
    "tstat <- (mean(cases)-mean(controls)) /\n",
    "sqrt( var(cases)/n + var(controls)/n )\n",
    "return(tstat)\n",
    "}\n",
    "ttests <- replicate(1000, ttestgenerator(10))"
   ]
  },
  {
   "cell_type": "code",
   "execution_count": 22,
   "id": "379db8ec",
   "metadata": {},
   "outputs": [
    {
     "data": {
      "image/png": "[encoded data removed]",
      "text/plain": [
       "Plot with title \"Histogram of ttests\""
      ]
     },
     "metadata": {
      "image/png": {
       "height": 420,
       "width": 420
      }
     },
     "output_type": "display_data"
    }
   ],
   "source": [
    "hist(ttests)"
   ]
  },
  {
   "cell_type": "code",
   "execution_count": 23,
   "id": "47a78f07",
   "metadata": {},
   "outputs": [
    {
     "data": {
      "image/png": "[encoded data removed]",
      "text/plain": [
       "Plot with title \"Normal Q-Q Plot\""
      ]
     },
     "metadata": {
      "image/png": {
       "height": 420,
       "width": 420
      }
     },
     "output_type": "display_data"
    }
   ],
   "source": [
    "qqnorm(ttests)\n",
    "abline(0,1)"
   ]
  },
  {
   "cell_type": "code",
   "execution_count": 24,
   "id": "45d52527",
   "metadata": {},
   "outputs": [
    {
     "data": {
      "image/png": "[encoded data removed]",
      "text/plain": [
       "Plot with title \"Normal Q-Q Plot\""
      ]
     },
     "metadata": {
      "image/png": {
       "height": 420,
       "width": 420
      }
     },
     "output_type": "display_data"
    }
   ],
   "source": [
    "ttests <- replicate(1000, ttestgenerator(3))\n",
    "qqnorm(ttests)\n",
    "abline(0,1)"
   ]
  },
  {
   "cell_type": "code",
   "execution_count": 25,
   "id": "29ae70fe",
   "metadata": {},
   "outputs": [
    {
     "data": {
      "image/png": "[encoded data removed]",
      "text/plain": [
       "plot without title"
      ]
     },
     "metadata": {
      "image/png": {
       "height": 420,
       "width": 420
      }
     },
     "output_type": "display_data"
    }
   ],
   "source": [
    "ps <- (seq(0,999)+0.5)/1000\n",
    "qqplot(qt(ps,df=2*3-2),ttests,xlim=c(-6,6),ylim=c(-6,6))\n",
    "abline(0,1)"
   ]
  },
  {
   "cell_type": "code",
   "execution_count": 26,
   "id": "26bbd990",
   "metadata": {},
   "outputs": [
    {
     "data": {
      "image/png": "[encoded data removed]",
      "text/plain": [
       "Plot with title \"Normal Q-Q Plot\""
      ]
     },
     "metadata": {
      "image/png": {
       "height": 420,
       "width": 420
      }
     },
     "output_type": "display_data"
    }
   ],
   "source": [
    "qqnorm(controlPopulation)\n",
    "qqline(controlPopulation)"
   ]
  },
  {
   "cell_type": "markdown",
   "id": "b7d818e1",
   "metadata": {},
   "source": [
    "# Parametric Simulations for the Observations"
   ]
  },
  {
   "cell_type": "code",
   "execution_count": 1,
   "id": "be625236",
   "metadata": {},
   "outputs": [],
   "source": [
    "controls<- rnorm(5000, mean=24, sd=3.5)\n",
    "ttestgenerator <- function(n, mean=24, sd=3.5) {\n",
    "cases <- rnorm(n,mean,sd)\n",
    "controls <- rnorm(n,mean,sd)\n",
    "tstat <- (mean(cases)-mean(controls)) /\n",
    "sqrt( var(cases)/n + var(controls)/n )\n",
    "return(tstat)\n",
    "}"
   ]
  },
  {
   "cell_type": "markdown",
   "id": "db75c5cc",
   "metadata": {},
   "source": [
    "Exercises P 83"
   ]
  },
  {
   "cell_type": "markdown",
   "id": "b71e705c",
   "metadata": {},
   "source": [
    "Q1"
   ]
  },
  {
   "cell_type": "code",
   "execution_count": 2,
   "id": "d72a0a38",
   "metadata": {},
   "outputs": [
    {
     "data": {
      "text/html": [
       "1.05056088339044"
      ],
      "text/latex": [
       "1.05056088339044"
      ],
      "text/markdown": [
       "1.05056088339044"
      ],
      "text/plain": [
       "[1] 1.050561"
      ]
     },
     "metadata": {},
     "output_type": "display_data"
    }
   ],
   "source": [
    "x=rnorm(5)\n",
    "t= sqrt(5)*mean(x)/sd(x)\n",
    "t"
   ]
  },
  {
   "cell_type": "markdown",
   "id": "7f1c50a0",
   "metadata": {},
   "source": [
    "Q2: Set the seed to 1, generate B = 1000 t-statistics as done in exercise 1. What percent are\n",
    "larger than 2?"
   ]
  },
  {
   "cell_type": "code",
   "execution_count": 3,
   "id": "e0046131",
   "metadata": {},
   "outputs": [
    {
     "data": {
      "text/html": [
       "-0.405187766329393"
      ],
      "text/latex": [
       "-0.405187766329393"
      ],
      "text/markdown": [
       "-0.405187766329393"
      ],
      "text/plain": [
       "[1] -0.4051878"
      ]
     },
     "metadata": {},
     "output_type": "display_data"
    }
   ],
   "source": [
    "x=rnorm(1000)\n",
    "t= sqrt(1000)*mean(x)/sd(x)\n",
    "t"
   ]
  },
  {
   "cell_type": "markdown",
   "id": "20e003ce",
   "metadata": {},
   "source": [
    "Q3"
   ]
  },
  {
   "cell_type": "code",
   "execution_count": 4,
   "id": "7d1b7f1d",
   "metadata": {},
   "outputs": [
    {
     "data": {
      "image/png": "[encoded data removed]",
      "text/plain": [
       "plot without title"
      ]
     },
     "metadata": {
      "image/png": {
       "height": 420,
       "width": 420
      }
     },
     "output_type": "display_data"
    }
   ],
   "source": [
    "set.seed(1)\n",
    "N=10\n",
    "ps = seq(1/(1000+1), 1-1/(1000+1),len=1000)\n",
    "f=function(n) {\n",
    "  sam=rnorm(n)\n",
    "  tstat=sqrt(n)*mean(sam)/sd(sam)\n",
    "  return(tstat)\n",
    "}\n",
    "result=replicate(1000, f(N))\n",
    "t= qt(ps,df=N-1)\n",
    "qqplot(t, result)\n",
    "abline(0,1)"
   ]
  },
  {
   "cell_type": "code",
   "execution_count": 5,
   "id": "29cb83c4",
   "metadata": {},
   "outputs": [
    {
     "data": {
      "image/png": "[encoded data removed]",
      "text/plain": [
       "plot without title"
      ]
     },
     "metadata": {
      "image/png": {
       "height": 420,
       "width": 420
      }
     },
     "output_type": "display_data"
    }
   ],
   "source": [
    "set.seed(1)\n",
    "N=20\n",
    "ps = seq(1/(100+1), 1-1/(1000+1),len=1000)\n",
    "f=function(n) {\n",
    "  sam=rnorm(n)\n",
    "  tstat=sqrt(n)*mean(sam)/sd(sam)\n",
    "  return(tstat)\n",
    "}\n",
    "result=replicate(1000, f(N))\n",
    "t= qt(ps,df=N-1)\n",
    "qqplot(t, result)\n",
    "abline(0,1)"
   ]
  },
  {
   "cell_type": "code",
   "execution_count": 6,
   "id": "52c0cb06",
   "metadata": {},
   "outputs": [
    {
     "data": {
      "image/png": "[encoded data removed]",
      "text/plain": [
       "plot without title"
      ]
     },
     "metadata": {
      "image/png": {
       "height": 420,
       "width": 420
      }
     },
     "output_type": "display_data"
    }
   ],
   "source": [
    "set.seed(1)\n",
    "N=50\n",
    "ps = seq(1/(1000+1), 1-1/(1000+1),len=1000)\n",
    "f=function(n) {\n",
    "  sam=rnorm(n)\n",
    "  tstat=sqrt(n)*mean(sam)/sd(sam)\n",
    "  return(tstat)\n",
    "}\n",
    "result=replicate(1000, f(N))\n",
    "t= qt(ps,df=N-1)\n",
    "qqplot(t, result)\n",
    "abline(0,1)"
   ]
  },
  {
   "cell_type": "code",
   "execution_count": 7,
   "id": "ecbc3be8",
   "metadata": {},
   "outputs": [
    {
     "data": {
      "image/png": "[encoded data removed]",
      "text/plain": [
       "plot without title"
      ]
     },
     "metadata": {
      "image/png": {
       "height": 420,
       "width": 420
      }
     },
     "output_type": "display_data"
    }
   ],
   "source": [
    "set.seed(1)\n",
    "N=100\n",
    "ps = seq(1/(1000+1), 1-1/(1000+1),len=1000)\n",
    "f=function(n) {\n",
    "  sam=rnorm(n)\n",
    "  tstat=sqrt(n)*mean(sam)/sd(sam)\n",
    "  return(tstat)\n",
    "}\n",
    "result=replicate(1000, f(N))\n",
    "t= qt(ps,df=N-1)\n",
    "qqplot(t, result)\n",
    "abline(0,1)"
   ]
  },
  {
   "cell_type": "markdown",
   "id": "38e49758",
   "metadata": {},
   "source": [
    "C"
   ]
  },
  {
   "cell_type": "markdown",
   "id": "cdc8b87a",
   "metadata": {},
   "source": [
    "Q4:Use Monte Carlo simulation to corroborate that the t-statistic comparing two means and\n",
    "obtained with normally distributed (mean 0 and sd) data follows a t-distribution. In this\n",
    "case we will use the t.test function with var.equal=TRUE. With this argument the degrees\n",
    "of freedom will be df=2*N-2 with N the sample size. For which sample sizes does the\n",
    "approximation best work?\n",
    "\n",
    "• A) Larger sample sizes.\n",
    "\n",
    "• B) Smaller sample sizes.\n",
    "\n",
    "• C) The approximations are spot on for all sample sizes.\n",
    "\n",
    "• D) None. We should use CLT instead."
   ]
  },
  {
   "cell_type": "code",
   "execution_count": 10,
   "id": "cc736b83",
   "metadata": {},
   "outputs": [
    {
     "data": {
      "image/png": "[encoded data removed]",
      "text/plain": [
       "plot without title"
      ]
     },
     "metadata": {
      "image/png": {
       "height": 420,
       "width": 420
      }
     },
     "output_type": "display_data"
    }
   ],
   "source": [
    "set.seed(1)\n",
    "N=10\n",
    "ps = seq(1/(1000+1), 1-1/(1000+1),len=1000)\n",
    "f1=function(n) {\n",
    "  sam1=rnorm(n)\n",
    "  sam2=rnorm(n)\n",
    "  tstat=t.test(sam1,sam2)$statistic[[1]]\n",
    "  return(tstat)\n",
    "}\n",
    "result=replicate(1000, f1(N))\n",
    "t= qt(ps,df=2*N-2)\n",
    "qqplot(t, result)\n",
    "abline(0,1)"
   ]
  },
  {
   "cell_type": "code",
   "execution_count": 11,
   "id": "05f613b1",
   "metadata": {},
   "outputs": [
    {
     "data": {
      "image/png": "[encoded data removed]",
      "text/plain": [
       "plot without title"
      ]
     },
     "metadata": {
      "image/png": {
       "height": 420,
       "width": 420
      }
     },
     "output_type": "display_data"
    }
   ],
   "source": [
    "set.seed(1)\n",
    "N=20\n",
    "ps = seq(1/(1000+1), 1-1/(1000+1),len=1000)\n",
    "f1=function(n) {\n",
    "  sam1=rnorm(n)\n",
    "  sam2=rnorm(n)\n",
    "  tstat=t.test(sam1,sam2)$statistic[[1]]\n",
    "  return(tstat)\n",
    "}\n",
    "result=replicate(1000, f1(N))\n",
    "t= qt(ps,df=2*N-2)\n",
    "qqplot(t, result)\n",
    "abline(0,1)"
   ]
  },
  {
   "cell_type": "code",
   "execution_count": 12,
   "id": "e16d92c3",
   "metadata": {},
   "outputs": [
    {
     "data": {
      "image/png": "[encoded data removed]",
      "text/plain": [
       "plot without title"
      ]
     },
     "metadata": {
      "image/png": {
       "height": 420,
       "width": 420
      }
     },
     "output_type": "display_data"
    }
   ],
   "source": [
    "set.seed(1)\n",
    "N=50\n",
    "ps = seq(1/(1000+1), 1-1/(1000+1),len=1000)\n",
    "f1=function(n) {\n",
    "  sam1=rnorm(n)\n",
    "  sam2=rnorm(n)\n",
    "  tstat=t.test(sam1,sam2)$statistic[[1]]\n",
    "  return(tstat)\n",
    "}\n",
    "result=replicate(1000, f1(N))\n",
    "t= qt(ps,df=2*N-2)\n",
    "qqplot(t, result)\n",
    "abline(0,1)"
   ]
  },
  {
   "cell_type": "code",
   "execution_count": 5,
   "id": "8cf44be5",
   "metadata": {},
   "outputs": [
    {
     "data": {
      "image/png": "[encoded data removed]",
      "text/plain": [
       "plot without title"
      ]
     },
     "metadata": {
      "image/png": {
       "height": 420,
       "width": 420
      }
     },
     "output_type": "display_data"
    }
   ],
   "source": [
    "set.seed(1)\n",
    "ps = seq(1/(1000+1), 1-1/(1000+1),len=1000)\n",
    "N=100\n",
    "ps = seq(1/(1000+1), 1-1/(1000+1),len=1000)\n",
    "f1=function(n) {\n",
    "  sam1=rnorm(n)\n",
    "  sam2=rnorm(n)\n",
    "  tstat=t.test(sam1,sam2)$statistic[[1]]\n",
    "  return(tstat)\n",
    "}\n",
    "result=replicate(1000, f1(N))\n",
    "t= qt(ps,df=2*N-2)\n",
    "qqplot(t, result)\n",
    "abline(0,1)"
   ]
  },
  {
   "cell_type": "markdown",
   "id": "29ba2d39",
   "metadata": {},
   "source": [
    "C"
   ]
  },
  {
   "cell_type": "markdown",
   "id": "5d67314d",
   "metadata": {},
   "source": [
    "Q5:Is the following statement true or false? If instead of generating the sample with X=rnorm(15),\n",
    "we generate it with binary data X=rbinom(n=15,size=1,prob=0.5) then the t-statistic\n",
    "\n",
    "tstat <- sqrt(15)*mean(X) / sd(X)\n",
    "\n",
    "is approximated by a t-distribution with 14 degrees of freedom"
   ]
  },
  {
   "cell_type": "code",
   "execution_count": 1,
   "id": "e813ef2b",
   "metadata": {},
   "outputs": [
    {
     "data": {
      "image/png": "[encoded data removed]",
      "text/plain": [
       "plot without title"
      ]
     },
     "metadata": {
      "image/png": {
       "height": 420,
       "width": 420
      }
     },
     "output_type": "display_data"
    }
   ],
   "source": [
    "set.seed(1)\n",
    "ps = seq(1/(1000+1), 1-1/(1000+1),len=1000)\n",
    "result<- replicate(10000, {\n",
    "    X=rbinom(n=15,size=1,prob=0.5)\n",
    "    tstat=sqrt(15)*mean(X) / sd(X)\n",
    "    return(tstat)\n",
    "})\n",
    "t <- qt(ps,df=14)\n",
    "qqplot(result, t)"
   ]
  },
  {
   "cell_type": "markdown",
   "id": "a9ffdb68",
   "metadata": {},
   "source": [
    "Q6: Is the following statement true or false? If instead of generating the sample with X=rnorm(N)\n",
    "with N=500, we generate the data with binary data X=rbinom(n=500,size=1,prob=0.5), then\n",
    "the t-statistic sqrt(N)*mean(X)/sd(X) is approximated by a t-distribution with 499 degrees of\n",
    "freedom."
   ]
  },
  {
   "cell_type": "code",
   "execution_count": 3,
   "id": "3586a704",
   "metadata": {},
   "outputs": [
    {
     "data": {
      "image/png": "[encoded data removed]",
      "text/plain": [
       "plot without title"
      ]
     },
     "metadata": {
      "image/png": {
       "height": 420,
       "width": 420
      }
     },
     "output_type": "display_data"
    }
   ],
   "source": [
    "result1<- replicate(10000, {\n",
    "    X=rbinom(n=500,size=1,prob=0.5)\n",
    "    tstat=sqrt(500)*mean(X) / sd(X)\n",
    "    return(tstat)\n",
    "})\n",
    "t <- qt(ps,df=499)\n",
    "qqplot(result, t)\n",
    "abline(0,1)"
   ]
  },
  {
   "cell_type": "markdown",
   "id": "3a7271d0",
   "metadata": {},
   "source": [
    "Q7: We can derive approximation of the distribution of the sample average or the t-statistic\n",
    "theoretically. However, suppose we are interested in the distribution of a statistic for which a\n",
    "theoretical approximation is not immediately obvious.\n",
    "Consider the sample median as an example. Use a Monte Carlo to determine which of\n",
    "the following best approximates the median of a sample taken from normally distributed\n",
    "population with mean 0 and standard deviation 1.\n",
    "\n",
    "• A) Just like for the average, the sample median is approximately normal with mean 0 and\n",
    "SD $1/\\sqrt{N}$\n",
    "\n",
    "• B) The sample median is not approximately normal.\n",
    "Inference 85\n",
    "\n",
    "• C) The sample median is t-distributed for small samples and normally distributed for\n",
    "large ones.\n",
    "\n",
    "• D) The sample median is approximately normal with mean 0 and SD larger than $1/\\sqrt{N}$"
   ]
  },
  {
   "cell_type": "markdown",
   "id": "e1d6c97e",
   "metadata": {},
   "source": [
    "A \n",
    "\n",
    "Single Normal Population Sampling Distribution Theorem"
   ]
  },
  {
   "cell_type": "markdown",
   "id": "d08f81bb",
   "metadata": {},
   "source": [
    "# Permutation Tests"
   ]
  },
  {
   "cell_type": "code",
   "execution_count": 6,
   "id": "2d872919",
   "metadata": {},
   "outputs": [],
   "source": [
    "dat <- read.csv(\"D:\\\\desktop\\\\dataR\\\\dagdata-master\\\\inst\\\\extdata\\\\femaleMiceWeights.csv\")\n",
    "library(dplyr)\n",
    "control <- filter(dat,Diet==\"chow\") %>% select(Bodyweight) %>% unlist\n",
    "treatment <- filter(dat,Diet==\"hf\") %>% select(Bodyweight) %>% unlist\n",
    "obsdiff <- mean(treatment)-mean(control)"
   ]
  },
  {
   "cell_type": "code",
   "execution_count": 7,
   "id": "474fdf08",
   "metadata": {},
   "outputs": [
    {
     "data": {
      "image/png": "[encoded data removed]",
      "text/plain": [
       "Plot with title \"Histogram of avgdiff\""
      ]
     },
     "metadata": {
      "image/png": {
       "height": 420,
       "width": 420
      }
     },
     "output_type": "display_data"
    }
   ],
   "source": [
    "N <- 12\n",
    "avgdiff <- replicate(1000, {\n",
    "all <- sample(c(control,treatment))\n",
    "newcontrols <- all[1:N]\n",
    "newtreatments <- all[(N+1):(2*N)]\n",
    "return(mean(newtreatments) - mean(newcontrols))\n",
    "})\n",
    "hist(avgdiff)\n",
    "abline(v=obsdiff, col=\"red\", lwd=2)"
   ]
  },
  {
   "cell_type": "code",
   "execution_count": 8,
   "id": "d72ca310",
   "metadata": {},
   "outputs": [
    {
     "data": {
      "text/html": [
       "0.046953046953047"
      ],
      "text/latex": [
       "0.046953046953047"
      ],
      "text/markdown": [
       "0.046953046953047"
      ],
      "text/plain": [
       "[1] 0.04695305"
      ]
     },
     "metadata": {},
     "output_type": "display_data"
    }
   ],
   "source": [
    "(sum(abs(avgdiff) > abs(obsdiff)) + 1) / (length(avgdiff) + 1)"
   ]
  },
  {
   "cell_type": "code",
   "execution_count": 10,
   "id": "2e316bc7",
   "metadata": {},
   "outputs": [
    {
     "data": {
      "image/png": "[encoded data removed]",
      "text/plain": [
       "Plot with title \"Histogram of avgdiff\""
      ]
     },
     "metadata": {
      "image/png": {
       "height": 420,
       "width": 420
      }
     },
     "output_type": "display_data"
    }
   ],
   "source": [
    "N <- 5\n",
    "control <- sample(control,N)\n",
    "treatment <- sample(treatment,N)\n",
    "obsdiff <- mean(treatment)- mean(control)\n",
    "\n",
    "avgdiff <- replicate(1000, {\n",
    "all <- sample(c(control,treatment))\n",
    "newcontrols <- all[1:N]\n",
    "newtreatments <- all[(N+1):(2*N)]\n",
    "return(mean(newtreatments) - mean(newcontrols))\n",
    "})\n",
    "hist(avgdiff)\n",
    "abline(v=obsdiff, col=\"red\", lwd=2)"
   ]
  },
  {
   "cell_type": "code",
   "execution_count": 1,
   "id": "0a072733",
   "metadata": {},
   "outputs": [
    {
     "name": "stderr",
     "output_type": "stream",
     "text": [
      "\n",
      "Attaching package: 'dplyr'\n",
      "\n",
      "\n",
      "The following objects are masked from 'package:stats':\n",
      "\n",
      "    filter, lag\n",
      "\n",
      "\n",
      "The following objects are masked from 'package:base':\n",
      "\n",
      "    intersect, setdiff, setequal, union\n",
      "\n",
      "\n"
     ]
    }
   ],
   "source": [
    "library(dplyr)\n",
    "babies <- read.table(\"D:\\\\desktop\\\\dataR\\\\dagdata-master\\\\inst\\\\extdata\\\\babies.txt\", header=TRUE)\n",
    "bwt.nonsmoke <- filter(babies, smoke==0) %>% select(bwt) %>% unlist\n",
    "bwt.smoke <- filter(babies, smoke==1) %>% select(bwt) %>% unlist"
   ]
  },
  {
   "cell_type": "raw",
   "id": "5740388e",
   "metadata": {},
   "source": [
    "Q1: We will generate the following random variable based on a sample size of 10 and observe the\n",
    "following difference:"
   ]
  },
  {
   "cell_type": "code",
   "execution_count": 2,
   "id": "62734600",
   "metadata": {},
   "outputs": [],
   "source": [
    "N=10\n",
    "set.seed(1)\n",
    "nonsmokers <- sample(bwt.nonsmoke , N)\n",
    "smokers <- sample(bwt.smoke , N)\n",
    "obs <- mean(smokers) - mean(nonsmokers)"
   ]
  },
  {
   "cell_type": "markdown",
   "id": "02224c8a",
   "metadata": {},
   "source": [
    "The question is whether this observed difference is statistically significant. We do not want\n",
    "to rely on the assumptions needed for the normal or t-distribution approximations to hold, so\n",
    "instead we will use permutations. We will reshuffle the data and recompute the mean. We can\n",
    "create one permuted sample with the following code:"
   ]
  },
  {
   "cell_type": "code",
   "execution_count": 3,
   "id": "e54fea5f",
   "metadata": {},
   "outputs": [
    {
     "data": {
      "text/html": [
       "-9.5"
      ],
      "text/latex": [
       "-9.5"
      ],
      "text/markdown": [
       "-9.5"
      ],
      "text/plain": [
       "[1] -9.5"
      ]
     },
     "metadata": {},
     "output_type": "display_data"
    }
   ],
   "source": [
    "dat <- c(smokers,nonsmokers)\n",
    "shuffle <- sample( dat )\n",
    "smokersstar <- shuffle[1:N]\n",
    "nonsmokersstar <- shuffle[(N+1):(2*N)]\n",
    "mean(smokersstar)-mean(nonsmokersstar)"
   ]
  },
  {
   "cell_type": "markdown",
   "id": "064d6b5e",
   "metadata": {},
   "source": [
    "The last value is one observation from the null distribution we will construct. Set the seed\n",
    "at 1, and then repeat the permutation 1,000 times to create a null distribution. What is the\n",
    "permutation derived p-value for our observation?"
   ]
  },
  {
   "cell_type": "code",
   "execution_count": 4,
   "id": "d4b30bef",
   "metadata": {},
   "outputs": [
    {
     "data": {
      "text/html": [
       "0.110889110889111"
      ],
      "text/latex": [
       "0.110889110889111"
      ],
      "text/markdown": [
       "0.110889110889111"
      ],
      "text/plain": [
       "[1] 0.1108891"
      ]
     },
     "metadata": {},
     "output_type": "display_data"
    }
   ],
   "source": [
    "set.seed(1)\n",
    "result <- replicate(1000, {\n",
    "  dat <- c(smokers,nonsmokers)\n",
    "  shuffle <- sample(dat)\n",
    "  smokersstar <- shuffle[1:N]\n",
    "  nonsmokersstar <- shuffle[(N+1):(2*N)]\n",
    "  me <- mean(smokersstar) - mean(nonsmokersstar)\n",
    "  return(me)\n",
    "  \n",
    "})\n",
    "\n",
    "(sum(abs(result) > abs(obs)) +1)/(length(result)+1)"
   ]
  },
  {
   "cell_type": "markdown",
   "id": "df9a99ff",
   "metadata": {},
   "source": [
    "Q2:Repeat the above exercise, but instead of the differences in mean, consider the differences in\n",
    "median obs <- median(smokers) - median(nonsmokers). What is the permutation based\n",
    "p-value?"
   ]
  },
  {
   "cell_type": "code",
   "execution_count": 5,
   "id": "81139754",
   "metadata": {},
   "outputs": [
    {
     "data": {
      "text/html": [
       "0.214785214785215"
      ],
      "text/latex": [
       "0.214785214785215"
      ],
      "text/markdown": [
       "0.214785214785215"
      ],
      "text/plain": [
       "[1] 0.2147852"
      ]
     },
     "metadata": {},
     "output_type": "display_data"
    }
   ],
   "source": [
    "obs=median(smokers) - median(nonsmokers)\n",
    "set.seed(1)\n",
    "result <- replicate(1000, {\n",
    "  dat <- c(smokers,nonsmokers)\n",
    "  shuffle <- sample(dat)\n",
    "  smokersstar <- shuffle[1:N]\n",
    "  nonsmokersstar <- shuffle[(N+1):(2*N)]\n",
    "  me <- median(smokersstar) - median(nonsmokersstar)\n",
    "  return(me)\n",
    "  \n",
    "})\n",
    "\n",
    "(sum(abs(result) > abs(obs)) +1)/(length(result)+1)"
   ]
  },
  {
   "cell_type": "markdown",
   "id": "4c95b551",
   "metadata": {},
   "source": [
    "# Association Tests"
   ]
  },
  {
   "cell_type": "code",
   "execution_count": 6,
   "id": "cd6b0e3a",
   "metadata": {},
   "outputs": [
    {
     "data": {
      "text/html": [
       "<table class=\"dataframe\">\n",
       "<caption>A matrix: 2 × 2 of type dbl</caption>\n",
       "<thead>\n",
       "\t<tr><th></th><th scope=col>Guessed before</th><th scope=col>Guessed after</th></tr>\n",
       "</thead>\n",
       "<tbody>\n",
       "\t<tr><th scope=row>Poured Before</th><td>3</td><td>1</td></tr>\n",
       "\t<tr><th scope=row>Poured After</th><td>1</td><td>3</td></tr>\n",
       "</tbody>\n",
       "</table>\n"
      ],
      "text/latex": [
       "A matrix: 2 × 2 of type dbl\n",
       "\\begin{tabular}{r|ll}\n",
       "  & Guessed before & Guessed after\\\\\n",
       "\\hline\n",
       "\tPoured Before & 3 & 1\\\\\n",
       "\tPoured After & 1 & 3\\\\\n",
       "\\end{tabular}\n"
      ],
      "text/markdown": [
       "\n",
       "A matrix: 2 × 2 of type dbl\n",
       "\n",
       "| <!--/--> | Guessed before | Guessed after |\n",
       "|---|---|---|\n",
       "| Poured Before | 3 | 1 |\n",
       "| Poured After | 1 | 3 |\n",
       "\n"
      ],
      "text/plain": [
       "              Guessed before Guessed after\n",
       "Poured Before 3              1            \n",
       "Poured After  1              3            "
      ]
     },
     "metadata": {},
     "output_type": "display_data"
    }
   ],
   "source": [
    "tab <- matrix(c(3,1,1,3),2,2)\n",
    "rownames(tab)<-c(\"Poured Before\",\"Poured After\")\n",
    "colnames(tab)<-c(\"Guessed before\",\"Guessed after\")\n",
    "tab"
   ]
  },
  {
   "cell_type": "code",
   "execution_count": 7,
   "id": "e92ca83e",
   "metadata": {},
   "outputs": [
    {
     "data": {
      "text/plain": [
       "\n",
       "\tFisher's Exact Test for Count Data\n",
       "\n",
       "data:  tab\n",
       "p-value = 0.2429\n",
       "alternative hypothesis: true odds ratio is greater than 1\n",
       "95 percent confidence interval:\n",
       " 0.3135693       Inf\n",
       "sample estimates:\n",
       "odds ratio \n",
       "  6.408309 \n"
      ]
     },
     "metadata": {},
     "output_type": "display_data"
    }
   ],
   "source": [
    "fisher.test(tab,alternative=\"greater\")"
   ]
  },
  {
   "cell_type": "code",
   "execution_count": 8,
   "id": "926461fb",
   "metadata": {},
   "outputs": [
    {
     "data": {
      "text/html": [
       "<table class=\"dataframe\">\n",
       "<caption>A data.frame: 6 × 2</caption>\n",
       "<thead>\n",
       "\t<tr><th></th><th scope=col>disease</th><th scope=col>genotype</th></tr>\n",
       "\t<tr><th></th><th scope=col>&lt;fct&gt;</th><th scope=col>&lt;fct&gt;</th></tr>\n",
       "</thead>\n",
       "<tbody>\n",
       "\t<tr><th scope=row>78</th><td>control</td><td>AA/Aa</td></tr>\n",
       "\t<tr><th scope=row>135</th><td>control</td><td>AA/Aa</td></tr>\n",
       "\t<tr><th scope=row>221</th><td>control</td><td>aa   </td></tr>\n",
       "\t<tr><th scope=row>231</th><td>control</td><td>aa   </td></tr>\n",
       "\t<tr><th scope=row>227</th><td>control</td><td>aa   </td></tr>\n",
       "\t<tr><th scope=row>238</th><td>control</td><td>aa   </td></tr>\n",
       "</tbody>\n",
       "</table>\n"
      ],
      "text/latex": [
       "A data.frame: 6 × 2\n",
       "\\begin{tabular}{r|ll}\n",
       "  & disease & genotype\\\\\n",
       "  & <fct> & <fct>\\\\\n",
       "\\hline\n",
       "\t78 & control & AA/Aa\\\\\n",
       "\t135 & control & AA/Aa\\\\\n",
       "\t221 & control & aa   \\\\\n",
       "\t231 & control & aa   \\\\\n",
       "\t227 & control & aa   \\\\\n",
       "\t238 & control & aa   \\\\\n",
       "\\end{tabular}\n"
      ],
      "text/markdown": [
       "\n",
       "A data.frame: 6 × 2\n",
       "\n",
       "| <!--/--> | disease &lt;fct&gt; | genotype &lt;fct&gt; |\n",
       "|---|---|---|\n",
       "| 78 | control | AA/Aa |\n",
       "| 135 | control | AA/Aa |\n",
       "| 221 | control | aa    |\n",
       "| 231 | control | aa    |\n",
       "| 227 | control | aa    |\n",
       "| 238 | control | aa    |\n",
       "\n"
      ],
      "text/plain": [
       "    disease genotype\n",
       "78  control AA/Aa   \n",
       "135 control AA/Aa   \n",
       "221 control aa      \n",
       "231 control aa      \n",
       "227 control aa      \n",
       "238 control aa      "
      ]
     },
     "metadata": {},
     "output_type": "display_data"
    }
   ],
   "source": [
    "disease=factor(c(rep(0,180),rep(1,20),rep(0,40),rep(1,10)),\n",
    "labels=c(\"control\",\"cases\"))\n",
    "genotype=factor(c(rep(\"AA/Aa\",200),rep(\"aa\",50)),\n",
    "levels=c(\"AA/Aa\",\"aa\"))\n",
    "dat <- data.frame(disease, genotype)\n",
    "dat <- dat[sample(nrow(dat)),] #shuffle them up\n",
    "head(dat)"
   ]
  },
  {
   "cell_type": "code",
   "execution_count": 9,
   "id": "0ba7ee56",
   "metadata": {},
   "outputs": [
    {
     "data": {
      "text/plain": [
       "genotype\n",
       "AA/Aa    aa \n",
       "  200    50 "
      ]
     },
     "metadata": {},
     "output_type": "display_data"
    }
   ],
   "source": [
    "table(genotype)"
   ]
  },
  {
   "cell_type": "code",
   "execution_count": 10,
   "id": "98fd0e01",
   "metadata": {},
   "outputs": [
    {
     "data": {
      "text/plain": [
       "disease\n",
       "control   cases \n",
       "    220      30 "
      ]
     },
     "metadata": {},
     "output_type": "display_data"
    }
   ],
   "source": [
    "table(disease)"
   ]
  },
  {
   "cell_type": "code",
   "execution_count": 11,
   "id": "f0f25161",
   "metadata": {},
   "outputs": [
    {
     "data": {
      "text/plain": [
       "        disease\n",
       "genotype control cases\n",
       "   AA/Aa     180    20\n",
       "   aa         40    10"
      ]
     },
     "metadata": {},
     "output_type": "display_data"
    }
   ],
   "source": [
    "tab <- table(genotype,disease)\n",
    "tab"
   ]
  },
  {
   "cell_type": "code",
   "execution_count": 12,
   "id": "13d69be2",
   "metadata": {},
   "outputs": [
    {
     "data": {
      "text/html": [
       "2.25"
      ],
      "text/latex": [
       "2.25"
      ],
      "text/markdown": [
       "2.25"
      ],
      "text/plain": [
       "[1] 2.25"
      ]
     },
     "metadata": {},
     "output_type": "display_data"
    }
   ],
   "source": [
    "(tab[2,2]/tab[2,1]) / (tab[1,2]/tab[1,1])"
   ]
  },
  {
   "cell_type": "code",
   "execution_count": 13,
   "id": "823605ef",
   "metadata": {},
   "outputs": [
    {
     "data": {
      "text/html": [
       "0.12"
      ],
      "text/latex": [
       "0.12"
      ],
      "text/markdown": [
       "0.12"
      ],
      "text/plain": [
       "[1] 0.12"
      ]
     },
     "metadata": {},
     "output_type": "display_data"
    }
   ],
   "source": [
    "p=mean(disease==\"cases\") \n",
    "p"
   ]
  },
  {
   "cell_type": "code",
   "execution_count": 14,
   "id": "9217a4ba",
   "metadata": {},
   "outputs": [
    {
     "data": {
      "text/html": [
       "<table class=\"dataframe\">\n",
       "<caption>A matrix: 2 × 2 of type dbl</caption>\n",
       "<thead>\n",
       "\t<tr><th></th><th scope=col>control</th><th scope=col>cases</th></tr>\n",
       "</thead>\n",
       "<tbody>\n",
       "\t<tr><th scope=row>AA/Aa</th><td>176</td><td>24</td></tr>\n",
       "\t<tr><th scope=row>aa</th><td> 44</td><td> 6</td></tr>\n",
       "</tbody>\n",
       "</table>\n"
      ],
      "text/latex": [
       "A matrix: 2 × 2 of type dbl\n",
       "\\begin{tabular}{r|ll}\n",
       "  & control & cases\\\\\n",
       "\\hline\n",
       "\tAA/Aa & 176 & 24\\\\\n",
       "\taa &  44 &  6\\\\\n",
       "\\end{tabular}\n"
      ],
      "text/markdown": [
       "\n",
       "A matrix: 2 × 2 of type dbl\n",
       "\n",
       "| <!--/--> | control | cases |\n",
       "|---|---|---|\n",
       "| AA/Aa | 176 | 24 |\n",
       "| aa |  44 |  6 |\n",
       "\n"
      ],
      "text/plain": [
       "        disease\n",
       "genotype control cases\n",
       "   AA/Aa 176     24   \n",
       "   aa     44      6   "
      ]
     },
     "metadata": {},
     "output_type": "display_data"
    }
   ],
   "source": [
    "expected <- rbind(c(1-p,p)*sum(genotype==\"AA/Aa\"),\n",
    "c(1-p,p)*sum(genotype==\"aa\"))\n",
    "dimnames(expected)<-dimnames(tab)\n",
    "expected"
   ]
  },
  {
   "cell_type": "code",
   "execution_count": 15,
   "id": "adfe6b70",
   "metadata": {},
   "outputs": [
    {
     "data": {
      "text/html": [
       "0.0885743489508046"
      ],
      "text/latex": [
       "0.0885743489508046"
      ],
      "text/markdown": [
       "0.0885743489508046"
      ],
      "text/plain": [
       "[1] 0.08857435"
      ]
     },
     "metadata": {},
     "output_type": "display_data"
    }
   ],
   "source": [
    "chisq.test(tab)$p.value"
   ]
  },
  {
   "cell_type": "markdown",
   "id": "32d3d692",
   "metadata": {},
   "source": [
    "Large Samples, Small p-values"
   ]
  },
  {
   "cell_type": "code",
   "execution_count": 16,
   "id": "291c9bcb",
   "metadata": {},
   "outputs": [
    {
     "data": {
      "text/html": [
       "1.21962385600211e-09"
      ],
      "text/latex": [
       "1.21962385600211e-09"
      ],
      "text/markdown": [
       "1.21962385600211e-09"
      ],
      "text/plain": [
       "[1] 1.219624e-09"
      ]
     },
     "metadata": {},
     "output_type": "display_data"
    }
   ],
   "source": [
    "tab<-tab*10\n",
    "chisq.test(tab)$p.value"
   ]
  },
  {
   "cell_type": "markdown",
   "id": "31ea7242",
   "metadata": {},
   "source": [
    "Confidence Intervals For The Odd Ratio"
   ]
  },
  {
   "cell_type": "code",
   "execution_count": 17,
   "id": "49b9b7b5",
   "metadata": {},
   "outputs": [
    {
     "data": {
      "text/html": [
       "<table class=\"dataframe\">\n",
       "<caption>A matrix: 2 × 4 of type dbl</caption>\n",
       "<thead>\n",
       "\t<tr><th></th><th scope=col>Estimate</th><th scope=col>Std. Error</th><th scope=col>z value</th><th scope=col>Pr(&gt;|z|)</th></tr>\n",
       "</thead>\n",
       "<tbody>\n",
       "\t<tr><th scope=row>(Intercept)</th><td>-2.1972246</td><td>0.2356828</td><td>-9.322803</td><td>1.133070e-20</td></tr>\n",
       "\t<tr><th scope=row>genotypeaa</th><td> 0.8109302</td><td>0.4249074</td><td> 1.908487</td><td>5.632834e-02</td></tr>\n",
       "</tbody>\n",
       "</table>\n"
      ],
      "text/latex": [
       "A matrix: 2 × 4 of type dbl\n",
       "\\begin{tabular}{r|llll}\n",
       "  & Estimate & Std. Error & z value & Pr(>\\textbar{}z\\textbar{})\\\\\n",
       "\\hline\n",
       "\t(Intercept) & -2.1972246 & 0.2356828 & -9.322803 & 1.133070e-20\\\\\n",
       "\tgenotypeaa &  0.8109302 & 0.4249074 &  1.908487 & 5.632834e-02\\\\\n",
       "\\end{tabular}\n"
      ],
      "text/markdown": [
       "\n",
       "A matrix: 2 × 4 of type dbl\n",
       "\n",
       "| <!--/--> | Estimate | Std. Error | z value | Pr(&gt;|z|) |\n",
       "|---|---|---|---|---|\n",
       "| (Intercept) | -2.1972246 | 0.2356828 | -9.322803 | 1.133070e-20 |\n",
       "| genotypeaa |  0.8109302 | 0.4249074 |  1.908487 | 5.632834e-02 |\n",
       "\n"
      ],
      "text/plain": [
       "            Estimate   Std. Error z value   Pr(>|z|)    \n",
       "(Intercept) -2.1972246 0.2356828  -9.322803 1.133070e-20\n",
       "genotypeaa   0.8109302 0.4249074   1.908487 5.632834e-02"
      ]
     },
     "metadata": {},
     "output_type": "display_data"
    }
   ],
   "source": [
    "fit <- glm(disease~genotype,family=\"binomial\",data=dat)\n",
    "coeftab<- summary(fit)$coef\n",
    "coeftab"
   ]
  },
  {
   "cell_type": "code",
   "execution_count": 18,
   "id": "fed5fc11",
   "metadata": {},
   "outputs": [
    {
     "data": {
      "text/html": [
       "<style>\n",
       ".list-inline {list-style: none; margin:0; padding: 0}\n",
       ".list-inline>li {display: inline-block}\n",
       ".list-inline>li:not(:last-child)::after {content: \"\\00b7\"; padding: 0 .5ex}\n",
       "</style>\n",
       "<ol class=list-inline><li>0.961861612572594</li><li>5.26323096994355</li></ol>\n"
      ],
      "text/latex": [
       "\\begin{enumerate*}\n",
       "\\item 0.961861612572594\n",
       "\\item 5.26323096994355\n",
       "\\end{enumerate*}\n"
      ],
      "text/markdown": [
       "1. 0.961861612572594\n",
       "2. 5.26323096994355\n",
       "\n",
       "\n"
      ],
      "text/plain": [
       "[1] 0.9618616 5.2632310"
      ]
     },
     "metadata": {},
     "output_type": "display_data"
    }
   ],
   "source": [
    "ci <- coeftab[2,1] + c(-2,2)*coeftab[2,2]\n",
    "exp(ci)"
   ]
  },
  {
   "cell_type": "markdown",
   "id": "20e2f36e",
   "metadata": {},
   "source": [
    "P96"
   ]
  },
  {
   "cell_type": "markdown",
   "id": "52b99ec2",
   "metadata": {},
   "source": [
    "Q1: This dataframe reflects the allele status (either AA/Aa or aa) and the case/control status for\n",
    "72 individuals. Compute the Chi-square test for the association of genotype with case/control\n",
    "status (using the table function and the chisq.test function). Examine the table to see if there\n",
    "appears to be an association. What is the X-squared statistic?"
   ]
  },
  {
   "cell_type": "code",
   "execution_count": 19,
   "id": "7f285f3a",
   "metadata": {},
   "outputs": [],
   "source": [
    "data=read.csv(\"D:\\\\desktop\\\\assoctest.csv\")"
   ]
  },
  {
   "cell_type": "code",
   "execution_count": 20,
   "id": "362afb93",
   "metadata": {},
   "outputs": [],
   "source": [
    "table1=table(data)"
   ]
  },
  {
   "cell_type": "code",
   "execution_count": 21,
   "id": "4c58ed6b",
   "metadata": {},
   "outputs": [
    {
     "data": {
      "text/html": [
       "<strong>X-squared:</strong> 3.34365325077399"
      ],
      "text/latex": [
       "\\textbf{X-squared:} 3.34365325077399"
      ],
      "text/markdown": [
       "**X-squared:** 3.34365325077399"
      ],
      "text/plain": [
       "X-squared \n",
       " 3.343653 "
      ]
     },
     "metadata": {},
     "output_type": "display_data"
    }
   ],
   "source": [
    "chisq.test(table1)$statistic"
   ]
  },
  {
   "cell_type": "markdown",
   "id": "eb0516b3",
   "metadata": {},
   "source": [
    "Q2: Compute Fisher’s exact test fisher.test for the same table. What is the p-value?"
   ]
  },
  {
   "cell_type": "code",
   "execution_count": 22,
   "id": "c18c6650",
   "metadata": {},
   "outputs": [
    {
     "data": {
      "text/html": [
       "0.0519383360324033"
      ],
      "text/latex": [
       "0.0519383360324033"
      ],
      "text/markdown": [
       "0.0519383360324033"
      ],
      "text/plain": [
       "[1] 0.05193834"
      ]
     },
     "metadata": {},
     "output_type": "display_data"
    }
   ],
   "source": [
    "fisher.test(table1)$p.value"
   ]
  },
  {
   "cell_type": "code",
   "execution_count": null,
   "id": "7c48911c",
   "metadata": {},
   "outputs": [],
   "source": []
  }
 ],
 "metadata": {
  "kernelspec": {
   "display_name": "R",
   "language": "R",
   "name": "ir"
  },
  "language_info": {
   "codemirror_mode": "r",
   "file_extension": ".r",
   "mimetype": "text/x-r-source",
   "name": "R",
   "pygments_lexer": "r",
   "version": "4.2.1"
  }
 },
 "nbformat": 4,
 "nbformat_minor": 5
}
