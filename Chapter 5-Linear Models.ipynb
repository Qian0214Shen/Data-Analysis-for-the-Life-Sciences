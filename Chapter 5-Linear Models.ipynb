{
 "cells": [
  {
   "cell_type": "markdown",
   "id": "48e285dc",
   "metadata": {},
   "source": [
    "## Exercises P181"
   ]
  },
  {
   "cell_type": "markdown",
   "id": "779d3bfe",
   "metadata": {},
   "source": [
    "The standard error of an estimate is the standard deviation of the sampling distribution of an estimate.\n",
    "In previous chapters, we saw that our estimate of the mean of a population changed depending on\n",
    "the sample that we took from the population. If we repeatedly sampled from the population and each\n",
    "time estimated the mean, the collection of mean estimates would form the sampling distribution of\n",
    "the estimate. When we took the standard deviation of those estimates, that was the standard error\n",
    "of our mean estimate.\n",
    "\n",
    "In the case of a linear model written as:"
   ]
  },
  {
   "cell_type": "markdown",
   "id": "ca110d7a",
   "metadata": {},
   "source": [
    "$$Y_i = \\beta_0 + \\beta_1X_i + \\epsilon_i, i = 1, \\cdots , n$$"
   ]
  },
  {
   "cell_type": "markdown",
   "id": "6c231400",
   "metadata": {},
   "source": [
    "Q1: We have shown how to find the least squares estimates with matrix algebra. These estimates are random variables as they are linear combinations of the data. For these estimates to be\n",
    "useful, we also need to compute the standard errors. Here we review standard errors in the\n",
    "context of linear models. To see this, we can run a Monte Carlo simulation to imitate the\n",
    "collection of falling object data. Specifically, we will generate the data repeatedly and compute\n",
    "the estimate for the quadratic term each time."
   ]
  },
  {
   "cell_type": "code",
   "execution_count": 1,
   "id": "9f0165e3",
   "metadata": {},
   "outputs": [],
   "source": [
    "g = 9.8\n",
    "h0 = 56.67\n",
    "v0 = 0 \n",
    "n = 25\n",
    "tt = seq(0,3.4,len=n)\n",
    "y = h0 + v0 *tt - 0.5* g*tt^2 + rnorm(n,sd=1)"
   ]
  },
  {
   "cell_type": "markdown",
   "id": "0245c5e2",
   "metadata": {},
   "source": [
    "Now we act as if we didn’t know $h0, v0$ and -0.5*g and use regression to estimate these. \n",
    "\n",
    "We can rewrite the model as $y = \\beta_0 + \\beta_1t + \\beta_2t^2 + \\epsilon$ and obtain the LSE we have used in this class.\n",
    "Note that g = -2 $β2$.\n",
    "To obtain the LSE in R we could write:"
   ]
  },
  {
   "cell_type": "code",
   "execution_count": 2,
   "id": "f1214b0b",
   "metadata": {},
   "outputs": [],
   "source": [
    "X = cbind(1,tt,tt^2) \n",
    "A = solve(crossprod(X))%*%t(X)"
   ]
  },
  {
   "cell_type": "markdown",
   "id": "cd9a4753",
   "metadata": {},
   "source": [
    "Given how we have defined A, which of the following is the LSE of g, the acceleration due to\n",
    "gravity? Hint: try the code in R."
   ]
  },
  {
   "cell_type": "markdown",
   "id": "e3430d2d",
   "metadata": {},
   "source": [
    "• A) 9.8\n",
    "\n",
    "• B) A %*% y\n",
    "\n",
    "• C) -2 * (A %*% y) [3]\n",
    "\n",
    "• D) A[3,3]"
   ]
  },
  {
   "cell_type": "code",
   "execution_count": 3,
   "id": "afb08bda",
   "metadata": {},
   "outputs": [
    {
     "data": {
      "text/html": [
       "<table class=\"dataframe\">\n",
       "<caption>A matrix: 3 × 1 of type dbl</caption>\n",
       "<tbody>\n",
       "\t<tr><th scope=row></th><td>56.50182220</td></tr>\n",
       "\t<tr><th scope=row>tt</th><td> 0.03226073</td></tr>\n",
       "\t<tr><th scope=row></th><td>-4.86424586</td></tr>\n",
       "</tbody>\n",
       "</table>\n"
      ],
      "text/latex": [
       "A matrix: 3 × 1 of type dbl\n",
       "\\begin{tabular}{r|l}\n",
       "\t & 56.50182220\\\\\n",
       "\ttt &  0.03226073\\\\\n",
       "\t & -4.86424586\\\\\n",
       "\\end{tabular}\n"
      ],
      "text/markdown": [
       "\n",
       "A matrix: 3 × 1 of type dbl\n",
       "\n",
       "| <!----> | 56.50182220 |\n",
       "| tt |  0.03226073 |\n",
       "| <!----> | -4.86424586 |\n",
       "\n"
      ],
      "text/plain": [
       "   [,1]       \n",
       "   56.50182220\n",
       "tt  0.03226073\n",
       "   -4.86424586"
      ]
     },
     "metadata": {},
     "output_type": "display_data"
    }
   ],
   "source": [
    "A %*% y"
   ]
  },
  {
   "cell_type": "code",
   "execution_count": 4,
   "id": "ff549ef0",
   "metadata": {},
   "outputs": [
    {
     "data": {
      "text/html": [
       "9.72849171148795"
      ],
      "text/latex": [
       "9.72849171148795"
      ],
      "text/markdown": [
       "9.72849171148795"
      ],
      "text/plain": [
       "[1] 9.728492"
      ]
     },
     "metadata": {},
     "output_type": "display_data"
    }
   ],
   "source": [
    "-2 * (A %*% y) [3]"
   ]
  },
  {
   "cell_type": "code",
   "execution_count": 5,
   "id": "e931ede0",
   "metadata": {},
   "outputs": [
    {
     "data": {
      "text/html": [
       "<strong>:</strong> 0.0444387867285413"
      ],
      "text/latex": [
       "\\textbf{:} 0.0444387867285413"
      ],
      "text/markdown": [
       "**:** 0.0444387867285413"
      ],
      "text/plain": [
       "           \n",
       "0.04443879 "
      ]
     },
     "metadata": {},
     "output_type": "display_data"
    }
   ],
   "source": [
    "A[3,3]"
   ]
  },
  {
   "cell_type": "markdown",
   "id": "464b7851",
   "metadata": {},
   "source": [
    "C"
   ]
  },
  {
   "cell_type": "markdown",
   "id": "9dee5f72",
   "metadata": {},
   "source": [
    "Q2: In the lines of code above, the function rnorm introduced randomness. This means that each\n",
    "time the lines of code above are repeated, the estimate of g will be different.\n",
    "Use the code above in conjunction with the function replicate to generate 100,000 Monte\n",
    "Carlo simulated datasets. For each dataset, compute an estimate of g. (Remember to multiply\n",
    "by -2.)\n",
    "What is the standard error of this estimate?"
   ]
  },
  {
   "cell_type": "code",
   "execution_count": 18,
   "id": "716f86fe",
   "metadata": {},
   "outputs": [
    {
     "data": {
      "text/html": [
       "0.430756518406247"
      ],
      "text/latex": [
       "0.430756518406247"
      ],
      "text/markdown": [
       "0.430756518406247"
      ],
      "text/plain": [
       "[1] 0.4307565"
      ]
     },
     "metadata": {},
     "output_type": "display_data"
    }
   ],
   "source": [
    "set.seed(123)\n",
    "return = replicate(100000, {\n",
    "  y = h0 + v0 *tt - 0.5* g*tt^2 + rnorm(n,sd=1)\n",
    "  Y = matrix(y,nrow=length(y), ncol = 1)\n",
    "  bh = solve(crossprod(X)) %*% t(X) %*%Y\n",
    "  be = bh[[3]] * -2\n",
    "  return(be)\n",
    "})\n",
    "sd(return)"
   ]
  },
  {
   "cell_type": "markdown",
   "id": "25d81536",
   "metadata": {},
   "source": [
    "Q3: In the father and son height examples, we have randomness because we have a random\n",
    "sample of father and son pairs. For the sake of illustration, let’s assume that this is the entire\n",
    "population:"
   ]
  },
  {
   "cell_type": "code",
   "execution_count": 19,
   "id": "94f2327d",
   "metadata": {},
   "outputs": [
    {
     "name": "stderr",
     "output_type": "stream",
     "text": [
      "Loading required package: MASS\n",
      "\n",
      "Loading required package: HistData\n",
      "\n",
      "Loading required package: Hmisc\n",
      "\n",
      "Loading required package: lattice\n",
      "\n",
      "Loading required package: survival\n",
      "\n",
      "Loading required package: Formula\n",
      "\n",
      "Loading required package: ggplot2\n",
      "\n",
      "\n",
      "Attaching package: 'Hmisc'\n",
      "\n",
      "\n",
      "The following objects are masked from 'package:base':\n",
      "\n",
      "    format.pval, units\n",
      "\n",
      "\n",
      "\n",
      "Attaching package: 'UsingR'\n",
      "\n",
      "\n",
      "The following object is masked from 'package:survival':\n",
      "\n",
      "    cancer\n",
      "\n",
      "\n"
     ]
    }
   ],
   "source": [
    "library(UsingR)\n",
    "x = father.son$fheight\n",
    "y = father.son$sheight\n",
    "n = length(y)"
   ]
  },
  {
   "cell_type": "markdown",
   "id": "395b1b3a",
   "metadata": {},
   "source": [
    "Now let’s run a Monte Carlo simulation in which we take a sample of size 50 over and over\n",
    "again. Here is how we obtain one sample:"
   ]
  },
  {
   "cell_type": "code",
   "execution_count": 20,
   "id": "da5d98d8",
   "metadata": {},
   "outputs": [],
   "source": [
    "N = 50\n",
    "index = sample(n,N)\n",
    "sampledat = father.son[index,]\n",
    "x = sampledat$fheight\n",
    "y = sampledat$sheight\n",
    "betahat = lm(y~x)$coef"
   ]
  },
  {
   "cell_type": "markdown",
   "id": "0691b490",
   "metadata": {},
   "source": [
    "Use the function replicate to take 10,000 samples.\n",
    "What is the standard error of the slope estimate? That is, calculate the standard deviation of\n",
    "the estimate from the observed values obtained from many random samples."
   ]
  },
  {
   "cell_type": "code",
   "execution_count": 22,
   "id": "806a6324",
   "metadata": {},
   "outputs": [
    {
     "data": {
      "text/html": [
       "0.123364749520703"
      ],
      "text/latex": [
       "0.123364749520703"
      ],
      "text/markdown": [
       "0.123364749520703"
      ],
      "text/plain": [
       "[1] 0.1233647"
      ]
     },
     "metadata": {},
     "output_type": "display_data"
    }
   ],
   "source": [
    "return = replicate(10000, {\n",
    "index = sample(n,N)\n",
    "sampledat = father.son[index,]\n",
    "x = sampledat$fheight\n",
    "y = sampledat$sheight\n",
    "betahat = lm(y~x)$coef\n",
    "  return(betahat[[2]])\n",
    "})\n",
    "sd(return)"
   ]
  },
  {
   "cell_type": "markdown",
   "id": "ae67052e",
   "metadata": {},
   "source": [
    "Q4: Later in this chapter we will introduce a new concept: covariance. The covariance of two lists\n",
    "of numbers $X = x_1, \\cdots, x_n and Y = y_1, \\cdots, y_n$ is:"
   ]
  },
  {
   "cell_type": "code",
   "execution_count": 23,
   "id": "8c26af2d",
   "metadata": {},
   "outputs": [
    {
     "data": {
      "text/html": [
       "-0.0652940703438592"
      ],
      "text/latex": [
       "-0.0652940703438592"
      ],
      "text/markdown": [
       "-0.0652940703438592"
      ],
      "text/plain": [
       "[1] -0.06529407"
      ]
     },
     "metadata": {},
     "output_type": "display_data"
    }
   ],
   "source": [
    "n <- 100\n",
    "Y <- rnorm(n)\n",
    "X <- rnorm(n)\n",
    "mean( (Y - mean(Y))*(X-mean(X) ) )"
   ]
  },
  {
   "cell_type": "markdown",
   "id": "15e0c930",
   "metadata": {},
   "source": [
    "Which of the following is closest to the covariance between father heights and son heights?\n",
    "\n",
    "• A) 0\n",
    "\n",
    "• B) -4\n",
    "\n",
    "• C) 4\n",
    "\n",
    "• D) 0.5\n",
    "\n",
    "A"
   ]
  },
  {
   "cell_type": "markdown",
   "id": "265334e7",
   "metadata": {},
   "source": [
    "## The Design Matrix"
   ]
  },
  {
   "cell_type": "markdown",
   "id": "421b12d7",
   "metadata": {},
   "source": [
    "Choice of design"
   ]
  },
  {
   "cell_type": "code",
   "execution_count": 24,
   "id": "96718458",
   "metadata": {},
   "outputs": [
    {
     "data": {
      "text/html": [
       "<table class=\"dataframe\">\n",
       "<caption>A matrix: 4 × 2 of type dbl</caption>\n",
       "<thead>\n",
       "\t<tr><th></th><th scope=col>(Intercept)</th><th scope=col>group2</th></tr>\n",
       "</thead>\n",
       "<tbody>\n",
       "\t<tr><th scope=row>1</th><td>1</td><td>0</td></tr>\n",
       "\t<tr><th scope=row>2</th><td>1</td><td>0</td></tr>\n",
       "\t<tr><th scope=row>3</th><td>1</td><td>1</td></tr>\n",
       "\t<tr><th scope=row>4</th><td>1</td><td>1</td></tr>\n",
       "</tbody>\n",
       "</table>\n"
      ],
      "text/latex": [
       "A matrix: 4 × 2 of type dbl\n",
       "\\begin{tabular}{r|ll}\n",
       "  & (Intercept) & group2\\\\\n",
       "\\hline\n",
       "\t1 & 1 & 0\\\\\n",
       "\t2 & 1 & 0\\\\\n",
       "\t3 & 1 & 1\\\\\n",
       "\t4 & 1 & 1\\\\\n",
       "\\end{tabular}\n"
      ],
      "text/markdown": [
       "\n",
       "A matrix: 4 × 2 of type dbl\n",
       "\n",
       "| <!--/--> | (Intercept) | group2 |\n",
       "|---|---|---|\n",
       "| 1 | 1 | 0 |\n",
       "| 2 | 1 | 0 |\n",
       "| 3 | 1 | 1 |\n",
       "| 4 | 1 | 1 |\n",
       "\n"
      ],
      "text/plain": [
       "  (Intercept) group2\n",
       "1 1           0     \n",
       "2 1           0     \n",
       "3 1           1     \n",
       "4 1           1     "
      ]
     },
     "metadata": {},
     "output_type": "display_data"
    }
   ],
   "source": [
    "group <- factor( c(1,1,2,2) )\n",
    "model.matrix(~ group)"
   ]
  },
  {
   "cell_type": "code",
   "execution_count": 26,
   "id": "8785df89",
   "metadata": {},
   "outputs": [
    {
     "data": {
      "text/html": [
       "<table class=\"dataframe\">\n",
       "<caption>A matrix: 4 × 2 of type dbl</caption>\n",
       "<thead>\n",
       "\t<tr><th></th><th scope=col>(Intercept)</th><th scope=col>group2</th></tr>\n",
       "</thead>\n",
       "<tbody>\n",
       "\t<tr><th scope=row>1</th><td>1</td><td>0</td></tr>\n",
       "\t<tr><th scope=row>2</th><td>1</td><td>0</td></tr>\n",
       "\t<tr><th scope=row>3</th><td>1</td><td>1</td></tr>\n",
       "\t<tr><th scope=row>4</th><td>1</td><td>1</td></tr>\n",
       "</tbody>\n",
       "</table>\n"
      ],
      "text/latex": [
       "A matrix: 4 × 2 of type dbl\n",
       "\\begin{tabular}{r|ll}\n",
       "  & (Intercept) & group2\\\\\n",
       "\\hline\n",
       "\t1 & 1 & 0\\\\\n",
       "\t2 & 1 & 0\\\\\n",
       "\t3 & 1 & 1\\\\\n",
       "\t4 & 1 & 1\\\\\n",
       "\\end{tabular}\n"
      ],
      "text/markdown": [
       "\n",
       "A matrix: 4 × 2 of type dbl\n",
       "\n",
       "| <!--/--> | (Intercept) | group2 |\n",
       "|---|---|---|\n",
       "| 1 | 1 | 0 |\n",
       "| 2 | 1 | 0 |\n",
       "| 3 | 1 | 1 |\n",
       "| 4 | 1 | 1 |\n",
       "\n"
      ],
      "text/plain": [
       "  (Intercept) group2\n",
       "1 1           0     \n",
       "2 1           0     \n",
       "3 1           1     \n",
       "4 1           1     "
      ]
     },
     "metadata": {},
     "output_type": "display_data"
    }
   ],
   "source": [
    "model.matrix(formula(~ group))"
   ]
  },
  {
   "cell_type": "code",
   "execution_count": 27,
   "id": "c79b843f",
   "metadata": {},
   "outputs": [
    {
     "data": {
      "text/html": [
       "<table class=\"dataframe\">\n",
       "<caption>A matrix: 4 × 2 of type dbl</caption>\n",
       "<thead>\n",
       "\t<tr><th></th><th scope=col>(Intercept)</th><th scope=col>group</th></tr>\n",
       "</thead>\n",
       "<tbody>\n",
       "\t<tr><th scope=row>1</th><td>1</td><td>1</td></tr>\n",
       "\t<tr><th scope=row>2</th><td>1</td><td>1</td></tr>\n",
       "\t<tr><th scope=row>3</th><td>1</td><td>2</td></tr>\n",
       "\t<tr><th scope=row>4</th><td>1</td><td>2</td></tr>\n",
       "</tbody>\n",
       "</table>\n"
      ],
      "text/latex": [
       "A matrix: 4 × 2 of type dbl\n",
       "\\begin{tabular}{r|ll}\n",
       "  & (Intercept) & group\\\\\n",
       "\\hline\n",
       "\t1 & 1 & 1\\\\\n",
       "\t2 & 1 & 1\\\\\n",
       "\t3 & 1 & 2\\\\\n",
       "\t4 & 1 & 2\\\\\n",
       "\\end{tabular}\n"
      ],
      "text/markdown": [
       "\n",
       "A matrix: 4 × 2 of type dbl\n",
       "\n",
       "| <!--/--> | (Intercept) | group |\n",
       "|---|---|---|\n",
       "| 1 | 1 | 1 |\n",
       "| 2 | 1 | 1 |\n",
       "| 3 | 1 | 2 |\n",
       "| 4 | 1 | 2 |\n",
       "\n"
      ],
      "text/plain": [
       "  (Intercept) group\n",
       "1 1           1    \n",
       "2 1           1    \n",
       "3 1           2    \n",
       "4 1           2    "
      ]
     },
     "metadata": {},
     "output_type": "display_data"
    }
   ],
   "source": [
    "group <- c(1,1,2,2)\n",
    "model.matrix(~ group)"
   ]
  },
  {
   "cell_type": "code",
   "execution_count": 28,
   "id": "535309fc",
   "metadata": {},
   "outputs": [
    {
     "data": {
      "text/html": [
       "<table class=\"dataframe\">\n",
       "<caption>A matrix: 4 × 2 of type dbl</caption>\n",
       "<thead>\n",
       "\t<tr><th></th><th scope=col>(Intercept)</th><th scope=col>grouphighfat</th></tr>\n",
       "</thead>\n",
       "<tbody>\n",
       "\t<tr><th scope=row>1</th><td>1</td><td>0</td></tr>\n",
       "\t<tr><th scope=row>2</th><td>1</td><td>0</td></tr>\n",
       "\t<tr><th scope=row>3</th><td>1</td><td>1</td></tr>\n",
       "\t<tr><th scope=row>4</th><td>1</td><td>1</td></tr>\n",
       "</tbody>\n",
       "</table>\n"
      ],
      "text/latex": [
       "A matrix: 4 × 2 of type dbl\n",
       "\\begin{tabular}{r|ll}\n",
       "  & (Intercept) & grouphighfat\\\\\n",
       "\\hline\n",
       "\t1 & 1 & 0\\\\\n",
       "\t2 & 1 & 0\\\\\n",
       "\t3 & 1 & 1\\\\\n",
       "\t4 & 1 & 1\\\\\n",
       "\\end{tabular}\n"
      ],
      "text/markdown": [
       "\n",
       "A matrix: 4 × 2 of type dbl\n",
       "\n",
       "| <!--/--> | (Intercept) | grouphighfat |\n",
       "|---|---|---|\n",
       "| 1 | 1 | 0 |\n",
       "| 2 | 1 | 0 |\n",
       "| 3 | 1 | 1 |\n",
       "| 4 | 1 | 1 |\n",
       "\n"
      ],
      "text/plain": [
       "  (Intercept) grouphighfat\n",
       "1 1           0           \n",
       "2 1           0           \n",
       "3 1           1           \n",
       "4 1           1           "
      ]
     },
     "metadata": {},
     "output_type": "display_data"
    }
   ],
   "source": [
    "group <- factor(c(\"control\",\"control\",\"highfat\",\"highfat\"))\n",
    "model.matrix(~ group)"
   ]
  },
  {
   "cell_type": "markdown",
   "id": "55fd3359",
   "metadata": {},
   "source": [
    "### More groups"
   ]
  },
  {
   "cell_type": "code",
   "execution_count": 29,
   "id": "1a6ec24a",
   "metadata": {},
   "outputs": [
    {
     "data": {
      "text/html": [
       "<table class=\"dataframe\">\n",
       "<caption>A matrix: 6 × 3 of type dbl</caption>\n",
       "<thead>\n",
       "\t<tr><th></th><th scope=col>(Intercept)</th><th scope=col>group2</th><th scope=col>group3</th></tr>\n",
       "</thead>\n",
       "<tbody>\n",
       "\t<tr><th scope=row>1</th><td>1</td><td>0</td><td>0</td></tr>\n",
       "\t<tr><th scope=row>2</th><td>1</td><td>0</td><td>0</td></tr>\n",
       "\t<tr><th scope=row>3</th><td>1</td><td>1</td><td>0</td></tr>\n",
       "\t<tr><th scope=row>4</th><td>1</td><td>1</td><td>0</td></tr>\n",
       "\t<tr><th scope=row>5</th><td>1</td><td>0</td><td>1</td></tr>\n",
       "\t<tr><th scope=row>6</th><td>1</td><td>0</td><td>1</td></tr>\n",
       "</tbody>\n",
       "</table>\n"
      ],
      "text/latex": [
       "A matrix: 6 × 3 of type dbl\n",
       "\\begin{tabular}{r|lll}\n",
       "  & (Intercept) & group2 & group3\\\\\n",
       "\\hline\n",
       "\t1 & 1 & 0 & 0\\\\\n",
       "\t2 & 1 & 0 & 0\\\\\n",
       "\t3 & 1 & 1 & 0\\\\\n",
       "\t4 & 1 & 1 & 0\\\\\n",
       "\t5 & 1 & 0 & 1\\\\\n",
       "\t6 & 1 & 0 & 1\\\\\n",
       "\\end{tabular}\n"
      ],
      "text/markdown": [
       "\n",
       "A matrix: 6 × 3 of type dbl\n",
       "\n",
       "| <!--/--> | (Intercept) | group2 | group3 |\n",
       "|---|---|---|---|\n",
       "| 1 | 1 | 0 | 0 |\n",
       "| 2 | 1 | 0 | 0 |\n",
       "| 3 | 1 | 1 | 0 |\n",
       "| 4 | 1 | 1 | 0 |\n",
       "| 5 | 1 | 0 | 1 |\n",
       "| 6 | 1 | 0 | 1 |\n",
       "\n"
      ],
      "text/plain": [
       "  (Intercept) group2 group3\n",
       "1 1           0      0     \n",
       "2 1           0      0     \n",
       "3 1           1      0     \n",
       "4 1           1      0     \n",
       "5 1           0      1     \n",
       "6 1           0      1     "
      ]
     },
     "metadata": {},
     "output_type": "display_data"
    }
   ],
   "source": [
    "group <- factor(c(1,1,2,2,3,3))\n",
    "model.matrix(~ group)"
   ]
  },
  {
   "cell_type": "code",
   "execution_count": 30,
   "id": "4e1c350c",
   "metadata": {},
   "outputs": [
    {
     "data": {
      "text/html": [
       "<table class=\"dataframe\">\n",
       "<caption>A matrix: 6 × 3 of type dbl</caption>\n",
       "<thead>\n",
       "\t<tr><th></th><th scope=col>group1</th><th scope=col>group2</th><th scope=col>group3</th></tr>\n",
       "</thead>\n",
       "<tbody>\n",
       "\t<tr><th scope=row>1</th><td>1</td><td>0</td><td>0</td></tr>\n",
       "\t<tr><th scope=row>2</th><td>1</td><td>0</td><td>0</td></tr>\n",
       "\t<tr><th scope=row>3</th><td>0</td><td>1</td><td>0</td></tr>\n",
       "\t<tr><th scope=row>4</th><td>0</td><td>1</td><td>0</td></tr>\n",
       "\t<tr><th scope=row>5</th><td>0</td><td>0</td><td>1</td></tr>\n",
       "\t<tr><th scope=row>6</th><td>0</td><td>0</td><td>1</td></tr>\n",
       "</tbody>\n",
       "</table>\n"
      ],
      "text/latex": [
       "A matrix: 6 × 3 of type dbl\n",
       "\\begin{tabular}{r|lll}\n",
       "  & group1 & group2 & group3\\\\\n",
       "\\hline\n",
       "\t1 & 1 & 0 & 0\\\\\n",
       "\t2 & 1 & 0 & 0\\\\\n",
       "\t3 & 0 & 1 & 0\\\\\n",
       "\t4 & 0 & 1 & 0\\\\\n",
       "\t5 & 0 & 0 & 1\\\\\n",
       "\t6 & 0 & 0 & 1\\\\\n",
       "\\end{tabular}\n"
      ],
      "text/markdown": [
       "\n",
       "A matrix: 6 × 3 of type dbl\n",
       "\n",
       "| <!--/--> | group1 | group2 | group3 |\n",
       "|---|---|---|---|\n",
       "| 1 | 1 | 0 | 0 |\n",
       "| 2 | 1 | 0 | 0 |\n",
       "| 3 | 0 | 1 | 0 |\n",
       "| 4 | 0 | 1 | 0 |\n",
       "| 5 | 0 | 0 | 1 |\n",
       "| 6 | 0 | 0 | 1 |\n",
       "\n"
      ],
      "text/plain": [
       "  group1 group2 group3\n",
       "1 1      0      0     \n",
       "2 1      0      0     \n",
       "3 0      1      0     \n",
       "4 0      1      0     \n",
       "5 0      0      1     \n",
       "6 0      0      1     "
      ]
     },
     "metadata": {},
     "output_type": "display_data"
    }
   ],
   "source": [
    "group <- factor(c(1,1,2,2,3,3))\n",
    "model.matrix(~ group + 0)"
   ]
  },
  {
   "cell_type": "markdown",
   "id": "6a42ad7b",
   "metadata": {},
   "source": [
    "### More variables"
   ]
  },
  {
   "cell_type": "code",
   "execution_count": 31,
   "id": "227f18ca",
   "metadata": {},
   "outputs": [
    {
     "data": {
      "text/plain": [
       "    sex\n",
       "diet f m\n",
       "   1 2 2\n",
       "   2 2 2"
      ]
     },
     "metadata": {},
     "output_type": "display_data"
    }
   ],
   "source": [
    "diet <- factor(c(1,1,1,1,2,2,2,2))\n",
    "sex <- factor(c(\"f\",\"f\",\"m\",\"m\",\"f\",\"f\",\"m\",\"m\"))\n",
    "table(diet,sex)"
   ]
  },
  {
   "cell_type": "markdown",
   "id": "c750d36a",
   "metadata": {},
   "source": [
    "$$Y_i = \\beta_0 + \\beta_1x_{i,1} + \\beta_2x_i^2 + \\epsilon_i$$"
   ]
  },
  {
   "cell_type": "code",
   "execution_count": 32,
   "id": "591b97be",
   "metadata": {},
   "outputs": [
    {
     "data": {
      "text/html": [
       "<table class=\"dataframe\">\n",
       "<caption>A matrix: 8 × 3 of type dbl</caption>\n",
       "<thead>\n",
       "\t<tr><th></th><th scope=col>(Intercept)</th><th scope=col>diet2</th><th scope=col>sexm</th></tr>\n",
       "</thead>\n",
       "<tbody>\n",
       "\t<tr><th scope=row>1</th><td>1</td><td>0</td><td>0</td></tr>\n",
       "\t<tr><th scope=row>2</th><td>1</td><td>0</td><td>0</td></tr>\n",
       "\t<tr><th scope=row>3</th><td>1</td><td>0</td><td>1</td></tr>\n",
       "\t<tr><th scope=row>4</th><td>1</td><td>0</td><td>1</td></tr>\n",
       "\t<tr><th scope=row>5</th><td>1</td><td>1</td><td>0</td></tr>\n",
       "\t<tr><th scope=row>6</th><td>1</td><td>1</td><td>0</td></tr>\n",
       "\t<tr><th scope=row>7</th><td>1</td><td>1</td><td>1</td></tr>\n",
       "\t<tr><th scope=row>8</th><td>1</td><td>1</td><td>1</td></tr>\n",
       "</tbody>\n",
       "</table>\n"
      ],
      "text/latex": [
       "A matrix: 8 × 3 of type dbl\n",
       "\\begin{tabular}{r|lll}\n",
       "  & (Intercept) & diet2 & sexm\\\\\n",
       "\\hline\n",
       "\t1 & 1 & 0 & 0\\\\\n",
       "\t2 & 1 & 0 & 0\\\\\n",
       "\t3 & 1 & 0 & 1\\\\\n",
       "\t4 & 1 & 0 & 1\\\\\n",
       "\t5 & 1 & 1 & 0\\\\\n",
       "\t6 & 1 & 1 & 0\\\\\n",
       "\t7 & 1 & 1 & 1\\\\\n",
       "\t8 & 1 & 1 & 1\\\\\n",
       "\\end{tabular}\n"
      ],
      "text/markdown": [
       "\n",
       "A matrix: 8 × 3 of type dbl\n",
       "\n",
       "| <!--/--> | (Intercept) | diet2 | sexm |\n",
       "|---|---|---|---|\n",
       "| 1 | 1 | 0 | 0 |\n",
       "| 2 | 1 | 0 | 0 |\n",
       "| 3 | 1 | 0 | 1 |\n",
       "| 4 | 1 | 0 | 1 |\n",
       "| 5 | 1 | 1 | 0 |\n",
       "| 6 | 1 | 1 | 0 |\n",
       "| 7 | 1 | 1 | 1 |\n",
       "| 8 | 1 | 1 | 1 |\n",
       "\n"
      ],
      "text/plain": [
       "  (Intercept) diet2 sexm\n",
       "1 1           0     0   \n",
       "2 1           0     0   \n",
       "3 1           0     1   \n",
       "4 1           0     1   \n",
       "5 1           1     0   \n",
       "6 1           1     0   \n",
       "7 1           1     1   \n",
       "8 1           1     1   "
      ]
     },
     "metadata": {},
     "output_type": "display_data"
    }
   ],
   "source": [
    "diet <- factor(c(1,1,1,1,2,2,2,2))\n",
    "sex <- factor(c(\"f\",\"f\",\"m\",\"m\",\"f\",\"f\",\"m\",\"m\"))\n",
    "model.matrix(~ diet + sex)"
   ]
  },
  {
   "cell_type": "code",
   "execution_count": 33,
   "id": "726d1546",
   "metadata": {},
   "outputs": [
    {
     "data": {
      "text/html": [
       "<table class=\"dataframe\">\n",
       "<caption>A matrix: 8 × 4 of type dbl</caption>\n",
       "<thead>\n",
       "\t<tr><th></th><th scope=col>(Intercept)</th><th scope=col>diet2</th><th scope=col>sexm</th><th scope=col>diet2:sexm</th></tr>\n",
       "</thead>\n",
       "<tbody>\n",
       "\t<tr><th scope=row>1</th><td>1</td><td>0</td><td>0</td><td>0</td></tr>\n",
       "\t<tr><th scope=row>2</th><td>1</td><td>0</td><td>0</td><td>0</td></tr>\n",
       "\t<tr><th scope=row>3</th><td>1</td><td>0</td><td>1</td><td>0</td></tr>\n",
       "\t<tr><th scope=row>4</th><td>1</td><td>0</td><td>1</td><td>0</td></tr>\n",
       "\t<tr><th scope=row>5</th><td>1</td><td>1</td><td>0</td><td>0</td></tr>\n",
       "\t<tr><th scope=row>6</th><td>1</td><td>1</td><td>0</td><td>0</td></tr>\n",
       "\t<tr><th scope=row>7</th><td>1</td><td>1</td><td>1</td><td>1</td></tr>\n",
       "\t<tr><th scope=row>8</th><td>1</td><td>1</td><td>1</td><td>1</td></tr>\n",
       "</tbody>\n",
       "</table>\n"
      ],
      "text/latex": [
       "A matrix: 8 × 4 of type dbl\n",
       "\\begin{tabular}{r|llll}\n",
       "  & (Intercept) & diet2 & sexm & diet2:sexm\\\\\n",
       "\\hline\n",
       "\t1 & 1 & 0 & 0 & 0\\\\\n",
       "\t2 & 1 & 0 & 0 & 0\\\\\n",
       "\t3 & 1 & 0 & 1 & 0\\\\\n",
       "\t4 & 1 & 0 & 1 & 0\\\\\n",
       "\t5 & 1 & 1 & 0 & 0\\\\\n",
       "\t6 & 1 & 1 & 0 & 0\\\\\n",
       "\t7 & 1 & 1 & 1 & 1\\\\\n",
       "\t8 & 1 & 1 & 1 & 1\\\\\n",
       "\\end{tabular}\n"
      ],
      "text/markdown": [
       "\n",
       "A matrix: 8 × 4 of type dbl\n",
       "\n",
       "| <!--/--> | (Intercept) | diet2 | sexm | diet2:sexm |\n",
       "|---|---|---|---|---|\n",
       "| 1 | 1 | 0 | 0 | 0 |\n",
       "| 2 | 1 | 0 | 0 | 0 |\n",
       "| 3 | 1 | 0 | 1 | 0 |\n",
       "| 4 | 1 | 0 | 1 | 0 |\n",
       "| 5 | 1 | 1 | 0 | 0 |\n",
       "| 6 | 1 | 1 | 0 | 0 |\n",
       "| 7 | 1 | 1 | 1 | 1 |\n",
       "| 8 | 1 | 1 | 1 | 1 |\n",
       "\n"
      ],
      "text/plain": [
       "  (Intercept) diet2 sexm diet2:sexm\n",
       "1 1           0     0    0         \n",
       "2 1           0     0    0         \n",
       "3 1           0     1    0         \n",
       "4 1           0     1    0         \n",
       "5 1           1     0    0         \n",
       "6 1           1     0    0         \n",
       "7 1           1     1    1         \n",
       "8 1           1     1    1         "
      ]
     },
     "metadata": {},
     "output_type": "display_data"
    }
   ],
   "source": [
    "model.matrix(~ diet + sex + diet:sex)"
   ]
  },
  {
   "cell_type": "code",
   "execution_count": 34,
   "id": "5a98661b",
   "metadata": {},
   "outputs": [
    {
     "data": {
      "text/html": [
       "<table class=\"dataframe\">\n",
       "<caption>A matrix: 8 × 4 of type dbl</caption>\n",
       "<thead>\n",
       "\t<tr><th></th><th scope=col>(Intercept)</th><th scope=col>diet2</th><th scope=col>sexm</th><th scope=col>diet2:sexm</th></tr>\n",
       "</thead>\n",
       "<tbody>\n",
       "\t<tr><th scope=row>1</th><td>1</td><td>0</td><td>0</td><td>0</td></tr>\n",
       "\t<tr><th scope=row>2</th><td>1</td><td>0</td><td>0</td><td>0</td></tr>\n",
       "\t<tr><th scope=row>3</th><td>1</td><td>0</td><td>1</td><td>0</td></tr>\n",
       "\t<tr><th scope=row>4</th><td>1</td><td>0</td><td>1</td><td>0</td></tr>\n",
       "\t<tr><th scope=row>5</th><td>1</td><td>1</td><td>0</td><td>0</td></tr>\n",
       "\t<tr><th scope=row>6</th><td>1</td><td>1</td><td>0</td><td>0</td></tr>\n",
       "\t<tr><th scope=row>7</th><td>1</td><td>1</td><td>1</td><td>1</td></tr>\n",
       "\t<tr><th scope=row>8</th><td>1</td><td>1</td><td>1</td><td>1</td></tr>\n",
       "</tbody>\n",
       "</table>\n"
      ],
      "text/latex": [
       "A matrix: 8 × 4 of type dbl\n",
       "\\begin{tabular}{r|llll}\n",
       "  & (Intercept) & diet2 & sexm & diet2:sexm\\\\\n",
       "\\hline\n",
       "\t1 & 1 & 0 & 0 & 0\\\\\n",
       "\t2 & 1 & 0 & 0 & 0\\\\\n",
       "\t3 & 1 & 0 & 1 & 0\\\\\n",
       "\t4 & 1 & 0 & 1 & 0\\\\\n",
       "\t5 & 1 & 1 & 0 & 0\\\\\n",
       "\t6 & 1 & 1 & 0 & 0\\\\\n",
       "\t7 & 1 & 1 & 1 & 1\\\\\n",
       "\t8 & 1 & 1 & 1 & 1\\\\\n",
       "\\end{tabular}\n"
      ],
      "text/markdown": [
       "\n",
       "A matrix: 8 × 4 of type dbl\n",
       "\n",
       "| <!--/--> | (Intercept) | diet2 | sexm | diet2:sexm |\n",
       "|---|---|---|---|---|\n",
       "| 1 | 1 | 0 | 0 | 0 |\n",
       "| 2 | 1 | 0 | 0 | 0 |\n",
       "| 3 | 1 | 0 | 1 | 0 |\n",
       "| 4 | 1 | 0 | 1 | 0 |\n",
       "| 5 | 1 | 1 | 0 | 0 |\n",
       "| 6 | 1 | 1 | 0 | 0 |\n",
       "| 7 | 1 | 1 | 1 | 1 |\n",
       "| 8 | 1 | 1 | 1 | 1 |\n",
       "\n"
      ],
      "text/plain": [
       "  (Intercept) diet2 sexm diet2:sexm\n",
       "1 1           0     0    0         \n",
       "2 1           0     0    0         \n",
       "3 1           0     1    0         \n",
       "4 1           0     1    0         \n",
       "5 1           1     0    0         \n",
       "6 1           1     0    0         \n",
       "7 1           1     1    1         \n",
       "8 1           1     1    1         "
      ]
     },
     "metadata": {},
     "output_type": "display_data"
    }
   ],
   "source": [
    "model.matrix(~ diet*sex)"
   ]
  },
  {
   "cell_type": "markdown",
   "id": "16b4156f",
   "metadata": {},
   "source": [
    "### Releveling"
   ]
  },
  {
   "cell_type": "code",
   "execution_count": 35,
   "id": "f469eeba",
   "metadata": {},
   "outputs": [
    {
     "data": {
      "text/html": [
       "<table class=\"dataframe\">\n",
       "<caption>A matrix: 4 × 2 of type dbl</caption>\n",
       "<thead>\n",
       "\t<tr><th></th><th scope=col>(Intercept)</th><th scope=col>group1</th></tr>\n",
       "</thead>\n",
       "<tbody>\n",
       "\t<tr><th scope=row>1</th><td>1</td><td>1</td></tr>\n",
       "\t<tr><th scope=row>2</th><td>1</td><td>1</td></tr>\n",
       "\t<tr><th scope=row>3</th><td>1</td><td>0</td></tr>\n",
       "\t<tr><th scope=row>4</th><td>1</td><td>0</td></tr>\n",
       "</tbody>\n",
       "</table>\n"
      ],
      "text/latex": [
       "A matrix: 4 × 2 of type dbl\n",
       "\\begin{tabular}{r|ll}\n",
       "  & (Intercept) & group1\\\\\n",
       "\\hline\n",
       "\t1 & 1 & 1\\\\\n",
       "\t2 & 1 & 1\\\\\n",
       "\t3 & 1 & 0\\\\\n",
       "\t4 & 1 & 0\\\\\n",
       "\\end{tabular}\n"
      ],
      "text/markdown": [
       "\n",
       "A matrix: 4 × 2 of type dbl\n",
       "\n",
       "| <!--/--> | (Intercept) | group1 |\n",
       "|---|---|---|\n",
       "| 1 | 1 | 1 |\n",
       "| 2 | 1 | 1 |\n",
       "| 3 | 1 | 0 |\n",
       "| 4 | 1 | 0 |\n",
       "\n"
      ],
      "text/plain": [
       "  (Intercept) group1\n",
       "1 1           1     \n",
       "2 1           1     \n",
       "3 1           0     \n",
       "4 1           0     "
      ]
     },
     "metadata": {},
     "output_type": "display_data"
    }
   ],
   "source": [
    "group <- factor(c(1,1,2,2))\n",
    "group <- relevel(group, \"2\")\n",
    "model.matrix(~ group)"
   ]
  },
  {
   "cell_type": "code",
   "execution_count": 36,
   "id": "fac3619e",
   "metadata": {},
   "outputs": [
    {
     "data": {
      "text/html": [
       "<table class=\"dataframe\">\n",
       "<caption>A matrix: 4 × 2 of type dbl</caption>\n",
       "<thead>\n",
       "\t<tr><th></th><th scope=col>(Intercept)</th><th scope=col>group2</th></tr>\n",
       "</thead>\n",
       "<tbody>\n",
       "\t<tr><th scope=row>1</th><td>1</td><td>0</td></tr>\n",
       "\t<tr><th scope=row>2</th><td>1</td><td>0</td></tr>\n",
       "\t<tr><th scope=row>3</th><td>1</td><td>1</td></tr>\n",
       "\t<tr><th scope=row>4</th><td>1</td><td>1</td></tr>\n",
       "</tbody>\n",
       "</table>\n"
      ],
      "text/latex": [
       "A matrix: 4 × 2 of type dbl\n",
       "\\begin{tabular}{r|ll}\n",
       "  & (Intercept) & group2\\\\\n",
       "\\hline\n",
       "\t1 & 1 & 0\\\\\n",
       "\t2 & 1 & 0\\\\\n",
       "\t3 & 1 & 1\\\\\n",
       "\t4 & 1 & 1\\\\\n",
       "\\end{tabular}\n"
      ],
      "text/markdown": [
       "\n",
       "A matrix: 4 × 2 of type dbl\n",
       "\n",
       "| <!--/--> | (Intercept) | group2 |\n",
       "|---|---|---|\n",
       "| 1 | 1 | 0 |\n",
       "| 2 | 1 | 0 |\n",
       "| 3 | 1 | 1 |\n",
       "| 4 | 1 | 1 |\n",
       "\n"
      ],
      "text/plain": [
       "  (Intercept) group2\n",
       "1 1           0     \n",
       "2 1           0     \n",
       "3 1           1     \n",
       "4 1           1     "
      ]
     },
     "metadata": {},
     "output_type": "display_data"
    }
   ],
   "source": [
    "group <- factor(group, levels=c(\"1\",\"2\"))\n",
    "model.matrix(~ group)"
   ]
  },
  {
   "cell_type": "markdown",
   "id": "65cf7ba1",
   "metadata": {},
   "source": [
    "### Where does model.matrix look for the data?"
   ]
  },
  {
   "cell_type": "code",
   "execution_count": 37,
   "id": "a144dfe6",
   "metadata": {},
   "outputs": [
    {
     "data": {
      "text/html": [
       "<table class=\"dataframe\">\n",
       "<caption>A matrix: 4 × 2 of type dbl</caption>\n",
       "<thead>\n",
       "\t<tr><th></th><th scope=col>(Intercept)</th><th scope=col>group</th></tr>\n",
       "</thead>\n",
       "<tbody>\n",
       "\t<tr><th scope=row>1</th><td>1</td><td>5</td></tr>\n",
       "\t<tr><th scope=row>2</th><td>1</td><td>6</td></tr>\n",
       "\t<tr><th scope=row>3</th><td>1</td><td>7</td></tr>\n",
       "\t<tr><th scope=row>4</th><td>1</td><td>8</td></tr>\n",
       "</tbody>\n",
       "</table>\n"
      ],
      "text/latex": [
       "A matrix: 4 × 2 of type dbl\n",
       "\\begin{tabular}{r|ll}\n",
       "  & (Intercept) & group\\\\\n",
       "\\hline\n",
       "\t1 & 1 & 5\\\\\n",
       "\t2 & 1 & 6\\\\\n",
       "\t3 & 1 & 7\\\\\n",
       "\t4 & 1 & 8\\\\\n",
       "\\end{tabular}\n"
      ],
      "text/markdown": [
       "\n",
       "A matrix: 4 × 2 of type dbl\n",
       "\n",
       "| <!--/--> | (Intercept) | group |\n",
       "|---|---|---|\n",
       "| 1 | 1 | 5 |\n",
       "| 2 | 1 | 6 |\n",
       "| 3 | 1 | 7 |\n",
       "| 4 | 1 | 8 |\n",
       "\n"
      ],
      "text/plain": [
       "  (Intercept) group\n",
       "1 1           5    \n",
       "2 1           6    \n",
       "3 1           7    \n",
       "4 1           8    "
      ]
     },
     "metadata": {},
     "output_type": "display_data"
    }
   ],
   "source": [
    "group <- 1:4\n",
    "model.matrix(~ group, data=data.frame(group=5:8))"
   ]
  },
  {
   "cell_type": "markdown",
   "id": "49395f91",
   "metadata": {},
   "source": [
    "### Continuous variables"
   ]
  },
  {
   "cell_type": "markdown",
   "id": "9fcca700",
   "metadata": {},
   "source": [
    "In this chapter, we focus on models based on indicator values. In certain designs, however, we will\n",
    "be interested in using numeric variables in the design formula, as opposed to converting them to\n",
    "factors first. For example, in the falling object example, time was a continuous variable in the model\n",
    "and time squared was also included:"
   ]
  },
  {
   "cell_type": "code",
   "execution_count": 38,
   "id": "a6a679b4",
   "metadata": {},
   "outputs": [
    {
     "data": {
      "text/html": [
       "<table class=\"dataframe\">\n",
       "<caption>A matrix: 4 × 3 of type dbl</caption>\n",
       "<thead>\n",
       "\t<tr><th></th><th scope=col>(Intercept)</th><th scope=col>tt</th><th scope=col>I(tt^2)</th></tr>\n",
       "</thead>\n",
       "<tbody>\n",
       "\t<tr><th scope=row>1</th><td>1</td><td>0.000000</td><td> 0.000000</td></tr>\n",
       "\t<tr><th scope=row>2</th><td>1</td><td>1.133333</td><td> 1.284444</td></tr>\n",
       "\t<tr><th scope=row>3</th><td>1</td><td>2.266667</td><td> 5.137778</td></tr>\n",
       "\t<tr><th scope=row>4</th><td>1</td><td>3.400000</td><td>11.560000</td></tr>\n",
       "</tbody>\n",
       "</table>\n"
      ],
      "text/latex": [
       "A matrix: 4 × 3 of type dbl\n",
       "\\begin{tabular}{r|lll}\n",
       "  & (Intercept) & tt & I(tt\\textasciicircum{}2)\\\\\n",
       "\\hline\n",
       "\t1 & 1 & 0.000000 &  0.000000\\\\\n",
       "\t2 & 1 & 1.133333 &  1.284444\\\\\n",
       "\t3 & 1 & 2.266667 &  5.137778\\\\\n",
       "\t4 & 1 & 3.400000 & 11.560000\\\\\n",
       "\\end{tabular}\n"
      ],
      "text/markdown": [
       "\n",
       "A matrix: 4 × 3 of type dbl\n",
       "\n",
       "| <!--/--> | (Intercept) | tt | I(tt^2) |\n",
       "|---|---|---|---|\n",
       "| 1 | 1 | 0.000000 |  0.000000 |\n",
       "| 2 | 1 | 1.133333 |  1.284444 |\n",
       "| 3 | 1 | 2.266667 |  5.137778 |\n",
       "| 4 | 1 | 3.400000 | 11.560000 |\n",
       "\n"
      ],
      "text/plain": [
       "  (Intercept) tt       I(tt^2)  \n",
       "1 1           0.000000  0.000000\n",
       "2 1           1.133333  1.284444\n",
       "3 1           2.266667  5.137778\n",
       "4 1           3.400000 11.560000"
      ]
     },
     "metadata": {},
     "output_type": "display_data"
    }
   ],
   "source": [
    "tt <- seq(0,3.4,len=4)\n",
    "model.matrix(~ tt + I(tt^2))"
   ]
  },
  {
   "cell_type": "markdown",
   "id": "923ced2b",
   "metadata": {},
   "source": [
    "Suppose we have an experiment with the following design: on three different days, we perform an\n",
    "experiment with two treated and two control units. We then measure some outcome Yi, and we\n",
    "want to test the effect of treatment as well the effects of different days (perhaps the temperature in\n",
    "the lab affects the measuring device). Assume that the true condition effect is the same for each day\n",
    "(no interaction between condition and day). We then define factors in R for day and for condition.\n",
    "    \n",
    "condition/day A B C\n",
    "\n",
    "treatment 2 2 2\n",
    "\n",
    "control 2 2 2"
   ]
  },
  {
   "cell_type": "markdown",
   "id": "9efd5df8",
   "metadata": {},
   "source": [
    "Q1: Given the factors we have defined above and without defining any new ones, which of the\n",
    "following R formula will produce a design matrix (model matrix) that lets us analyze the effect\n",
    "of condition, controlling for the different days?\n",
    "\n",
    "• A) ∼ day + condition\n",
    "\n",
    "• B) ∼ condition ∼ day\n",
    "\n",
    "• C) ∼ A + B + C + control + treated\n",
    "\n",
    "• D) ∼ B + C + treated\n",
    "\n",
    "Remember that using the ∼ and the names for the two variables we want in the model will produce\n",
    "a design matrix controlling for all levels of day and all levels of condition. We do not use the levels\n",
    "in the design formula."
   ]
  },
  {
   "cell_type": "code",
   "execution_count": 39,
   "id": "361a339f",
   "metadata": {},
   "outputs": [],
   "source": [
    "day = c('A','A','B','B','C','C')\n",
    "condition = c('control','treatment','control','treatment','control','treatment')"
   ]
  },
  {
   "cell_type": "markdown",
   "id": "ffa28fec",
   "metadata": {},
   "source": [
    "A"
   ]
  },
  {
   "cell_type": "code",
   "execution_count": 40,
   "id": "e957d57a",
   "metadata": {},
   "outputs": [
    {
     "data": {
      "text/html": [
       "<table class=\"dataframe\">\n",
       "<caption>A matrix: 6 × 4 of type dbl</caption>\n",
       "<thead>\n",
       "\t<tr><th></th><th scope=col>(Intercept)</th><th scope=col>dayB</th><th scope=col>dayC</th><th scope=col>conditiontreatment</th></tr>\n",
       "</thead>\n",
       "<tbody>\n",
       "\t<tr><th scope=row>1</th><td>1</td><td>0</td><td>0</td><td>0</td></tr>\n",
       "\t<tr><th scope=row>2</th><td>1</td><td>0</td><td>0</td><td>1</td></tr>\n",
       "\t<tr><th scope=row>3</th><td>1</td><td>1</td><td>0</td><td>0</td></tr>\n",
       "\t<tr><th scope=row>4</th><td>1</td><td>1</td><td>0</td><td>1</td></tr>\n",
       "\t<tr><th scope=row>5</th><td>1</td><td>0</td><td>1</td><td>0</td></tr>\n",
       "\t<tr><th scope=row>6</th><td>1</td><td>0</td><td>1</td><td>1</td></tr>\n",
       "</tbody>\n",
       "</table>\n"
      ],
      "text/latex": [
       "A matrix: 6 × 4 of type dbl\n",
       "\\begin{tabular}{r|llll}\n",
       "  & (Intercept) & dayB & dayC & conditiontreatment\\\\\n",
       "\\hline\n",
       "\t1 & 1 & 0 & 0 & 0\\\\\n",
       "\t2 & 1 & 0 & 0 & 1\\\\\n",
       "\t3 & 1 & 1 & 0 & 0\\\\\n",
       "\t4 & 1 & 1 & 0 & 1\\\\\n",
       "\t5 & 1 & 0 & 1 & 0\\\\\n",
       "\t6 & 1 & 0 & 1 & 1\\\\\n",
       "\\end{tabular}\n"
      ],
      "text/markdown": [
       "\n",
       "A matrix: 6 × 4 of type dbl\n",
       "\n",
       "| <!--/--> | (Intercept) | dayB | dayC | conditiontreatment |\n",
       "|---|---|---|---|---|\n",
       "| 1 | 1 | 0 | 0 | 0 |\n",
       "| 2 | 1 | 0 | 0 | 1 |\n",
       "| 3 | 1 | 1 | 0 | 0 |\n",
       "| 4 | 1 | 1 | 0 | 1 |\n",
       "| 5 | 1 | 0 | 1 | 0 |\n",
       "| 6 | 1 | 0 | 1 | 1 |\n",
       "\n"
      ],
      "text/plain": [
       "  (Intercept) dayB dayC conditiontreatment\n",
       "1 1           0    0    0                 \n",
       "2 1           0    0    1                 \n",
       "3 1           1    0    0                 \n",
       "4 1           1    0    1                 \n",
       "5 1           0    1    0                 \n",
       "6 1           0    1    1                 "
      ]
     },
     "metadata": {},
     "output_type": "display_data"
    }
   ],
   "source": [
    "model.matrix(~day+condition)"
   ]
  },
  {
   "cell_type": "markdown",
   "id": "d8d978eb",
   "metadata": {},
   "source": [
    "### The mouse diet example"
   ]
  },
  {
   "cell_type": "code",
   "execution_count": 41,
   "id": "ae5343ba",
   "metadata": {},
   "outputs": [
    {
     "data": {
      "image/png": "[encoded data removed]",
      "text/plain": [
       "Plot with title \"Bodyweight over Diet\""
      ]
     },
     "metadata": {
      "image/png": {
       "height": 420,
       "width": 420
      }
     },
     "output_type": "display_data"
    }
   ],
   "source": [
    "dat <- read.csv(\"D:\\\\desktop\\\\dataR\\\\dagdata-master\\\\inst\\\\extdata\\\\femaleMiceWeights.csv\") ##previously downloaded\n",
    "stripchart(dat$Bodyweight ~ dat$Diet, vertical=TRUE, method=\"jitter\",\n",
    "main=\"Bodyweight over Diet\")"
   ]
  },
  {
   "cell_type": "markdown",
   "id": "195a31bb",
   "metadata": {},
   "source": [
    "## The Mathematics Behind lm()"
   ]
  },
  {
   "cell_type": "code",
   "execution_count": 43,
   "id": "9d98d64e",
   "metadata": {},
   "outputs": [
    {
     "data": {
      "text/html": [
       "<table class=\"dataframe\">\n",
       "<caption>A matrix: 2 × 1 of type dbl</caption>\n",
       "<tbody>\n",
       "\t<tr><th scope=row>(Intercept)</th><td>23.813333</td></tr>\n",
       "\t<tr><th scope=row>Diethf</th><td> 3.020833</td></tr>\n",
       "</tbody>\n",
       "</table>\n"
      ],
      "text/latex": [
       "A matrix: 2 × 1 of type dbl\n",
       "\\begin{tabular}{r|l}\n",
       "\t(Intercept) & 23.813333\\\\\n",
       "\tDiethf &  3.020833\\\\\n",
       "\\end{tabular}\n"
      ],
      "text/markdown": [
       "\n",
       "A matrix: 2 × 1 of type dbl\n",
       "\n",
       "| (Intercept) | 23.813333 |\n",
       "| Diethf |  3.020833 |\n",
       "\n"
      ],
      "text/plain": [
       "            [,1]     \n",
       "(Intercept) 23.813333\n",
       "Diethf       3.020833"
      ]
     },
     "metadata": {},
     "output_type": "display_data"
    }
   ],
   "source": [
    "Y <- dat$Bodyweight\n",
    "X <- model.matrix(~ Diet, data=dat)\n",
    "solve(t(X) %*% X) %*% t(X) %*% Y"
   ]
  },
  {
   "cell_type": "code",
   "execution_count": 44,
   "id": "120f32e5",
   "metadata": {},
   "outputs": [
    {
     "data": {
      "text/html": [
       "23.8133333333333"
      ],
      "text/latex": [
       "23.8133333333333"
      ],
      "text/markdown": [
       "23.8133333333333"
      ],
      "text/plain": [
       "[1] 23.81333"
      ]
     },
     "metadata": {},
     "output_type": "display_data"
    }
   ],
   "source": [
    "s <- split(dat$Bodyweight, dat$Diet)\n",
    "mean(s[[\"chow\"]])"
   ]
  },
  {
   "cell_type": "code",
   "execution_count": 45,
   "id": "fecee4ca",
   "metadata": {},
   "outputs": [
    {
     "data": {
      "text/html": [
       "3.02083333333334"
      ],
      "text/latex": [
       "3.02083333333334"
      ],
      "text/markdown": [
       "3.02083333333334"
      ],
      "text/plain": [
       "[1] 3.020833"
      ]
     },
     "metadata": {},
     "output_type": "display_data"
    }
   ],
   "source": [
    "mean(s[[\"hf\"]]) - mean(s[[\"chow\"]])"
   ]
  },
  {
   "cell_type": "code",
   "execution_count": 46,
   "id": "7e5ad9a4",
   "metadata": {},
   "outputs": [
    {
     "data": {
      "text/plain": [
       "\n",
       "Call:\n",
       "lm(formula = Bodyweight ~ Diet, data = dat)\n",
       "\n",
       "Residuals:\n",
       "    Min      1Q  Median      3Q     Max \n",
       "-6.1042 -2.4358 -0.4138  2.8335  7.1858 \n",
       "\n",
       "Coefficients:\n",
       "            Estimate Std. Error t value Pr(>|t|)    \n",
       "(Intercept)   23.813      1.039  22.912   <2e-16 ***\n",
       "Diethf         3.021      1.470   2.055   0.0519 .  \n",
       "---\n",
       "Signif. codes:  0 '***' 0.001 '**' 0.01 '*' 0.05 '.' 0.1 ' ' 1\n",
       "\n",
       "Residual standard error: 3.6 on 22 degrees of freedom\n",
       "Multiple R-squared:  0.1611,\tAdjusted R-squared:  0.1229 \n",
       "F-statistic: 4.224 on 1 and 22 DF,  p-value: 0.05192\n"
      ]
     },
     "metadata": {},
     "output_type": "display_data"
    }
   ],
   "source": [
    "fit <- lm(Bodyweight ~ Diet, data=dat)\n",
    "summary(fit)"
   ]
  },
  {
   "cell_type": "code",
   "execution_count": 47,
   "id": "c69f80ce",
   "metadata": {},
   "outputs": [
    {
     "data": {
      "text/html": [
       "<style>\n",
       ".dl-inline {width: auto; margin:0; padding: 0}\n",
       ".dl-inline>dt, .dl-inline>dd {float: none; width: auto; display: inline-block}\n",
       ".dl-inline>dt::after {content: \":\\0020\"; padding-right: .5ex}\n",
       ".dl-inline>dt:not(:first-of-type) {padding-left: .5ex}\n",
       "</style><dl class=dl-inline><dt>(Intercept)</dt><dd>23.8133333333333</dd><dt>Diethf</dt><dd>3.02083333333333</dd></dl>\n"
      ],
      "text/latex": [
       "\\begin{description*}\n",
       "\\item[(Intercept)] 23.8133333333333\n",
       "\\item[Diethf] 3.02083333333333\n",
       "\\end{description*}\n"
      ],
      "text/markdown": [
       "(Intercept)\n",
       ":   23.8133333333333Diethf\n",
       ":   3.02083333333333\n",
       "\n"
      ],
      "text/plain": [
       "(Intercept)      Diethf \n",
       "  23.813333    3.020833 "
      ]
     },
     "metadata": {},
     "output_type": "display_data"
    }
   ],
   "source": [
    "(coefs <- coef(fit))"
   ]
  },
  {
   "cell_type": "markdown",
   "id": "a7deec04",
   "metadata": {},
   "source": [
    "### Examining the coefficients"
   ]
  },
  {
   "cell_type": "code",
   "execution_count": 48,
   "id": "08de7bf9",
   "metadata": {},
   "outputs": [
    {
     "data": {
      "text/html": [
       "<table class=\"dataframe\">\n",
       "<caption>A matrix: 2 × 4 of type dbl</caption>\n",
       "<thead>\n",
       "\t<tr><th></th><th scope=col>Estimate</th><th scope=col>Std. Error</th><th scope=col>t value</th><th scope=col>Pr(&gt;|t|)</th></tr>\n",
       "</thead>\n",
       "<tbody>\n",
       "\t<tr><th scope=row>(Intercept)</th><td>23.813333</td><td>1.039353</td><td>22.911684</td><td>7.642256e-17</td></tr>\n",
       "\t<tr><th scope=row>Diethf</th><td> 3.020833</td><td>1.469867</td><td> 2.055174</td><td>5.192480e-02</td></tr>\n",
       "</tbody>\n",
       "</table>\n"
      ],
      "text/latex": [
       "A matrix: 2 × 4 of type dbl\n",
       "\\begin{tabular}{r|llll}\n",
       "  & Estimate & Std. Error & t value & Pr(>\\textbar{}t\\textbar{})\\\\\n",
       "\\hline\n",
       "\t(Intercept) & 23.813333 & 1.039353 & 22.911684 & 7.642256e-17\\\\\n",
       "\tDiethf &  3.020833 & 1.469867 &  2.055174 & 5.192480e-02\\\\\n",
       "\\end{tabular}\n"
      ],
      "text/markdown": [
       "\n",
       "A matrix: 2 × 4 of type dbl\n",
       "\n",
       "| <!--/--> | Estimate | Std. Error | t value | Pr(&gt;|t|) |\n",
       "|---|---|---|---|---|\n",
       "| (Intercept) | 23.813333 | 1.039353 | 22.911684 | 7.642256e-17 |\n",
       "| Diethf |  3.020833 | 1.469867 |  2.055174 | 5.192480e-02 |\n",
       "\n"
      ],
      "text/plain": [
       "            Estimate  Std. Error t value   Pr(>|t|)    \n",
       "(Intercept) 23.813333 1.039353   22.911684 7.642256e-17\n",
       "Diethf       3.020833 1.469867    2.055174 5.192480e-02"
      ]
     },
     "metadata": {},
     "output_type": "display_data"
    }
   ],
   "source": [
    "summary(fit)$coefficients"
   ]
  },
  {
   "cell_type": "code",
   "execution_count": 49,
   "id": "cb0e6555",
   "metadata": {},
   "outputs": [
    {
     "data": {
      "text/html": [
       "2.05517399165623"
      ],
      "text/latex": [
       "2.05517399165623"
      ],
      "text/markdown": [
       "2.05517399165623"
      ],
      "text/plain": [
       "[1] 2.055174"
      ]
     },
     "metadata": {},
     "output_type": "display_data"
    }
   ],
   "source": [
    "ttest <- t.test(s[[\"hf\"]], s[[\"chow\"]], var.equal=TRUE)\n",
    "summary(fit)$coefficients[2,3]"
   ]
  },
  {
   "cell_type": "code",
   "execution_count": 50,
   "id": "642b8399",
   "metadata": {},
   "outputs": [
    {
     "data": {
      "text/html": [
       "<strong>t:</strong> 2.05517399165623"
      ],
      "text/latex": [
       "\\textbf{t:} 2.05517399165623"
      ],
      "text/markdown": [
       "**t:** 2.05517399165623"
      ],
      "text/plain": [
       "       t \n",
       "2.055174 "
      ]
     },
     "metadata": {},
     "output_type": "display_data"
    }
   ],
   "source": [
    "ttest$statistic"
   ]
  },
  {
   "cell_type": "markdown",
   "id": "735c51a7",
   "metadata": {},
   "source": [
    "### Exercise P198"
   ]
  },
  {
   "cell_type": "markdown",
   "id": "a8fbbd4a",
   "metadata": {},
   "source": [
    "Q1: You can make a design matrix X for a two group comparison, either using model.matrix or\n",
    "simply with:"
   ]
  },
  {
   "cell_type": "code",
   "execution_count": 52,
   "id": "ec74d6a8",
   "metadata": {},
   "outputs": [
    {
     "data": {
      "text/html": [
       "12"
      ],
      "text/latex": [
       "12"
      ],
      "text/markdown": [
       "12"
      ],
      "text/plain": [
       "[1] 12"
      ]
     },
     "metadata": {},
     "output_type": "display_data"
    }
   ],
   "source": [
    "X <- cbind(rep(1,5 + 7),rep(c(0,1),c(5, 7)))\n",
    "crossprod(X)[1,1]"
   ]
  },
  {
   "cell_type": "markdown",
   "id": "7744d71c",
   "metadata": {},
   "source": [
    "Q2: The other entries of $X^TX$ are all the same. What is this number?"
   ]
  },
  {
   "cell_type": "code",
   "execution_count": 53,
   "id": "05785027",
   "metadata": {},
   "outputs": [
    {
     "data": {
      "text/html": [
       "<table class=\"dataframe\">\n",
       "<caption>A matrix: 2 × 2 of type dbl</caption>\n",
       "<tbody>\n",
       "\t<tr><td>12</td><td>7</td></tr>\n",
       "\t<tr><td> 7</td><td>7</td></tr>\n",
       "</tbody>\n",
       "</table>\n"
      ],
      "text/latex": [
       "A matrix: 2 × 2 of type dbl\n",
       "\\begin{tabular}{ll}\n",
       "\t 12 & 7\\\\\n",
       "\t  7 & 7\\\\\n",
       "\\end{tabular}\n"
      ],
      "text/markdown": [
       "\n",
       "A matrix: 2 × 2 of type dbl\n",
       "\n",
       "| 12 | 7 |\n",
       "|  7 | 7 |\n",
       "\n"
      ],
      "text/plain": [
       "     [,1] [,2]\n",
       "[1,] 12   7   \n",
       "[2,]  7   7   "
      ]
     },
     "metadata": {},
     "output_type": "display_data"
    }
   ],
   "source": [
    "crossprod(X)"
   ]
  },
  {
   "cell_type": "markdown",
   "id": "0c0ea133",
   "metadata": {},
   "source": [
    "## Standard Errors"
   ]
  },
  {
   "cell_type": "code",
   "execution_count": 54,
   "id": "01af2101",
   "metadata": {},
   "outputs": [
    {
     "data": {
      "text/html": [
       "<style>\n",
       ".list-inline {list-style: none; margin:0; padding: 0}\n",
       ".list-inline>li {display: inline-block}\n",
       ".list-inline>li:not(:last-child)::after {content: \"\\00b7\"; padding: 0 .5ex}\n",
       "</style>\n",
       "<ol class=list-inline><li>-5.03864554979871</li><li>-4.894361936822</li><li>-5.14375592912573</li><li>-5.22095994204204</li><li>-5.06332230624764</li><li>-4.77752071960512</li></ol>\n"
      ],
      "text/latex": [
       "\\begin{enumerate*}\n",
       "\\item -5.03864554979871\n",
       "\\item -4.894361936822\n",
       "\\item -5.14375592912573\n",
       "\\item -5.22095994204204\n",
       "\\item -5.06332230624764\n",
       "\\item -4.77752071960512\n",
       "\\end{enumerate*}\n"
      ],
      "text/markdown": [
       "1. -5.03864554979871\n",
       "2. -4.894361936822\n",
       "3. -5.14375592912573\n",
       "4. -5.22095994204204\n",
       "5. -5.06332230624764\n",
       "6. -4.77752071960512\n",
       "\n",
       "\n"
      ],
      "text/plain": [
       "[1] -5.038646 -4.894362 -5.143756 -5.220960 -5.063322 -4.777521"
      ]
     },
     "metadata": {},
     "output_type": "display_data"
    }
   ],
   "source": [
    "set.seed(1) \n",
    "B <- 10000\n",
    "h0 <- 56.67\n",
    "v0 <- 0 \n",
    "g <- 9.8 ##meters per second\n",
    "n <- 25\n",
    "tt <- seq(0,3.4,len=n) ##time in secs, t is a base function\n",
    "X <-cbind(1,tt,tt^2)\n",
    "##create X'X^-1 X'\n",
    "A <- solve(crossprod(X)) %*% t(X)\n",
    "betahat<-replicate(B,{\n",
    "y <- h0 + v0*tt - 0.5*g*tt^2 + rnorm(n,sd=1)\n",
    "betahats <- A%*%y\n",
    "return(betahats[3])\n",
    "})\n",
    "head(betahat)"
   ]
  },
  {
   "cell_type": "code",
   "execution_count": 55,
   "id": "830e5e3e",
   "metadata": {},
   "outputs": [
    {
     "data": {
      "image/png": "[encoded data removed]",
      "text/plain": [
       "Plot with title \"Normal Q-Q Plot\""
      ]
     },
     "metadata": {
      "image/png": {
       "height": 420,
       "width": 420
      }
     },
     "output_type": "display_data"
    }
   ],
   "source": [
    "library(rafalib)\n",
    "mypar(1,2)\n",
    "hist(betahat)\n",
    "qqnorm(betahat)\n",
    "qqline(betahat)"
   ]
  },
  {
   "cell_type": "code",
   "execution_count": 56,
   "id": "65656350",
   "metadata": {},
   "outputs": [
    {
     "data": {
      "text/html": [
       "-4.9"
      ],
      "text/latex": [
       "-4.9"
      ],
      "text/markdown": [
       "-4.9"
      ],
      "text/plain": [
       "[1] -4.9"
      ]
     },
     "metadata": {},
     "output_type": "display_data"
    }
   ],
   "source": [
    "round(mean(betahat),1)"
   ]
  },
  {
   "cell_type": "code",
   "execution_count": 57,
   "id": "ff96c29a",
   "metadata": {},
   "outputs": [
    {
     "data": {
      "text/html": [
       "0.212997555990883"
      ],
      "text/latex": [
       "0.212997555990883"
      ],
      "text/markdown": [
       "0.212997555990883"
      ],
      "text/plain": [
       "[1] 0.2129976"
      ]
     },
     "metadata": {},
     "output_type": "display_data"
    }
   ],
   "source": [
    "sd(betahat)"
   ]
  },
  {
   "cell_type": "markdown",
   "id": "a06f5203",
   "metadata": {},
   "source": [
    "### Father and son heights"
   ]
  },
  {
   "cell_type": "code",
   "execution_count": 58,
   "id": "d65e21ad",
   "metadata": {},
   "outputs": [],
   "source": [
    "x <- father.son$fheight\n",
    "y <- father.son$sheight\n",
    "n <- length(y)"
   ]
  },
  {
   "cell_type": "code",
   "execution_count": 59,
   "id": "2d4635ef",
   "metadata": {},
   "outputs": [],
   "source": [
    "N <- 50\n",
    "B <-1000\n",
    "betahat <- replicate(B,{\n",
    "index <- sample(n,N)\n",
    "sampledat <- father.son[index,]\n",
    "x <- sampledat$fheight\n",
    "y <- sampledat$sheight\n",
    "lm(y~x)$coef\n",
    "})\n",
    "betahat <- t(betahat)"
   ]
  },
  {
   "cell_type": "code",
   "execution_count": 60,
   "id": "83509a2a",
   "metadata": {},
   "outputs": [
    {
     "data": {
      "image/png": "[encoded data removed]",
      "text/plain": [
       "Plot with title \"Normal Q-Q Plot\""
      ]
     },
     "metadata": {
      "image/png": {
       "height": 420,
       "width": 420
      }
     },
     "output_type": "display_data"
    }
   ],
   "source": [
    "mypar(1,2)\n",
    "qqnorm(betahat[,1])\n",
    "qqline(betahat[,1])\n",
    "qqnorm(betahat[,2])\n",
    "qqline(betahat[,2])"
   ]
  },
  {
   "cell_type": "code",
   "execution_count": 61,
   "id": "535bcb77",
   "metadata": {},
   "outputs": [
    {
     "data": {
      "text/html": [
       "-0.999109933957513"
      ],
      "text/latex": [
       "-0.999109933957513"
      ],
      "text/markdown": [
       "-0.999109933957513"
      ],
      "text/plain": [
       "[1] -0.9991099"
      ]
     },
     "metadata": {},
     "output_type": "display_data"
    }
   ],
   "source": [
    "cor(betahat[,1],betahat[,2])"
   ]
  },
  {
   "cell_type": "code",
   "execution_count": 62,
   "id": "89d806bc",
   "metadata": {},
   "outputs": [
    {
     "data": {
      "text/html": [
       "-0.991396260350176"
      ],
      "text/latex": [
       "-0.991396260350176"
      ],
      "text/markdown": [
       "-0.991396260350176"
      ],
      "text/plain": [
       "[1] -0.9913963"
      ]
     },
     "metadata": {},
     "output_type": "display_data"
    }
   ],
   "source": [
    "mean( (betahat[,1]-mean(betahat[,1] ))* (betahat[,2]-mean(betahat[,2])))"
   ]
  },
  {
   "cell_type": "markdown",
   "id": "66767b18",
   "metadata": {},
   "source": [
    "### Estimating $\\sigma^2$"
   ]
  },
  {
   "cell_type": "code",
   "execution_count": 63,
   "id": "9f330409",
   "metadata": {},
   "outputs": [],
   "source": [
    "n <- nrow(father.son)\n",
    "N <- 50\n",
    "index <- sample(n,N)\n",
    "sampledat <- father.son[index,]\n",
    "x <- sampledat$fheight\n",
    "y <- sampledat$sheight\n",
    "X <- model.matrix(~x)\n",
    "N <- nrow(X)\n",
    "p <- ncol(X)\n",
    "XtXinv <- solve(crossprod(X))\n",
    "resid <- y - X %*% XtXinv %*% crossprod(X,y)\n",
    "s <- sqrt( sum(resid^2)/(N-p))\n",
    "ses <- sqrt(diag(XtXinv))*s"
   ]
  },
  {
   "cell_type": "code",
   "execution_count": 64,
   "id": "b69b6d4b",
   "metadata": {},
   "outputs": [
    {
     "data": {
      "text/html": [
       "<style>\n",
       ".dl-inline {width: auto; margin:0; padding: 0}\n",
       ".dl-inline>dt, .dl-inline>dd {float: none; width: auto; display: inline-block}\n",
       ".dl-inline>dt::after {content: \":\\0020\"; padding-right: .5ex}\n",
       ".dl-inline>dt:not(:first-of-type) {padding-left: .5ex}\n",
       "</style><dl class=dl-inline><dt>(Intercept)</dt><dd>9.16428411506669</dd><dt>x</dt><dd>0.135924211894713</dd></dl>\n"
      ],
      "text/latex": [
       "\\begin{description*}\n",
       "\\item[(Intercept)] 9.16428411506669\n",
       "\\item[x] 0.135924211894713\n",
       "\\end{description*}\n"
      ],
      "text/markdown": [
       "(Intercept)\n",
       ":   9.16428411506669x\n",
       ":   0.135924211894713\n",
       "\n"
      ],
      "text/plain": [
       "(Intercept)           x \n",
       "  9.1642841   0.1359242 "
      ]
     },
     "metadata": {},
     "output_type": "display_data"
    }
   ],
   "source": [
    "summary(lm(y~x))$coef[,2]"
   ]
  },
  {
   "cell_type": "code",
   "execution_count": 65,
   "id": "58355cca",
   "metadata": {},
   "outputs": [
    {
     "data": {
      "text/html": [
       "<style>\n",
       ".dl-inline {width: auto; margin:0; padding: 0}\n",
       ".dl-inline>dt, .dl-inline>dd {float: none; width: auto; display: inline-block}\n",
       ".dl-inline>dt::after {content: \":\\0020\"; padding-right: .5ex}\n",
       ".dl-inline>dt:not(:first-of-type) {padding-left: .5ex}\n",
       "</style><dl class=dl-inline><dt>(Intercept)</dt><dd>8.20329440151577</dd><dt>x</dt><dd>0.121082174881004</dd></dl>\n"
      ],
      "text/latex": [
       "\\begin{description*}\n",
       "\\item[(Intercept)] 8.20329440151577\n",
       "\\item[x] 0.121082174881004\n",
       "\\end{description*}\n"
      ],
      "text/markdown": [
       "(Intercept)\n",
       ":   8.20329440151577x\n",
       ":   0.121082174881004\n",
       "\n"
      ],
      "text/plain": [
       "(Intercept)           x \n",
       "  8.2032944   0.1210822 "
      ]
     },
     "metadata": {},
     "output_type": "display_data"
    }
   ],
   "source": [
    "apply(betahat,2,sd)"
   ]
  },
  {
   "cell_type": "markdown",
   "id": "58266a0e",
   "metadata": {},
   "source": [
    "### Code versus math"
   ]
  },
  {
   "cell_type": "code",
   "execution_count": 66,
   "id": "aba6e05b",
   "metadata": {},
   "outputs": [
    {
     "data": {
      "text/html": [
       "1.88357565122971"
      ],
      "text/latex": [
       "1.88357565122971"
      ],
      "text/markdown": [
       "1.88357565122971"
      ],
      "text/plain": [
       "[1] 1.883576"
      ]
     },
     "metadata": {},
     "output_type": "display_data"
    }
   ],
   "source": [
    "x = father.son$fheight\n",
    "beta = c(34,0.5)\n",
    "var(beta[1]+beta[2]*x)"
   ]
  },
  {
   "cell_type": "code",
   "execution_count": 67,
   "id": "80e7ac12",
   "metadata": {},
   "outputs": [
    {
     "data": {
      "text/html": [
       "326.658071672217"
      ],
      "text/latex": [
       "326.658071672217"
      ],
      "text/markdown": [
       "326.658071672217"
      ],
      "text/plain": [
       "[1] 326.6581"
      ]
     },
     "metadata": {},
     "output_type": "display_data"
    }
   ],
   "source": [
    "n <- length(tt)\n",
    "y <- h0 + v0*tt - 0.5*g*tt^2 + rnorm(n,sd=1)\n",
    "var(y)"
   ]
  },
  {
   "cell_type": "markdown",
   "id": "9e01d5c7",
   "metadata": {},
   "source": [
    "### Exercises P208"
   ]
  },
  {
   "cell_type": "code",
   "execution_count": 1,
   "id": "41b7fce6",
   "metadata": {},
   "outputs": [
    {
     "name": "stderr",
     "output_type": "stream",
     "text": [
      "Loading required package: MASS\n",
      "\n",
      "Loading required package: HistData\n",
      "\n",
      "Loading required package: Hmisc\n",
      "\n",
      "Loading required package: lattice\n",
      "\n",
      "Loading required package: survival\n",
      "\n",
      "Loading required package: Formula\n",
      "\n",
      "Loading required package: ggplot2\n",
      "\n",
      "\n",
      "Attaching package: 'Hmisc'\n",
      "\n",
      "\n",
      "The following objects are masked from 'package:base':\n",
      "\n",
      "    format.pval, units\n",
      "\n",
      "\n",
      "\n",
      "Attaching package: 'UsingR'\n",
      "\n",
      "\n",
      "The following object is masked from 'package:survival':\n",
      "\n",
      "    cancer\n",
      "\n",
      "\n"
     ]
    }
   ],
   "source": [
    "library(UsingR)\n",
    "N <- 50\n",
    "set.seed(1)\n",
    "a=sample(1:1078,N)\n",
    "b=numeric()\n",
    "sampledat=father.son[a,]\n",
    "x <- sampledat$fheight\n",
    "y <- sampledat$sheight\n",
    "betahat <- lm(y~x)$coef"
   ]
  },
  {
   "cell_type": "markdown",
   "id": "1783e5a5",
   "metadata": {},
   "source": [
    "Q1: The fitted values $\\hat{Y}$ from a linear model can be obtained with:"
   ]
  },
  {
   "cell_type": "code",
   "execution_count": 2,
   "id": "d270873c",
   "metadata": {},
   "outputs": [
    {
     "data": {
      "text/html": [
       "<style>\n",
       ".dl-inline {width: auto; margin:0; padding: 0}\n",
       ".dl-inline>dt, .dl-inline>dd {float: none; width: auto; display: inline-block}\n",
       ".dl-inline>dt::after {content: \":\\0020\"; padding-right: .5ex}\n",
       ".dl-inline>dt:not(:first-of-type) {padding-left: .5ex}\n",
       "</style><dl class=dl-inline><dt>1</dt><dd>69.270327464882</dd><dt>2</dt><dd>68.119314766767</dd><dt>3</dt><dd>69.0986908564192</dd><dt>4</dt><dd>68.528557528569</dd><dt>5</dt><dd>66.4806774475418</dd><dt>6</dt><dd>68.0181769976674</dd><dt>7</dt><dd>67.7978019327074</dd><dt>8</dt><dd>68.2041922627515</dd><dt>9</dt><dd>68.0492925094425</dd><dt>10</dt><dd>68.5089046973855</dd><dt>11</dt><dd>67.5933623590285</dd><dt>12</dt><dd>67.401003257473</dd><dt>13</dt><dd>67.7183115788795</dd><dt>14</dt><dd>66.2764602788144</dd><dt>15</dt><dd>68.482555005998</dd><dt>16</dt><dd>67.8080431511847</dd><dt>17</dt><dd>69.2574173869876</dd><dt>18</dt><dd>69.1113855898368</dd><dt>19</dt><dd>68.767914679621</dd><dt>20</dt><dd>67.5758453214261</dd><dt>21</dt><dd>66.6558442933288</dd><dt>22</dt><dd>68.721400272638</dd><dt>23</dt><dd>67.5559806760031</dd><dt>24</dt><dd>69.0142228679642</dd><dt>25</dt><dd>68.6252577893521</dd><dt>26</dt><dd>67.3359656952502</dd><dt>27</dt><dd>68.9276579185388</dd><dt>28</dt><dd>68.9404514986015</dd><dt>29</dt><dd>66.3720449846031</dd><dt>30</dt><dd>66.5819705470836</dd><dt>31</dt><dd>67.6350544618268</dd><dt>32</dt><dd>68.0323791424225</dd><dt>33</dt><dd>67.8791456611304</dd><dt>34</dt><dd>69.6910893910727</dd><dt>35</dt><dd>68.0345784802754</dd><dt>36</dt><dd>68.4774291014033</dd><dt>37</dt><dd>68.7105483231036</dd><dt>38</dt><dd>67.3863492423404</dd><dt>39</dt><dd>68.8850973773588</dd><dt>40</dt><dd>69.0124965819127</dd><dt>41</dt><dd>68.6152213246395</dd><dt>42</dt><dd>68.2740415384471</dd><dt>43</dt><dd>69.7137499844564</dd><dt>44</dt><dd>68.4798226023091</dd><dt>45</dt><dd>70.0199133466306</dd><dt>46</dt><dd>67.8768227649711</dd><dt>47</dt><dd>68.3304229587511</dd><dt>48</dt><dd>67.8814544363404</dd><dt>49</dt><dd>70.0159029970304</dd><dt>50</dt><dd>68.8101186668312</dd></dl>\n"
      ],
      "text/latex": [
       "\\begin{description*}\n",
       "\\item[1] 69.270327464882\n",
       "\\item[2] 68.119314766767\n",
       "\\item[3] 69.0986908564192\n",
       "\\item[4] 68.528557528569\n",
       "\\item[5] 66.4806774475418\n",
       "\\item[6] 68.0181769976674\n",
       "\\item[7] 67.7978019327074\n",
       "\\item[8] 68.2041922627515\n",
       "\\item[9] 68.0492925094425\n",
       "\\item[10] 68.5089046973855\n",
       "\\item[11] 67.5933623590285\n",
       "\\item[12] 67.401003257473\n",
       "\\item[13] 67.7183115788795\n",
       "\\item[14] 66.2764602788144\n",
       "\\item[15] 68.482555005998\n",
       "\\item[16] 67.8080431511847\n",
       "\\item[17] 69.2574173869876\n",
       "\\item[18] 69.1113855898368\n",
       "\\item[19] 68.767914679621\n",
       "\\item[20] 67.5758453214261\n",
       "\\item[21] 66.6558442933288\n",
       "\\item[22] 68.721400272638\n",
       "\\item[23] 67.5559806760031\n",
       "\\item[24] 69.0142228679642\n",
       "\\item[25] 68.6252577893521\n",
       "\\item[26] 67.3359656952502\n",
       "\\item[27] 68.9276579185388\n",
       "\\item[28] 68.9404514986015\n",
       "\\item[29] 66.3720449846031\n",
       "\\item[30] 66.5819705470836\n",
       "\\item[31] 67.6350544618268\n",
       "\\item[32] 68.0323791424225\n",
       "\\item[33] 67.8791456611304\n",
       "\\item[34] 69.6910893910727\n",
       "\\item[35] 68.0345784802754\n",
       "\\item[36] 68.4774291014033\n",
       "\\item[37] 68.7105483231036\n",
       "\\item[38] 67.3863492423404\n",
       "\\item[39] 68.8850973773588\n",
       "\\item[40] 69.0124965819127\n",
       "\\item[41] 68.6152213246395\n",
       "\\item[42] 68.2740415384471\n",
       "\\item[43] 69.7137499844564\n",
       "\\item[44] 68.4798226023091\n",
       "\\item[45] 70.0199133466306\n",
       "\\item[46] 67.8768227649711\n",
       "\\item[47] 68.3304229587511\n",
       "\\item[48] 67.8814544363404\n",
       "\\item[49] 70.0159029970304\n",
       "\\item[50] 68.8101186668312\n",
       "\\end{description*}\n"
      ],
      "text/markdown": [
       "1\n",
       ":   69.2703274648822\n",
       ":   68.1193147667673\n",
       ":   69.09869085641924\n",
       ":   68.5285575285695\n",
       ":   66.48067744754186\n",
       ":   68.01817699766747\n",
       ":   67.79780193270748\n",
       ":   68.20419226275159\n",
       ":   68.049292509442510\n",
       ":   68.508904697385511\n",
       ":   67.593362359028512\n",
       ":   67.40100325747313\n",
       ":   67.718311578879514\n",
       ":   66.276460278814415\n",
       ":   68.48255500599816\n",
       ":   67.808043151184717\n",
       ":   69.257417386987618\n",
       ":   69.111385589836819\n",
       ":   68.76791467962120\n",
       ":   67.575845321426121\n",
       ":   66.655844293328822\n",
       ":   68.72140027263823\n",
       ":   67.555980676003124\n",
       ":   69.014222867964225\n",
       ":   68.625257789352126\n",
       ":   67.335965695250227\n",
       ":   68.927657918538828\n",
       ":   68.940451498601529\n",
       ":   66.372044984603130\n",
       ":   66.581970547083631\n",
       ":   67.635054461826832\n",
       ":   68.032379142422533\n",
       ":   67.879145661130434\n",
       ":   69.691089391072735\n",
       ":   68.034578480275436\n",
       ":   68.477429101403337\n",
       ":   68.710548323103638\n",
       ":   67.386349242340439\n",
       ":   68.885097377358840\n",
       ":   69.012496581912741\n",
       ":   68.615221324639542\n",
       ":   68.274041538447143\n",
       ":   69.713749984456444\n",
       ":   68.479822602309145\n",
       ":   70.019913346630646\n",
       ":   67.876822764971147\n",
       ":   68.330422958751148\n",
       ":   67.881454436340449\n",
       ":   70.015902997030450\n",
       ":   68.8101186668312\n",
       "\n"
      ],
      "text/plain": [
       "       1        2        3        4        5        6        7        8 \n",
       "69.27033 68.11931 69.09869 68.52856 66.48068 68.01818 67.79780 68.20419 \n",
       "       9       10       11       12       13       14       15       16 \n",
       "68.04929 68.50890 67.59336 67.40100 67.71831 66.27646 68.48256 67.80804 \n",
       "      17       18       19       20       21       22       23       24 \n",
       "69.25742 69.11139 68.76791 67.57585 66.65584 68.72140 67.55598 69.01422 \n",
       "      25       26       27       28       29       30       31       32 \n",
       "68.62526 67.33597 68.92766 68.94045 66.37204 66.58197 67.63505 68.03238 \n",
       "      33       34       35       36       37       38       39       40 \n",
       "67.87915 69.69109 68.03458 68.47743 68.71055 67.38635 68.88510 69.01250 \n",
       "      41       42       43       44       45       46       47       48 \n",
       "68.61522 68.27404 69.71375 68.47982 70.01991 67.87682 68.33042 67.88145 \n",
       "      49       50 \n",
       "70.01590 68.81012 "
      ]
     },
     "metadata": {},
     "output_type": "display_data"
    }
   ],
   "source": [
    "fit <- lm(y ~ x)\n",
    "fit$fitted.values"
   ]
  },
  {
   "cell_type": "markdown",
   "id": "9ffd340c",
   "metadata": {},
   "source": [
    "What is the sum of the squared residuals, where residuals are given by $r_i = Y_i − \\hat{Y}_i$?"
   ]
  },
  {
   "cell_type": "code",
   "execution_count": 3,
   "id": "43a56793",
   "metadata": {},
   "outputs": [
    {
     "data": {
      "text/html": [
       "<style>\n",
       ".dl-inline {width: auto; margin:0; padding: 0}\n",
       ".dl-inline>dt, .dl-inline>dd {float: none; width: auto; display: inline-block}\n",
       ".dl-inline>dt::after {content: \":\\0020\"; padding-right: .5ex}\n",
       ".dl-inline>dt:not(:first-of-type) {padding-left: .5ex}\n",
       "</style><dl class=dl-inline><dt>1</dt><dd>1.09599253511804</dd><dt>2</dt><dd>-1.66632476676697</dd><dt>3</dt><dd>0.203929143580844</dd><dt>4</dt><dd>-1.379237528569</dd><dt>5</dt><dd>1.05292255245818</dd><dt>6</dt><dd>0.164863002332597</dd><dt>7</dt><dd>-0.360751932707372</dd><dt>8</dt><dd>2.7569877372485</dd><dt>9</dt><dd>1.63371749055753</dd><dt>10</dt><dd>-2.22853469738546</dd><dt>11</dt><dd>1.00076764097146</dd><dt>12</dt><dd>-2.23791325747297</dd><dt>13</dt><dd>-0.618131578879504</dd><dt>14</dt><dd>-1.43364027881442</dd><dt>15</dt><dd>2.39406499400199</dd><dt>16</dt><dd>0.931246848815263</dd><dt>17</dt><dd>1.19940261301242</dd><dt>18</dt><dd>-7.8911755898368</dd><dt>19</dt><dd>-1.236984679621</dd><dt>20</dt><dd>1.76830467857388</dd><dt>21</dt><dd>-7.8612842933288</dd><dt>22</dt><dd>0.279619727361997</dd><dt>23</dt><dd>1.65176932399687</dd><dt>24</dt><dd>-1.27324286796424</dd><dt>25</dt><dd>0.751502210647894</dd><dt>26</dt><dd>-0.780575695250154</dd><dt>27</dt><dd>0.438952081461233</dd><dt>28</dt><dd>1.37989850139853</dd><dt>29</dt><dd>0.853535015396897</dd><dt>30</dt><dd>2.77187945291634</dd><dt>31</dt><dd>3.73151553817324</dd><dt>32</dt><dd>-1.59738914242247</dd><dt>33</dt><dd>2.85083433886957</dd><dt>34</dt><dd>-3.27397939107273</dd><dt>35</dt><dd>-5.1600184802754</dd><dt>36</dt><dd>2.98415089859665</dd><dt>37</dt><dd>-0.563428323103565</dd><dt>38</dt><dd>4.47939075765958</dd><dt>39</dt><dd>-3.37247737735882</dd><dt>40</dt><dd>4.16054341808728</dd><dt>41</dt><dd>-1.13445132463955</dd><dt>42</dt><dd>0.678858461552877</dd><dt>43</dt><dd>3.15640001554356</dd><dt>44</dt><dd>-2.01377260230913</dd><dt>45</dt><dd>-0.36657334663063</dd><dt>46</dt><dd>0.735907235028861</dd><dt>47</dt><dd>-2.02876295875111</dd><dt>48</dt><dd>0.712985563659583</dd><dt>49</dt><dd>2.56003700296961</dd><dt>50</dt><dd>0.098671333168793</dd></dl>\n"
      ],
      "text/latex": [
       "\\begin{description*}\n",
       "\\item[1] 1.09599253511804\n",
       "\\item[2] -1.66632476676697\n",
       "\\item[3] 0.203929143580844\n",
       "\\item[4] -1.379237528569\n",
       "\\item[5] 1.05292255245818\n",
       "\\item[6] 0.164863002332597\n",
       "\\item[7] -0.360751932707372\n",
       "\\item[8] 2.7569877372485\n",
       "\\item[9] 1.63371749055753\n",
       "\\item[10] -2.22853469738546\n",
       "\\item[11] 1.00076764097146\n",
       "\\item[12] -2.23791325747297\n",
       "\\item[13] -0.618131578879504\n",
       "\\item[14] -1.43364027881442\n",
       "\\item[15] 2.39406499400199\n",
       "\\item[16] 0.931246848815263\n",
       "\\item[17] 1.19940261301242\n",
       "\\item[18] -7.8911755898368\n",
       "\\item[19] -1.236984679621\n",
       "\\item[20] 1.76830467857388\n",
       "\\item[21] -7.8612842933288\n",
       "\\item[22] 0.279619727361997\n",
       "\\item[23] 1.65176932399687\n",
       "\\item[24] -1.27324286796424\n",
       "\\item[25] 0.751502210647894\n",
       "\\item[26] -0.780575695250154\n",
       "\\item[27] 0.438952081461233\n",
       "\\item[28] 1.37989850139853\n",
       "\\item[29] 0.853535015396897\n",
       "\\item[30] 2.77187945291634\n",
       "\\item[31] 3.73151553817324\n",
       "\\item[32] -1.59738914242247\n",
       "\\item[33] 2.85083433886957\n",
       "\\item[34] -3.27397939107273\n",
       "\\item[35] -5.1600184802754\n",
       "\\item[36] 2.98415089859665\n",
       "\\item[37] -0.563428323103565\n",
       "\\item[38] 4.47939075765958\n",
       "\\item[39] -3.37247737735882\n",
       "\\item[40] 4.16054341808728\n",
       "\\item[41] -1.13445132463955\n",
       "\\item[42] 0.678858461552877\n",
       "\\item[43] 3.15640001554356\n",
       "\\item[44] -2.01377260230913\n",
       "\\item[45] -0.36657334663063\n",
       "\\item[46] 0.735907235028861\n",
       "\\item[47] -2.02876295875111\n",
       "\\item[48] 0.712985563659583\n",
       "\\item[49] 2.56003700296961\n",
       "\\item[50] 0.098671333168793\n",
       "\\end{description*}\n"
      ],
      "text/markdown": [
       "1\n",
       ":   1.095992535118042\n",
       ":   -1.666324766766973\n",
       ":   0.2039291435808444\n",
       ":   -1.3792375285695\n",
       ":   1.052922552458186\n",
       ":   0.1648630023325977\n",
       ":   -0.3607519327073728\n",
       ":   2.75698773724859\n",
       ":   1.6337174905575310\n",
       ":   -2.2285346973854611\n",
       ":   1.0007676409714612\n",
       ":   -2.2379132574729713\n",
       ":   -0.61813157887950414\n",
       ":   -1.4336402788144215\n",
       ":   2.3940649940019916\n",
       ":   0.93124684881526317\n",
       ":   1.1994026130124218\n",
       ":   -7.891175589836819\n",
       ":   -1.23698467962120\n",
       ":   1.7683046785738821\n",
       ":   -7.861284293328822\n",
       ":   0.27961972736199723\n",
       ":   1.6517693239968724\n",
       ":   -1.2732428679642425\n",
       ":   0.75150221064789426\n",
       ":   -0.78057569525015427\n",
       ":   0.43895208146123328\n",
       ":   1.3798985013985329\n",
       ":   0.85353501539689730\n",
       ":   2.7718794529163431\n",
       ":   3.7315155381732432\n",
       ":   -1.5973891424224733\n",
       ":   2.8508343388695734\n",
       ":   -3.2739793910727335\n",
       ":   -5.160018480275436\n",
       ":   2.9841508985966537\n",
       ":   -0.56342832310356538\n",
       ":   4.4793907576595839\n",
       ":   -3.3724773773588240\n",
       ":   4.1605434180872841\n",
       ":   -1.1344513246395542\n",
       ":   0.67885846155287743\n",
       ":   3.1564000155435644\n",
       ":   -2.0137726023091345\n",
       ":   -0.3665733466306346\n",
       ":   0.73590723502886147\n",
       ":   -2.0287629587511148\n",
       ":   0.71298556365958349\n",
       ":   2.5600370029696150\n",
       ":   0.098671333168793\n",
       "\n"
      ],
      "text/plain": [
       "          1           2           3           4           5           6 \n",
       " 1.09599254 -1.66632477  0.20392914 -1.37923753  1.05292255  0.16486300 \n",
       "          7           8           9          10          11          12 \n",
       "-0.36075193  2.75698774  1.63371749 -2.22853470  1.00076764 -2.23791326 \n",
       "         13          14          15          16          17          18 \n",
       "-0.61813158 -1.43364028  2.39406499  0.93124685  1.19940261 -7.89117559 \n",
       "         19          20          21          22          23          24 \n",
       "-1.23698468  1.76830468 -7.86128429  0.27961973  1.65176932 -1.27324287 \n",
       "         25          26          27          28          29          30 \n",
       " 0.75150221 -0.78057570  0.43895208  1.37989850  0.85353502  2.77187945 \n",
       "         31          32          33          34          35          36 \n",
       " 3.73151554 -1.59738914  2.85083434 -3.27397939 -5.16001848  2.98415090 \n",
       "         37          38          39          40          41          42 \n",
       "-0.56342832  4.47939076 -3.37247738  4.16054342 -1.13445132  0.67885846 \n",
       "         43          44          45          46          47          48 \n",
       " 3.15640002 -2.01377260 -0.36657335  0.73590724 -2.02876296  0.71298556 \n",
       "         49          50 \n",
       " 2.56003700  0.09867133 "
      ]
     },
     "metadata": {},
     "output_type": "display_data"
    },
    {
     "data": {
      "text/html": [
       "331.295231206051"
      ],
      "text/latex": [
       "331.295231206051"
      ],
      "text/markdown": [
       "331.295231206051"
      ],
      "text/plain": [
       "[1] 331.2952"
      ]
     },
     "metadata": {},
     "output_type": "display_data"
    }
   ],
   "source": [
    "res = fit$residuals\n",
    "res\n",
    "sum(res ^ 2)"
   ]
  },
  {
   "cell_type": "markdown",
   "id": "800daf48",
   "metadata": {},
   "source": [
    "Q2: Our estimate of $\\sigma^2$ will be the sum of squared residuals divided by $N−p$, the sample size minus\n",
    "the number of terms in the model. Since we have a sample of 50 and 2 terms in the model (an\n",
    "intercept and a slope), our estimate of $\\sigma^2$ will be the sum of squared residuals divided by 48.\n",
    "Use the answer from exercise 1 to provide an estimate of $\\sigma^2$."
   ]
  },
  {
   "cell_type": "code",
   "execution_count": 4,
   "id": "89f6b057",
   "metadata": {},
   "outputs": [
    {
     "data": {
      "text/html": [
       "6.90198398345941"
      ],
      "text/latex": [
       "6.90198398345941"
      ],
      "text/markdown": [
       "6.90198398345941"
      ],
      "text/plain": [
       "[1] 6.901984"
      ]
     },
     "metadata": {},
     "output_type": "display_data"
    }
   ],
   "source": [
    "sum(res ^ 2)/48"
   ]
  },
  {
   "cell_type": "markdown",
   "id": "de2ce284",
   "metadata": {},
   "source": [
    "Q3: Form the design matrix X (Note: use a capital X). This can be done by combining a column of\n",
    "1’s with a column containg ‘x’ , the fathers’ heights."
   ]
  },
  {
   "cell_type": "code",
   "execution_count": 5,
   "id": "8cee5093",
   "metadata": {},
   "outputs": [],
   "source": [
    "N <- 50\n",
    "X <- cbind(rep(1,N), x)"
   ]
  },
  {
   "cell_type": "markdown",
   "id": "e9cfb1a3",
   "metadata": {},
   "source": [
    "Now calculate ($X^⊤X$)−1\n",
    ". Use the solve function for the inverse and t for the transpose. What\n",
    "is the element in the first row, first column?"
   ]
  },
  {
   "cell_type": "code",
   "execution_count": 7,
   "id": "b4852949",
   "metadata": {},
   "outputs": [
    {
     "data": {
      "text/html": [
       "14.5639038784869"
      ],
      "text/latex": [
       "14.5639038784869"
      ],
      "text/markdown": [
       "14.5639038784869"
      ],
      "text/plain": [
       "[1] 14.5639"
      ]
     },
     "metadata": {},
     "output_type": "display_data"
    }
   ],
   "source": [
    "solve(crossprod(X))[1,1]"
   ]
  },
  {
   "cell_type": "markdown",
   "id": "9ce96dc4",
   "metadata": {},
   "source": [
    "Q4: Now we are one step away from the standard error of $\\hat{\\beta}$. Take the diagonals from the ($X^⊤X$)−1\n",
    "matrix above, using the diag function. Multiply our estimate of $\\sigma^2$\n",
    "and the diagonals of this\n",
    "matrix. This is the estimated variance of $\\hat{\\beta}$, so take the square root of this. You should end up\n",
    "with two numbers: the standard error for the intercept and the standard error for the slope.\n",
    "What is the standard error for the slope?"
   ]
  },
  {
   "cell_type": "code",
   "execution_count": 10,
   "id": "a3ebb646",
   "metadata": {},
   "outputs": [
    {
     "data": {
      "text/html": [
       "<strong>x:</strong> 0.14790651672367"
      ],
      "text/latex": [
       "\\textbf{x:} 0.14790651672367"
      ],
      "text/markdown": [
       "**x:** 0.14790651672367"
      ],
      "text/plain": [
       "        x \n",
       "0.1479065 "
      ]
     },
     "metadata": {},
     "output_type": "display_data"
    }
   ],
   "source": [
    "sqrt(diag(solve(crossprod(X))) * sum(res ^ 2)/48)[2]"
   ]
  },
  {
   "cell_type": "code",
   "execution_count": 11,
   "id": "e617ca36",
   "metadata": {},
   "outputs": [
    {
     "data": {
      "text/plain": [
       "\n",
       "Call:\n",
       "lm(formula = y ~ x)\n",
       "\n",
       "Residuals:\n",
       "    Min      1Q  Median      3Q     Max \n",
       "-7.8912 -1.3527  0.3593  1.5703  4.4794 \n",
       "\n",
       "Coefficients:\n",
       "            Estimate Std. Error t value Pr(>|t|)    \n",
       "(Intercept)  44.3377    10.0260   4.422 5.58e-05 ***\n",
       "x             0.3530     0.1479   2.387    0.021 *  \n",
       "---\n",
       "Signif. codes:  0 '***' 0.001 '**' 0.01 '*' 0.05 '.' 0.1 ' ' 1\n",
       "\n",
       "Residual standard error: 2.627 on 48 degrees of freedom\n",
       "Multiple R-squared:  0.1061,\tAdjusted R-squared:  0.08747 \n",
       "F-statistic: 5.697 on 1 and 48 DF,  p-value: 0.02098\n"
      ]
     },
     "metadata": {},
     "output_type": "display_data"
    }
   ],
   "source": [
    "summary(fit)"
   ]
  },
  {
   "cell_type": "markdown",
   "id": "fd2fabb2",
   "metadata": {},
   "source": [
    "## Interactions and Contrasts"
   ]
  },
  {
   "cell_type": "code",
   "execution_count": 1,
   "id": "a0b1dcba",
   "metadata": {},
   "outputs": [],
   "source": [
    "url <- \"https://raw.githubusercontent.com/genomicsclass/dagdata/master/inst/extdata/\\\n",
    "spider_wolff_gorb_2013.csv\"\n",
    "filename <- \"spider_wolff_gorb_2013.csv\"\n",
    "library(downloader)\n",
    "if (!file.exists(filename)) download(url, filename)\n",
    "spider <- read.csv(filename, skip=1)"
   ]
  },
  {
   "cell_type": "markdown",
   "id": "de6912bf",
   "metadata": {},
   "source": [
    "### Initial visual inspection of the data"
   ]
  },
  {
   "cell_type": "code",
   "execution_count": 2,
   "id": "9ba739e6",
   "metadata": {},
   "outputs": [
    {
     "data": {
      "text/plain": [
       "    \n",
       "     pull push\n",
       "  L1   34   34\n",
       "  L2   15   15\n",
       "  L3   52   52\n",
       "  L4   40   40"
      ]
     },
     "metadata": {},
     "output_type": "display_data"
    }
   ],
   "source": [
    "table(spider$leg,spider$type)"
   ]
  },
  {
   "cell_type": "code",
   "execution_count": 3,
   "id": "86529516",
   "metadata": {},
   "outputs": [
    {
     "data": {
      "image/png": "[encoded data removed]",
      "text/plain": [
       "Plot with title \"Comparison of friction coefficients of different leg pairs\""
      ]
     },
     "metadata": {
      "image/png": {
       "height": 420,
       "width": 420
      }
     },
     "output_type": "display_data"
    }
   ],
   "source": [
    "boxplot(spider$friction ~ spider$type * spider$leg,\n",
    "col=c(\"grey90\",\"grey40\"), las=2,\n",
    "main=\"Comparison of friction coefficients of different leg pairs\")"
   ]
  },
  {
   "cell_type": "markdown",
   "id": "1afe4d88",
   "metadata": {},
   "source": [
    "### A linear model with one variable"
   ]
  },
  {
   "cell_type": "code",
   "execution_count": 4,
   "id": "2a9a3790",
   "metadata": {},
   "outputs": [
    {
     "data": {
      "text/plain": [
       "\n",
       "Call:\n",
       "lm(formula = friction ~ type, data = spider.sub)\n",
       "\n",
       "Residuals:\n",
       "     Min       1Q   Median       3Q      Max \n",
       "-0.33147 -0.10735 -0.04941 -0.00147  0.76853 \n",
       "\n",
       "Coefficients:\n",
       "            Estimate Std. Error t value Pr(>|t|)    \n",
       "(Intercept)  0.92147    0.03827  24.078  < 2e-16 ***\n",
       "typepush    -0.51412    0.05412  -9.499  5.7e-14 ***\n",
       "---\n",
       "Signif. codes:  0 '***' 0.001 '**' 0.01 '*' 0.05 '.' 0.1 ' ' 1\n",
       "\n",
       "Residual standard error: 0.2232 on 66 degrees of freedom\n",
       "Multiple R-squared:  0.5776,\tAdjusted R-squared:  0.5711 \n",
       "F-statistic: 90.23 on 1 and 66 DF,  p-value: 5.698e-14\n"
      ]
     },
     "metadata": {},
     "output_type": "display_data"
    }
   ],
   "source": [
    "spider.sub <- spider[spider$leg == \"L1\",]\n",
    "fit <- lm(friction ~ type, data=spider.sub)\n",
    "summary(fit)"
   ]
  },
  {
   "cell_type": "code",
   "execution_count": 5,
   "id": "453ab68a",
   "metadata": {},
   "outputs": [
    {
     "data": {
      "text/html": [
       "<style>\n",
       ".dl-inline {width: auto; margin:0; padding: 0}\n",
       ".dl-inline>dt, .dl-inline>dd {float: none; width: auto; display: inline-block}\n",
       ".dl-inline>dt::after {content: \":\\0020\"; padding-right: .5ex}\n",
       ".dl-inline>dt:not(:first-of-type) {padding-left: .5ex}\n",
       "</style><dl class=dl-inline><dt>(Intercept)</dt><dd>0.921470588235294</dd><dt>typepush</dt><dd>-0.514117647058824</dd></dl>\n"
      ],
      "text/latex": [
       "\\begin{description*}\n",
       "\\item[(Intercept)] 0.921470588235294\n",
       "\\item[typepush] -0.514117647058824\n",
       "\\end{description*}\n"
      ],
      "text/markdown": [
       "(Intercept)\n",
       ":   0.921470588235294typepush\n",
       ":   -0.514117647058824\n",
       "\n"
      ],
      "text/plain": [
       "(Intercept)    typepush \n",
       "  0.9214706  -0.5141176 "
      ]
     },
     "metadata": {},
     "output_type": "display_data"
    }
   ],
   "source": [
    "(coefs <- coef(fit))"
   ]
  },
  {
   "cell_type": "code",
   "execution_count": 6,
   "id": "5ec7dc07",
   "metadata": {},
   "outputs": [
    {
     "data": {
      "text/html": [
       "0.921470588235294"
      ],
      "text/latex": [
       "0.921470588235294"
      ],
      "text/markdown": [
       "0.921470588235294"
      ],
      "text/plain": [
       "[1] 0.9214706"
      ]
     },
     "metadata": {},
     "output_type": "display_data"
    }
   ],
   "source": [
    "s <- split(spider.sub$friction, spider.sub$type)\n",
    "mean(s[[\"pull\"]])"
   ]
  },
  {
   "cell_type": "code",
   "execution_count": 7,
   "id": "7d90f1a2",
   "metadata": {},
   "outputs": [
    {
     "data": {
      "text/html": [
       "-0.514117647058824"
      ],
      "text/latex": [
       "-0.514117647058824"
      ],
      "text/markdown": [
       "-0.514117647058824"
      ],
      "text/plain": [
       "[1] -0.5141176"
      ]
     },
     "metadata": {},
     "output_type": "display_data"
    }
   ],
   "source": [
    "mean(s[[\"push\"]]) - mean(s[[\"pull\"]])"
   ]
  },
  {
   "cell_type": "code",
   "execution_count": 8,
   "id": "a4d44f5b",
   "metadata": {},
   "outputs": [
    {
     "data": {
      "text/html": [
       "<style>\n",
       ".list-inline {list-style: none; margin:0; padding: 0}\n",
       ".list-inline>li {display: inline-block}\n",
       ".list-inline>li:not(:last-child)::after {content: \"\\00b7\"; padding: 0 .5ex}\n",
       "</style>\n",
       "<ol class=list-inline><li>'(Intercept)'</li><li>'typepush'</li></ol>\n"
      ],
      "text/latex": [
       "\\begin{enumerate*}\n",
       "\\item '(Intercept)'\n",
       "\\item 'typepush'\n",
       "\\end{enumerate*}\n"
      ],
      "text/markdown": [
       "1. '(Intercept)'\n",
       "2. 'typepush'\n",
       "\n",
       "\n"
      ],
      "text/plain": [
       "[1] \"(Intercept)\" \"typepush\"   "
      ]
     },
     "metadata": {},
     "output_type": "display_data"
    }
   ],
   "source": [
    "X <- model.matrix(~ type, data=spider.sub)\n",
    "colnames(X)"
   ]
  },
  {
   "cell_type": "code",
   "execution_count": 9,
   "id": "211806c6",
   "metadata": {},
   "outputs": [
    {
     "data": {
      "text/html": [
       "<table class=\"dataframe\">\n",
       "<caption>A matrix: 6 × 2 of type dbl</caption>\n",
       "<thead>\n",
       "\t<tr><th></th><th scope=col>(Intercept)</th><th scope=col>typepush</th></tr>\n",
       "</thead>\n",
       "<tbody>\n",
       "\t<tr><th scope=row>1</th><td>1</td><td>0</td></tr>\n",
       "\t<tr><th scope=row>2</th><td>1</td><td>0</td></tr>\n",
       "\t<tr><th scope=row>3</th><td>1</td><td>0</td></tr>\n",
       "\t<tr><th scope=row>4</th><td>1</td><td>0</td></tr>\n",
       "\t<tr><th scope=row>5</th><td>1</td><td>0</td></tr>\n",
       "\t<tr><th scope=row>6</th><td>1</td><td>0</td></tr>\n",
       "</tbody>\n",
       "</table>\n"
      ],
      "text/latex": [
       "A matrix: 6 × 2 of type dbl\n",
       "\\begin{tabular}{r|ll}\n",
       "  & (Intercept) & typepush\\\\\n",
       "\\hline\n",
       "\t1 & 1 & 0\\\\\n",
       "\t2 & 1 & 0\\\\\n",
       "\t3 & 1 & 0\\\\\n",
       "\t4 & 1 & 0\\\\\n",
       "\t5 & 1 & 0\\\\\n",
       "\t6 & 1 & 0\\\\\n",
       "\\end{tabular}\n"
      ],
      "text/markdown": [
       "\n",
       "A matrix: 6 × 2 of type dbl\n",
       "\n",
       "| <!--/--> | (Intercept) | typepush |\n",
       "|---|---|---|\n",
       "| 1 | 1 | 0 |\n",
       "| 2 | 1 | 0 |\n",
       "| 3 | 1 | 0 |\n",
       "| 4 | 1 | 0 |\n",
       "| 5 | 1 | 0 |\n",
       "| 6 | 1 | 0 |\n",
       "\n"
      ],
      "text/plain": [
       "  (Intercept) typepush\n",
       "1 1           0       \n",
       "2 1           0       \n",
       "3 1           0       \n",
       "4 1           0       \n",
       "5 1           0       \n",
       "6 1           0       "
      ]
     },
     "metadata": {},
     "output_type": "display_data"
    }
   ],
   "source": [
    "head(X)"
   ]
  },
  {
   "cell_type": "code",
   "execution_count": 10,
   "id": "5157757f",
   "metadata": {},
   "outputs": [
    {
     "data": {
      "text/html": [
       "<table class=\"dataframe\">\n",
       "<caption>A matrix: 6 × 2 of type dbl</caption>\n",
       "<thead>\n",
       "\t<tr><th></th><th scope=col>(Intercept)</th><th scope=col>typepush</th></tr>\n",
       "</thead>\n",
       "<tbody>\n",
       "\t<tr><th scope=row>63</th><td>1</td><td>1</td></tr>\n",
       "\t<tr><th scope=row>64</th><td>1</td><td>1</td></tr>\n",
       "\t<tr><th scope=row>65</th><td>1</td><td>1</td></tr>\n",
       "\t<tr><th scope=row>66</th><td>1</td><td>1</td></tr>\n",
       "\t<tr><th scope=row>67</th><td>1</td><td>1</td></tr>\n",
       "\t<tr><th scope=row>68</th><td>1</td><td>1</td></tr>\n",
       "</tbody>\n",
       "</table>\n"
      ],
      "text/latex": [
       "A matrix: 6 × 2 of type dbl\n",
       "\\begin{tabular}{r|ll}\n",
       "  & (Intercept) & typepush\\\\\n",
       "\\hline\n",
       "\t63 & 1 & 1\\\\\n",
       "\t64 & 1 & 1\\\\\n",
       "\t65 & 1 & 1\\\\\n",
       "\t66 & 1 & 1\\\\\n",
       "\t67 & 1 & 1\\\\\n",
       "\t68 & 1 & 1\\\\\n",
       "\\end{tabular}\n"
      ],
      "text/markdown": [
       "\n",
       "A matrix: 6 × 2 of type dbl\n",
       "\n",
       "| <!--/--> | (Intercept) | typepush |\n",
       "|---|---|---|\n",
       "| 63 | 1 | 1 |\n",
       "| 64 | 1 | 1 |\n",
       "| 65 | 1 | 1 |\n",
       "| 66 | 1 | 1 |\n",
       "| 67 | 1 | 1 |\n",
       "| 68 | 1 | 1 |\n",
       "\n"
      ],
      "text/plain": [
       "   (Intercept) typepush\n",
       "63 1           1       \n",
       "64 1           1       \n",
       "65 1           1       \n",
       "66 1           1       \n",
       "67 1           1       \n",
       "68 1           1       "
      ]
     },
     "metadata": {},
     "output_type": "display_data"
    }
   ],
   "source": [
    "tail(X)"
   ]
  },
  {
   "cell_type": "code",
   "execution_count": 11,
   "id": "f3fdd69f",
   "metadata": {},
   "outputs": [
    {
     "data": {
      "image/png": "[encoded data removed]",
      "text/plain": [
       "Plot with title \"Model matrix for linear model with one variable\""
      ]
     },
     "metadata": {
      "image/png": {
       "height": 420,
       "width": 420
      }
     },
     "output_type": "display_data"
    }
   ],
   "source": [
    "library(rafalib)\n",
    "imagemat(X, main=\"Model matrix for linear model with one variable\")"
   ]
  },
  {
   "cell_type": "markdown",
   "id": "ff43f96e",
   "metadata": {},
   "source": [
    "### A linear model with two variables"
   ]
  },
  {
   "cell_type": "code",
   "execution_count": 12,
   "id": "7447e6b7",
   "metadata": {},
   "outputs": [
    {
     "data": {
      "text/html": [
       "<style>\n",
       ".list-inline {list-style: none; margin:0; padding: 0}\n",
       ".list-inline>li {display: inline-block}\n",
       ".list-inline>li:not(:last-child)::after {content: \"\\00b7\"; padding: 0 .5ex}\n",
       "</style>\n",
       "<ol class=list-inline><li>'(Intercept)'</li><li>'typepush'</li><li>'legL2'</li><li>'legL3'</li><li>'legL4'</li></ol>\n"
      ],
      "text/latex": [
       "\\begin{enumerate*}\n",
       "\\item '(Intercept)'\n",
       "\\item 'typepush'\n",
       "\\item 'legL2'\n",
       "\\item 'legL3'\n",
       "\\item 'legL4'\n",
       "\\end{enumerate*}\n"
      ],
      "text/markdown": [
       "1. '(Intercept)'\n",
       "2. 'typepush'\n",
       "3. 'legL2'\n",
       "4. 'legL3'\n",
       "5. 'legL4'\n",
       "\n",
       "\n"
      ],
      "text/plain": [
       "[1] \"(Intercept)\" \"typepush\"    \"legL2\"       \"legL3\"       \"legL4\"      "
      ]
     },
     "metadata": {},
     "output_type": "display_data"
    }
   ],
   "source": [
    "X <- model.matrix(~ type + leg, data=spider)\n",
    "colnames(X)"
   ]
  },
  {
   "cell_type": "code",
   "execution_count": 13,
   "id": "b5bc2572",
   "metadata": {},
   "outputs": [
    {
     "data": {
      "text/html": [
       "<table class=\"dataframe\">\n",
       "<caption>A matrix: 6 × 5 of type dbl</caption>\n",
       "<thead>\n",
       "\t<tr><th></th><th scope=col>(Intercept)</th><th scope=col>typepush</th><th scope=col>legL2</th><th scope=col>legL3</th><th scope=col>legL4</th></tr>\n",
       "</thead>\n",
       "<tbody>\n",
       "\t<tr><th scope=row>1</th><td>1</td><td>0</td><td>0</td><td>0</td><td>0</td></tr>\n",
       "\t<tr><th scope=row>2</th><td>1</td><td>0</td><td>0</td><td>0</td><td>0</td></tr>\n",
       "\t<tr><th scope=row>3</th><td>1</td><td>0</td><td>0</td><td>0</td><td>0</td></tr>\n",
       "\t<tr><th scope=row>4</th><td>1</td><td>0</td><td>0</td><td>0</td><td>0</td></tr>\n",
       "\t<tr><th scope=row>5</th><td>1</td><td>0</td><td>0</td><td>0</td><td>0</td></tr>\n",
       "\t<tr><th scope=row>6</th><td>1</td><td>0</td><td>0</td><td>0</td><td>0</td></tr>\n",
       "</tbody>\n",
       "</table>\n"
      ],
      "text/latex": [
       "A matrix: 6 × 5 of type dbl\n",
       "\\begin{tabular}{r|lllll}\n",
       "  & (Intercept) & typepush & legL2 & legL3 & legL4\\\\\n",
       "\\hline\n",
       "\t1 & 1 & 0 & 0 & 0 & 0\\\\\n",
       "\t2 & 1 & 0 & 0 & 0 & 0\\\\\n",
       "\t3 & 1 & 0 & 0 & 0 & 0\\\\\n",
       "\t4 & 1 & 0 & 0 & 0 & 0\\\\\n",
       "\t5 & 1 & 0 & 0 & 0 & 0\\\\\n",
       "\t6 & 1 & 0 & 0 & 0 & 0\\\\\n",
       "\\end{tabular}\n"
      ],
      "text/markdown": [
       "\n",
       "A matrix: 6 × 5 of type dbl\n",
       "\n",
       "| <!--/--> | (Intercept) | typepush | legL2 | legL3 | legL4 |\n",
       "|---|---|---|---|---|---|\n",
       "| 1 | 1 | 0 | 0 | 0 | 0 |\n",
       "| 2 | 1 | 0 | 0 | 0 | 0 |\n",
       "| 3 | 1 | 0 | 0 | 0 | 0 |\n",
       "| 4 | 1 | 0 | 0 | 0 | 0 |\n",
       "| 5 | 1 | 0 | 0 | 0 | 0 |\n",
       "| 6 | 1 | 0 | 0 | 0 | 0 |\n",
       "\n"
      ],
      "text/plain": [
       "  (Intercept) typepush legL2 legL3 legL4\n",
       "1 1           0        0     0     0    \n",
       "2 1           0        0     0     0    \n",
       "3 1           0        0     0     0    \n",
       "4 1           0        0     0     0    \n",
       "5 1           0        0     0     0    \n",
       "6 1           0        0     0     0    "
      ]
     },
     "metadata": {},
     "output_type": "display_data"
    }
   ],
   "source": [
    "head(X)"
   ]
  },
  {
   "cell_type": "code",
   "execution_count": 14,
   "id": "15802318",
   "metadata": {},
   "outputs": [
    {
     "data": {
      "image/png": "[encoded data removed]",
      "text/plain": [
       "Plot with title \"Model matrix for linear model with two factors\""
      ]
     },
     "metadata": {
      "image/png": {
       "height": 420,
       "width": 420
      }
     },
     "output_type": "display_data"
    }
   ],
   "source": [
    "imagemat(X, main=\"Model matrix for linear model with two factors\")"
   ]
  },
  {
   "cell_type": "code",
   "execution_count": 15,
   "id": "3e9fbecd",
   "metadata": {},
   "outputs": [
    {
     "data": {
      "text/plain": [
       "\n",
       "Call:\n",
       "lm(formula = friction ~ type + leg, data = spider)\n",
       "\n",
       "Residuals:\n",
       "     Min       1Q   Median       3Q      Max \n",
       "-0.46392 -0.13441 -0.00525  0.10547  0.69509 \n",
       "\n",
       "Coefficients:\n",
       "            Estimate Std. Error t value Pr(>|t|)    \n",
       "(Intercept)  1.05392    0.02816  37.426  < 2e-16 ***\n",
       "typepush    -0.77901    0.02482 -31.380  < 2e-16 ***\n",
       "legL2        0.17192    0.04569   3.763 0.000205 ***\n",
       "legL3        0.16049    0.03251   4.937 1.37e-06 ***\n",
       "legL4        0.28134    0.03438   8.183 1.01e-14 ***\n",
       "---\n",
       "Signif. codes:  0 '***' 0.001 '**' 0.01 '*' 0.05 '.' 0.1 ' ' 1\n",
       "\n",
       "Residual standard error: 0.2084 on 277 degrees of freedom\n",
       "Multiple R-squared:  0.7916,\tAdjusted R-squared:  0.7886 \n",
       "F-statistic:   263 on 4 and 277 DF,  p-value: < 2.2e-16\n"
      ]
     },
     "metadata": {},
     "output_type": "display_data"
    }
   ],
   "source": [
    "fitTL <- lm(friction ~ type + leg, data=spider)\n",
    "summary(fitTL)"
   ]
  },
  {
   "cell_type": "code",
   "execution_count": 16,
   "id": "f6f56f6d",
   "metadata": {},
   "outputs": [
    {
     "data": {
      "text/html": [
       "<style>\n",
       ".dl-inline {width: auto; margin:0; padding: 0}\n",
       ".dl-inline>dt, .dl-inline>dd {float: none; width: auto; display: inline-block}\n",
       ".dl-inline>dt::after {content: \":\\0020\"; padding-right: .5ex}\n",
       ".dl-inline>dt:not(:first-of-type) {padding-left: .5ex}\n",
       "</style><dl class=dl-inline><dt>(Intercept)</dt><dd>1.05391531080517</dd><dt>typepush</dt><dd>-0.779007092198582</dd><dt>legL2</dt><dd>0.171921568627449</dd><dt>legL3</dt><dd>0.160492081447964</dd><dt>legL4</dt><dd>0.281338235294117</dd></dl>\n"
      ],
      "text/latex": [
       "\\begin{description*}\n",
       "\\item[(Intercept)] 1.05391531080517\n",
       "\\item[typepush] -0.779007092198582\n",
       "\\item[legL2] 0.171921568627449\n",
       "\\item[legL3] 0.160492081447964\n",
       "\\item[legL4] 0.281338235294117\n",
       "\\end{description*}\n"
      ],
      "text/markdown": [
       "(Intercept)\n",
       ":   1.05391531080517typepush\n",
       ":   -0.779007092198582legL2\n",
       ":   0.171921568627449legL3\n",
       ":   0.160492081447964legL4\n",
       ":   0.281338235294117\n",
       "\n"
      ],
      "text/plain": [
       "(Intercept)    typepush       legL2       legL3       legL4 \n",
       "  1.0539153  -0.7790071   0.1719216   0.1604921   0.2813382 "
      ]
     },
     "metadata": {},
     "output_type": "display_data"
    }
   ],
   "source": [
    "(coefs <- coef(fitTL))"
   ]
  },
  {
   "cell_type": "markdown",
   "id": "6cd2a242",
   "metadata": {},
   "source": [
    "### Mathematical representation"
   ]
  },
  {
   "cell_type": "markdown",
   "id": "42cebf2d",
   "metadata": {},
   "source": [
    "$$Y_i = \\beta_0 + \\beta_1x_{i,1} + \\beta_2x_{i,2} + \\beta_3x_{i,3} + \\beta_4x_{i,4} + \\epsilon_i\n",
    ", i = 1, \\cdots , N$$"
   ]
  },
  {
   "cell_type": "markdown",
   "id": "bef919b9",
   "metadata": {},
   "source": [
    "$$\\hat{\\beta} = (X^⊤X)^{−1}X^⊤Y$$"
   ]
  },
  {
   "cell_type": "code",
   "execution_count": 17,
   "id": "abded6c5",
   "metadata": {},
   "outputs": [
    {
     "data": {
      "text/html": [
       "<table class=\"dataframe\">\n",
       "<caption>A matrix: 1 × 5 of type dbl</caption>\n",
       "<thead>\n",
       "\t<tr><th scope=col>(Intercept)</th><th scope=col>typepush</th><th scope=col>legL2</th><th scope=col>legL3</th><th scope=col>legL4</th></tr>\n",
       "</thead>\n",
       "<tbody>\n",
       "\t<tr><td>1.053915</td><td>-0.7790071</td><td>0.1719216</td><td>0.1604921</td><td>0.2813382</td></tr>\n",
       "</tbody>\n",
       "</table>\n"
      ],
      "text/latex": [
       "A matrix: 1 × 5 of type dbl\n",
       "\\begin{tabular}{lllll}\n",
       " (Intercept) & typepush & legL2 & legL3 & legL4\\\\\n",
       "\\hline\n",
       "\t 1.053915 & -0.7790071 & 0.1719216 & 0.1604921 & 0.2813382\\\\\n",
       "\\end{tabular}\n"
      ],
      "text/markdown": [
       "\n",
       "A matrix: 1 × 5 of type dbl\n",
       "\n",
       "| (Intercept) | typepush | legL2 | legL3 | legL4 |\n",
       "|---|---|---|---|---|\n",
       "| 1.053915 | -0.7790071 | 0.1719216 | 0.1604921 | 0.2813382 |\n",
       "\n"
      ],
      "text/plain": [
       "     (Intercept) typepush   legL2     legL3     legL4    \n",
       "[1,] 1.053915    -0.7790071 0.1719216 0.1604921 0.2813382"
      ]
     },
     "metadata": {},
     "output_type": "display_data"
    }
   ],
   "source": [
    "Y <- spider$friction\n",
    "X <- model.matrix(~ type + leg, data=spider)\n",
    "beta.hat <- solve(t(X) %*% X) %*% t(X) %*% Y \n",
    "t(beta.hat)"
   ]
  },
  {
   "cell_type": "code",
   "execution_count": 18,
   "id": "fc68a407",
   "metadata": {},
   "outputs": [
    {
     "data": {
      "text/html": [
       "<style>\n",
       ".dl-inline {width: auto; margin:0; padding: 0}\n",
       ".dl-inline>dt, .dl-inline>dd {float: none; width: auto; display: inline-block}\n",
       ".dl-inline>dt::after {content: \":\\0020\"; padding-right: .5ex}\n",
       ".dl-inline>dt:not(:first-of-type) {padding-left: .5ex}\n",
       "</style><dl class=dl-inline><dt>(Intercept)</dt><dd>1.05391531080517</dd><dt>typepush</dt><dd>-0.779007092198582</dd><dt>legL2</dt><dd>0.171921568627449</dd><dt>legL3</dt><dd>0.160492081447964</dd><dt>legL4</dt><dd>0.281338235294117</dd></dl>\n"
      ],
      "text/latex": [
       "\\begin{description*}\n",
       "\\item[(Intercept)] 1.05391531080517\n",
       "\\item[typepush] -0.779007092198582\n",
       "\\item[legL2] 0.171921568627449\n",
       "\\item[legL3] 0.160492081447964\n",
       "\\item[legL4] 0.281338235294117\n",
       "\\end{description*}\n"
      ],
      "text/markdown": [
       "(Intercept)\n",
       ":   1.05391531080517typepush\n",
       ":   -0.779007092198582legL2\n",
       ":   0.171921568627449legL3\n",
       ":   0.160492081447964legL4\n",
       ":   0.281338235294117\n",
       "\n"
      ],
      "text/plain": [
       "(Intercept)    typepush       legL2       legL3       legL4 \n",
       "  1.0539153  -0.7790071   0.1719216   0.1604921   0.2813382 "
      ]
     },
     "metadata": {},
     "output_type": "display_data"
    }
   ],
   "source": [
    "coefs"
   ]
  },
  {
   "cell_type": "code",
   "execution_count": 22,
   "id": "e1862460",
   "metadata": {},
   "outputs": [],
   "source": [
    "s <- split(spider$friction, spider$type)"
   ]
  },
  {
   "cell_type": "code",
   "execution_count": 20,
   "id": "df411020",
   "metadata": {},
   "outputs": [
    {
     "data": {
      "text/html": [
       "<strong>(Intercept):</strong> 1.05391531080517"
      ],
      "text/latex": [
       "\\textbf{(Intercept):} 1.05391531080517"
      ],
      "text/markdown": [
       "**(Intercept):** 1.05391531080517"
      ],
      "text/plain": [
       "(Intercept) \n",
       "   1.053915 "
      ]
     },
     "metadata": {},
     "output_type": "display_data"
    }
   ],
   "source": [
    "coefs[1]"
   ]
  },
  {
   "cell_type": "code",
   "execution_count": 25,
   "id": "6905273f",
   "metadata": {},
   "outputs": [
    {
     "data": {
      "text/html": [
       "1.21120567375887"
      ],
      "text/latex": [
       "1.21120567375887"
      ],
      "text/markdown": [
       "1.21120567375887"
      ],
      "text/plain": [
       "[1] 1.211206"
      ]
     },
     "metadata": {},
     "output_type": "display_data"
    }
   ],
   "source": [
    "mean(s[[\"pull\"]])"
   ]
  },
  {
   "cell_type": "code",
   "execution_count": 26,
   "id": "026fd561",
   "metadata": {},
   "outputs": [
    {
     "data": {
      "text/html": [
       "<strong>(Intercept):</strong> 1.05391531080517"
      ],
      "text/latex": [
       "\\textbf{(Intercept):} 1.05391531080517"
      ],
      "text/markdown": [
       "**(Intercept):** 1.05391531080517"
      ],
      "text/plain": [
       "(Intercept) \n",
       "   1.053915 "
      ]
     },
     "metadata": {},
     "output_type": "display_data"
    }
   ],
   "source": [
    "coefs[1]"
   ]
  },
  {
   "cell_type": "code",
   "execution_count": 27,
   "id": "6d3f057f",
   "metadata": {},
   "outputs": [
    {
     "data": {
      "text/html": [
       "0.432198581560284"
      ],
      "text/latex": [
       "0.432198581560284"
      ],
      "text/markdown": [
       "0.432198581560284"
      ],
      "text/plain": [
       "[1] 0.4321986"
      ]
     },
     "metadata": {},
     "output_type": "display_data"
    }
   ],
   "source": [
    "mean(s[[\"push\"]])"
   ]
  },
  {
   "cell_type": "code",
   "execution_count": 28,
   "id": "9641096d",
   "metadata": {},
   "outputs": [
    {
     "data": {
      "text/html": [
       "<strong>(Intercept):</strong> 0.274908218606591"
      ],
      "text/latex": [
       "\\textbf{(Intercept):} 0.274908218606591"
      ],
      "text/markdown": [
       "**(Intercept):** 0.274908218606591"
      ],
      "text/plain": [
       "(Intercept) \n",
       "  0.2749082 "
      ]
     },
     "metadata": {},
     "output_type": "display_data"
    }
   ],
   "source": [
    "coefs[1] + coefs[2]"
   ]
  },
  {
   "cell_type": "markdown",
   "id": "18373da4",
   "metadata": {},
   "source": [
    "### Contrasting coefficients"
   ]
  },
  {
   "cell_type": "markdown",
   "id": "4a18c87a",
   "metadata": {},
   "source": [
    "$$(L3 − L1) − (L2 − L1) = L3 − L2$$"
   ]
  },
  {
   "cell_type": "code",
   "execution_count": 37,
   "id": "0cc00de4",
   "metadata": {},
   "outputs": [
    {
     "data": {
      "text/plain": [
       "lm model parameter contrast\n",
       "\n",
       "    Contrast       S.E.      Lower      Upper     t  df Pr(>|t|)\n",
       " -0.01142949 0.04319685 -0.0964653 0.07360632 -0.26 277   0.7915"
      ]
     },
     "metadata": {},
     "output_type": "display_data"
    }
   ],
   "source": [
    "library(contrast) #Available from CRAN\n",
    "L3vsL2 <- contrast(fitTL,list(leg=\"L3\",type=\"pull\"),list(leg=\"L2\",type=\"pull\"))\n",
    "L3vsL2"
   ]
  },
  {
   "cell_type": "code",
   "execution_count": 38,
   "id": "ab398298",
   "metadata": {},
   "outputs": [
    {
     "data": {
      "text/html": [
       "<strong>legL3:</strong> -0.0114294871794851"
      ],
      "text/latex": [
       "\\textbf{legL3:} -0.0114294871794851"
      ],
      "text/markdown": [
       "**legL3:** -0.0114294871794851"
      ],
      "text/plain": [
       "      legL3 \n",
       "-0.01142949 "
      ]
     },
     "metadata": {},
     "output_type": "display_data"
    }
   ],
   "source": [
    "coefs[4] - coefs[3]"
   ]
  },
  {
   "cell_type": "code",
   "execution_count": 39,
   "id": "31bbb151",
   "metadata": {},
   "outputs": [
    {
     "data": {
      "text/html": [
       "<table class=\"dataframe\">\n",
       "<caption>A matrix: 1 × 5 of type dbl</caption>\n",
       "<thead>\n",
       "\t<tr><th></th><th scope=col>(Intercept)</th><th scope=col>typepush</th><th scope=col>legL2</th><th scope=col>legL3</th><th scope=col>legL4</th></tr>\n",
       "</thead>\n",
       "<tbody>\n",
       "\t<tr><th scope=row>1</th><td>0</td><td>0</td><td>-1</td><td>1</td><td>0</td></tr>\n",
       "</tbody>\n",
       "</table>\n"
      ],
      "text/latex": [
       "A matrix: 1 × 5 of type dbl\n",
       "\\begin{tabular}{r|lllll}\n",
       "  & (Intercept) & typepush & legL2 & legL3 & legL4\\\\\n",
       "\\hline\n",
       "\t1 & 0 & 0 & -1 & 1 & 0\\\\\n",
       "\\end{tabular}\n"
      ],
      "text/markdown": [
       "\n",
       "A matrix: 1 × 5 of type dbl\n",
       "\n",
       "| <!--/--> | (Intercept) | typepush | legL2 | legL3 | legL4 |\n",
       "|---|---|---|---|---|---|\n",
       "| 1 | 0 | 0 | -1 | 1 | 0 |\n",
       "\n"
      ],
      "text/plain": [
       "  (Intercept) typepush legL2 legL3 legL4\n",
       "1 0           0        -1    1     0    "
      ]
     },
     "metadata": {},
     "output_type": "display_data"
    }
   ],
   "source": [
    "(cT <- L3vsL2$X)"
   ]
  },
  {
   "cell_type": "code",
   "execution_count": 40,
   "id": "9939ecc3",
   "metadata": {},
   "outputs": [
    {
     "data": {
      "text/html": [
       "<table class=\"dataframe\">\n",
       "<caption>A matrix: 1 × 1 of type dbl</caption>\n",
       "<tbody>\n",
       "\t<tr><th scope=row>1</th><td>-0.01142949</td></tr>\n",
       "</tbody>\n",
       "</table>\n"
      ],
      "text/latex": [
       "A matrix: 1 × 1 of type dbl\n",
       "\\begin{tabular}{r|l}\n",
       "\t1 & -0.01142949\\\\\n",
       "\\end{tabular}\n"
      ],
      "text/markdown": [
       "\n",
       "A matrix: 1 × 1 of type dbl\n",
       "\n",
       "| 1 | -0.01142949 |\n",
       "\n"
      ],
      "text/plain": [
       "  [,1]       \n",
       "1 -0.01142949"
      ]
     },
     "metadata": {},
     "output_type": "display_data"
    }
   ],
   "source": [
    "cT %*% coefs"
   ]
  },
  {
   "cell_type": "code",
   "execution_count": 41,
   "id": "4b3553ee",
   "metadata": {},
   "outputs": [
    {
     "data": {
      "text/html": [
       "<table class=\"dataframe\">\n",
       "<caption>A matrix: 5 × 5 of type dbl</caption>\n",
       "<thead>\n",
       "\t<tr><th></th><th scope=col>(Intercept)</th><th scope=col>typepush</th><th scope=col>legL2</th><th scope=col>legL3</th><th scope=col>legL4</th></tr>\n",
       "</thead>\n",
       "<tbody>\n",
       "\t<tr><th scope=row>(Intercept)</th><td> 0.00079</td><td>-3.1e-04</td><td>-0.00064</td><td>-0.00064</td><td>-0.00064</td></tr>\n",
       "\t<tr><th scope=row>typepush</th><td>-0.00031</td><td> 6.2e-04</td><td> 0.00000</td><td> 0.00000</td><td> 0.00000</td></tr>\n",
       "\t<tr><th scope=row>legL2</th><td>-0.00064</td><td>-6.4e-20</td><td> 0.00210</td><td> 0.00064</td><td> 0.00064</td></tr>\n",
       "\t<tr><th scope=row>legL3</th><td>-0.00064</td><td>-6.4e-20</td><td> 0.00064</td><td> 0.00110</td><td> 0.00064</td></tr>\n",
       "\t<tr><th scope=row>legL4</th><td>-0.00064</td><td>-1.2e-19</td><td> 0.00064</td><td> 0.00064</td><td> 0.00120</td></tr>\n",
       "</tbody>\n",
       "</table>\n"
      ],
      "text/latex": [
       "A matrix: 5 × 5 of type dbl\n",
       "\\begin{tabular}{r|lllll}\n",
       "  & (Intercept) & typepush & legL2 & legL3 & legL4\\\\\n",
       "\\hline\n",
       "\t(Intercept) &  0.00079 & -3.1e-04 & -0.00064 & -0.00064 & -0.00064\\\\\n",
       "\ttypepush & -0.00031 &  6.2e-04 &  0.00000 &  0.00000 &  0.00000\\\\\n",
       "\tlegL2 & -0.00064 & -6.4e-20 &  0.00210 &  0.00064 &  0.00064\\\\\n",
       "\tlegL3 & -0.00064 & -6.4e-20 &  0.00064 &  0.00110 &  0.00064\\\\\n",
       "\tlegL4 & -0.00064 & -1.2e-19 &  0.00064 &  0.00064 &  0.00120\\\\\n",
       "\\end{tabular}\n"
      ],
      "text/markdown": [
       "\n",
       "A matrix: 5 × 5 of type dbl\n",
       "\n",
       "| <!--/--> | (Intercept) | typepush | legL2 | legL3 | legL4 |\n",
       "|---|---|---|---|---|---|\n",
       "| (Intercept) |  0.00079 | -3.1e-04 | -0.00064 | -0.00064 | -0.00064 |\n",
       "| typepush | -0.00031 |  6.2e-04 |  0.00000 |  0.00000 |  0.00000 |\n",
       "| legL2 | -0.00064 | -6.4e-20 |  0.00210 |  0.00064 |  0.00064 |\n",
       "| legL3 | -0.00064 | -6.4e-20 |  0.00064 |  0.00110 |  0.00064 |\n",
       "| legL4 | -0.00064 | -1.2e-19 |  0.00064 |  0.00064 |  0.00120 |\n",
       "\n"
      ],
      "text/plain": [
       "            (Intercept) typepush legL2    legL3    legL4   \n",
       "(Intercept)  0.00079    -3.1e-04 -0.00064 -0.00064 -0.00064\n",
       "typepush    -0.00031     6.2e-04  0.00000  0.00000  0.00000\n",
       "legL2       -0.00064    -6.4e-20  0.00210  0.00064  0.00064\n",
       "legL3       -0.00064    -6.4e-20  0.00064  0.00110  0.00064\n",
       "legL4       -0.00064    -1.2e-19  0.00064  0.00064  0.00120"
      ]
     },
     "metadata": {},
     "output_type": "display_data"
    }
   ],
   "source": [
    "Sigma.hat <- sum(fitTL$residuals^2)/(nrow(X) - ncol(X)) * solve(t(X) %*% X)\n",
    "signif(Sigma.hat, 2)"
   ]
  },
  {
   "cell_type": "code",
   "execution_count": 42,
   "id": "291c3222",
   "metadata": {},
   "outputs": [
    {
     "data": {
      "text/html": [
       "<table class=\"dataframe\">\n",
       "<caption>A matrix: 1 × 1 of type dbl</caption>\n",
       "<thead>\n",
       "\t<tr><th></th><th scope=col>1</th></tr>\n",
       "</thead>\n",
       "<tbody>\n",
       "\t<tr><th scope=row>1</th><td>0.04319685</td></tr>\n",
       "</tbody>\n",
       "</table>\n"
      ],
      "text/latex": [
       "A matrix: 1 × 1 of type dbl\n",
       "\\begin{tabular}{r|l}\n",
       "  & 1\\\\\n",
       "\\hline\n",
       "\t1 & 0.04319685\\\\\n",
       "\\end{tabular}\n"
      ],
      "text/markdown": [
       "\n",
       "A matrix: 1 × 1 of type dbl\n",
       "\n",
       "| <!--/--> | 1 |\n",
       "|---|---|\n",
       "| 1 | 0.04319685 |\n",
       "\n"
      ],
      "text/plain": [
       "  1         \n",
       "1 0.04319685"
      ]
     },
     "metadata": {},
     "output_type": "display_data"
    }
   ],
   "source": [
    "sqrt(cT %*% Sigma.hat %*% t(cT))"
   ]
  },
  {
   "cell_type": "code",
   "execution_count": 43,
   "id": "3f4d0a09",
   "metadata": {},
   "outputs": [
    {
     "data": {
      "text/html": [
       "0.0431968509837795"
      ],
      "text/latex": [
       "0.0431968509837795"
      ],
      "text/markdown": [
       "0.0431968509837795"
      ],
      "text/plain": [
       "[1] 0.04319685"
      ]
     },
     "metadata": {},
     "output_type": "display_data"
    }
   ],
   "source": [
    "L3vsL2$SE"
   ]
  },
  {
   "cell_type": "code",
   "execution_count": 44,
   "id": "1f22c2fb",
   "metadata": {},
   "outputs": [
    {
     "data": {
      "text/html": [
       "<table class=\"dataframe\">\n",
       "<caption>A matrix: 1 × 5 of type dbl</caption>\n",
       "<thead>\n",
       "\t<tr><th></th><th scope=col>(Intercept)</th><th scope=col>typepush</th><th scope=col>legL2</th><th scope=col>legL3</th><th scope=col>legL4</th></tr>\n",
       "</thead>\n",
       "<tbody>\n",
       "\t<tr><th scope=row>1</th><td>0</td><td>0</td><td>-1</td><td>1</td><td>0</td></tr>\n",
       "</tbody>\n",
       "</table>\n"
      ],
      "text/latex": [
       "A matrix: 1 × 5 of type dbl\n",
       "\\begin{tabular}{r|lllll}\n",
       "  & (Intercept) & typepush & legL2 & legL3 & legL4\\\\\n",
       "\\hline\n",
       "\t1 & 0 & 0 & -1 & 1 & 0\\\\\n",
       "\\end{tabular}\n"
      ],
      "text/markdown": [
       "\n",
       "A matrix: 1 × 5 of type dbl\n",
       "\n",
       "| <!--/--> | (Intercept) | typepush | legL2 | legL3 | legL4 |\n",
       "|---|---|---|---|---|---|\n",
       "| 1 | 0 | 0 | -1 | 1 | 0 |\n",
       "\n"
      ],
      "text/plain": [
       "  (Intercept) typepush legL2 legL3 legL4\n",
       "1 0           0        -1    1     0    "
      ]
     },
     "metadata": {},
     "output_type": "display_data"
    }
   ],
   "source": [
    "L3vsL2.equiv <- contrast(fitTL,list(leg=\"L3\",type=\"push\"),list(leg=\"L2\",type=\"push\"))\n",
    "L3vsL2.equiv$X"
   ]
  },
  {
   "cell_type": "markdown",
   "id": "8497f06e",
   "metadata": {},
   "source": [
    "## Linear Model with Interactions"
   ]
  },
  {
   "cell_type": "code",
   "execution_count": 45,
   "id": "d5df92aa",
   "metadata": {},
   "outputs": [
    {
     "data": {
      "text/html": [
       "<style>\n",
       ".list-inline {list-style: none; margin:0; padding: 0}\n",
       ".list-inline>li {display: inline-block}\n",
       ".list-inline>li:not(:last-child)::after {content: \"\\00b7\"; padding: 0 .5ex}\n",
       "</style>\n",
       "<ol class=list-inline><li>'(Intercept)'</li><li>'typepush'</li><li>'legL2'</li><li>'legL3'</li><li>'legL4'</li><li>'typepush:legL2'</li><li>'typepush:legL3'</li><li>'typepush:legL4'</li></ol>\n"
      ],
      "text/latex": [
       "\\begin{enumerate*}\n",
       "\\item '(Intercept)'\n",
       "\\item 'typepush'\n",
       "\\item 'legL2'\n",
       "\\item 'legL3'\n",
       "\\item 'legL4'\n",
       "\\item 'typepush:legL2'\n",
       "\\item 'typepush:legL3'\n",
       "\\item 'typepush:legL4'\n",
       "\\end{enumerate*}\n"
      ],
      "text/markdown": [
       "1. '(Intercept)'\n",
       "2. 'typepush'\n",
       "3. 'legL2'\n",
       "4. 'legL3'\n",
       "5. 'legL4'\n",
       "6. 'typepush:legL2'\n",
       "7. 'typepush:legL3'\n",
       "8. 'typepush:legL4'\n",
       "\n",
       "\n"
      ],
      "text/plain": [
       "[1] \"(Intercept)\"    \"typepush\"       \"legL2\"          \"legL3\"         \n",
       "[5] \"legL4\"          \"typepush:legL2\" \"typepush:legL3\" \"typepush:legL4\""
      ]
     },
     "metadata": {},
     "output_type": "display_data"
    }
   ],
   "source": [
    "X <- model.matrix(~ type + leg + type:leg, data=spider)\n",
    "colnames(X)"
   ]
  },
  {
   "cell_type": "code",
   "execution_count": 46,
   "id": "6e2f2554",
   "metadata": {},
   "outputs": [
    {
     "data": {
      "text/html": [
       "<table class=\"dataframe\">\n",
       "<caption>A matrix: 6 × 8 of type dbl</caption>\n",
       "<thead>\n",
       "\t<tr><th></th><th scope=col>(Intercept)</th><th scope=col>typepush</th><th scope=col>legL2</th><th scope=col>legL3</th><th scope=col>legL4</th><th scope=col>typepush:legL2</th><th scope=col>typepush:legL3</th><th scope=col>typepush:legL4</th></tr>\n",
       "</thead>\n",
       "<tbody>\n",
       "\t<tr><th scope=row>1</th><td>1</td><td>0</td><td>0</td><td>0</td><td>0</td><td>0</td><td>0</td><td>0</td></tr>\n",
       "\t<tr><th scope=row>2</th><td>1</td><td>0</td><td>0</td><td>0</td><td>0</td><td>0</td><td>0</td><td>0</td></tr>\n",
       "\t<tr><th scope=row>3</th><td>1</td><td>0</td><td>0</td><td>0</td><td>0</td><td>0</td><td>0</td><td>0</td></tr>\n",
       "\t<tr><th scope=row>4</th><td>1</td><td>0</td><td>0</td><td>0</td><td>0</td><td>0</td><td>0</td><td>0</td></tr>\n",
       "\t<tr><th scope=row>5</th><td>1</td><td>0</td><td>0</td><td>0</td><td>0</td><td>0</td><td>0</td><td>0</td></tr>\n",
       "\t<tr><th scope=row>6</th><td>1</td><td>0</td><td>0</td><td>0</td><td>0</td><td>0</td><td>0</td><td>0</td></tr>\n",
       "</tbody>\n",
       "</table>\n"
      ],
      "text/latex": [
       "A matrix: 6 × 8 of type dbl\n",
       "\\begin{tabular}{r|llllllll}\n",
       "  & (Intercept) & typepush & legL2 & legL3 & legL4 & typepush:legL2 & typepush:legL3 & typepush:legL4\\\\\n",
       "\\hline\n",
       "\t1 & 1 & 0 & 0 & 0 & 0 & 0 & 0 & 0\\\\\n",
       "\t2 & 1 & 0 & 0 & 0 & 0 & 0 & 0 & 0\\\\\n",
       "\t3 & 1 & 0 & 0 & 0 & 0 & 0 & 0 & 0\\\\\n",
       "\t4 & 1 & 0 & 0 & 0 & 0 & 0 & 0 & 0\\\\\n",
       "\t5 & 1 & 0 & 0 & 0 & 0 & 0 & 0 & 0\\\\\n",
       "\t6 & 1 & 0 & 0 & 0 & 0 & 0 & 0 & 0\\\\\n",
       "\\end{tabular}\n"
      ],
      "text/markdown": [
       "\n",
       "A matrix: 6 × 8 of type dbl\n",
       "\n",
       "| <!--/--> | (Intercept) | typepush | legL2 | legL3 | legL4 | typepush:legL2 | typepush:legL3 | typepush:legL4 |\n",
       "|---|---|---|---|---|---|---|---|---|\n",
       "| 1 | 1 | 0 | 0 | 0 | 0 | 0 | 0 | 0 |\n",
       "| 2 | 1 | 0 | 0 | 0 | 0 | 0 | 0 | 0 |\n",
       "| 3 | 1 | 0 | 0 | 0 | 0 | 0 | 0 | 0 |\n",
       "| 4 | 1 | 0 | 0 | 0 | 0 | 0 | 0 | 0 |\n",
       "| 5 | 1 | 0 | 0 | 0 | 0 | 0 | 0 | 0 |\n",
       "| 6 | 1 | 0 | 0 | 0 | 0 | 0 | 0 | 0 |\n",
       "\n"
      ],
      "text/plain": [
       "  (Intercept) typepush legL2 legL3 legL4 typepush:legL2 typepush:legL3\n",
       "1 1           0        0     0     0     0              0             \n",
       "2 1           0        0     0     0     0              0             \n",
       "3 1           0        0     0     0     0              0             \n",
       "4 1           0        0     0     0     0              0             \n",
       "5 1           0        0     0     0     0              0             \n",
       "6 1           0        0     0     0     0              0             \n",
       "  typepush:legL4\n",
       "1 0             \n",
       "2 0             \n",
       "3 0             \n",
       "4 0             \n",
       "5 0             \n",
       "6 0             "
      ]
     },
     "metadata": {},
     "output_type": "display_data"
    }
   ],
   "source": [
    "head(X)"
   ]
  },
  {
   "cell_type": "code",
   "execution_count": 47,
   "id": "65f91656",
   "metadata": {},
   "outputs": [
    {
     "data": {
      "image/png": "[encoded data removed]",
      "text/plain": [
       "Plot with title \"Model matrix for linear model with interactions\""
      ]
     },
     "metadata": {
      "image/png": {
       "height": 420,
       "width": 420
      }
     },
     "output_type": "display_data"
    }
   ],
   "source": [
    "imagemat(X, main=\"Model matrix for linear model with interactions\")"
   ]
  },
  {
   "cell_type": "code",
   "execution_count": 48,
   "id": "65c9787c",
   "metadata": {},
   "outputs": [
    {
     "data": {
      "text/plain": [
       "\n",
       "Call:\n",
       "lm(formula = friction ~ type + leg + type:leg, data = spider)\n",
       "\n",
       "Residuals:\n",
       "     Min       1Q   Median       3Q      Max \n",
       "-0.46385 -0.10735 -0.01111  0.07848  0.76853 \n",
       "\n",
       "Coefficients:\n",
       "               Estimate Std. Error t value Pr(>|t|)    \n",
       "(Intercept)     0.92147    0.03266  28.215  < 2e-16 ***\n",
       "typepush       -0.51412    0.04619 -11.131  < 2e-16 ***\n",
       "legL2           0.22386    0.05903   3.792 0.000184 ***\n",
       "legL3           0.35238    0.04200   8.390 2.62e-15 ***\n",
       "legL4           0.47928    0.04442  10.789  < 2e-16 ***\n",
       "typepush:legL2 -0.10388    0.08348  -1.244 0.214409    \n",
       "typepush:legL3 -0.38377    0.05940  -6.461 4.73e-10 ***\n",
       "typepush:legL4 -0.39588    0.06282  -6.302 1.17e-09 ***\n",
       "---\n",
       "Signif. codes:  0 '***' 0.001 '**' 0.01 '*' 0.05 '.' 0.1 ' ' 1\n",
       "\n",
       "Residual standard error: 0.1904 on 274 degrees of freedom\n",
       "Multiple R-squared:  0.8279,\tAdjusted R-squared:  0.8235 \n",
       "F-statistic: 188.3 on 7 and 274 DF,  p-value: < 2.2e-16\n"
      ]
     },
     "metadata": {},
     "output_type": "display_data"
    }
   ],
   "source": [
    "fitX <- lm(friction ~ type + leg + type:leg, data=spider)\n",
    "summary(fitX)"
   ]
  },
  {
   "cell_type": "code",
   "execution_count": 49,
   "id": "2983fecf",
   "metadata": {},
   "outputs": [],
   "source": [
    "coefs <- coef(fitX)"
   ]
  },
  {
   "cell_type": "markdown",
   "id": "fa2e8c2b",
   "metadata": {},
   "source": [
    "### Contrasts"
   ]
  },
  {
   "cell_type": "code",
   "execution_count": 50,
   "id": "c28bc821",
   "metadata": {},
   "outputs": [
    {
     "data": {
      "text/plain": [
       "lm model parameter contrast\n",
       "\n",
       " Contrast      S.E.      Lower      Upper     t  df Pr(>|t|)\n",
       "   -0.618 0.0695372 -0.7548951 -0.4811049 -8.89 274        0"
      ]
     },
     "metadata": {},
     "output_type": "display_data"
    }
   ],
   "source": [
    "library(contrast) ##Available from CRAN\n",
    "L2push.vs.pull <- contrast(fitX,\n",
    "list(leg=\"L2\", type = \"push\"),\n",
    "list(leg=\"L2\", type = \"pull\"))\n",
    "L2push.vs.pull"
   ]
  },
  {
   "cell_type": "code",
   "execution_count": 51,
   "id": "2db0153a",
   "metadata": {},
   "outputs": [
    {
     "data": {
      "text/html": [
       "<strong>typepush:</strong> -0.618000000000001"
      ],
      "text/latex": [
       "\\textbf{typepush:} -0.618000000000001"
      ],
      "text/markdown": [
       "**typepush:** -0.618000000000001"
      ],
      "text/plain": [
       "typepush \n",
       "  -0.618 "
      ]
     },
     "metadata": {},
     "output_type": "display_data"
    }
   ],
   "source": [
    "coefs[2] + coefs[6]"
   ]
  },
  {
   "cell_type": "markdown",
   "id": "28bdb795",
   "metadata": {},
   "source": [
    "### Differences of differences"
   ]
  },
  {
   "cell_type": "code",
   "execution_count": 52,
   "id": "7d208804",
   "metadata": {},
   "outputs": [
    {
     "name": "stderr",
     "output_type": "stream",
     "text": [
      "Loading required package: mvtnorm\n",
      "\n",
      "Loading required package: survival\n",
      "\n",
      "Loading required package: TH.data\n",
      "\n",
      "Loading required package: MASS\n",
      "\n",
      "\n",
      "Attaching package: 'TH.data'\n",
      "\n",
      "\n",
      "The following object is masked from 'package:MASS':\n",
      "\n",
      "    geyser\n",
      "\n",
      "\n"
     ]
    },
    {
     "data": {
      "text/plain": [
       "\n",
       "\t Simultaneous Tests for General Linear Hypotheses\n",
       "\n",
       "Fit: lm(formula = friction ~ type + leg + type:leg, data = spider)\n",
       "\n",
       "Linear Hypotheses:\n",
       "       Estimate Std. Error t value Pr(>|t|)    \n",
       "1 == 0 -0.27988    0.07893  -3.546  0.00046 ***\n",
       "---\n",
       "Signif. codes:  0 '***' 0.001 '**' 0.01 '*' 0.05 '.' 0.1 ' ' 1\n",
       "(Adjusted p values reported -- single-step method)\n"
      ]
     },
     "metadata": {},
     "output_type": "display_data"
    }
   ],
   "source": [
    "library(multcomp) ##Available from CRAN\n",
    "C <- matrix(c(0,0,0,0,0,-1,1,0), 1)\n",
    "L3vsL2interaction <- glht(fitX, linfct=C)\n",
    "summary(L3vsL2interaction)"
   ]
  },
  {
   "cell_type": "code",
   "execution_count": 53,
   "id": "4ad52fca",
   "metadata": {},
   "outputs": [
    {
     "data": {
      "text/html": [
       "<strong>typepush:legL3:</strong> -0.279884615384616"
      ],
      "text/latex": [
       "\\textbf{typepush:legL3:} -0.279884615384616"
      ],
      "text/markdown": [
       "**typepush:legL3:** -0.279884615384616"
      ],
      "text/plain": [
       "typepush:legL3 \n",
       "    -0.2798846 "
      ]
     },
     "metadata": {},
     "output_type": "display_data"
    }
   ],
   "source": [
    "coefs[7] - coefs[6]"
   ]
  },
  {
   "cell_type": "markdown",
   "id": "e4e383ba",
   "metadata": {},
   "source": [
    "## Analysis of variance"
   ]
  },
  {
   "cell_type": "code",
   "execution_count": 54,
   "id": "46fbd188",
   "metadata": {},
   "outputs": [
    {
     "data": {
      "text/html": [
       "<table class=\"dataframe\">\n",
       "<caption>A anova: 4 × 5</caption>\n",
       "<thead>\n",
       "\t<tr><th></th><th scope=col>Df</th><th scope=col>Sum Sq</th><th scope=col>Mean Sq</th><th scope=col>F value</th><th scope=col>Pr(&gt;F)</th></tr>\n",
       "\t<tr><th></th><th scope=col>&lt;int&gt;</th><th scope=col>&lt;dbl&gt;</th><th scope=col>&lt;dbl&gt;</th><th scope=col>&lt;dbl&gt;</th><th scope=col>&lt;dbl&gt;</th></tr>\n",
       "</thead>\n",
       "<tbody>\n",
       "\t<tr><th scope=row>type</th><td>  1</td><td>42.783070</td><td>42.78306950</td><td>1179.71276</td><td>2.753680e-101</td></tr>\n",
       "\t<tr><th scope=row>leg</th><td>  3</td><td> 2.920856</td><td> 0.97361860</td><td>  26.84684</td><td> 2.971903e-15</td></tr>\n",
       "\t<tr><th scope=row>type:leg</th><td>  3</td><td> 2.097865</td><td> 0.69928836</td><td>  19.28238</td><td> 2.255560e-11</td></tr>\n",
       "\t<tr><th scope=row>Residuals</th><td>274</td><td> 9.936793</td><td> 0.03626567</td><td>        NA</td><td>           NA</td></tr>\n",
       "</tbody>\n",
       "</table>\n"
      ],
      "text/latex": [
       "A anova: 4 × 5\n",
       "\\begin{tabular}{r|lllll}\n",
       "  & Df & Sum Sq & Mean Sq & F value & Pr(>F)\\\\\n",
       "  & <int> & <dbl> & <dbl> & <dbl> & <dbl>\\\\\n",
       "\\hline\n",
       "\ttype &   1 & 42.783070 & 42.78306950 & 1179.71276 & 2.753680e-101\\\\\n",
       "\tleg &   3 &  2.920856 &  0.97361860 &   26.84684 &  2.971903e-15\\\\\n",
       "\ttype:leg &   3 &  2.097865 &  0.69928836 &   19.28238 &  2.255560e-11\\\\\n",
       "\tResiduals & 274 &  9.936793 &  0.03626567 &         NA &            NA\\\\\n",
       "\\end{tabular}\n"
      ],
      "text/markdown": [
       "\n",
       "A anova: 4 × 5\n",
       "\n",
       "| <!--/--> | Df &lt;int&gt; | Sum Sq &lt;dbl&gt; | Mean Sq &lt;dbl&gt; | F value &lt;dbl&gt; | Pr(&gt;F) &lt;dbl&gt; |\n",
       "|---|---|---|---|---|---|\n",
       "| type |   1 | 42.783070 | 42.78306950 | 1179.71276 | 2.753680e-101 |\n",
       "| leg |   3 |  2.920856 |  0.97361860 |   26.84684 |  2.971903e-15 |\n",
       "| type:leg |   3 |  2.097865 |  0.69928836 |   19.28238 |  2.255560e-11 |\n",
       "| Residuals | 274 |  9.936793 |  0.03626567 |         NA |            NA |\n",
       "\n"
      ],
      "text/plain": [
       "          Df  Sum Sq    Mean Sq     F value    Pr(>F)       \n",
       "type        1 42.783070 42.78306950 1179.71276 2.753680e-101\n",
       "leg         3  2.920856  0.97361860   26.84684  2.971903e-15\n",
       "type:leg    3  2.097865  0.69928836   19.28238  2.255560e-11\n",
       "Residuals 274  9.936793  0.03626567         NA            NA"
      ]
     },
     "metadata": {},
     "output_type": "display_data"
    }
   ],
   "source": [
    "anova(fitX)"
   ]
  },
  {
   "cell_type": "code",
   "execution_count": 55,
   "id": "099e5f04",
   "metadata": {},
   "outputs": [
    {
     "data": {
      "text/html": [
       "57.7385829787234"
      ],
      "text/latex": [
       "57.7385829787234"
      ],
      "text/markdown": [
       "57.7385829787234"
      ],
      "text/plain": [
       "[1] 57.73858"
      ]
     },
     "metadata": {},
     "output_type": "display_data"
    }
   ],
   "source": [
    "mu0 <- mean(spider$friction)\n",
    "(initial.ss <- sum((spider$friction - mu0)^2))"
   ]
  },
  {
   "cell_type": "code",
   "execution_count": 56,
   "id": "7d122da2",
   "metadata": {},
   "outputs": [
    {
     "data": {
      "text/html": [
       "57.7385829787234"
      ],
      "text/latex": [
       "57.7385829787234"
      ],
      "text/markdown": [
       "57.7385829787234"
      ],
      "text/plain": [
       "[1] 57.73858"
      ]
     },
     "metadata": {},
     "output_type": "display_data"
    }
   ],
   "source": [
    "N <- nrow(spider)\n",
    "(N - 1) * var(spider$friction)"
   ]
  },
  {
   "cell_type": "code",
   "execution_count": 57,
   "id": "03ec6f5c",
   "metadata": {},
   "outputs": [
    {
     "data": {
      "text/html": [
       "42.7830695035461"
      ],
      "text/latex": [
       "42.7830695035461"
      ],
      "text/markdown": [
       "42.7830695035461"
      ],
      "text/plain": [
       "[1] 42.78307"
      ]
     },
     "metadata": {},
     "output_type": "display_data"
    }
   ],
   "source": [
    "s <- split(spider$friction, spider$type)\n",
    "after.type.ss <- sum( sapply(s, function(x) {\n",
    "residual <- x - mean(x)\n",
    "sum(residual^2)\n",
    "}) )\n",
    "(type.ss <- initial.ss - after.type.ss)"
   ]
  },
  {
   "cell_type": "code",
   "execution_count": 58,
   "id": "3ab1a2f8",
   "metadata": {},
   "outputs": [
    {
     "data": {
      "text/html": [
       "42.7830695035461"
      ],
      "text/latex": [
       "42.7830695035461"
      ],
      "text/markdown": [
       "42.7830695035461"
      ],
      "text/plain": [
       "[1] 42.78307"
      ]
     },
     "metadata": {},
     "output_type": "display_data"
    }
   ],
   "source": [
    "sum(sapply(s, length) * (sapply(s, mean) - mu0)^2)"
   ]
  },
  {
   "cell_type": "markdown",
   "id": "22cc6035",
   "metadata": {},
   "source": [
    "### A different specification of the same model"
   ]
  },
  {
   "cell_type": "code",
   "execution_count": 2,
   "id": "8ec3a5d7",
   "metadata": {},
   "outputs": [
    {
     "data": {
      "text/html": [
       "<style>\n",
       ".list-inline {list-style: none; margin:0; padding: 0}\n",
       ".list-inline>li {display: inline-block}\n",
       ".list-inline>li:not(:last-child)::after {content: \"\\00b7\"; padding: 0 .5ex}\n",
       "</style>\n",
       "<ol class=list-inline><li>'groupL1pull'</li><li>'groupL1push'</li><li>'groupL2pull'</li><li>'groupL2push'</li><li>'groupL3pull'</li><li>'groupL3push'</li><li>'groupL4pull'</li><li>'groupL4push'</li></ol>\n"
      ],
      "text/latex": [
       "\\begin{enumerate*}\n",
       "\\item 'groupL1pull'\n",
       "\\item 'groupL1push'\n",
       "\\item 'groupL2pull'\n",
       "\\item 'groupL2push'\n",
       "\\item 'groupL3pull'\n",
       "\\item 'groupL3push'\n",
       "\\item 'groupL4pull'\n",
       "\\item 'groupL4push'\n",
       "\\end{enumerate*}\n"
      ],
      "text/markdown": [
       "1. 'groupL1pull'\n",
       "2. 'groupL1push'\n",
       "3. 'groupL2pull'\n",
       "4. 'groupL2push'\n",
       "5. 'groupL3pull'\n",
       "6. 'groupL3push'\n",
       "7. 'groupL4pull'\n",
       "8. 'groupL4push'\n",
       "\n",
       "\n"
      ],
      "text/plain": [
       "[1] \"groupL1pull\" \"groupL1push\" \"groupL2pull\" \"groupL2push\" \"groupL3pull\"\n",
       "[6] \"groupL3push\" \"groupL4pull\" \"groupL4push\""
      ]
     },
     "metadata": {},
     "output_type": "display_data"
    }
   ],
   "source": [
    "spider$group <- factor(paste0(spider$leg, spider$type))\n",
    "X <- model.matrix(~ 0 + group, data=spider)\n",
    "colnames(X)"
   ]
  },
  {
   "cell_type": "code",
   "execution_count": 3,
   "id": "72b553dc",
   "metadata": {},
   "outputs": [
    {
     "data": {
      "text/html": [
       "<table class=\"dataframe\">\n",
       "<caption>A matrix: 6 × 8 of type dbl</caption>\n",
       "<thead>\n",
       "\t<tr><th></th><th scope=col>groupL1pull</th><th scope=col>groupL1push</th><th scope=col>groupL2pull</th><th scope=col>groupL2push</th><th scope=col>groupL3pull</th><th scope=col>groupL3push</th><th scope=col>groupL4pull</th><th scope=col>groupL4push</th></tr>\n",
       "</thead>\n",
       "<tbody>\n",
       "\t<tr><th scope=row>1</th><td>1</td><td>0</td><td>0</td><td>0</td><td>0</td><td>0</td><td>0</td><td>0</td></tr>\n",
       "\t<tr><th scope=row>2</th><td>1</td><td>0</td><td>0</td><td>0</td><td>0</td><td>0</td><td>0</td><td>0</td></tr>\n",
       "\t<tr><th scope=row>3</th><td>1</td><td>0</td><td>0</td><td>0</td><td>0</td><td>0</td><td>0</td><td>0</td></tr>\n",
       "\t<tr><th scope=row>4</th><td>1</td><td>0</td><td>0</td><td>0</td><td>0</td><td>0</td><td>0</td><td>0</td></tr>\n",
       "\t<tr><th scope=row>5</th><td>1</td><td>0</td><td>0</td><td>0</td><td>0</td><td>0</td><td>0</td><td>0</td></tr>\n",
       "\t<tr><th scope=row>6</th><td>1</td><td>0</td><td>0</td><td>0</td><td>0</td><td>0</td><td>0</td><td>0</td></tr>\n",
       "</tbody>\n",
       "</table>\n"
      ],
      "text/latex": [
       "A matrix: 6 × 8 of type dbl\n",
       "\\begin{tabular}{r|llllllll}\n",
       "  & groupL1pull & groupL1push & groupL2pull & groupL2push & groupL3pull & groupL3push & groupL4pull & groupL4push\\\\\n",
       "\\hline\n",
       "\t1 & 1 & 0 & 0 & 0 & 0 & 0 & 0 & 0\\\\\n",
       "\t2 & 1 & 0 & 0 & 0 & 0 & 0 & 0 & 0\\\\\n",
       "\t3 & 1 & 0 & 0 & 0 & 0 & 0 & 0 & 0\\\\\n",
       "\t4 & 1 & 0 & 0 & 0 & 0 & 0 & 0 & 0\\\\\n",
       "\t5 & 1 & 0 & 0 & 0 & 0 & 0 & 0 & 0\\\\\n",
       "\t6 & 1 & 0 & 0 & 0 & 0 & 0 & 0 & 0\\\\\n",
       "\\end{tabular}\n"
      ],
      "text/markdown": [
       "\n",
       "A matrix: 6 × 8 of type dbl\n",
       "\n",
       "| <!--/--> | groupL1pull | groupL1push | groupL2pull | groupL2push | groupL3pull | groupL3push | groupL4pull | groupL4push |\n",
       "|---|---|---|---|---|---|---|---|---|\n",
       "| 1 | 1 | 0 | 0 | 0 | 0 | 0 | 0 | 0 |\n",
       "| 2 | 1 | 0 | 0 | 0 | 0 | 0 | 0 | 0 |\n",
       "| 3 | 1 | 0 | 0 | 0 | 0 | 0 | 0 | 0 |\n",
       "| 4 | 1 | 0 | 0 | 0 | 0 | 0 | 0 | 0 |\n",
       "| 5 | 1 | 0 | 0 | 0 | 0 | 0 | 0 | 0 |\n",
       "| 6 | 1 | 0 | 0 | 0 | 0 | 0 | 0 | 0 |\n",
       "\n"
      ],
      "text/plain": [
       "  groupL1pull groupL1push groupL2pull groupL2push groupL3pull groupL3push\n",
       "1 1           0           0           0           0           0          \n",
       "2 1           0           0           0           0           0          \n",
       "3 1           0           0           0           0           0          \n",
       "4 1           0           0           0           0           0          \n",
       "5 1           0           0           0           0           0          \n",
       "6 1           0           0           0           0           0          \n",
       "  groupL4pull groupL4push\n",
       "1 0           0          \n",
       "2 0           0          \n",
       "3 0           0          \n",
       "4 0           0          \n",
       "5 0           0          \n",
       "6 0           0          "
      ]
     },
     "metadata": {},
     "output_type": "display_data"
    }
   ],
   "source": [
    "head(X)"
   ]
  },
  {
   "cell_type": "code",
   "execution_count": 5,
   "id": "e63c3a2f",
   "metadata": {},
   "outputs": [
    {
     "data": {
      "image/png": "[encoded data removed]",
      "text/plain": [
       "Plot with title \"Model matrix for linear model with group variable\""
      ]
     },
     "metadata": {
      "image/png": {
       "height": 420,
       "width": 420
      }
     },
     "output_type": "display_data"
    }
   ],
   "source": [
    "library(rafalib)\n",
    "imagemat(X, main=\"Model matrix for linear model with group variable\")"
   ]
  },
  {
   "cell_type": "code",
   "execution_count": 6,
   "id": "2fcc0c2c",
   "metadata": {},
   "outputs": [
    {
     "data": {
      "text/plain": [
       "\n",
       "Call:\n",
       "lm(formula = friction ~ 0 + group, data = spider)\n",
       "\n",
       "Residuals:\n",
       "     Min       1Q   Median       3Q      Max \n",
       "-0.46385 -0.10735 -0.01111  0.07848  0.76853 \n",
       "\n",
       "Coefficients:\n",
       "            Estimate Std. Error t value Pr(>|t|)    \n",
       "groupL1pull  0.92147    0.03266   28.21   <2e-16 ***\n",
       "groupL1push  0.40735    0.03266   12.47   <2e-16 ***\n",
       "groupL2pull  1.14533    0.04917   23.29   <2e-16 ***\n",
       "groupL2push  0.52733    0.04917   10.72   <2e-16 ***\n",
       "groupL3pull  1.27385    0.02641   48.24   <2e-16 ***\n",
       "groupL3push  0.37596    0.02641   14.24   <2e-16 ***\n",
       "groupL4pull  1.40075    0.03011   46.52   <2e-16 ***\n",
       "groupL4push  0.49075    0.03011   16.30   <2e-16 ***\n",
       "---\n",
       "Signif. codes:  0 '***' 0.001 '**' 0.01 '*' 0.05 '.' 0.1 ' ' 1\n",
       "\n",
       "Residual standard error: 0.1904 on 274 degrees of freedom\n",
       "Multiple R-squared:   0.96,\tAdjusted R-squared:  0.9588 \n",
       "F-statistic:   821 on 8 and 274 DF,  p-value: < 2.2e-16\n"
      ]
     },
     "metadata": {},
     "output_type": "display_data"
    }
   ],
   "source": [
    "fitG <- lm(friction ~ 0 + group, data=spider)\n",
    "summary(fitG)"
   ]
  },
  {
   "cell_type": "code",
   "execution_count": 7,
   "id": "defc02b3",
   "metadata": {},
   "outputs": [],
   "source": [
    "coefs <- coef(fitG)"
   ]
  },
  {
   "cell_type": "markdown",
   "id": "90363d06",
   "metadata": {},
   "source": [
    "### Simple contrasts using the contrast package"
   ]
  },
  {
   "cell_type": "code",
   "execution_count": 9,
   "id": "06bbe6d6",
   "metadata": {},
   "outputs": [
    {
     "data": {
      "text/plain": [
       "lm model parameter contrast\n",
       "\n",
       "  Contrast      S.E.      Lower      Upper     t  df Pr(>|t|)\n",
       "1   -0.618 0.0695372 -0.7548951 -0.4811049 -8.89 274        0"
      ]
     },
     "metadata": {},
     "output_type": "display_data"
    }
   ],
   "source": [
    "library(contrast)\n",
    "groupL2push.vs.pull <- contrast(fitG,\n",
    "list(group = \"L2push\"),\n",
    "list(group = \"L2pull\"))\n",
    "groupL2push.vs.pull"
   ]
  },
  {
   "cell_type": "code",
   "execution_count": 10,
   "id": "457ece29",
   "metadata": {},
   "outputs": [
    {
     "data": {
      "text/html": [
       "<strong>groupL2push:</strong> -0.618"
      ],
      "text/latex": [
       "\\textbf{groupL2push:} -0.618"
      ],
      "text/markdown": [
       "**groupL2push:** -0.618"
      ],
      "text/plain": [
       "groupL2push \n",
       "     -0.618 "
      ]
     },
     "metadata": {},
     "output_type": "display_data"
    }
   ],
   "source": [
    "coefs[4] - coefs[3]"
   ]
  },
  {
   "cell_type": "markdown",
   "id": "04781d84",
   "metadata": {},
   "source": [
    "### Differences of differences when there is no intercept"
   ]
  },
  {
   "cell_type": "code",
   "execution_count": 12,
   "id": "1a8dbdf3",
   "metadata": {},
   "outputs": [
    {
     "name": "stderr",
     "output_type": "stream",
     "text": [
      "Loading required package: mvtnorm\n",
      "\n",
      "Loading required package: survival\n",
      "\n",
      "Loading required package: TH.data\n",
      "\n",
      "Loading required package: MASS\n",
      "\n",
      "\n",
      "Attaching package: 'TH.data'\n",
      "\n",
      "\n",
      "The following object is masked from 'package:MASS':\n",
      "\n",
      "    geyser\n",
      "\n",
      "\n"
     ]
    },
    {
     "data": {
      "text/plain": [
       "\n",
       "\t Simultaneous Tests for General Linear Hypotheses\n",
       "\n",
       "Fit: lm(formula = friction ~ 0 + group, data = spider)\n",
       "\n",
       "Linear Hypotheses:\n",
       "       Estimate Std. Error t value Pr(>|t|)    \n",
       "1 == 0 -0.27988    0.07893  -3.546  0.00046 ***\n",
       "---\n",
       "Signif. codes:  0 '***' 0.001 '**' 0.01 '*' 0.05 '.' 0.1 ' ' 1\n",
       "(Adjusted p values reported -- single-step method)\n"
      ]
     },
     "metadata": {},
     "output_type": "display_data"
    }
   ],
   "source": [
    "library(multcomp)\n",
    "C <- matrix(c(0,0,1,-1,-1,1,0,0), 1)\n",
    "groupL3vsL2interaction <- glht(fitG, linfct=C)\n",
    "summary(groupL3vsL2interaction)"
   ]
  },
  {
   "cell_type": "code",
   "execution_count": 13,
   "id": "1e097832",
   "metadata": {},
   "outputs": [
    {
     "data": {
      "text/html": [
       "<style>\n",
       ".list-inline {list-style: none; margin:0; padding: 0}\n",
       ".list-inline>li {display: inline-block}\n",
       ".list-inline>li:not(:last-child)::after {content: \"\\00b7\"; padding: 0 .5ex}\n",
       "</style>\n",
       "<ol class=list-inline><li>'groupL1pull'</li><li>'groupL1push'</li><li>'groupL2pull'</li><li>'groupL2push'</li><li>'groupL3pull'</li><li>'groupL3push'</li><li>'groupL4pull'</li><li>'groupL4push'</li></ol>\n"
      ],
      "text/latex": [
       "\\begin{enumerate*}\n",
       "\\item 'groupL1pull'\n",
       "\\item 'groupL1push'\n",
       "\\item 'groupL2pull'\n",
       "\\item 'groupL2push'\n",
       "\\item 'groupL3pull'\n",
       "\\item 'groupL3push'\n",
       "\\item 'groupL4pull'\n",
       "\\item 'groupL4push'\n",
       "\\end{enumerate*}\n"
      ],
      "text/markdown": [
       "1. 'groupL1pull'\n",
       "2. 'groupL1push'\n",
       "3. 'groupL2pull'\n",
       "4. 'groupL2push'\n",
       "5. 'groupL3pull'\n",
       "6. 'groupL3push'\n",
       "7. 'groupL4pull'\n",
       "8. 'groupL4push'\n",
       "\n",
       "\n"
      ],
      "text/plain": [
       "[1] \"groupL1pull\" \"groupL1push\" \"groupL2pull\" \"groupL2push\" \"groupL3pull\"\n",
       "[6] \"groupL3push\" \"groupL4pull\" \"groupL4push\""
      ]
     },
     "metadata": {},
     "output_type": "display_data"
    }
   ],
   "source": [
    "names(coefs)"
   ]
  },
  {
   "cell_type": "code",
   "execution_count": 14,
   "id": "10c6a547",
   "metadata": {},
   "outputs": [
    {
     "data": {
      "text/html": [
       "<strong>groupL3push:</strong> -0.279884615384616"
      ],
      "text/latex": [
       "\\textbf{groupL3push:} -0.279884615384616"
      ],
      "text/markdown": [
       "**groupL3push:** -0.279884615384616"
      ],
      "text/plain": [
       "groupL3push \n",
       " -0.2798846 "
      ]
     },
     "metadata": {},
     "output_type": "display_data"
    }
   ],
   "source": [
    "(coefs[6] - coefs[5]) - (coefs[4] - coefs[3])"
   ]
  },
  {
   "cell_type": "markdown",
   "id": "fd26a0ba",
   "metadata": {},
   "source": [
    "### Exercises P241"
   ]
  },
  {
   "cell_type": "markdown",
   "id": "352ec10d",
   "metadata": {},
   "source": [
    "Suppose we have an experiment with two species A and B, and two conditions, control and treated"
   ]
  },
  {
   "cell_type": "code",
   "execution_count": 2,
   "id": "4a6d9d01",
   "metadata": {},
   "outputs": [],
   "source": [
    "species <- factor(c(\"A\",\"A\",\"B\",\"B\"))\n",
    "condition <- factor(c(\"control\",\"treated\",\"control\",\"treated\"))"
   ]
  },
  {
   "cell_type": "code",
   "execution_count": 3,
   "id": "849d57f2",
   "metadata": {},
   "outputs": [
    {
     "data": {
      "text/html": [
       "<table class=\"dataframe\">\n",
       "<caption>A matrix: 4 × 3 of type dbl</caption>\n",
       "<thead>\n",
       "\t<tr><th></th><th scope=col>(Intercept)</th><th scope=col>speciesB</th><th scope=col>conditiontreated</th></tr>\n",
       "</thead>\n",
       "<tbody>\n",
       "\t<tr><th scope=row>1</th><td>1</td><td>0</td><td>0</td></tr>\n",
       "\t<tr><th scope=row>2</th><td>1</td><td>0</td><td>1</td></tr>\n",
       "\t<tr><th scope=row>3</th><td>1</td><td>1</td><td>0</td></tr>\n",
       "\t<tr><th scope=row>4</th><td>1</td><td>1</td><td>1</td></tr>\n",
       "</tbody>\n",
       "</table>\n"
      ],
      "text/latex": [
       "A matrix: 4 × 3 of type dbl\n",
       "\\begin{tabular}{r|lll}\n",
       "  & (Intercept) & speciesB & conditiontreated\\\\\n",
       "\\hline\n",
       "\t1 & 1 & 0 & 0\\\\\n",
       "\t2 & 1 & 0 & 1\\\\\n",
       "\t3 & 1 & 1 & 0\\\\\n",
       "\t4 & 1 & 1 & 1\\\\\n",
       "\\end{tabular}\n"
      ],
      "text/markdown": [
       "\n",
       "A matrix: 4 × 3 of type dbl\n",
       "\n",
       "| <!--/--> | (Intercept) | speciesB | conditiontreated |\n",
       "|---|---|---|---|\n",
       "| 1 | 1 | 0 | 0 |\n",
       "| 2 | 1 | 0 | 1 |\n",
       "| 3 | 1 | 1 | 0 |\n",
       "| 4 | 1 | 1 | 1 |\n",
       "\n"
      ],
      "text/plain": [
       "  (Intercept) speciesB conditiontreated\n",
       "1 1           0        0               \n",
       "2 1           0        1               \n",
       "3 1           1        0               \n",
       "4 1           1        1               "
      ]
     },
     "metadata": {},
     "output_type": "display_data"
    }
   ],
   "source": [
    "model.matrix(~ species + condition)"
   ]
  },
  {
   "cell_type": "markdown",
   "id": "5b7d597f",
   "metadata": {},
   "source": [
    "Q1:Suppose we want to build a contrast of coefficients for the above experimental design.\n",
    "You can either figure this question out by looking at the design matrix, or by using the contrast\n",
    "function from the contrast library with random numbers for y. The contrast vector will be\n",
    "returned as contrast(...)$X.\n",
    "What should the contrast vector be, to obtain the difference between the species B control\n",
    "group and the species A treatment group (species B control - species A treatment)? Assume\n",
    "that the coefficients (columns of design matrix) are: Intercept, speciesB, conditiontreated.\n",
    "\n",
    "• A) 0 0 1\n",
    "\n",
    "• B) 0 -1 0\n",
    "\n",
    "• C) 0 1 1\n",
    "\n",
    "• D) 0 1 -1\n",
    "\n",
    "• E) 0 -1 1\n",
    "\n",
    "• F) 1 0 1"
   ]
  },
  {
   "cell_type": "code",
   "execution_count": 4,
   "id": "bf9e2712",
   "metadata": {},
   "outputs": [
    {
     "data": {
      "text/plain": [
       "       condition\n",
       "species control treated\n",
       "      A       1       1\n",
       "      B       1       1"
      ]
     },
     "metadata": {},
     "output_type": "display_data"
    }
   ],
   "source": [
    "model=lm(rnorm(4) ~ species + condition)\n",
    "table(species,condition)"
   ]
  },
  {
   "cell_type": "code",
   "execution_count": 5,
   "id": "fe5ac43d",
   "metadata": {},
   "outputs": [
    {
     "ename": "ERROR",
     "evalue": "Error in contrast(model, list(species = \"B\", condition = \"control\"), list(species = \"A\", : could not find function \"contrast\"\n",
     "output_type": "error",
     "traceback": [
      "Error in contrast(model, list(species = \"B\", condition = \"control\"), list(species = \"A\", : could not find function \"contrast\"\nTraceback:\n"
     ]
    }
   ],
   "source": [
    "a=contrast(model, list(species ='B',condition='control'),\n",
    "         list(species ='A',condition='treated'))\n",
    "a$X"
   ]
  },
  {
   "cell_type": "markdown",
   "id": "babbee63",
   "metadata": {},
   "source": [
    "D"
   ]
  },
  {
   "cell_type": "markdown",
   "id": "1a675f92",
   "metadata": {},
   "source": [
    "Q2: Use the Rmd script to load the spider dataset. Suppose we build a model using two variables:\n",
    "∼ type + leg.\n",
    "\n",
    "What is the t-statistic for the contrast of leg pair L4 vs. leg pair L2?"
   ]
  },
  {
   "cell_type": "code",
   "execution_count": 12,
   "id": "fb4cdca5",
   "metadata": {},
   "outputs": [
    {
     "data": {
      "text/html": [
       "<strong>1:</strong> 2.45197350036692"
      ],
      "text/latex": [
       "\\textbf{1:} 2.45197350036692"
      ],
      "text/markdown": [
       "**1:** 2.45197350036692"
      ],
      "text/plain": [
       "       1 \n",
       "2.451974 "
      ]
     },
     "metadata": {},
     "output_type": "display_data"
    }
   ],
   "source": [
    "library(contrast)\n",
    "model1=lm(friction~type+leg, data = spider)\n",
    "res=contrast(model1, list(leg ='L4',type = 'pull'),\n",
    "         list(leg = 'L2',type='pull'))\n",
    "res$testStat"
   ]
  },
  {
   "cell_type": "markdown",
   "id": "09b0a222",
   "metadata": {},
   "source": [
    "Q3: The t-statistic for the contrast of leg pair L4 vs. leg pair L2 is constructed by taking the\n",
    "difference of the estimated coefficients legL4 and legL2, and then dividing by the standard\n",
    "error of the difference."
   ]
  },
  {
   "cell_type": "code",
   "execution_count": 7,
   "id": "49264fc2",
   "metadata": {},
   "outputs": [
    {
     "data": {
      "text/html": [
       "<table class=\"dataframe\">\n",
       "<caption>A matrix: 5 × 5 of type dbl</caption>\n",
       "<thead>\n",
       "\t<tr><th></th><th scope=col>(Intercept)</th><th scope=col>typepush</th><th scope=col>legL2</th><th scope=col>legL3</th><th scope=col>legL4</th></tr>\n",
       "</thead>\n",
       "<tbody>\n",
       "\t<tr><th scope=row>(Intercept)</th><td> 0.0007929832</td><td>-3.081306e-04</td><td>-0.0006389179</td><td>-0.0006389179</td><td>-0.0006389179</td></tr>\n",
       "\t<tr><th scope=row>typepush</th><td>-0.0003081306</td><td> 6.162612e-04</td><td> 0.0000000000</td><td> 0.0000000000</td><td> 0.0000000000</td></tr>\n",
       "\t<tr><th scope=row>legL2</th><td>-0.0006389179</td><td>-6.439411e-20</td><td> 0.0020871318</td><td> 0.0006389179</td><td> 0.0006389179</td></tr>\n",
       "\t<tr><th scope=row>legL3</th><td>-0.0006389179</td><td>-6.439411e-20</td><td> 0.0006389179</td><td> 0.0010566719</td><td> 0.0006389179</td></tr>\n",
       "\t<tr><th scope=row>legL4</th><td>-0.0006389179</td><td>-1.191291e-19</td><td> 0.0006389179</td><td> 0.0006389179</td><td> 0.0011819981</td></tr>\n",
       "</tbody>\n",
       "</table>\n"
      ],
      "text/latex": [
       "A matrix: 5 × 5 of type dbl\n",
       "\\begin{tabular}{r|lllll}\n",
       "  & (Intercept) & typepush & legL2 & legL3 & legL4\\\\\n",
       "\\hline\n",
       "\t(Intercept) &  0.0007929832 & -3.081306e-04 & -0.0006389179 & -0.0006389179 & -0.0006389179\\\\\n",
       "\ttypepush & -0.0003081306 &  6.162612e-04 &  0.0000000000 &  0.0000000000 &  0.0000000000\\\\\n",
       "\tlegL2 & -0.0006389179 & -6.439411e-20 &  0.0020871318 &  0.0006389179 &  0.0006389179\\\\\n",
       "\tlegL3 & -0.0006389179 & -6.439411e-20 &  0.0006389179 &  0.0010566719 &  0.0006389179\\\\\n",
       "\tlegL4 & -0.0006389179 & -1.191291e-19 &  0.0006389179 &  0.0006389179 &  0.0011819981\\\\\n",
       "\\end{tabular}\n"
      ],
      "text/markdown": [
       "\n",
       "A matrix: 5 × 5 of type dbl\n",
       "\n",
       "| <!--/--> | (Intercept) | typepush | legL2 | legL3 | legL4 |\n",
       "|---|---|---|---|---|---|\n",
       "| (Intercept) |  0.0007929832 | -3.081306e-04 | -0.0006389179 | -0.0006389179 | -0.0006389179 |\n",
       "| typepush | -0.0003081306 |  6.162612e-04 |  0.0000000000 |  0.0000000000 |  0.0000000000 |\n",
       "| legL2 | -0.0006389179 | -6.439411e-20 |  0.0020871318 |  0.0006389179 |  0.0006389179 |\n",
       "| legL3 | -0.0006389179 | -6.439411e-20 |  0.0006389179 |  0.0010566719 |  0.0006389179 |\n",
       "| legL4 | -0.0006389179 | -1.191291e-19 |  0.0006389179 |  0.0006389179 |  0.0011819981 |\n",
       "\n"
      ],
      "text/plain": [
       "            (Intercept)   typepush      legL2         legL3        \n",
       "(Intercept)  0.0007929832 -3.081306e-04 -0.0006389179 -0.0006389179\n",
       "typepush    -0.0003081306  6.162612e-04  0.0000000000  0.0000000000\n",
       "legL2       -0.0006389179 -6.439411e-20  0.0020871318  0.0006389179\n",
       "legL3       -0.0006389179 -6.439411e-20  0.0006389179  0.0010566719\n",
       "legL4       -0.0006389179 -1.191291e-19  0.0006389179  0.0006389179\n",
       "            legL4        \n",
       "(Intercept) -0.0006389179\n",
       "typepush     0.0000000000\n",
       "legL2        0.0006389179\n",
       "legL3        0.0006389179\n",
       "legL4        0.0011819981"
      ]
     },
     "metadata": {},
     "output_type": "display_data"
    }
   ],
   "source": [
    "X <- model.matrix(~ type + leg, data=spider)\n",
    "C <- matrix(c(0,0,-1,0,1),1,5)\n",
    "Sigma.hat <- sum(model1$residuals^2)/(nrow(X)-ncol(X)) *\n",
    "  solve(t(X)%*%X) # covariance matrix\n",
    "Sigma.hat"
   ]
  },
  {
   "cell_type": "markdown",
   "id": "4d613867",
   "metadata": {},
   "source": [
    "0.0006389179"
   ]
  },
  {
   "cell_type": "markdown",
   "id": "700aa441",
   "metadata": {},
   "source": [
    "Q4: Suppose that we notice that the within-group variances for the groups with smaller frictional\n",
    "coefficients are generally smaller, and so we try to apply a transformation to the frictional\n",
    "coefficients to make the within-group variances more constant.\n",
    "Add a new variable log2friction to the spider dataframe:"
   ]
  },
  {
   "cell_type": "code",
   "execution_count": 8,
   "id": "05a20e5f",
   "metadata": {},
   "outputs": [],
   "source": [
    "spider$log2friction <- log2(spider$friction)"
   ]
  },
  {
   "cell_type": "markdown",
   "id": "e8f39c17",
   "metadata": {},
   "source": [
    "The Y values now look like:"
   ]
  },
  {
   "cell_type": "code",
   "execution_count": 9,
   "id": "ff64fe1f",
   "metadata": {},
   "outputs": [
    {
     "data": {
      "image/png": "[encoded data removed]",
      "text/plain": [
       "plot without title"
      ]
     },
     "metadata": {
      "image/png": {
       "height": 420,
       "width": 420
      }
     },
     "output_type": "display_data"
    }
   ],
   "source": [
    "boxplot(log2friction ~ type*leg, data=spider)"
   ]
  },
  {
   "cell_type": "markdown",
   "id": "3aae39b5",
   "metadata": {},
   "source": [
    "Run a linear model of log2friction with type, leg and interactions between type and leg.\n",
    "What is the t-statistic for the interaction of type push and leg L4? If this t-statistic is sufficiently\n",
    "large, we would reject the null hypothesis that the push vs. pull effect on log2(friction) is\n",
    "the same in L4 as in L1."
   ]
  },
  {
   "cell_type": "code",
   "execution_count": 10,
   "id": "ee8de68c",
   "metadata": {},
   "outputs": [
    {
     "data": {
      "text/html": [
       "<table class=\"dataframe\">\n",
       "<caption>A matrix: 8 × 4 of type dbl</caption>\n",
       "<thead>\n",
       "\t<tr><th></th><th scope=col>Estimate</th><th scope=col>Std. Error</th><th scope=col>t value</th><th scope=col>Pr(&gt;|t|)</th></tr>\n",
       "</thead>\n",
       "<tbody>\n",
       "\t<tr><th scope=row>(Intercept)</th><td>-0.1682816</td><td>0.06613097</td><td> -2.5446712</td><td>1.148701e-02</td></tr>\n",
       "\t<tr><th scope=row>typepush</th><td>-1.2065650</td><td>0.09352331</td><td>-12.9012220</td><td>4.472641e-30</td></tr>\n",
       "\t<tr><th scope=row>legL2</th><td> 0.3468125</td><td>0.11952459</td><td>  2.9015992</td><td>4.014075e-03</td></tr>\n",
       "\t<tr><th scope=row>legL3</th><td> 0.4899946</td><td>0.08504571</td><td>  5.7615441</td><td>2.237221e-08</td></tr>\n",
       "\t<tr><th scope=row>legL4</th><td> 0.6466753</td><td>0.08994784</td><td>  7.1894475</td><td>6.199475e-12</td></tr>\n",
       "\t<tr><th scope=row>typepush:legL2</th><td> 0.0996718</td><td>0.16903330</td><td>  0.5896578</td><td>5.559060e-01</td></tr>\n",
       "\t<tr><th scope=row>typepush:legL3</th><td>-0.5407473</td><td>0.12027280</td><td> -4.4960067</td><td>1.023073e-05</td></tr>\n",
       "\t<tr><th scope=row>typepush:legL4</th><td>-0.4692035</td><td>0.12720545</td><td> -3.6885485</td><td>2.719589e-04</td></tr>\n",
       "</tbody>\n",
       "</table>\n"
      ],
      "text/latex": [
       "A matrix: 8 × 4 of type dbl\n",
       "\\begin{tabular}{r|llll}\n",
       "  & Estimate & Std. Error & t value & Pr(>\\textbar{}t\\textbar{})\\\\\n",
       "\\hline\n",
       "\t(Intercept) & -0.1682816 & 0.06613097 &  -2.5446712 & 1.148701e-02\\\\\n",
       "\ttypepush & -1.2065650 & 0.09352331 & -12.9012220 & 4.472641e-30\\\\\n",
       "\tlegL2 &  0.3468125 & 0.11952459 &   2.9015992 & 4.014075e-03\\\\\n",
       "\tlegL3 &  0.4899946 & 0.08504571 &   5.7615441 & 2.237221e-08\\\\\n",
       "\tlegL4 &  0.6466753 & 0.08994784 &   7.1894475 & 6.199475e-12\\\\\n",
       "\ttypepush:legL2 &  0.0996718 & 0.16903330 &   0.5896578 & 5.559060e-01\\\\\n",
       "\ttypepush:legL3 & -0.5407473 & 0.12027280 &  -4.4960067 & 1.023073e-05\\\\\n",
       "\ttypepush:legL4 & -0.4692035 & 0.12720545 &  -3.6885485 & 2.719589e-04\\\\\n",
       "\\end{tabular}\n"
      ],
      "text/markdown": [
       "\n",
       "A matrix: 8 × 4 of type dbl\n",
       "\n",
       "| <!--/--> | Estimate | Std. Error | t value | Pr(&gt;|t|) |\n",
       "|---|---|---|---|---|\n",
       "| (Intercept) | -0.1682816 | 0.06613097 |  -2.5446712 | 1.148701e-02 |\n",
       "| typepush | -1.2065650 | 0.09352331 | -12.9012220 | 4.472641e-30 |\n",
       "| legL2 |  0.3468125 | 0.11952459 |   2.9015992 | 4.014075e-03 |\n",
       "| legL3 |  0.4899946 | 0.08504571 |   5.7615441 | 2.237221e-08 |\n",
       "| legL4 |  0.6466753 | 0.08994784 |   7.1894475 | 6.199475e-12 |\n",
       "| typepush:legL2 |  0.0996718 | 0.16903330 |   0.5896578 | 5.559060e-01 |\n",
       "| typepush:legL3 | -0.5407473 | 0.12027280 |  -4.4960067 | 1.023073e-05 |\n",
       "| typepush:legL4 | -0.4692035 | 0.12720545 |  -3.6885485 | 2.719589e-04 |\n",
       "\n"
      ],
      "text/plain": [
       "               Estimate   Std. Error t value     Pr(>|t|)    \n",
       "(Intercept)    -0.1682816 0.06613097  -2.5446712 1.148701e-02\n",
       "typepush       -1.2065650 0.09352331 -12.9012220 4.472641e-30\n",
       "legL2           0.3468125 0.11952459   2.9015992 4.014075e-03\n",
       "legL3           0.4899946 0.08504571   5.7615441 2.237221e-08\n",
       "legL4           0.6466753 0.08994784   7.1894475 6.199475e-12\n",
       "typepush:legL2  0.0996718 0.16903330   0.5896578 5.559060e-01\n",
       "typepush:legL3 -0.5407473 0.12027280  -4.4960067 1.023073e-05\n",
       "typepush:legL4 -0.4692035 0.12720545  -3.6885485 2.719589e-04"
      ]
     },
     "metadata": {},
     "output_type": "display_data"
    }
   ],
   "source": [
    "model2=lm(log2friction~type+leg+type:leg, data = spider)\n",
    "summary(model2)[[4]]"
   ]
  },
  {
   "cell_type": "markdown",
   "id": "fd0bd7f3",
   "metadata": {},
   "source": [
    "Q5: Using the same analysis of log2 transformed data, What is the F-value for all of the type:leg\n",
    "interaction terms in an ANOVA? If this value is sufficiently large, we would reject the null\n",
    "hypothesis that the push vs. pull effect on log2(friction) is the same for all leg pairs."
   ]
  },
  {
   "cell_type": "code",
   "execution_count": 11,
   "id": "45425864",
   "metadata": {},
   "outputs": [
    {
     "data": {
      "text/html": [
       "<table class=\"dataframe\">\n",
       "<caption>A anova: 4 × 5</caption>\n",
       "<thead>\n",
       "\t<tr><th></th><th scope=col>Df</th><th scope=col>Sum Sq</th><th scope=col>Mean Sq</th><th scope=col>F value</th><th scope=col>Pr(&gt;F)</th></tr>\n",
       "\t<tr><th></th><th scope=col>&lt;int&gt;</th><th scope=col>&lt;dbl&gt;</th><th scope=col>&lt;dbl&gt;</th><th scope=col>&lt;dbl&gt;</th><th scope=col>&lt;dbl&gt;</th></tr>\n",
       "</thead>\n",
       "<tbody>\n",
       "\t<tr><th scope=row>type</th><td>  1</td><td>164.708608</td><td>164.7086082</td><td>1107.71403</td><td>2.916175e-98</td></tr>\n",
       "\t<tr><th scope=row>leg</th><td>  3</td><td>  7.064894</td><td>  2.3549647</td><td>  15.83783</td><td>1.589102e-09</td></tr>\n",
       "\t<tr><th scope=row>type:leg</th><td>  3</td><td>  4.773668</td><td>  1.5912227</td><td>  10.70144</td><td>1.129577e-06</td></tr>\n",
       "\t<tr><th scope=row>Residuals</th><td>274</td><td> 40.741705</td><td>  0.1486924</td><td>        NA</td><td>          NA</td></tr>\n",
       "</tbody>\n",
       "</table>\n"
      ],
      "text/latex": [
       "A anova: 4 × 5\n",
       "\\begin{tabular}{r|lllll}\n",
       "  & Df & Sum Sq & Mean Sq & F value & Pr(>F)\\\\\n",
       "  & <int> & <dbl> & <dbl> & <dbl> & <dbl>\\\\\n",
       "\\hline\n",
       "\ttype &   1 & 164.708608 & 164.7086082 & 1107.71403 & 2.916175e-98\\\\\n",
       "\tleg &   3 &   7.064894 &   2.3549647 &   15.83783 & 1.589102e-09\\\\\n",
       "\ttype:leg &   3 &   4.773668 &   1.5912227 &   10.70144 & 1.129577e-06\\\\\n",
       "\tResiduals & 274 &  40.741705 &   0.1486924 &         NA &           NA\\\\\n",
       "\\end{tabular}\n"
      ],
      "text/markdown": [
       "\n",
       "A anova: 4 × 5\n",
       "\n",
       "| <!--/--> | Df &lt;int&gt; | Sum Sq &lt;dbl&gt; | Mean Sq &lt;dbl&gt; | F value &lt;dbl&gt; | Pr(&gt;F) &lt;dbl&gt; |\n",
       "|---|---|---|---|---|---|\n",
       "| type |   1 | 164.708608 | 164.7086082 | 1107.71403 | 2.916175e-98 |\n",
       "| leg |   3 |   7.064894 |   2.3549647 |   15.83783 | 1.589102e-09 |\n",
       "| type:leg |   3 |   4.773668 |   1.5912227 |   10.70144 | 1.129577e-06 |\n",
       "| Residuals | 274 |  40.741705 |   0.1486924 |         NA |           NA |\n",
       "\n"
      ],
      "text/plain": [
       "          Df  Sum Sq     Mean Sq     F value    Pr(>F)      \n",
       "type        1 164.708608 164.7086082 1107.71403 2.916175e-98\n",
       "leg         3   7.064894   2.3549647   15.83783 1.589102e-09\n",
       "type:leg    3   4.773668   1.5912227   10.70144 1.129577e-06\n",
       "Residuals 274  40.741705   0.1486924         NA           NA"
      ]
     },
     "metadata": {},
     "output_type": "display_data"
    }
   ],
   "source": [
    "anova(model2)"
   ]
  },
  {
   "cell_type": "markdown",
   "id": "b4528f0f",
   "metadata": {},
   "source": [
    "Q6: What is the L2 vs. L1 estimate in log2(friction) for the pull samples?"
   ]
  },
  {
   "cell_type": "code",
   "execution_count": 13,
   "id": "a987c813",
   "metadata": {},
   "outputs": [
    {
     "data": {
      "text/plain": [
       "lm model parameter contrast\n",
       "\n",
       "  Contrast      S.E.     Lower     Upper   t  df Pr(>|t|)\n",
       " 0.3468125 0.1195246 0.1115092 0.5821157 2.9 274    0.004"
      ]
     },
     "metadata": {},
     "output_type": "display_data"
    }
   ],
   "source": [
    "contrast(model2, list(leg ='L2',type = 'pull'),\n",
    "         list(leg = 'L1',type='pull'))"
   ]
  },
  {
   "cell_type": "markdown",
   "id": "a4b69641",
   "metadata": {},
   "source": [
    "Q7:What is the L2 vs. L1 estimate in log2(friction) for the push samples? Remember, because\n",
    "of the interaction terms, this is not the same as the L2 vs L1 difference for the pull samples.\n",
    "If you’re not sure use the contrast function. Another hint: consider the arrows plot for the\n",
    "model with interactions."
   ]
  },
  {
   "cell_type": "code",
   "execution_count": 14,
   "id": "f3fe1444",
   "metadata": {},
   "outputs": [
    {
     "data": {
      "text/plain": [
       "lm model parameter contrast\n",
       "\n",
       "  Contrast      S.E.    Lower     Upper    t  df Pr(>|t|)\n",
       " 0.4464843 0.1195246 0.211181 0.6817875 3.74 274    2e-04"
      ]
     },
     "metadata": {},
     "output_type": "display_data"
    }
   ],
   "source": [
    "contrast(model2, list(leg ='L2',type = 'push'),\n",
    "         list(leg = 'L1',type='push'))"
   ]
  },
  {
   "cell_type": "markdown",
   "id": "f680b1fc",
   "metadata": {},
   "source": [
    "## Rank"
   ]
  },
  {
   "cell_type": "code",
   "execution_count": 15,
   "id": "4850f0e1",
   "metadata": {},
   "outputs": [
    {
     "name": "stdout",
     "output_type": "stream",
     "text": [
      "ncol= 5 rank= 4 \n"
     ]
    }
   ],
   "source": [
    "Sex <- c(0,0,0,0,1,1,1,1) \n",
    "A <- c(1,1,0,0,0,0,0,0) \n",
    "B <- c(0,0,1,1,0,0,0,0) \n",
    "C <- c(0,0,0,0,1,1,0,0) \n",
    "D <- c(0,0,0,0,0,0,1,1) \n",
    "X <- model.matrix(~Sex+A+B+C+D-1)\n",
    "cat(\"ncol=\",ncol(X),\"rank=\", qr(X)$rank,\"\\n\")"
   ]
  },
  {
   "cell_type": "markdown",
   "id": "463f038d",
   "metadata": {},
   "source": [
    "## Removing Confounding"
   ]
  },
  {
   "cell_type": "code",
   "execution_count": 16,
   "id": "4019f324",
   "metadata": {},
   "outputs": [
    {
     "name": "stdout",
     "output_type": "stream",
     "text": [
      "ncol= 5 rank= 5 \n"
     ]
    }
   ],
   "source": [
    "Sex <- c(0,1,0,1,0,1,0,1) \n",
    "A <- c(1,1,0,0,0,0,0,0) \n",
    "B <- c(0,0,1,1,0,0,0,0) \n",
    "C <- c(0,0,0,0,1,1,0,0) \n",
    "D <- c(0,0,0,0,0,0,1,1) \n",
    "X <- model.matrix(~Sex+A+B+C+D-1)\n",
    "cat(\"ncol=\",ncol(X),\"rank=\", qr(X)$rank,\"\\n\")"
   ]
  },
  {
   "cell_type": "markdown",
   "id": "86c8a2ed",
   "metadata": {},
   "source": [
    "Q1: Which of the above design matrices does NOT have the problem of collinearity?"
   ]
  },
  {
   "cell_type": "markdown",
   "id": "c3751716",
   "metadata": {},
   "source": [
    "E"
   ]
  },
  {
   "cell_type": "markdown",
   "id": "efb324e2",
   "metadata": {},
   "source": [
    "Q2: The following exercises are advanced. Let’s use the example from the lecture to visualize how\n",
    "there is not a single best βˆ, when the design matrix has collinearity of columns. An example\n",
    "can be made with:"
   ]
  },
  {
   "cell_type": "code",
   "execution_count": 17,
   "id": "9f9daff8",
   "metadata": {},
   "outputs": [],
   "source": [
    "sex <- factor(rep(c(\"female\",\"male\"),each=4))\n",
    "trt <- factor(c(\"A\",\"A\",\"B\",\"B\",\"C\",\"C\",\"D\",\"D\"))"
   ]
  },
  {
   "cell_type": "markdown",
   "id": "0b2d564a",
   "metadata": {},
   "source": [
    "The model matrix can then be formed with:"
   ]
  },
  {
   "cell_type": "code",
   "execution_count": 18,
   "id": "a6d89f65",
   "metadata": {},
   "outputs": [],
   "source": [
    "X <- model.matrix( ~ sex + trt)"
   ]
  },
  {
   "cell_type": "markdown",
   "id": "00b2a6b3",
   "metadata": {},
   "source": [
    "And we can see that the number of independent columns is less than the number of columns\n",
    "of X:"
   ]
  },
  {
   "cell_type": "code",
   "execution_count": 20,
   "id": "66005292",
   "metadata": {},
   "outputs": [
    {
     "data": {
      "text/html": [
       "4"
      ],
      "text/latex": [
       "4"
      ],
      "text/markdown": [
       "4"
      ],
      "text/plain": [
       "[1] 4"
      ]
     },
     "metadata": {},
     "output_type": "display_data"
    }
   ],
   "source": [
    "qr(X)$rank"
   ]
  },
  {
   "cell_type": "markdown",
   "id": "b8c28ca6",
   "metadata": {},
   "source": [
    "Suppose we observe some outcome Y. For simplicity, we will use synthetic data:"
   ]
  },
  {
   "cell_type": "code",
   "execution_count": 21,
   "id": "f1d24bb6",
   "metadata": {},
   "outputs": [],
   "source": [
    "Y <- 1:8"
   ]
  },
  {
   "cell_type": "code",
   "execution_count": 22,
   "id": "bd1672b8",
   "metadata": {},
   "outputs": [],
   "source": [
    "makeYstar <- function(a,b) Y - X[,2] * a - X[,5] * b"
   ]
  },
  {
   "cell_type": "markdown",
   "id": "76fe2a9a",
   "metadata": {},
   "source": [
    "Now we’ll construct a function which, for a given value a and b, gives us back the sum of\n",
    "squared residuals after fitting the other terms."
   ]
  },
  {
   "cell_type": "code",
   "execution_count": 23,
   "id": "6621e6e8",
   "metadata": {},
   "outputs": [],
   "source": [
    "fitTheRest <- function(a,b) {\n",
    "Ystar <- makeYstar(a,b)\n",
    "Xrest <- X[,-c(2,5)]\n",
    "betarest <- solve(t(Xrest) %*% Xrest) %*% t(Xrest) %*% Ystar\n",
    "residuals <- Ystar - Xrest %*% betarest\n",
    "sum(residuals^2) }"
   ]
  },
  {
   "cell_type": "markdown",
   "id": "ce165133",
   "metadata": {},
   "source": [
    "What is the sum of squared residuals when the male coefficient is 1 and the D coefficient is 2,\n",
    "and the other coefficients are fit using the linear model solution?"
   ]
  },
  {
   "cell_type": "code",
   "execution_count": 24,
   "id": "92e00182",
   "metadata": {},
   "outputs": [
    {
     "data": {
      "text/html": [
       "11"
      ],
      "text/latex": [
       "11"
      ],
      "text/markdown": [
       "11"
      ],
      "text/plain": [
       "[1] 11"
      ]
     },
     "metadata": {},
     "output_type": "display_data"
    }
   ],
   "source": [
    "fitTheRest(1,2)"
   ]
  },
  {
   "cell_type": "markdown",
   "id": "85a3978a",
   "metadata": {},
   "source": [
    "Q3: We can apply our function fitTheRest to a grid of values for βmale and βD, using the outer\n",
    "function in R. outer takes three arguments: a grid of values for the first argument, a grid of\n",
    "values for the second argument, and finally a function which takes two arguments.\n",
    "Try it out:"
   ]
  },
  {
   "cell_type": "code",
   "execution_count": 26,
   "id": "b5ab3abd",
   "metadata": {},
   "outputs": [
    {
     "data": {
      "text/html": [
       "<table class=\"dataframe\">\n",
       "<caption>A matrix: 3 × 3 of type int</caption>\n",
       "<tbody>\n",
       "\t<tr><td>1</td><td>2</td><td>3</td></tr>\n",
       "\t<tr><td>2</td><td>4</td><td>6</td></tr>\n",
       "\t<tr><td>3</td><td>6</td><td>9</td></tr>\n",
       "</tbody>\n",
       "</table>\n"
      ],
      "text/latex": [
       "A matrix: 3 × 3 of type int\n",
       "\\begin{tabular}{lll}\n",
       "\t 1 & 2 & 3\\\\\n",
       "\t 2 & 4 & 6\\\\\n",
       "\t 3 & 6 & 9\\\\\n",
       "\\end{tabular}\n"
      ],
      "text/markdown": [
       "\n",
       "A matrix: 3 × 3 of type int\n",
       "\n",
       "| 1 | 2 | 3 |\n",
       "| 2 | 4 | 6 |\n",
       "| 3 | 6 | 9 |\n",
       "\n"
      ],
      "text/plain": [
       "     [,1] [,2] [,3]\n",
       "[1,] 1    2    3   \n",
       "[2,] 2    4    6   \n",
       "[3,] 3    6    9   "
      ]
     },
     "metadata": {},
     "output_type": "display_data"
    }
   ],
   "source": [
    "outer(1:3,1:3,`*`)"
   ]
  },
  {
   "cell_type": "markdown",
   "id": "65781b6a",
   "metadata": {},
   "source": [
    "We can run fitTheRest on a grid of values, using the following code (the Vectorize is\n",
    "necessary as outer requires only vectorized functions):"
   ]
  },
  {
   "cell_type": "code",
   "execution_count": 27,
   "id": "c1e14599",
   "metadata": {},
   "outputs": [
    {
     "data": {
      "text/html": [
       "<table class=\"dataframe\">\n",
       "<caption>A matrix: 11 × 11 of type dbl</caption>\n",
       "<tbody>\n",
       "\t<tr><td>102</td><td>83</td><td>66</td><td>51</td><td>38</td><td>27</td><td>18</td><td>11</td><td> 6</td><td> 3</td><td>  2</td></tr>\n",
       "\t<tr><td> 83</td><td>66</td><td>51</td><td>38</td><td>27</td><td>18</td><td>11</td><td> 6</td><td> 3</td><td> 2</td><td>  3</td></tr>\n",
       "\t<tr><td> 66</td><td>51</td><td>38</td><td>27</td><td>18</td><td>11</td><td> 6</td><td> 3</td><td> 2</td><td> 3</td><td>  6</td></tr>\n",
       "\t<tr><td> 51</td><td>38</td><td>27</td><td>18</td><td>11</td><td> 6</td><td> 3</td><td> 2</td><td> 3</td><td> 6</td><td> 11</td></tr>\n",
       "\t<tr><td> 38</td><td>27</td><td>18</td><td>11</td><td> 6</td><td> 3</td><td> 2</td><td> 3</td><td> 6</td><td>11</td><td> 18</td></tr>\n",
       "\t<tr><td> 27</td><td>18</td><td>11</td><td> 6</td><td> 3</td><td> 2</td><td> 3</td><td> 6</td><td>11</td><td>18</td><td> 27</td></tr>\n",
       "\t<tr><td> 18</td><td>11</td><td> 6</td><td> 3</td><td> 2</td><td> 3</td><td> 6</td><td>11</td><td>18</td><td>27</td><td> 38</td></tr>\n",
       "\t<tr><td> 11</td><td> 6</td><td> 3</td><td> 2</td><td> 3</td><td> 6</td><td>11</td><td>18</td><td>27</td><td>38</td><td> 51</td></tr>\n",
       "\t<tr><td>  6</td><td> 3</td><td> 2</td><td> 3</td><td> 6</td><td>11</td><td>18</td><td>27</td><td>38</td><td>51</td><td> 66</td></tr>\n",
       "\t<tr><td>  3</td><td> 2</td><td> 3</td><td> 6</td><td>11</td><td>18</td><td>27</td><td>38</td><td>51</td><td>66</td><td> 83</td></tr>\n",
       "\t<tr><td>  2</td><td> 3</td><td> 6</td><td>11</td><td>18</td><td>27</td><td>38</td><td>51</td><td>66</td><td>83</td><td>102</td></tr>\n",
       "</tbody>\n",
       "</table>\n"
      ],
      "text/latex": [
       "A matrix: 11 × 11 of type dbl\n",
       "\\begin{tabular}{lllllllllll}\n",
       "\t 102 & 83 & 66 & 51 & 38 & 27 & 18 & 11 &  6 &  3 &   2\\\\\n",
       "\t  83 & 66 & 51 & 38 & 27 & 18 & 11 &  6 &  3 &  2 &   3\\\\\n",
       "\t  66 & 51 & 38 & 27 & 18 & 11 &  6 &  3 &  2 &  3 &   6\\\\\n",
       "\t  51 & 38 & 27 & 18 & 11 &  6 &  3 &  2 &  3 &  6 &  11\\\\\n",
       "\t  38 & 27 & 18 & 11 &  6 &  3 &  2 &  3 &  6 & 11 &  18\\\\\n",
       "\t  27 & 18 & 11 &  6 &  3 &  2 &  3 &  6 & 11 & 18 &  27\\\\\n",
       "\t  18 & 11 &  6 &  3 &  2 &  3 &  6 & 11 & 18 & 27 &  38\\\\\n",
       "\t  11 &  6 &  3 &  2 &  3 &  6 & 11 & 18 & 27 & 38 &  51\\\\\n",
       "\t   6 &  3 &  2 &  3 &  6 & 11 & 18 & 27 & 38 & 51 &  66\\\\\n",
       "\t   3 &  2 &  3 &  6 & 11 & 18 & 27 & 38 & 51 & 66 &  83\\\\\n",
       "\t   2 &  3 &  6 & 11 & 18 & 27 & 38 & 51 & 66 & 83 & 102\\\\\n",
       "\\end{tabular}\n"
      ],
      "text/markdown": [
       "\n",
       "A matrix: 11 × 11 of type dbl\n",
       "\n",
       "| 102 | 83 | 66 | 51 | 38 | 27 | 18 | 11 |  6 |  3 |   2 |\n",
       "|  83 | 66 | 51 | 38 | 27 | 18 | 11 |  6 |  3 |  2 |   3 |\n",
       "|  66 | 51 | 38 | 27 | 18 | 11 |  6 |  3 |  2 |  3 |   6 |\n",
       "|  51 | 38 | 27 | 18 | 11 |  6 |  3 |  2 |  3 |  6 |  11 |\n",
       "|  38 | 27 | 18 | 11 |  6 |  3 |  2 |  3 |  6 | 11 |  18 |\n",
       "|  27 | 18 | 11 |  6 |  3 |  2 |  3 |  6 | 11 | 18 |  27 |\n",
       "|  18 | 11 |  6 |  3 |  2 |  3 |  6 | 11 | 18 | 27 |  38 |\n",
       "|  11 |  6 |  3 |  2 |  3 |  6 | 11 | 18 | 27 | 38 |  51 |\n",
       "|   6 |  3 |  2 |  3 |  6 | 11 | 18 | 27 | 38 | 51 |  66 |\n",
       "|   3 |  2 |  3 |  6 | 11 | 18 | 27 | 38 | 51 | 66 |  83 |\n",
       "|   2 |  3 |  6 | 11 | 18 | 27 | 38 | 51 | 66 | 83 | 102 |\n",
       "\n"
      ],
      "text/plain": [
       "      [,1] [,2] [,3] [,4] [,5] [,6] [,7] [,8] [,9] [,10] [,11]\n",
       " [1,] 102  83   66   51   38   27   18   11    6    3      2  \n",
       " [2,]  83  66   51   38   27   18   11    6    3    2      3  \n",
       " [3,]  66  51   38   27   18   11    6    3    2    3      6  \n",
       " [4,]  51  38   27   18   11    6    3    2    3    6     11  \n",
       " [5,]  38  27   18   11    6    3    2    3    6   11     18  \n",
       " [6,]  27  18   11    6    3    2    3    6   11   18     27  \n",
       " [7,]  18  11    6    3    2    3    6   11   18   27     38  \n",
       " [8,]  11   6    3    2    3    6   11   18   27   38     51  \n",
       " [9,]   6   3    2    3    6   11   18   27   38   51     66  \n",
       "[10,]   3   2    3    6   11   18   27   38   51   66     83  \n",
       "[11,]   2   3    6   11   18   27   38   51   66   83    102  "
      ]
     },
     "metadata": {},
     "output_type": "display_data"
    }
   ],
   "source": [
    "outer(-2:8,-2:8,Vectorize(fitTheRest))"
   ]
  },
  {
   "cell_type": "markdown",
   "id": "99d4438f",
   "metadata": {},
   "source": [
    "In the grid of values, what is the smallest sum of squared residuals?"
   ]
  },
  {
   "cell_type": "code",
   "execution_count": 28,
   "id": "2d40f485",
   "metadata": {},
   "outputs": [
    {
     "data": {
      "text/html": [
       "2"
      ],
      "text/latex": [
       "2"
      ],
      "text/markdown": [
       "2"
      ],
      "text/plain": [
       "[1] 2"
      ]
     },
     "metadata": {},
     "output_type": "display_data"
    }
   ],
   "source": [
    "b=outer(-2:8,-2:8,Vectorize(fitTheRest))\n",
    "unique(b[which(b == min(b))])"
   ]
  },
  {
   "cell_type": "markdown",
   "id": "e45c50b3",
   "metadata": {},
   "source": [
    "## The QR Factorization (Advanced)"
   ]
  },
  {
   "cell_type": "markdown",
   "id": "eadaa86e",
   "metadata": {},
   "source": [
    "### solve is numerically unstable"
   ]
  },
  {
   "cell_type": "code",
   "execution_count": 30,
   "id": "880e2fab",
   "metadata": {},
   "outputs": [],
   "source": [
    "n <- 50;M <- 500\n",
    "x <- seq(1,M,len=n)\n",
    "X <- cbind(1,x,x^2,x^3)\n",
    "colnames(X) <- c(\"Intercept\",\"x\",\"x2\",\"x3\")\n",
    "beta <- matrix(c(1,1,1,1),4,1)\n",
    "set.seed(1) \n",
    "y <- X%*%beta+rnorm(n,sd=1)"
   ]
  },
  {
   "cell_type": "code",
   "execution_count": 31,
   "id": "9ce5ea9d",
   "metadata": {},
   "outputs": [
    {
     "ename": "ERROR",
     "evalue": "Error in solve.default(crossprod(X)): system is computationally singular: reciprocal condition number = 2.93617e-17\n",
     "output_type": "error",
     "traceback": [
      "Error in solve.default(crossprod(X)): system is computationally singular: reciprocal condition number = 2.93617e-17\nTraceback:\n",
      "1. solve(crossprod(X))",
      "2. solve.default(crossprod(X))"
     ]
    }
   ],
   "source": [
    "solve(crossprod(X)) %*% crossprod(X,y)"
   ]
  },
  {
   "cell_type": "code",
   "execution_count": 32,
   "id": "2c75eb0f",
   "metadata": {},
   "outputs": [
    {
     "data": {
      "text/html": [
       "<table class=\"dataframe\">\n",
       "<caption>A matrix: 4 × 4 of type dbl</caption>\n",
       "<thead>\n",
       "\t<tr><th></th><th scope=col>Intercept</th><th scope=col>x</th><th scope=col>x2</th><th scope=col>x3</th></tr>\n",
       "</thead>\n",
       "<tbody>\n",
       "\t<tr><th scope=row>Intercept</th><td>1.699</td><td> 4.098</td><td> 6.625</td><td> 9.203</td></tr>\n",
       "\t<tr><th scope=row>x</th><td>4.098</td><td> 6.625</td><td> 9.203</td><td>11.810</td></tr>\n",
       "\t<tr><th scope=row>x2</th><td>6.625</td><td> 9.203</td><td>11.810</td><td>14.434</td></tr>\n",
       "\t<tr><th scope=row>x3</th><td>9.203</td><td>11.810</td><td>14.434</td><td>17.070</td></tr>\n",
       "</tbody>\n",
       "</table>\n"
      ],
      "text/latex": [
       "A matrix: 4 × 4 of type dbl\n",
       "\\begin{tabular}{r|llll}\n",
       "  & Intercept & x & x2 & x3\\\\\n",
       "\\hline\n",
       "\tIntercept & 1.699 &  4.098 &  6.625 &  9.203\\\\\n",
       "\tx & 4.098 &  6.625 &  9.203 & 11.810\\\\\n",
       "\tx2 & 6.625 &  9.203 & 11.810 & 14.434\\\\\n",
       "\tx3 & 9.203 & 11.810 & 14.434 & 17.070\\\\\n",
       "\\end{tabular}\n"
      ],
      "text/markdown": [
       "\n",
       "A matrix: 4 × 4 of type dbl\n",
       "\n",
       "| <!--/--> | Intercept | x | x2 | x3 |\n",
       "|---|---|---|---|---|\n",
       "| Intercept | 1.699 |  4.098 |  6.625 |  9.203 |\n",
       "| x | 4.098 |  6.625 |  9.203 | 11.810 |\n",
       "| x2 | 6.625 |  9.203 | 11.810 | 14.434 |\n",
       "| x3 | 9.203 | 11.810 | 14.434 | 17.070 |\n",
       "\n"
      ],
      "text/plain": [
       "          Intercept x      x2     x3    \n",
       "Intercept 1.699      4.098  6.625  9.203\n",
       "x         4.098      6.625  9.203 11.810\n",
       "x2        6.625      9.203 11.810 14.434\n",
       "x3        9.203     11.810 14.434 17.070"
      ]
     },
     "metadata": {},
     "output_type": "display_data"
    }
   ],
   "source": [
    "options(digits=4)\n",
    "log10(crossprod(X))"
   ]
  },
  {
   "cell_type": "markdown",
   "id": "03a7e03a",
   "metadata": {},
   "source": [
    "### Finding LSE with QR"
   ]
  },
  {
   "cell_type": "code",
   "execution_count": 33,
   "id": "8642fdfa",
   "metadata": {},
   "outputs": [
    {
     "data": {
      "text/html": [
       "<table class=\"dataframe\">\n",
       "<caption>A matrix: 4 × 1 of type dbl</caption>\n",
       "<tbody>\n",
       "\t<tr><td>0.9038</td></tr>\n",
       "\t<tr><td>1.0066</td></tr>\n",
       "\t<tr><td>1.0000</td></tr>\n",
       "\t<tr><td>1.0000</td></tr>\n",
       "</tbody>\n",
       "</table>\n"
      ],
      "text/latex": [
       "A matrix: 4 × 1 of type dbl\n",
       "\\begin{tabular}{l}\n",
       "\t 0.9038\\\\\n",
       "\t 1.0066\\\\\n",
       "\t 1.0000\\\\\n",
       "\t 1.0000\\\\\n",
       "\\end{tabular}\n"
      ],
      "text/markdown": [
       "\n",
       "A matrix: 4 × 1 of type dbl\n",
       "\n",
       "| 0.9038 |\n",
       "| 1.0066 |\n",
       "| 1.0000 |\n",
       "| 1.0000 |\n",
       "\n"
      ],
      "text/plain": [
       "     [,1]  \n",
       "[1,] 0.9038\n",
       "[2,] 1.0066\n",
       "[3,] 1.0000\n",
       "[4,] 1.0000"
      ]
     },
     "metadata": {},
     "output_type": "display_data"
    }
   ],
   "source": [
    "QR <- qr(X)\n",
    "Q <- qr.Q( QR )\n",
    "R <- qr.R( QR )\n",
    "(betahat <- backsolve(R, crossprod(Q,y) ) )"
   ]
  },
  {
   "cell_type": "code",
   "execution_count": 34,
   "id": "33bc14bc",
   "metadata": {},
   "outputs": [
    {
     "data": {
      "text/html": [
       "<table class=\"dataframe\">\n",
       "<caption>A matrix: 4 × 1 of type dbl</caption>\n",
       "<tbody>\n",
       "\t<tr><th scope=row>Intercept</th><td>0.9038</td></tr>\n",
       "\t<tr><th scope=row>x</th><td>1.0066</td></tr>\n",
       "\t<tr><th scope=row>x2</th><td>1.0000</td></tr>\n",
       "\t<tr><th scope=row>x3</th><td>1.0000</td></tr>\n",
       "</tbody>\n",
       "</table>\n"
      ],
      "text/latex": [
       "A matrix: 4 × 1 of type dbl\n",
       "\\begin{tabular}{r|l}\n",
       "\tIntercept & 0.9038\\\\\n",
       "\tx & 1.0066\\\\\n",
       "\tx2 & 1.0000\\\\\n",
       "\tx3 & 1.0000\\\\\n",
       "\\end{tabular}\n"
      ],
      "text/markdown": [
       "\n",
       "A matrix: 4 × 1 of type dbl\n",
       "\n",
       "| Intercept | 0.9038 |\n",
       "| x | 1.0066 |\n",
       "| x2 | 1.0000 |\n",
       "| x3 | 1.0000 |\n",
       "\n"
      ],
      "text/plain": [
       "          [,1]  \n",
       "Intercept 0.9038\n",
       "x         1.0066\n",
       "x2        1.0000\n",
       "x3        1.0000"
      ]
     },
     "metadata": {},
     "output_type": "display_data"
    }
   ],
   "source": [
    "QR <- qr(X)\n",
    "(betahat <- solve.qr(QR, y))"
   ]
  },
  {
   "cell_type": "code",
   "execution_count": 35,
   "id": "847fc356",
   "metadata": {},
   "outputs": [
    {
     "data": {
      "image/png": "[encoded data removed]",
      "text/plain": [
       "plot without title"
      ]
     },
     "metadata": {
      "image/png": {
       "height": 420,
       "width": 420
      }
     },
     "output_type": "display_data"
    }
   ],
   "source": [
    "library(rafalib)\n",
    "mypar(1,1)\n",
    "plot(x,y)\n",
    "fitted <- tcrossprod(Q)%*%y\n",
    "lines(x,fitted,col=2)"
   ]
  },
  {
   "cell_type": "markdown",
   "id": "b244971e",
   "metadata": {},
   "source": [
    "### Standard errors"
   ]
  },
  {
   "cell_type": "code",
   "execution_count": 36,
   "id": "83771df5",
   "metadata": {},
   "outputs": [
    {
     "data": {
      "text/html": [
       "<table class=\"dataframe\">\n",
       "<caption>A matrix: 4 × 2 of type dbl</caption>\n",
       "<thead>\n",
       "\t<tr><th></th><th scope=col></th><th scope=col>SE</th></tr>\n",
       "</thead>\n",
       "<tbody>\n",
       "\t<tr><th scope=row>Intercept</th><td>0.9038</td><td>4.508e-01</td></tr>\n",
       "\t<tr><th scope=row>x</th><td>1.0066</td><td>7.858e-03</td></tr>\n",
       "\t<tr><th scope=row>x2</th><td>1.0000</td><td>3.662e-05</td></tr>\n",
       "\t<tr><th scope=row>x3</th><td>1.0000</td><td>4.802e-08</td></tr>\n",
       "</tbody>\n",
       "</table>\n"
      ],
      "text/latex": [
       "A matrix: 4 × 2 of type dbl\n",
       "\\begin{tabular}{r|ll}\n",
       "  &  & SE\\\\\n",
       "\\hline\n",
       "\tIntercept & 0.9038 & 4.508e-01\\\\\n",
       "\tx & 1.0066 & 7.858e-03\\\\\n",
       "\tx2 & 1.0000 & 3.662e-05\\\\\n",
       "\tx3 & 1.0000 & 4.802e-08\\\\\n",
       "\\end{tabular}\n"
      ],
      "text/markdown": [
       "\n",
       "A matrix: 4 × 2 of type dbl\n",
       "\n",
       "| <!--/--> | <!----> | SE |\n",
       "|---|---|---|\n",
       "| Intercept | 0.9038 | 4.508e-01 |\n",
       "| x | 1.0066 | 7.858e-03 |\n",
       "| x2 | 1.0000 | 3.662e-05 |\n",
       "| x3 | 1.0000 | 4.802e-08 |\n",
       "\n"
      ],
      "text/plain": [
       "                 SE       \n",
       "Intercept 0.9038 4.508e-01\n",
       "x         1.0066 7.858e-03\n",
       "x2        1.0000 3.662e-05\n",
       "x3        1.0000 4.802e-08"
      ]
     },
     "metadata": {},
     "output_type": "display_data"
    }
   ],
   "source": [
    "df <- length(y) - QR$rank\n",
    "sigma2 <- sum((y-fitted)^2)/df\n",
    "varbeta <- sigma2*chol2inv(qr.R(QR))\n",
    "SE <- sqrt(diag(varbeta))\n",
    "cbind(betahat,SE)"
   ]
  },
  {
   "cell_type": "code",
   "execution_count": 37,
   "id": "1c6dbf57",
   "metadata": {},
   "outputs": [
    {
     "data": {
      "text/html": [
       "<table class=\"dataframe\">\n",
       "<caption>A matrix: 4 × 4 of type dbl</caption>\n",
       "<thead>\n",
       "\t<tr><th></th><th scope=col>Estimate</th><th scope=col>Std. Error</th><th scope=col>t value</th><th scope=col>Pr(&gt;|t|)</th></tr>\n",
       "</thead>\n",
       "<tbody>\n",
       "\t<tr><th scope=row>XIntercept</th><td>0.9038</td><td>4.508e-01</td><td>2.005e+00</td><td> 5.089e-02</td></tr>\n",
       "\t<tr><th scope=row>Xx</th><td>1.0066</td><td>7.858e-03</td><td>1.281e+02</td><td> 2.171e-60</td></tr>\n",
       "\t<tr><th scope=row>Xx2</th><td>1.0000</td><td>3.662e-05</td><td>2.731e+04</td><td>1.745e-167</td></tr>\n",
       "\t<tr><th scope=row>Xx3</th><td>1.0000</td><td>4.802e-08</td><td>2.082e+07</td><td>4.559e-300</td></tr>\n",
       "</tbody>\n",
       "</table>\n"
      ],
      "text/latex": [
       "A matrix: 4 × 4 of type dbl\n",
       "\\begin{tabular}{r|llll}\n",
       "  & Estimate & Std. Error & t value & Pr(>\\textbar{}t\\textbar{})\\\\\n",
       "\\hline\n",
       "\tXIntercept & 0.9038 & 4.508e-01 & 2.005e+00 &  5.089e-02\\\\\n",
       "\tXx & 1.0066 & 7.858e-03 & 1.281e+02 &  2.171e-60\\\\\n",
       "\tXx2 & 1.0000 & 3.662e-05 & 2.731e+04 & 1.745e-167\\\\\n",
       "\tXx3 & 1.0000 & 4.802e-08 & 2.082e+07 & 4.559e-300\\\\\n",
       "\\end{tabular}\n"
      ],
      "text/markdown": [
       "\n",
       "A matrix: 4 × 4 of type dbl\n",
       "\n",
       "| <!--/--> | Estimate | Std. Error | t value | Pr(&gt;|t|) |\n",
       "|---|---|---|---|---|\n",
       "| XIntercept | 0.9038 | 4.508e-01 | 2.005e+00 |  5.089e-02 |\n",
       "| Xx | 1.0066 | 7.858e-03 | 1.281e+02 |  2.171e-60 |\n",
       "| Xx2 | 1.0000 | 3.662e-05 | 2.731e+04 | 1.745e-167 |\n",
       "| Xx3 | 1.0000 | 4.802e-08 | 2.082e+07 | 4.559e-300 |\n",
       "\n"
      ],
      "text/plain": [
       "           Estimate Std. Error t value   Pr(>|t|)  \n",
       "XIntercept 0.9038   4.508e-01  2.005e+00  5.089e-02\n",
       "Xx         1.0066   7.858e-03  1.281e+02  2.171e-60\n",
       "Xx2        1.0000   3.662e-05  2.731e+04 1.745e-167\n",
       "Xx3        1.0000   4.802e-08  2.082e+07 4.559e-300"
      ]
     },
     "metadata": {},
     "output_type": "display_data"
    }
   ],
   "source": [
    "summary(lm(y~0+X))$coef"
   ]
  },
  {
   "cell_type": "code",
   "execution_count": null,
   "id": "b2ad9303",
   "metadata": {},
   "outputs": [],
   "source": []
  }
 ],
 "metadata": {
  "kernelspec": {
   "display_name": "R",
   "language": "R",
   "name": "ir"
  },
  "language_info": {
   "codemirror_mode": "r",
   "file_extension": ".r",
   "mimetype": "text/x-r-source",
   "name": "R",
   "pygments_lexer": "r",
   "version": "4.2.1"
  }
 },
 "nbformat": 4,
 "nbformat_minor": 5
}
