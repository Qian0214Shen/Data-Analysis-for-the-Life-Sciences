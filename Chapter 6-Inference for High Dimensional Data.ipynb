{
 "cells": [
  {
   "cell_type": "markdown",
   "id": "2e6deed4",
   "metadata": {},
   "source": [
    "### Data packages"
   ]
  },
  {
   "cell_type": "code",
   "execution_count": 1,
   "id": "9a975b1c",
   "metadata": {},
   "outputs": [
    {
     "name": "stderr",
     "output_type": "stream",
     "text": [
      "Loading required package: usethis\n",
      "\n",
      "WARNING: Rtools is required to build R packages, but is not currently installed.\n",
      "\n",
      "Please download and install Rtools 4.2 from https://cran.r-project.org/bin/windows/Rtools/ or https://www.r-project.org/nosvn/winutf8/ucrt3/.\n",
      "\n",
      "Skipping install of 'GSE5859Subset' from a github remote, the SHA1 (8ada5f4f) has not changed since last install.\n",
      "  Use `force = TRUE` to force installation\n",
      "\n"
     ]
    }
   ],
   "source": [
    "library(devtools)\n",
    "install_github(\"genomicsclass/GSE5859Subset\")"
   ]
  },
  {
   "cell_type": "markdown",
   "id": "1199cd66",
   "metadata": {},
   "source": [
    "### The three tables"
   ]
  },
  {
   "cell_type": "code",
   "execution_count": 2,
   "id": "211d5c9e",
   "metadata": {},
   "outputs": [
    {
     "data": {
      "text/html": [
       "<style>\n",
       ".list-inline {list-style: none; margin:0; padding: 0}\n",
       ".list-inline>li {display: inline-block}\n",
       ".list-inline>li:not(:last-child)::after {content: \"\\00b7\"; padding: 0 .5ex}\n",
       "</style>\n",
       "<ol class=list-inline><li>8793</li><li>24</li></ol>\n"
      ],
      "text/latex": [
       "\\begin{enumerate*}\n",
       "\\item 8793\n",
       "\\item 24\n",
       "\\end{enumerate*}\n"
      ],
      "text/markdown": [
       "1. 8793\n",
       "2. 24\n",
       "\n",
       "\n"
      ],
      "text/plain": [
       "[1] 8793   24"
      ]
     },
     "metadata": {},
     "output_type": "display_data"
    }
   ],
   "source": [
    "library(GSE5859Subset)\n",
    "data(GSE5859Subset) ##this loads the three tables\n",
    "dim(geneExpression)"
   ]
  },
  {
   "cell_type": "code",
   "execution_count": 3,
   "id": "47da458c",
   "metadata": {},
   "outputs": [
    {
     "data": {
      "text/html": [
       "<style>\n",
       ".list-inline {list-style: none; margin:0; padding: 0}\n",
       ".list-inline>li {display: inline-block}\n",
       ".list-inline>li:not(:last-child)::after {content: \"\\00b7\"; padding: 0 .5ex}\n",
       "</style>\n",
       "<ol class=list-inline><li>24</li><li>4</li></ol>\n"
      ],
      "text/latex": [
       "\\begin{enumerate*}\n",
       "\\item 24\n",
       "\\item 4\n",
       "\\end{enumerate*}\n"
      ],
      "text/markdown": [
       "1. 24\n",
       "2. 4\n",
       "\n",
       "\n"
      ],
      "text/plain": [
       "[1] 24  4"
      ]
     },
     "metadata": {},
     "output_type": "display_data"
    }
   ],
   "source": [
    "dim(sampleInfo)"
   ]
  },
  {
   "cell_type": "code",
   "execution_count": 4,
   "id": "0680b28f",
   "metadata": {},
   "outputs": [
    {
     "data": {
      "text/html": [
       "<table class=\"dataframe\">\n",
       "<caption>A data.frame: 6 × 4</caption>\n",
       "<thead>\n",
       "\t<tr><th></th><th scope=col>ethnicity</th><th scope=col>date</th><th scope=col>filename</th><th scope=col>group</th></tr>\n",
       "\t<tr><th></th><th scope=col>&lt;fct&gt;</th><th scope=col>&lt;date&gt;</th><th scope=col>&lt;chr&gt;</th><th scope=col>&lt;dbl&gt;</th></tr>\n",
       "</thead>\n",
       "<tbody>\n",
       "\t<tr><th scope=row>107</th><td>ASN</td><td>2005-06-23</td><td>GSM136508.CEL.gz</td><td>1</td></tr>\n",
       "\t<tr><th scope=row>122</th><td>ASN</td><td>2005-06-27</td><td>GSM136530.CEL.gz</td><td>1</td></tr>\n",
       "\t<tr><th scope=row>113</th><td>ASN</td><td>2005-06-27</td><td>GSM136517.CEL.gz</td><td>1</td></tr>\n",
       "\t<tr><th scope=row>163</th><td>ASN</td><td>2005-10-28</td><td>GSM136576.CEL.gz</td><td>1</td></tr>\n",
       "\t<tr><th scope=row>153</th><td>ASN</td><td>2005-10-07</td><td>GSM136566.CEL.gz</td><td>1</td></tr>\n",
       "\t<tr><th scope=row>161</th><td>ASN</td><td>2005-10-07</td><td>GSM136574.CEL.gz</td><td>1</td></tr>\n",
       "</tbody>\n",
       "</table>\n"
      ],
      "text/latex": [
       "A data.frame: 6 × 4\n",
       "\\begin{tabular}{r|llll}\n",
       "  & ethnicity & date & filename & group\\\\\n",
       "  & <fct> & <date> & <chr> & <dbl>\\\\\n",
       "\\hline\n",
       "\t107 & ASN & 2005-06-23 & GSM136508.CEL.gz & 1\\\\\n",
       "\t122 & ASN & 2005-06-27 & GSM136530.CEL.gz & 1\\\\\n",
       "\t113 & ASN & 2005-06-27 & GSM136517.CEL.gz & 1\\\\\n",
       "\t163 & ASN & 2005-10-28 & GSM136576.CEL.gz & 1\\\\\n",
       "\t153 & ASN & 2005-10-07 & GSM136566.CEL.gz & 1\\\\\n",
       "\t161 & ASN & 2005-10-07 & GSM136574.CEL.gz & 1\\\\\n",
       "\\end{tabular}\n"
      ],
      "text/markdown": [
       "\n",
       "A data.frame: 6 × 4\n",
       "\n",
       "| <!--/--> | ethnicity &lt;fct&gt; | date &lt;date&gt; | filename &lt;chr&gt; | group &lt;dbl&gt; |\n",
       "|---|---|---|---|---|\n",
       "| 107 | ASN | 2005-06-23 | GSM136508.CEL.gz | 1 |\n",
       "| 122 | ASN | 2005-06-27 | GSM136530.CEL.gz | 1 |\n",
       "| 113 | ASN | 2005-06-27 | GSM136517.CEL.gz | 1 |\n",
       "| 163 | ASN | 2005-10-28 | GSM136576.CEL.gz | 1 |\n",
       "| 153 | ASN | 2005-10-07 | GSM136566.CEL.gz | 1 |\n",
       "| 161 | ASN | 2005-10-07 | GSM136574.CEL.gz | 1 |\n",
       "\n"
      ],
      "text/plain": [
       "    ethnicity date       filename         group\n",
       "107 ASN       2005-06-23 GSM136508.CEL.gz 1    \n",
       "122 ASN       2005-06-27 GSM136530.CEL.gz 1    \n",
       "113 ASN       2005-06-27 GSM136517.CEL.gz 1    \n",
       "163 ASN       2005-10-28 GSM136576.CEL.gz 1    \n",
       "153 ASN       2005-10-07 GSM136566.CEL.gz 1    \n",
       "161 ASN       2005-10-07 GSM136574.CEL.gz 1    "
      ]
     },
     "metadata": {},
     "output_type": "display_data"
    }
   ],
   "source": [
    "head(sampleInfo)"
   ]
  },
  {
   "cell_type": "code",
   "execution_count": 5,
   "id": "1e09be4b",
   "metadata": {},
   "outputs": [
    {
     "data": {
      "text/html": [
       "<style>\n",
       ".list-inline {list-style: none; margin:0; padding: 0}\n",
       ".list-inline>li {display: inline-block}\n",
       ".list-inline>li:not(:last-child)::after {content: \"\\00b7\"; padding: 0 .5ex}\n",
       "</style>\n",
       "<ol class=list-inline><li>1</li><li>1</li><li>1</li><li>1</li><li>1</li><li>1</li><li>1</li><li>1</li><li>1</li><li>1</li><li>1</li><li>1</li><li>0</li><li>0</li><li>0</li><li>0</li><li>0</li><li>0</li><li>0</li><li>0</li><li>0</li><li>0</li><li>0</li><li>0</li></ol>\n"
      ],
      "text/latex": [
       "\\begin{enumerate*}\n",
       "\\item 1\n",
       "\\item 1\n",
       "\\item 1\n",
       "\\item 1\n",
       "\\item 1\n",
       "\\item 1\n",
       "\\item 1\n",
       "\\item 1\n",
       "\\item 1\n",
       "\\item 1\n",
       "\\item 1\n",
       "\\item 1\n",
       "\\item 0\n",
       "\\item 0\n",
       "\\item 0\n",
       "\\item 0\n",
       "\\item 0\n",
       "\\item 0\n",
       "\\item 0\n",
       "\\item 0\n",
       "\\item 0\n",
       "\\item 0\n",
       "\\item 0\n",
       "\\item 0\n",
       "\\end{enumerate*}\n"
      ],
      "text/markdown": [
       "1. 1\n",
       "2. 1\n",
       "3. 1\n",
       "4. 1\n",
       "5. 1\n",
       "6. 1\n",
       "7. 1\n",
       "8. 1\n",
       "9. 1\n",
       "10. 1\n",
       "11. 1\n",
       "12. 1\n",
       "13. 0\n",
       "14. 0\n",
       "15. 0\n",
       "16. 0\n",
       "17. 0\n",
       "18. 0\n",
       "19. 0\n",
       "20. 0\n",
       "21. 0\n",
       "22. 0\n",
       "23. 0\n",
       "24. 0\n",
       "\n",
       "\n"
      ],
      "text/plain": [
       " [1] 1 1 1 1 1 1 1 1 1 1 1 1 0 0 0 0 0 0 0 0 0 0 0 0"
      ]
     },
     "metadata": {},
     "output_type": "display_data"
    }
   ],
   "source": [
    "sampleInfo$group"
   ]
  },
  {
   "cell_type": "code",
   "execution_count": 6,
   "id": "1eda0354",
   "metadata": {},
   "outputs": [
    {
     "data": {
      "text/html": [
       "<style>\n",
       ".list-inline {list-style: none; margin:0; padding: 0}\n",
       ".list-inline>li {display: inline-block}\n",
       ".list-inline>li:not(:last-child)::after {content: \"\\00b7\"; padding: 0 .5ex}\n",
       "</style>\n",
       "<ol class=list-inline><li>1</li><li>2</li><li>3</li><li>4</li><li>5</li><li>6</li><li>7</li><li>8</li><li>9</li><li>10</li><li>11</li><li>12</li><li>13</li><li>14</li><li>15</li><li>16</li><li>17</li><li>18</li><li>19</li><li>20</li><li>21</li><li>22</li><li>23</li><li>24</li></ol>\n"
      ],
      "text/latex": [
       "\\begin{enumerate*}\n",
       "\\item 1\n",
       "\\item 2\n",
       "\\item 3\n",
       "\\item 4\n",
       "\\item 5\n",
       "\\item 6\n",
       "\\item 7\n",
       "\\item 8\n",
       "\\item 9\n",
       "\\item 10\n",
       "\\item 11\n",
       "\\item 12\n",
       "\\item 13\n",
       "\\item 14\n",
       "\\item 15\n",
       "\\item 16\n",
       "\\item 17\n",
       "\\item 18\n",
       "\\item 19\n",
       "\\item 20\n",
       "\\item 21\n",
       "\\item 22\n",
       "\\item 23\n",
       "\\item 24\n",
       "\\end{enumerate*}\n"
      ],
      "text/markdown": [
       "1. 1\n",
       "2. 2\n",
       "3. 3\n",
       "4. 4\n",
       "5. 5\n",
       "6. 6\n",
       "7. 7\n",
       "8. 8\n",
       "9. 9\n",
       "10. 10\n",
       "11. 11\n",
       "12. 12\n",
       "13. 13\n",
       "14. 14\n",
       "15. 15\n",
       "16. 16\n",
       "17. 17\n",
       "18. 18\n",
       "19. 19\n",
       "20. 20\n",
       "21. 21\n",
       "22. 22\n",
       "23. 23\n",
       "24. 24\n",
       "\n",
       "\n"
      ],
      "text/plain": [
       " [1]  1  2  3  4  5  6  7  8  9 10 11 12 13 14 15 16 17 18 19 20 21 22 23 24"
      ]
     },
     "metadata": {},
     "output_type": "display_data"
    }
   ],
   "source": [
    "match(sampleInfo$filename,colnames(geneExpression))"
   ]
  },
  {
   "cell_type": "code",
   "execution_count": 7,
   "id": "9a721e4d",
   "metadata": {},
   "outputs": [
    {
     "data": {
      "text/html": [
       "<style>\n",
       ".list-inline {list-style: none; margin:0; padding: 0}\n",
       ".list-inline>li {display: inline-block}\n",
       ".list-inline>li:not(:last-child)::after {content: \"\\00b7\"; padding: 0 .5ex}\n",
       "</style>\n",
       "<ol class=list-inline><li>8793</li><li>4</li></ol>\n"
      ],
      "text/latex": [
       "\\begin{enumerate*}\n",
       "\\item 8793\n",
       "\\item 4\n",
       "\\end{enumerate*}\n"
      ],
      "text/markdown": [
       "1. 8793\n",
       "2. 4\n",
       "\n",
       "\n"
      ],
      "text/plain": [
       "[1] 8793    4"
      ]
     },
     "metadata": {},
     "output_type": "display_data"
    }
   ],
   "source": [
    "dim(geneAnnotation)"
   ]
  },
  {
   "cell_type": "code",
   "execution_count": 8,
   "id": "7524dff7",
   "metadata": {},
   "outputs": [
    {
     "data": {
      "text/html": [
       "<table class=\"dataframe\">\n",
       "<caption>A data.frame: 6 × 4</caption>\n",
       "<thead>\n",
       "\t<tr><th></th><th scope=col>PROBEID</th><th scope=col>CHR</th><th scope=col>CHRLOC</th><th scope=col>SYMBOL</th></tr>\n",
       "\t<tr><th></th><th scope=col>&lt;chr&gt;</th><th scope=col>&lt;chr&gt;</th><th scope=col>&lt;int&gt;</th><th scope=col>&lt;chr&gt;</th></tr>\n",
       "</thead>\n",
       "<tbody>\n",
       "\t<tr><th scope=row>1</th><td>1007_s_at</td><td>chr6</td><td>  30852327</td><td>DDR1  </td></tr>\n",
       "\t<tr><th scope=row>30</th><td>1053_at  </td><td>chr7</td><td> -73645832</td><td>RFC2  </td></tr>\n",
       "\t<tr><th scope=row>31</th><td>117_at   </td><td>chr1</td><td> 161494036</td><td>HSPA6 </td></tr>\n",
       "\t<tr><th scope=row>32</th><td>121_at   </td><td>chr2</td><td>-113973574</td><td>PAX8  </td></tr>\n",
       "\t<tr><th scope=row>33</th><td>1255_g_at</td><td>chr6</td><td>  42123144</td><td>GUCA1A</td></tr>\n",
       "\t<tr><th scope=row>34</th><td>1294_at  </td><td>chr3</td><td> -49842638</td><td>UBA7  </td></tr>\n",
       "</tbody>\n",
       "</table>\n"
      ],
      "text/latex": [
       "A data.frame: 6 × 4\n",
       "\\begin{tabular}{r|llll}\n",
       "  & PROBEID & CHR & CHRLOC & SYMBOL\\\\\n",
       "  & <chr> & <chr> & <int> & <chr>\\\\\n",
       "\\hline\n",
       "\t1 & 1007\\_s\\_at & chr6 &   30852327 & DDR1  \\\\\n",
       "\t30 & 1053\\_at   & chr7 &  -73645832 & RFC2  \\\\\n",
       "\t31 & 117\\_at    & chr1 &  161494036 & HSPA6 \\\\\n",
       "\t32 & 121\\_at    & chr2 & -113973574 & PAX8  \\\\\n",
       "\t33 & 1255\\_g\\_at & chr6 &   42123144 & GUCA1A\\\\\n",
       "\t34 & 1294\\_at   & chr3 &  -49842638 & UBA7  \\\\\n",
       "\\end{tabular}\n"
      ],
      "text/markdown": [
       "\n",
       "A data.frame: 6 × 4\n",
       "\n",
       "| <!--/--> | PROBEID &lt;chr&gt; | CHR &lt;chr&gt; | CHRLOC &lt;int&gt; | SYMBOL &lt;chr&gt; |\n",
       "|---|---|---|---|---|\n",
       "| 1 | 1007_s_at | chr6 |   30852327 | DDR1   |\n",
       "| 30 | 1053_at   | chr7 |  -73645832 | RFC2   |\n",
       "| 31 | 117_at    | chr1 |  161494036 | HSPA6  |\n",
       "| 32 | 121_at    | chr2 | -113973574 | PAX8   |\n",
       "| 33 | 1255_g_at | chr6 |   42123144 | GUCA1A |\n",
       "| 34 | 1294_at   | chr3 |  -49842638 | UBA7   |\n",
       "\n"
      ],
      "text/plain": [
       "   PROBEID   CHR  CHRLOC     SYMBOL\n",
       "1  1007_s_at chr6   30852327 DDR1  \n",
       "30 1053_at   chr7  -73645832 RFC2  \n",
       "31 117_at    chr1  161494036 HSPA6 \n",
       "32 121_at    chr2 -113973574 PAX8  \n",
       "33 1255_g_at chr6   42123144 GUCA1A\n",
       "34 1294_at   chr3  -49842638 UBA7  "
      ]
     },
     "metadata": {},
     "output_type": "display_data"
    }
   ],
   "source": [
    "head(geneAnnotation)"
   ]
  },
  {
   "cell_type": "code",
   "execution_count": 9,
   "id": "2dafddde",
   "metadata": {},
   "outputs": [
    {
     "data": {
      "text/html": [
       "<style>\n",
       ".list-inline {list-style: none; margin:0; padding: 0}\n",
       ".list-inline>li {display: inline-block}\n",
       ".list-inline>li:not(:last-child)::after {content: \"\\00b7\"; padding: 0 .5ex}\n",
       "</style>\n",
       "<ol class=list-inline><li>1</li><li>2</li><li>3</li><li>4</li><li>5</li><li>6</li></ol>\n"
      ],
      "text/latex": [
       "\\begin{enumerate*}\n",
       "\\item 1\n",
       "\\item 2\n",
       "\\item 3\n",
       "\\item 4\n",
       "\\item 5\n",
       "\\item 6\n",
       "\\end{enumerate*}\n"
      ],
      "text/markdown": [
       "1. 1\n",
       "2. 2\n",
       "3. 3\n",
       "4. 4\n",
       "5. 5\n",
       "6. 6\n",
       "\n",
       "\n"
      ],
      "text/plain": [
       "[1] 1 2 3 4 5 6"
      ]
     },
     "metadata": {},
     "output_type": "display_data"
    }
   ],
   "source": [
    "head(match(geneAnnotation$PROBEID,rownames(geneExpression)))"
   ]
  },
  {
   "cell_type": "markdown",
   "id": "b974a0ef",
   "metadata": {},
   "source": [
    "### Exercise P258"
   ]
  },
  {
   "cell_type": "code",
   "execution_count": 10,
   "id": "6df4cc56",
   "metadata": {},
   "outputs": [
    {
     "name": "stderr",
     "output_type": "stream",
     "text": [
      "WARNING: Rtools is required to build R packages, but is not currently installed.\n",
      "\n",
      "Please download and install Rtools 4.2 from https://cran.r-project.org/bin/windows/Rtools/ or https://www.r-project.org/nosvn/winutf8/ucrt3/.\n",
      "\n",
      "Skipping install of 'GSE5859Subset' from a github remote, the SHA1 (8ada5f4f) has not changed since last install.\n",
      "  Use `force = TRUE` to force installation\n",
      "\n"
     ]
    }
   ],
   "source": [
    "install_github(\"genomicsclass/GSE5859Subset\")\n",
    "library(GSE5859Subset)\n",
    "data(GSE5859Subset)"
   ]
  },
  {
   "cell_type": "markdown",
   "id": "4de62f36",
   "metadata": {},
   "source": [
    "Q1: How many samples where processed on 2005-06-27?"
   ]
  },
  {
   "cell_type": "code",
   "execution_count": 11,
   "id": "f4384fe1",
   "metadata": {},
   "outputs": [
    {
     "data": {
      "text/html": [
       "<table class=\"dataframe\">\n",
       "<caption>A data.frame: 6 × 4</caption>\n",
       "<thead>\n",
       "\t<tr><th></th><th scope=col>PROBEID</th><th scope=col>CHR</th><th scope=col>CHRLOC</th><th scope=col>SYMBOL</th></tr>\n",
       "\t<tr><th></th><th scope=col>&lt;chr&gt;</th><th scope=col>&lt;chr&gt;</th><th scope=col>&lt;int&gt;</th><th scope=col>&lt;chr&gt;</th></tr>\n",
       "</thead>\n",
       "<tbody>\n",
       "\t<tr><th scope=row>1</th><td>1007_s_at</td><td>chr6</td><td>  30852327</td><td>DDR1  </td></tr>\n",
       "\t<tr><th scope=row>30</th><td>1053_at  </td><td>chr7</td><td> -73645832</td><td>RFC2  </td></tr>\n",
       "\t<tr><th scope=row>31</th><td>117_at   </td><td>chr1</td><td> 161494036</td><td>HSPA6 </td></tr>\n",
       "\t<tr><th scope=row>32</th><td>121_at   </td><td>chr2</td><td>-113973574</td><td>PAX8  </td></tr>\n",
       "\t<tr><th scope=row>33</th><td>1255_g_at</td><td>chr6</td><td>  42123144</td><td>GUCA1A</td></tr>\n",
       "\t<tr><th scope=row>34</th><td>1294_at  </td><td>chr3</td><td> -49842638</td><td>UBA7  </td></tr>\n",
       "</tbody>\n",
       "</table>\n"
      ],
      "text/latex": [
       "A data.frame: 6 × 4\n",
       "\\begin{tabular}{r|llll}\n",
       "  & PROBEID & CHR & CHRLOC & SYMBOL\\\\\n",
       "  & <chr> & <chr> & <int> & <chr>\\\\\n",
       "\\hline\n",
       "\t1 & 1007\\_s\\_at & chr6 &   30852327 & DDR1  \\\\\n",
       "\t30 & 1053\\_at   & chr7 &  -73645832 & RFC2  \\\\\n",
       "\t31 & 117\\_at    & chr1 &  161494036 & HSPA6 \\\\\n",
       "\t32 & 121\\_at    & chr2 & -113973574 & PAX8  \\\\\n",
       "\t33 & 1255\\_g\\_at & chr6 &   42123144 & GUCA1A\\\\\n",
       "\t34 & 1294\\_at   & chr3 &  -49842638 & UBA7  \\\\\n",
       "\\end{tabular}\n"
      ],
      "text/markdown": [
       "\n",
       "A data.frame: 6 × 4\n",
       "\n",
       "| <!--/--> | PROBEID &lt;chr&gt; | CHR &lt;chr&gt; | CHRLOC &lt;int&gt; | SYMBOL &lt;chr&gt; |\n",
       "|---|---|---|---|---|\n",
       "| 1 | 1007_s_at | chr6 |   30852327 | DDR1   |\n",
       "| 30 | 1053_at   | chr7 |  -73645832 | RFC2   |\n",
       "| 31 | 117_at    | chr1 |  161494036 | HSPA6  |\n",
       "| 32 | 121_at    | chr2 | -113973574 | PAX8   |\n",
       "| 33 | 1255_g_at | chr6 |   42123144 | GUCA1A |\n",
       "| 34 | 1294_at   | chr3 |  -49842638 | UBA7   |\n",
       "\n"
      ],
      "text/plain": [
       "   PROBEID   CHR  CHRLOC     SYMBOL\n",
       "1  1007_s_at chr6   30852327 DDR1  \n",
       "30 1053_at   chr7  -73645832 RFC2  \n",
       "31 117_at    chr1  161494036 HSPA6 \n",
       "32 121_at    chr2 -113973574 PAX8  \n",
       "33 1255_g_at chr6   42123144 GUCA1A\n",
       "34 1294_at   chr3  -49842638 UBA7  "
      ]
     },
     "metadata": {},
     "output_type": "display_data"
    }
   ],
   "source": [
    "head(geneAnnotation)"
   ]
  },
  {
   "cell_type": "code",
   "execution_count": 12,
   "id": "850bd332",
   "metadata": {},
   "outputs": [
    {
     "data": {
      "text/html": [
       "<table class=\"dataframe\">\n",
       "<caption>A matrix: 6 × 24 of type dbl</caption>\n",
       "<thead>\n",
       "\t<tr><th></th><th scope=col>GSM136508.CEL.gz</th><th scope=col>GSM136530.CEL.gz</th><th scope=col>GSM136517.CEL.gz</th><th scope=col>GSM136576.CEL.gz</th><th scope=col>GSM136566.CEL.gz</th><th scope=col>GSM136574.CEL.gz</th><th scope=col>GSM136575.CEL.gz</th><th scope=col>GSM136569.CEL.gz</th><th scope=col>GSM136568.CEL.gz</th><th scope=col>GSM136559.CEL.gz</th><th scope=col>⋯</th><th scope=col>GSM136727.CEL.gz</th><th scope=col>GSM136510.CEL.gz</th><th scope=col>GSM136515.CEL.gz</th><th scope=col>GSM136522.CEL.gz</th><th scope=col>GSM136507.CEL.gz</th><th scope=col>GSM136524.CEL.gz</th><th scope=col>GSM136514.CEL.gz</th><th scope=col>GSM136563.CEL.gz</th><th scope=col>GSM136564.CEL.gz</th><th scope=col>GSM136572.CEL.gz</th></tr>\n",
       "</thead>\n",
       "<tbody>\n",
       "\t<tr><th scope=row>1007_s_at</th><td>6.543954</td><td>6.401470</td><td>6.298943</td><td>6.837899</td><td>6.470689</td><td>6.450220</td><td>6.052854</td><td>6.387026</td><td>6.640583</td><td>6.948474</td><td>⋯</td><td>6.133068</td><td>6.502051</td><td>6.331567</td><td>6.354293</td><td>6.517539</td><td>6.156754</td><td>6.037871</td><td>6.639091</td><td>6.393338</td><td>6.469794</td></tr>\n",
       "\t<tr><th scope=row>1053_at</th><td>7.546708</td><td>7.263547</td><td>7.201699</td><td>7.052761</td><td>6.980207</td><td>7.096195</td><td>6.983827</td><td>7.060558</td><td>7.010453</td><td>6.775048</td><td>⋯</td><td>7.280781</td><td>7.302209</td><td>7.456509</td><td>7.282859</td><td>7.689282</td><td>7.491967</td><td>7.413133</td><td>7.028731</td><td>6.697240</td><td>7.092346</td></tr>\n",
       "\t<tr><th scope=row>117_at</th><td>5.402622</td><td>5.050546</td><td>5.024917</td><td>5.304313</td><td>5.214149</td><td>5.173731</td><td>5.022882</td><td>5.175134</td><td>5.281784</td><td>5.309194</td><td>⋯</td><td>5.401876</td><td>5.395087</td><td>5.280535</td><td>4.986950</td><td>5.562001</td><td>5.039387</td><td>5.054133</td><td>5.361298</td><td>5.218937</td><td>5.340272</td></tr>\n",
       "\t<tr><th scope=row>121_at</th><td>7.892544</td><td>7.707754</td><td>7.461886</td><td>7.558130</td><td>7.819013</td><td>7.641136</td><td>7.729267</td><td>7.700608</td><td>7.615513</td><td>7.992304</td><td>⋯</td><td>7.607461</td><td>7.993732</td><td>7.632947</td><td>7.706585</td><td>7.612557</td><td>7.543667</td><td>7.507113</td><td>7.798197</td><td>7.976375</td><td>7.753480</td></tr>\n",
       "\t<tr><th scope=row>1255_g_at</th><td>3.242779</td><td>3.222804</td><td>3.185605</td><td>3.195363</td><td>3.251915</td><td>3.324934</td><td>3.088541</td><td>3.184015</td><td>3.076940</td><td>3.167413</td><td>⋯</td><td>3.225123</td><td>3.440186</td><td>3.185090</td><td>3.192436</td><td>3.107306</td><td>3.128269</td><td>3.085953</td><td>3.174794</td><td>3.409032</td><td>3.274033</td></tr>\n",
       "\t<tr><th scope=row>1294_at</th><td>7.531754</td><td>7.090270</td><td>7.466018</td><td>7.122145</td><td>7.058973</td><td>6.992396</td><td>7.112384</td><td>7.194791</td><td>6.884312</td><td>7.401553</td><td>⋯</td><td>7.018479</td><td>7.478820</td><td>7.577597</td><td>7.339535</td><td>7.398595</td><td>7.359040</td><td>7.377372</td><td>7.467240</td><td>7.355222</td><td>6.910401</td></tr>\n",
       "</tbody>\n",
       "</table>\n"
      ],
      "text/latex": [
       "A matrix: 6 × 24 of type dbl\n",
       "\\begin{tabular}{r|lllllllllllllllllllll}\n",
       "  & GSM136508.CEL.gz & GSM136530.CEL.gz & GSM136517.CEL.gz & GSM136576.CEL.gz & GSM136566.CEL.gz & GSM136574.CEL.gz & GSM136575.CEL.gz & GSM136569.CEL.gz & GSM136568.CEL.gz & GSM136559.CEL.gz & ⋯ & GSM136727.CEL.gz & GSM136510.CEL.gz & GSM136515.CEL.gz & GSM136522.CEL.gz & GSM136507.CEL.gz & GSM136524.CEL.gz & GSM136514.CEL.gz & GSM136563.CEL.gz & GSM136564.CEL.gz & GSM136572.CEL.gz\\\\\n",
       "\\hline\n",
       "\t1007\\_s\\_at & 6.543954 & 6.401470 & 6.298943 & 6.837899 & 6.470689 & 6.450220 & 6.052854 & 6.387026 & 6.640583 & 6.948474 & ⋯ & 6.133068 & 6.502051 & 6.331567 & 6.354293 & 6.517539 & 6.156754 & 6.037871 & 6.639091 & 6.393338 & 6.469794\\\\\n",
       "\t1053\\_at & 7.546708 & 7.263547 & 7.201699 & 7.052761 & 6.980207 & 7.096195 & 6.983827 & 7.060558 & 7.010453 & 6.775048 & ⋯ & 7.280781 & 7.302209 & 7.456509 & 7.282859 & 7.689282 & 7.491967 & 7.413133 & 7.028731 & 6.697240 & 7.092346\\\\\n",
       "\t117\\_at & 5.402622 & 5.050546 & 5.024917 & 5.304313 & 5.214149 & 5.173731 & 5.022882 & 5.175134 & 5.281784 & 5.309194 & ⋯ & 5.401876 & 5.395087 & 5.280535 & 4.986950 & 5.562001 & 5.039387 & 5.054133 & 5.361298 & 5.218937 & 5.340272\\\\\n",
       "\t121\\_at & 7.892544 & 7.707754 & 7.461886 & 7.558130 & 7.819013 & 7.641136 & 7.729267 & 7.700608 & 7.615513 & 7.992304 & ⋯ & 7.607461 & 7.993732 & 7.632947 & 7.706585 & 7.612557 & 7.543667 & 7.507113 & 7.798197 & 7.976375 & 7.753480\\\\\n",
       "\t1255\\_g\\_at & 3.242779 & 3.222804 & 3.185605 & 3.195363 & 3.251915 & 3.324934 & 3.088541 & 3.184015 & 3.076940 & 3.167413 & ⋯ & 3.225123 & 3.440186 & 3.185090 & 3.192436 & 3.107306 & 3.128269 & 3.085953 & 3.174794 & 3.409032 & 3.274033\\\\\n",
       "\t1294\\_at & 7.531754 & 7.090270 & 7.466018 & 7.122145 & 7.058973 & 6.992396 & 7.112384 & 7.194791 & 6.884312 & 7.401553 & ⋯ & 7.018479 & 7.478820 & 7.577597 & 7.339535 & 7.398595 & 7.359040 & 7.377372 & 7.467240 & 7.355222 & 6.910401\\\\\n",
       "\\end{tabular}\n"
      ],
      "text/markdown": [
       "\n",
       "A matrix: 6 × 24 of type dbl\n",
       "\n",
       "| <!--/--> | GSM136508.CEL.gz | GSM136530.CEL.gz | GSM136517.CEL.gz | GSM136576.CEL.gz | GSM136566.CEL.gz | GSM136574.CEL.gz | GSM136575.CEL.gz | GSM136569.CEL.gz | GSM136568.CEL.gz | GSM136559.CEL.gz | ⋯ | GSM136727.CEL.gz | GSM136510.CEL.gz | GSM136515.CEL.gz | GSM136522.CEL.gz | GSM136507.CEL.gz | GSM136524.CEL.gz | GSM136514.CEL.gz | GSM136563.CEL.gz | GSM136564.CEL.gz | GSM136572.CEL.gz |\n",
       "|---|---|---|---|---|---|---|---|---|---|---|---|---|---|---|---|---|---|---|---|---|---|\n",
       "| 1007_s_at | 6.543954 | 6.401470 | 6.298943 | 6.837899 | 6.470689 | 6.450220 | 6.052854 | 6.387026 | 6.640583 | 6.948474 | ⋯ | 6.133068 | 6.502051 | 6.331567 | 6.354293 | 6.517539 | 6.156754 | 6.037871 | 6.639091 | 6.393338 | 6.469794 |\n",
       "| 1053_at | 7.546708 | 7.263547 | 7.201699 | 7.052761 | 6.980207 | 7.096195 | 6.983827 | 7.060558 | 7.010453 | 6.775048 | ⋯ | 7.280781 | 7.302209 | 7.456509 | 7.282859 | 7.689282 | 7.491967 | 7.413133 | 7.028731 | 6.697240 | 7.092346 |\n",
       "| 117_at | 5.402622 | 5.050546 | 5.024917 | 5.304313 | 5.214149 | 5.173731 | 5.022882 | 5.175134 | 5.281784 | 5.309194 | ⋯ | 5.401876 | 5.395087 | 5.280535 | 4.986950 | 5.562001 | 5.039387 | 5.054133 | 5.361298 | 5.218937 | 5.340272 |\n",
       "| 121_at | 7.892544 | 7.707754 | 7.461886 | 7.558130 | 7.819013 | 7.641136 | 7.729267 | 7.700608 | 7.615513 | 7.992304 | ⋯ | 7.607461 | 7.993732 | 7.632947 | 7.706585 | 7.612557 | 7.543667 | 7.507113 | 7.798197 | 7.976375 | 7.753480 |\n",
       "| 1255_g_at | 3.242779 | 3.222804 | 3.185605 | 3.195363 | 3.251915 | 3.324934 | 3.088541 | 3.184015 | 3.076940 | 3.167413 | ⋯ | 3.225123 | 3.440186 | 3.185090 | 3.192436 | 3.107306 | 3.128269 | 3.085953 | 3.174794 | 3.409032 | 3.274033 |\n",
       "| 1294_at | 7.531754 | 7.090270 | 7.466018 | 7.122145 | 7.058973 | 6.992396 | 7.112384 | 7.194791 | 6.884312 | 7.401553 | ⋯ | 7.018479 | 7.478820 | 7.577597 | 7.339535 | 7.398595 | 7.359040 | 7.377372 | 7.467240 | 7.355222 | 6.910401 |\n",
       "\n"
      ],
      "text/plain": [
       "          GSM136508.CEL.gz GSM136530.CEL.gz GSM136517.CEL.gz GSM136576.CEL.gz\n",
       "1007_s_at 6.543954         6.401470         6.298943         6.837899        \n",
       "1053_at   7.546708         7.263547         7.201699         7.052761        \n",
       "117_at    5.402622         5.050546         5.024917         5.304313        \n",
       "121_at    7.892544         7.707754         7.461886         7.558130        \n",
       "1255_g_at 3.242779         3.222804         3.185605         3.195363        \n",
       "1294_at   7.531754         7.090270         7.466018         7.122145        \n",
       "          GSM136566.CEL.gz GSM136574.CEL.gz GSM136575.CEL.gz GSM136569.CEL.gz\n",
       "1007_s_at 6.470689         6.450220         6.052854         6.387026        \n",
       "1053_at   6.980207         7.096195         6.983827         7.060558        \n",
       "117_at    5.214149         5.173731         5.022882         5.175134        \n",
       "121_at    7.819013         7.641136         7.729267         7.700608        \n",
       "1255_g_at 3.251915         3.324934         3.088541         3.184015        \n",
       "1294_at   7.058973         6.992396         7.112384         7.194791        \n",
       "          GSM136568.CEL.gz GSM136559.CEL.gz ⋯ GSM136727.CEL.gz GSM136510.CEL.gz\n",
       "1007_s_at 6.640583         6.948474         ⋯ 6.133068         6.502051        \n",
       "1053_at   7.010453         6.775048         ⋯ 7.280781         7.302209        \n",
       "117_at    5.281784         5.309194         ⋯ 5.401876         5.395087        \n",
       "121_at    7.615513         7.992304         ⋯ 7.607461         7.993732        \n",
       "1255_g_at 3.076940         3.167413         ⋯ 3.225123         3.440186        \n",
       "1294_at   6.884312         7.401553         ⋯ 7.018479         7.478820        \n",
       "          GSM136515.CEL.gz GSM136522.CEL.gz GSM136507.CEL.gz GSM136524.CEL.gz\n",
       "1007_s_at 6.331567         6.354293         6.517539         6.156754        \n",
       "1053_at   7.456509         7.282859         7.689282         7.491967        \n",
       "117_at    5.280535         4.986950         5.562001         5.039387        \n",
       "121_at    7.632947         7.706585         7.612557         7.543667        \n",
       "1255_g_at 3.185090         3.192436         3.107306         3.128269        \n",
       "1294_at   7.577597         7.339535         7.398595         7.359040        \n",
       "          GSM136514.CEL.gz GSM136563.CEL.gz GSM136564.CEL.gz GSM136572.CEL.gz\n",
       "1007_s_at 6.037871         6.639091         6.393338         6.469794        \n",
       "1053_at   7.413133         7.028731         6.697240         7.092346        \n",
       "117_at    5.054133         5.361298         5.218937         5.340272        \n",
       "121_at    7.507113         7.798197         7.976375         7.753480        \n",
       "1255_g_at 3.085953         3.174794         3.409032         3.274033        \n",
       "1294_at   7.377372         7.467240         7.355222         6.910401        "
      ]
     },
     "metadata": {},
     "output_type": "display_data"
    }
   ],
   "source": [
    "head(geneExpression)"
   ]
  },
  {
   "cell_type": "code",
   "execution_count": 13,
   "id": "666a0480",
   "metadata": {},
   "outputs": [
    {
     "data": {
      "text/html": [
       "<table class=\"dataframe\">\n",
       "<caption>A data.frame: 6 × 4</caption>\n",
       "<thead>\n",
       "\t<tr><th></th><th scope=col>ethnicity</th><th scope=col>date</th><th scope=col>filename</th><th scope=col>group</th></tr>\n",
       "\t<tr><th></th><th scope=col>&lt;fct&gt;</th><th scope=col>&lt;date&gt;</th><th scope=col>&lt;chr&gt;</th><th scope=col>&lt;dbl&gt;</th></tr>\n",
       "</thead>\n",
       "<tbody>\n",
       "\t<tr><th scope=row>107</th><td>ASN</td><td>2005-06-23</td><td>GSM136508.CEL.gz</td><td>1</td></tr>\n",
       "\t<tr><th scope=row>122</th><td>ASN</td><td>2005-06-27</td><td>GSM136530.CEL.gz</td><td>1</td></tr>\n",
       "\t<tr><th scope=row>113</th><td>ASN</td><td>2005-06-27</td><td>GSM136517.CEL.gz</td><td>1</td></tr>\n",
       "\t<tr><th scope=row>163</th><td>ASN</td><td>2005-10-28</td><td>GSM136576.CEL.gz</td><td>1</td></tr>\n",
       "\t<tr><th scope=row>153</th><td>ASN</td><td>2005-10-07</td><td>GSM136566.CEL.gz</td><td>1</td></tr>\n",
       "\t<tr><th scope=row>161</th><td>ASN</td><td>2005-10-07</td><td>GSM136574.CEL.gz</td><td>1</td></tr>\n",
       "</tbody>\n",
       "</table>\n"
      ],
      "text/latex": [
       "A data.frame: 6 × 4\n",
       "\\begin{tabular}{r|llll}\n",
       "  & ethnicity & date & filename & group\\\\\n",
       "  & <fct> & <date> & <chr> & <dbl>\\\\\n",
       "\\hline\n",
       "\t107 & ASN & 2005-06-23 & GSM136508.CEL.gz & 1\\\\\n",
       "\t122 & ASN & 2005-06-27 & GSM136530.CEL.gz & 1\\\\\n",
       "\t113 & ASN & 2005-06-27 & GSM136517.CEL.gz & 1\\\\\n",
       "\t163 & ASN & 2005-10-28 & GSM136576.CEL.gz & 1\\\\\n",
       "\t153 & ASN & 2005-10-07 & GSM136566.CEL.gz & 1\\\\\n",
       "\t161 & ASN & 2005-10-07 & GSM136574.CEL.gz & 1\\\\\n",
       "\\end{tabular}\n"
      ],
      "text/markdown": [
       "\n",
       "A data.frame: 6 × 4\n",
       "\n",
       "| <!--/--> | ethnicity &lt;fct&gt; | date &lt;date&gt; | filename &lt;chr&gt; | group &lt;dbl&gt; |\n",
       "|---|---|---|---|---|\n",
       "| 107 | ASN | 2005-06-23 | GSM136508.CEL.gz | 1 |\n",
       "| 122 | ASN | 2005-06-27 | GSM136530.CEL.gz | 1 |\n",
       "| 113 | ASN | 2005-06-27 | GSM136517.CEL.gz | 1 |\n",
       "| 163 | ASN | 2005-10-28 | GSM136576.CEL.gz | 1 |\n",
       "| 153 | ASN | 2005-10-07 | GSM136566.CEL.gz | 1 |\n",
       "| 161 | ASN | 2005-10-07 | GSM136574.CEL.gz | 1 |\n",
       "\n"
      ],
      "text/plain": [
       "    ethnicity date       filename         group\n",
       "107 ASN       2005-06-23 GSM136508.CEL.gz 1    \n",
       "122 ASN       2005-06-27 GSM136530.CEL.gz 1    \n",
       "113 ASN       2005-06-27 GSM136517.CEL.gz 1    \n",
       "163 ASN       2005-10-28 GSM136576.CEL.gz 1    \n",
       "153 ASN       2005-10-07 GSM136566.CEL.gz 1    \n",
       "161 ASN       2005-10-07 GSM136574.CEL.gz 1    "
      ]
     },
     "metadata": {},
     "output_type": "display_data"
    }
   ],
   "source": [
    "head(sampleInfo)"
   ]
  },
  {
   "cell_type": "code",
   "execution_count": 14,
   "id": "45a1fd12",
   "metadata": {},
   "outputs": [
    {
     "data": {
      "text/html": [
       "5"
      ],
      "text/latex": [
       "5"
      ],
      "text/markdown": [
       "5"
      ],
      "text/plain": [
       "[1] 5"
      ]
     },
     "metadata": {},
     "output_type": "display_data"
    }
   ],
   "source": [
    "length(which(sampleInfo$date == '2005-06-27'))"
   ]
  },
  {
   "cell_type": "markdown",
   "id": "58ba4cee",
   "metadata": {},
   "source": [
    "Q2: Question: How many of the genes represented in this particular technology are on chromosome\n",
    "Y?"
   ]
  },
  {
   "cell_type": "code",
   "execution_count": 15,
   "id": "613bc3b1",
   "metadata": {},
   "outputs": [
    {
     "data": {
      "text/html": [
       "21"
      ],
      "text/latex": [
       "21"
      ],
      "text/markdown": [
       "21"
      ],
      "text/plain": [
       "[1] 21"
      ]
     },
     "metadata": {},
     "output_type": "display_data"
    }
   ],
   "source": [
    "length(which(geneAnnotation$CHR == 'chrY'))"
   ]
  },
  {
   "cell_type": "markdown",
   "id": "9c49db24",
   "metadata": {},
   "source": [
    "Q3:What is the log expression value of the for gene ARPC1A on the one subject that we measured\n",
    "on 2005-06-10 ?"
   ]
  },
  {
   "cell_type": "code",
   "execution_count": 16,
   "id": "0829e52a",
   "metadata": {},
   "outputs": [],
   "source": [
    "a1=sampleInfo[which(sampleInfo$date == '2005-06-10'),]$filename\n",
    "a2=geneAnnotation[which(geneAnnotation$SYMBOL == 'ARPC1A'),]$PROBEID"
   ]
  },
  {
   "cell_type": "markdown",
   "id": "f50fb43f",
   "metadata": {},
   "source": [
    "## Inference in Practice"
   ]
  },
  {
   "cell_type": "markdown",
   "id": "c533429f",
   "metadata": {},
   "source": [
    "### p-values are random variables"
   ]
  },
  {
   "cell_type": "markdown",
   "id": "2699baf3",
   "metadata": {},
   "source": [
    "$$p = 2\\{1 − \\Phi(Z)\\}$$"
   ]
  },
  {
   "cell_type": "markdown",
   "id": "9b60456d",
   "metadata": {},
   "source": [
    "2*(1-pnorm(Z)) "
   ]
  },
  {
   "cell_type": "code",
   "execution_count": 17,
   "id": "2fcaabb1",
   "metadata": {},
   "outputs": [
    {
     "data": {
      "image/png": "[encoded data removed]",
      "text/plain": [
       "Plot with title \"Histogram of pvals\""
      ]
     },
     "metadata": {
      "image/png": {
       "height": 420,
       "width": 420
      }
     },
     "output_type": "display_data"
    }
   ],
   "source": [
    "set.seed(1)\n",
    "population = unlist( read.csv(\"D:\\\\desktop\\\\dataR\\\\dagdata-master\\\\inst\\\\extdata\\\\femaleControlsPopulation.csv\") )\n",
    "N <- 12\n",
    "B <- 10000\n",
    "pvals <- replicate(B,{\n",
    "control = sample(population,N)\n",
    "treatment = sample(population,N)\n",
    "t.test(treatment,control)$p.val\n",
    "})\n",
    "hist(pvals)"
   ]
  },
  {
   "cell_type": "markdown",
   "id": "9d2aba65",
   "metadata": {},
   "source": [
    "$$p_a = Pr(Z < a | H_0) = \\Phi(a)$$"
   ]
  },
  {
   "cell_type": "markdown",
   "id": "3052e512",
   "metadata": {},
   "source": [
    "### Thousands of tests"
   ]
  },
  {
   "cell_type": "code",
   "execution_count": 18,
   "id": "c8c5fec8",
   "metadata": {},
   "outputs": [
    {
     "data": {
      "text/html": [
       "<style>\n",
       ".list-inline {list-style: none; margin:0; padding: 0}\n",
       ".list-inline>li {display: inline-block}\n",
       ".list-inline>li:not(:last-child)::after {content: \"\\00b7\"; padding: 0 .5ex}\n",
       "</style>\n",
       "<ol class=list-inline><li>1</li><li>1</li><li>1</li><li>1</li><li>1</li><li>1</li><li>1</li><li>1</li><li>1</li><li>1</li><li>1</li><li>1</li><li>0</li><li>0</li><li>0</li><li>0</li><li>0</li><li>0</li><li>0</li><li>0</li><li>0</li><li>0</li><li>0</li><li>0</li></ol>\n"
      ],
      "text/latex": [
       "\\begin{enumerate*}\n",
       "\\item 1\n",
       "\\item 1\n",
       "\\item 1\n",
       "\\item 1\n",
       "\\item 1\n",
       "\\item 1\n",
       "\\item 1\n",
       "\\item 1\n",
       "\\item 1\n",
       "\\item 1\n",
       "\\item 1\n",
       "\\item 1\n",
       "\\item 0\n",
       "\\item 0\n",
       "\\item 0\n",
       "\\item 0\n",
       "\\item 0\n",
       "\\item 0\n",
       "\\item 0\n",
       "\\item 0\n",
       "\\item 0\n",
       "\\item 0\n",
       "\\item 0\n",
       "\\item 0\n",
       "\\end{enumerate*}\n"
      ],
      "text/markdown": [
       "1. 1\n",
       "2. 1\n",
       "3. 1\n",
       "4. 1\n",
       "5. 1\n",
       "6. 1\n",
       "7. 1\n",
       "8. 1\n",
       "9. 1\n",
       "10. 1\n",
       "11. 1\n",
       "12. 1\n",
       "13. 0\n",
       "14. 0\n",
       "15. 0\n",
       "16. 0\n",
       "17. 0\n",
       "18. 0\n",
       "19. 0\n",
       "20. 0\n",
       "21. 0\n",
       "22. 0\n",
       "23. 0\n",
       "24. 0\n",
       "\n",
       "\n"
      ],
      "text/plain": [
       " [1] 1 1 1 1 1 1 1 1 1 1 1 1 0 0 0 0 0 0 0 0 0 0 0 0"
      ]
     },
     "metadata": {},
     "output_type": "display_data"
    }
   ],
   "source": [
    "library(GSE5859Subset)\n",
    "data(GSE5859Subset)\n",
    "g <- sampleInfo$group\n",
    "g"
   ]
  },
  {
   "cell_type": "code",
   "execution_count": 19,
   "id": "b5f3204a",
   "metadata": {},
   "outputs": [
    {
     "name": "stderr",
     "output_type": "stream",
     "text": [
      "\n",
      "Attaching package: 'rafalib'\n",
      "\n",
      "\n",
      "The following object is masked from 'package:devtools':\n",
      "\n",
      "    install_bioc\n",
      "\n",
      "\n"
     ]
    },
    {
     "data": {
      "image/png": "[encoded data removed]",
      "text/plain": [
       "Plot with title \"Normal Q-Q Plot\""
      ]
     },
     "metadata": {
      "image/png": {
       "height": 420,
       "width": 420
      }
     },
     "output_type": "display_data"
    }
   ],
   "source": [
    "e <- geneExpression[25,]\n",
    "library(rafalib)\n",
    "mypar(1,2)\n",
    "qqnorm(e[g==1])\n",
    "qqline(e[g==1])\n",
    "qqnorm(e[g==0])\n",
    "qqline(e[g==0])"
   ]
  },
  {
   "cell_type": "code",
   "execution_count": 20,
   "id": "2bc2a4e2",
   "metadata": {},
   "outputs": [
    {
     "data": {
      "text/html": [
       "0.779303040770203"
      ],
      "text/latex": [
       "0.779303040770203"
      ],
      "text/markdown": [
       "0.779303040770203"
      ],
      "text/plain": [
       "[1] 0.779303"
      ]
     },
     "metadata": {},
     "output_type": "display_data"
    }
   ],
   "source": [
    "t.test(e[g==1],e[g==0])$p.value"
   ]
  },
  {
   "cell_type": "code",
   "execution_count": 21,
   "id": "dc3896b4",
   "metadata": {},
   "outputs": [],
   "source": [
    "myttest <- function(x) t.test(x[g==1],x[g==0],var.equal=TRUE)$p.value\n",
    "pvals <- apply(geneExpression,1,myttest)"
   ]
  },
  {
   "cell_type": "code",
   "execution_count": 22,
   "id": "3b40099c",
   "metadata": {},
   "outputs": [
    {
     "data": {
      "text/html": [
       "1383"
      ],
      "text/latex": [
       "1383"
      ],
      "text/markdown": [
       "1383"
      ],
      "text/plain": [
       "[1] 1383"
      ]
     },
     "metadata": {},
     "output_type": "display_data"
    }
   ],
   "source": [
    "sum(pvals<0.05)"
   ]
  },
  {
   "cell_type": "code",
   "execution_count": 23,
   "id": "81b10932",
   "metadata": {},
   "outputs": [
    {
     "data": {
      "text/html": [
       "419"
      ],
      "text/latex": [
       "419"
      ],
      "text/markdown": [
       "419"
      ],
      "text/plain": [
       "[1] 419"
      ]
     },
     "metadata": {},
     "output_type": "display_data"
    }
   ],
   "source": [
    "set.seed(1) \n",
    "m <- nrow(geneExpression)\n",
    "n <- ncol(geneExpression)\n",
    "randomData <- matrix(rnorm(n*m),m,n)\n",
    "nullpvals <- apply(randomData,1,myttest)\n",
    "sum(nullpvals<0.05)"
   ]
  },
  {
   "cell_type": "markdown",
   "id": "c1d13a95",
   "metadata": {},
   "source": [
    "### Faster t-test implementation"
   ]
  },
  {
   "cell_type": "code",
   "execution_count": 24,
   "id": "0d353ac0",
   "metadata": {},
   "outputs": [
    {
     "data": {
      "text/html": [
       "6.52811138479592e-14"
      ],
      "text/latex": [
       "6.52811138479592e-14"
      ],
      "text/markdown": [
       "6.52811138479592e-14"
      ],
      "text/plain": [
       "[1] 6.528111e-14"
      ]
     },
     "metadata": {},
     "output_type": "display_data"
    }
   ],
   "source": [
    "library(genefilter)\n",
    "results <- rowttests(geneExpression,factor(g))\n",
    "max(abs(pvals-results$p))"
   ]
  },
  {
   "cell_type": "code",
   "execution_count": 25,
   "id": "61943a99",
   "metadata": {},
   "outputs": [
    {
     "data": {
      "text/html": [
       "<style>\n",
       ".list-inline {list-style: none; margin:0; padding: 0}\n",
       ".list-inline>li {display: inline-block}\n",
       ".list-inline>li:not(:last-child)::after {content: \"\\00b7\"; padding: 0 .5ex}\n",
       "</style>\n",
       "<ol class=list-inline><li>0.323391608177385</li><li>0.624242551904879</li><li>0.262437347797396</li><li>0.36013559536084</li><li>0.355409721975969</li><li>0.55923655965576</li></ol>\n"
      ],
      "text/latex": [
       "\\begin{enumerate*}\n",
       "\\item 0.323391608177385\n",
       "\\item 0.624242551904879\n",
       "\\item 0.262437347797396\n",
       "\\item 0.36013559536084\n",
       "\\item 0.355409721975969\n",
       "\\item 0.55923655965576\n",
       "\\end{enumerate*}\n"
      ],
      "text/markdown": [
       "1. 0.323391608177385\n",
       "2. 0.624242551904879\n",
       "3. 0.262437347797396\n",
       "4. 0.36013559536084\n",
       "5. 0.355409721975969\n",
       "6. 0.55923655965576\n",
       "\n",
       "\n"
      ],
      "text/plain": [
       "[1] 0.3233916 0.6242426 0.2624373 0.3601356 0.3554097 0.5592366"
      ]
     },
     "metadata": {},
     "output_type": "display_data"
    },
    {
     "data": {
      "image/png": "[encoded data removed]",
      "text/plain": [
       "Plot with title \"Histogram of pvals\""
      ]
     },
     "metadata": {
      "image/png": {
       "height": 420,
       "width": 420
      }
     },
     "output_type": "display_data"
    }
   ],
   "source": [
    "population = read.csv(\"D:\\\\desktop\\\\dataR\\\\dagdata-master\\\\inst\\\\extdata\\\\femaleControlsPopulation.csv\") \n",
    "pvals <- replicate(1000,{\n",
    "control = sample(population[,1],12)\n",
    "treatment = sample(population[,1],12)\n",
    "t.test(treatment,control)$p.val\n",
    "})\n",
    "head(pvals)\n",
    "hist(pvals)"
   ]
  },
  {
   "cell_type": "markdown",
   "id": "dd973c4a",
   "metadata": {},
   "source": [
    "### Exercise P264"
   ]
  },
  {
   "cell_type": "markdown",
   "id": "a325c895",
   "metadata": {},
   "source": [
    "Q1: What proportion of the p-values is below 0.05?"
   ]
  },
  {
   "cell_type": "code",
   "execution_count": 26,
   "id": "0cc8be6f",
   "metadata": {},
   "outputs": [
    {
     "data": {
      "text/html": [
       "0.037"
      ],
      "text/latex": [
       "0.037"
      ],
      "text/markdown": [
       "0.037"
      ],
      "text/plain": [
       "[1] 0.037"
      ]
     },
     "metadata": {},
     "output_type": "display_data"
    }
   ],
   "source": [
    "mean(pvals<0.05)"
   ]
  },
  {
   "cell_type": "markdown",
   "id": "284d4d76",
   "metadata": {},
   "source": [
    "Q2: What proportion of the p-values is below 0.01?"
   ]
  },
  {
   "cell_type": "code",
   "execution_count": 27,
   "id": "47e0a759",
   "metadata": {},
   "outputs": [
    {
     "data": {
      "text/html": [
       "0.007"
      ],
      "text/latex": [
       "0.007"
      ],
      "text/markdown": [
       "0.007"
      ],
      "text/plain": [
       "[1] 0.007"
      ]
     },
     "metadata": {},
     "output_type": "display_data"
    }
   ],
   "source": [
    "mean(pvals<0.01)"
   ]
  },
  {
   "cell_type": "markdown",
   "id": "406e4052",
   "metadata": {},
   "source": [
    " Q3: Assume you are testing the effectiveness of 20 diets on mice weight. For each of the 20 diets,\n",
    "you run an experiment with 10 control mice and 10 treated mice. Assume the null hypothesis,\n",
    "that the diet has no effect, is true for all 20 diets and that mice weights follow a normal\n",
    "distribution, with mean 30 grams and a standard deviation of 2 grams. Run a Monte Carlo\n",
    "simulation for one of these studies:"
   ]
  },
  {
   "cell_type": "code",
   "execution_count": 28,
   "id": "d09a4b3b",
   "metadata": {},
   "outputs": [
    {
     "data": {
      "text/plain": [
       "\n",
       "\tWelch Two Sample t-test\n",
       "\n",
       "data:  cases and controls\n",
       "t = 0.78506, df = 17.777, p-value = 0.4428\n",
       "alternative hypothesis: true difference in means is not equal to 0\n",
       "95 percent confidence interval:\n",
       " -1.251477  2.742624\n",
       "sample estimates:\n",
       "mean of x mean of y \n",
       " 30.18789  29.44232 \n"
      ]
     },
     "metadata": {},
     "output_type": "display_data"
    }
   ],
   "source": [
    "cases = rnorm(10,30,2)\n",
    "controls = rnorm(10,30,2)\n",
    "t.test(cases,controls)"
   ]
  },
  {
   "cell_type": "markdown",
   "id": "1ecc960f",
   "metadata": {},
   "source": [
    "Question: Now run a Monte Carlo simulation imitating the results for the experiment for all\n",
    "20 diets. If you set the seed at 100, set.seed(100), how many of p-values are below 0.05?"
   ]
  },
  {
   "cell_type": "code",
   "execution_count": 29,
   "id": "6cc62afc",
   "metadata": {},
   "outputs": [
    {
     "data": {
      "text/html": [
       "1"
      ],
      "text/latex": [
       "1"
      ],
      "text/markdown": [
       "1"
      ],
      "text/plain": [
       "[1] 1"
      ]
     },
     "metadata": {},
     "output_type": "display_data"
    }
   ],
   "source": [
    "set.seed(100)\n",
    "data=matrix(rnorm(20*20,30,2),20,20)\n",
    "g=c(rep(0,10),rep(1,10))\n",
    "value=rowttests(data, factor(g))$p.value\n",
    "sum(value<0.05)"
   ]
  },
  {
   "cell_type": "markdown",
   "id": "ff7ac915",
   "metadata": {},
   "source": [
    "Q4:Now create a simulation to learn about the distribution of the number of p-values that are less\n",
    "than 0.05. In question 3, we ran the 20 diet experiment once. Now we will run the experiment\n",
    "1,000 times and each time save the number of p-values that are less than 0.05.\n",
    "Set the seed at 100, set.seed(100), run the code from Question 3 1,000 times, and save the\n",
    "number of times the p-value is less than 0.05 for each of the 1,000 instances. What is the\n",
    "average of these numbers? This is the expected number of tests (out of the 20 we run) that we\n",
    "will reject when the null is true."
   ]
  },
  {
   "cell_type": "code",
   "execution_count": 30,
   "id": "cc1fc5bf",
   "metadata": {},
   "outputs": [
    {
     "data": {
      "text/html": [
       "0.999"
      ],
      "text/latex": [
       "0.999"
      ],
      "text/markdown": [
       "0.999"
      ],
      "text/plain": [
       "[1] 0.999"
      ]
     },
     "metadata": {},
     "output_type": "display_data"
    }
   ],
   "source": [
    "set.seed(100)\n",
    "result=replicate(1000, {\n",
    "data=matrix(rnorm(20*20,30,2),20,20)\n",
    "g=c(rep(0,10),rep(1,10))\n",
    "value=rowttests(data, factor(g))$p.value\n",
    "return(sum(value<0.05)) # total number of false positives per replication\n",
    "})\n",
    "mean(result)"
   ]
  },
  {
   "cell_type": "markdown",
   "id": "3f1f3a31",
   "metadata": {},
   "source": [
    "Q5: What this says is that on average, we expect some p-value to be 0.05 even when the null is true\n",
    "for all diets. Use the same simulation data and report for what percent of the 1,000 replications\n",
    "did we make more than 0 false positives?"
   ]
  },
  {
   "cell_type": "code",
   "execution_count": 31,
   "id": "4fe3453f",
   "metadata": {},
   "outputs": [
    {
     "data": {
      "text/html": [
       "0.651"
      ],
      "text/latex": [
       "0.651"
      ],
      "text/markdown": [
       "0.651"
      ],
      "text/plain": [
       "[1] 0.651"
      ]
     },
     "metadata": {},
     "output_type": "display_data"
    }
   ],
   "source": [
    "mean(result>0)"
   ]
  },
  {
   "cell_type": "markdown",
   "id": "89ae0a5d",
   "metadata": {},
   "source": [
    "## Error Rates"
   ]
  },
  {
   "cell_type": "markdown",
   "id": "090a2a09",
   "metadata": {},
   "source": [
    "### Data example"
   ]
  },
  {
   "cell_type": "code",
   "execution_count": 32,
   "id": "5bd77529",
   "metadata": {},
   "outputs": [],
   "source": [
    "set.seed(1)\n",
    "population = unlist(population)\n",
    "alpha <- 0.05\n",
    "N <- 12\n",
    "m <- 10000\n",
    "pvals <- replicate(m,{\n",
    "control = sample(population,N)\n",
    "treatment = sample(population,N)\n",
    "t.test(treatment,control)$p.value\n",
    "})"
   ]
  },
  {
   "cell_type": "code",
   "execution_count": 33,
   "id": "947e5967",
   "metadata": {},
   "outputs": [
    {
     "data": {
      "text/html": [
       "409"
      ],
      "text/latex": [
       "409"
      ],
      "text/markdown": [
       "409"
      ],
      "text/plain": [
       "[1] 409"
      ]
     },
     "metadata": {},
     "output_type": "display_data"
    }
   ],
   "source": [
    "sum(pvals < 0.05)"
   ]
  },
  {
   "cell_type": "code",
   "execution_count": 34,
   "id": "c177e62e",
   "metadata": {},
   "outputs": [],
   "source": [
    "alpha <- 0.05\n",
    "N <- 12\n",
    "m <- 10000\n",
    "p0 <- 0.90 ##10% of diets work, 90% don't\n",
    "m0 <- m*p0\n",
    "m1 <- m-m0\n",
    "nullHypothesis <- c( rep(TRUE,m0), rep(FALSE,m1))\n",
    "delta <- 3"
   ]
  },
  {
   "cell_type": "code",
   "execution_count": 35,
   "id": "3d7f6405",
   "metadata": {},
   "outputs": [],
   "source": [
    "set.seed(1)\n",
    "calls <- sapply(1:m, function(i){\n",
    "control <- sample(population,N)\n",
    "treatment <- sample(population,N)\n",
    "if(!nullHypothesis[i]) treatment <- treatment + delta\n",
    "ifelse( t.test(treatment,control)$p.value < alpha,\n",
    "\"Called Significant\", \"Not Called Significant\")\n",
    "})"
   ]
  },
  {
   "cell_type": "code",
   "execution_count": 36,
   "id": "a58a5cd3",
   "metadata": {},
   "outputs": [
    {
     "data": {
      "text/plain": [
       "               calls\n",
       "null_hypothesis Called Significant Not Called Significant\n",
       "          TRUE                 361                   8639\n",
       "          FALSE                553                    447"
      ]
     },
     "metadata": {},
     "output_type": "display_data"
    }
   ],
   "source": [
    "null_hypothesis <- factor( nullHypothesis, levels=c(\"TRUE\",\"FALSE\"))\n",
    "table(null_hypothesis,calls)"
   ]
  },
  {
   "cell_type": "code",
   "execution_count": 37,
   "id": "fbccbf54",
   "metadata": {},
   "outputs": [
    {
     "name": "stdout",
     "output_type": "stream",
     "text": [
      "V = 373 S = 540 \n",
      "V = 375 S = 553 \n",
      "V = 386 S = 545 \n",
      "V = 396 S = 565 \n",
      "V = 373 S = 532 \n",
      "V = 355 S = 541 \n",
      "V = 372 S = 501 \n",
      "V = 376 S = 522 \n",
      "V = 355 S = 570 \n",
      "V = 388 S = 506 \n"
     ]
    }
   ],
   "source": [
    "B <- 10 ##number of simulations\n",
    "VandS <- replicate(B,{\n",
    "calls <- sapply(1:m, function(i){\n",
    "control <- sample(population,N)\n",
    "treatment <- sample(population,N)\n",
    "if(!nullHypothesis[i]) treatment <- treatment + delta\n",
    "t.test(treatment,control)$p.val < alpha\n",
    "})\n",
    "cat(\"V =\",sum(nullHypothesis & calls), \"S =\",sum(!nullHypothesis & calls),\"\\n\") \n",
    "    c(sum(nullHypothesis & calls),sum(!nullHypothesis & calls))\n",
    "})"
   ]
  },
  {
   "cell_type": "markdown",
   "id": "8f2e4e71",
   "metadata": {},
   "source": [
    "## The Bonferroni Correction"
   ]
  },
  {
   "cell_type": "code",
   "execution_count": 38,
   "id": "75e6f6ae",
   "metadata": {},
   "outputs": [
    {
     "data": {
      "text/html": [
       "1"
      ],
      "text/latex": [
       "1"
      ],
      "text/markdown": [
       "1"
      ],
      "text/plain": [
       "[1] 1"
      ]
     },
     "metadata": {},
     "output_type": "display_data"
    }
   ],
   "source": [
    "B<-10000\n",
    "minpval <- replicate(B, min(runif(10000,0,1))<0.01)\n",
    "mean(minpval>=1)"
   ]
  },
  {
   "cell_type": "code",
   "execution_count": 39,
   "id": "08f5005a",
   "metadata": {},
   "outputs": [],
   "source": [
    "set.seed(1)\n",
    "pvals <- sapply(1:m, function(i){\n",
    "control <- sample(population,N)\n",
    "treatment <- sample(population,N)\n",
    "if(!nullHypothesis[i]) treatment <- treatment + delta\n",
    "t.test(treatment,control)$p.value\n",
    "})"
   ]
  },
  {
   "cell_type": "code",
   "execution_count": 40,
   "id": "0d64ed32",
   "metadata": {},
   "outputs": [
    {
     "data": {
      "text/html": [
       "0"
      ],
      "text/latex": [
       "0"
      ],
      "text/markdown": [
       "0"
      ],
      "text/plain": [
       "[1] 0"
      ]
     },
     "metadata": {},
     "output_type": "display_data"
    }
   ],
   "source": [
    "sum(pvals < 0.05/10000)"
   ]
  },
  {
   "cell_type": "markdown",
   "id": "ea1aad6d",
   "metadata": {},
   "source": [
    "## False Discovery Rate"
   ]
  },
  {
   "cell_type": "code",
   "execution_count": 41,
   "id": "fcfcf895",
   "metadata": {},
   "outputs": [
    {
     "data": {
      "text/html": [
       "0"
      ],
      "text/latex": [
       "0"
      ],
      "text/markdown": [
       "0"
      ],
      "text/plain": [
       "[1] 0"
      ]
     },
     "metadata": {},
     "output_type": "display_data"
    }
   ],
   "source": [
    "set.seed(1)\n",
    "pvals <- sapply(1:m, function(i){\n",
    "control <- sample(population,6)\n",
    "treatment <- sample(population,6)\n",
    "if(!nullHypothesis[i]) treatment <- treatment + delta\n",
    "t.test(treatment,control)$p.value\n",
    "})\n",
    "sum(pvals < 0.05/10000)"
   ]
  },
  {
   "cell_type": "markdown",
   "id": "93609df5",
   "metadata": {},
   "source": [
    "### Vectorizing code"
   ]
  },
  {
   "cell_type": "code",
   "execution_count": 42,
   "id": "15f9c1d9",
   "metadata": {},
   "outputs": [],
   "source": [
    "library(genefilter) ##rowttests is here\n",
    "set.seed(1)\n",
    "##Define groups to be used with rowttests\n",
    "g <- factor( c(rep(0,N),rep(1,N)) )\n",
    "B <- 1000 ##number of simulations\n",
    "Qs <- replicate(B,{\n",
    "##matrix with control data (rows are tests, columns are mice)\n",
    "controls <- matrix(sample(population, N*m, replace=TRUE),nrow=m)\n",
    "##matrix with control data (rows are tests, columns are mice)\n",
    "treatments <- matrix(sample(population, N*m, replace=TRUE),nrow=m)\n",
    "##add effect to 10% of them\n",
    "treatments[which(!nullHypothesis),]<-treatments[which(!nullHypothesis),]+delta\n",
    "##combine to form one matrix\n",
    "dat <- cbind(controls,treatments)\n",
    "calls <- rowttests(dat,g)$p.value < alpha\n",
    "R=sum(calls)\n",
    "Q=ifelse(R>0,sum(nullHypothesis & calls)/R,0)\n",
    "return(Q)\n",
    "})"
   ]
  },
  {
   "cell_type": "markdown",
   "id": "e3e93252",
   "metadata": {},
   "source": [
    "### Controlling FDR"
   ]
  },
  {
   "cell_type": "code",
   "execution_count": 43,
   "id": "4eb92786",
   "metadata": {},
   "outputs": [
    {
     "data": {
      "image/png": "[encoded data removed]",
      "text/plain": [
       "Plot with title \"Histogram of Qs\""
      ]
     },
     "metadata": {
      "image/png": {
       "height": 420,
       "width": 420
      }
     },
     "output_type": "display_data"
    }
   ],
   "source": [
    "library(rafalib)\n",
    "mypar(1,1)\n",
    "hist(Qs)"
   ]
  },
  {
   "cell_type": "code",
   "execution_count": 44,
   "id": "e5f2bbbc",
   "metadata": {},
   "outputs": [
    {
     "name": "stdout",
     "output_type": "stream",
     "text": [
      "[1] 0.4465395\n"
     ]
    }
   ],
   "source": [
    "FDR=mean(Qs)\n",
    "print(FDR)"
   ]
  },
  {
   "cell_type": "code",
   "execution_count": 45,
   "id": "79c9b0f9",
   "metadata": {},
   "outputs": [
    {
     "data": {
      "image/png": "[encoded data removed]",
      "text/plain": [
       "Plot with title \"Histogram of pvals\""
      ]
     },
     "metadata": {
      "image/png": {
       "height": 420,
       "width": 420
      }
     },
     "output_type": "display_data"
    }
   ],
   "source": [
    "set.seed(1)\n",
    "controls <- matrix(sample(population, N*m, replace=TRUE),nrow=m)\n",
    "treatments <- matrix(sample(population, N*m, replace=TRUE),nrow=m)\n",
    "treatments[which(!nullHypothesis),]<-treatments[which(!nullHypothesis),]+delta\n",
    "dat <- cbind(controls,treatments)\n",
    "pvals <- rowttests(dat,g)$p.value\n",
    "h <- hist(pvals,breaks=seq(0,1,0.05))\n",
    "polygon(c(0,0.05,0.05,0),c(0,0,h$counts[1],h$counts[1]),col=\"grey\")\n",
    "abline(h=m0/20)"
   ]
  },
  {
   "cell_type": "code",
   "execution_count": 46,
   "id": "c2dc865e",
   "metadata": {},
   "outputs": [
    {
     "data": {
      "image/png": "[encoded data removed]",
      "text/plain": [
       "Plot with title \"Histogram of pvals\""
      ]
     },
     "metadata": {
      "image/png": {
       "height": 420,
       "width": 420
      }
     },
     "output_type": "display_data"
    }
   ],
   "source": [
    "h <- hist(pvals,breaks=seq(0,1,0.01))\n",
    "polygon(c(0,0.01,0.01,0),c(0,0,h$counts[1],h$counts[1]),col=\"grey\")\n",
    "abline(h=m0/100)"
   ]
  },
  {
   "cell_type": "markdown",
   "id": "5b7a9f71",
   "metadata": {},
   "source": [
    "### Benjamini-Hochberg (Advanced)"
   ]
  },
  {
   "cell_type": "markdown",
   "id": "bd2ff495",
   "metadata": {},
   "source": [
    "$$p(i) ≤ \\frac{i}{m}\\alpha$$"
   ]
  },
  {
   "cell_type": "code",
   "execution_count": 47,
   "id": "1b20fc90",
   "metadata": {},
   "outputs": [
    {
     "data": {
      "image/png": "[encoded data removed]",
      "text/plain": [
       "Plot with title \"Close-up\""
      ]
     },
     "metadata": {
      "image/png": {
       "height": 420,
       "width": 420
      }
     },
     "output_type": "display_data"
    }
   ],
   "source": [
    "alpha <- 0.05\n",
    "i = seq(along=pvals)\n",
    "mypar(1,2)\n",
    "plot(i,sort(pvals))\n",
    "abline(0,i/m*alpha)\n",
    "##close-up\n",
    "plot(i[1:15],sort(pvals)[1:15],main=\"Close-up\")\n",
    "abline(0,i/m*alpha)"
   ]
  },
  {
   "cell_type": "code",
   "execution_count": 48,
   "id": "78fc9994",
   "metadata": {},
   "outputs": [
    {
     "name": "stdout",
     "output_type": "stream",
     "text": [
      "k = 24 p-value cutoff= 0.0001197627"
     ]
    }
   ],
   "source": [
    "k <- max( which( sort(pvals) < i/m*alpha) )\n",
    "cutoff <- sort(pvals)[k]\n",
    "cat(\"k =\",k,\"p-value cutoff=\",cutoff)"
   ]
  },
  {
   "cell_type": "code",
   "execution_count": 49,
   "id": "f6abb9f0",
   "metadata": {},
   "outputs": [
    {
     "data": {
      "image/png": "[encoded data removed]",
      "text/plain": [
       "plot without title"
      ]
     },
     "metadata": {
      "image/png": {
       "height": 420,
       "width": 420
      }
     },
     "output_type": "display_data"
    }
   ],
   "source": [
    "fdr <- p.adjust(pvals, method=\"fdr\")\n",
    "mypar(1,1)\n",
    "plot(pvals,fdr,log=\"xy\")\n",
    "abline(h=alpha,v=cutoff) ##cutoff was computed above"
   ]
  },
  {
   "cell_type": "code",
   "execution_count": 50,
   "id": "4cd8ad39",
   "metadata": {},
   "outputs": [
    {
     "data": {
      "image/png": "[encoded data removed]",
      "text/plain": [
       "Plot with title \"Histogram of Qs\""
      ]
     },
     "metadata": {
      "image/png": {
       "height": 420,
       "width": 420
      }
     },
     "output_type": "display_data"
    }
   ],
   "source": [
    "alpha <- 0.05\n",
    "B <- 1000 ##number of simulations. We should increase for more precision\n",
    "res <- replicate(B,{\n",
    "controls <- matrix(sample(population, N*m, replace=TRUE),nrow=m)\n",
    "treatments <- matrix(sample(population, N*m, replace=TRUE),nrow=m)\n",
    "treatments[which(!nullHypothesis),]<-treatments[which(!nullHypothesis),]+delta\n",
    "dat <- cbind(controls,treatments)\n",
    "pvals <- rowttests(dat,g)$p.value\n",
    "##then the FDR\n",
    "calls <- p.adjust(pvals,method=\"fdr\") < alpha\n",
    "R=sum(calls)\n",
    "Q=ifelse(R>0,sum(nullHypothesis & calls)/R,0)\n",
    "return(c(R,Q))\n",
    "})\n",
    "Qs <- res[2,]\n",
    "mypar(1,1)\n",
    "hist(Qs) ##Q is a random variable, this is its distribution"
   ]
  },
  {
   "cell_type": "code",
   "execution_count": 51,
   "id": "d40e7f2f",
   "metadata": {},
   "outputs": [
    {
     "name": "stdout",
     "output_type": "stream",
     "text": [
      "[1] 0.03641142\n"
     ]
    }
   ],
   "source": [
    "FDR=mean(Qs)\n",
    "print(FDR)"
   ]
  },
  {
   "cell_type": "code",
   "execution_count": 52,
   "id": "58c57222",
   "metadata": {},
   "outputs": [
    {
     "data": {
      "text/html": [
       "1.3"
      ],
      "text/latex": [
       "1.3"
      ],
      "text/markdown": [
       "1.3"
      ],
      "text/plain": [
       "[1] 1.3"
      ]
     },
     "metadata": {},
     "output_type": "display_data"
    }
   ],
   "source": [
    "Rs <- res[1,]\n",
    "mean(Rs==0)*100"
   ]
  },
  {
   "cell_type": "code",
   "execution_count": 53,
   "id": "4b4f7c39",
   "metadata": {},
   "outputs": [
    {
     "data": {
      "text/html": [
       "<style>\n",
       ".list-inline {list-style: none; margin:0; padding: 0}\n",
       ".list-inline>li {display: inline-block}\n",
       ".list-inline>li:not(:last-child)::after {content: \"\\00b7\"; padding: 0 .5ex}\n",
       "</style>\n",
       "<ol class=list-inline><li>'holm'</li><li>'hochberg'</li><li>'hommel'</li><li>'bonferroni'</li><li>'BH'</li><li>'BY'</li><li>'fdr'</li><li>'none'</li></ol>\n"
      ],
      "text/latex": [
       "\\begin{enumerate*}\n",
       "\\item 'holm'\n",
       "\\item 'hochberg'\n",
       "\\item 'hommel'\n",
       "\\item 'bonferroni'\n",
       "\\item 'BH'\n",
       "\\item 'BY'\n",
       "\\item 'fdr'\n",
       "\\item 'none'\n",
       "\\end{enumerate*}\n"
      ],
      "text/markdown": [
       "1. 'holm'\n",
       "2. 'hochberg'\n",
       "3. 'hommel'\n",
       "4. 'bonferroni'\n",
       "5. 'BH'\n",
       "6. 'BY'\n",
       "7. 'fdr'\n",
       "8. 'none'\n",
       "\n",
       "\n"
      ],
      "text/plain": [
       "[1] \"holm\"       \"hochberg\"   \"hommel\"     \"bonferroni\" \"BH\"        \n",
       "[6] \"BY\"         \"fdr\"        \"none\"      "
      ]
     },
     "metadata": {},
     "output_type": "display_data"
    }
   ],
   "source": [
    "p.adjust.methods"
   ]
  },
  {
   "cell_type": "markdown",
   "id": "40113a1b",
   "metadata": {},
   "source": [
    "## Direct Approach to FDR and q-values (Advanced)"
   ]
  },
  {
   "cell_type": "code",
   "execution_count": 54,
   "id": "25b37311",
   "metadata": {},
   "outputs": [
    {
     "data": {
      "image/png": "[encoded data removed]",
      "text/plain": [
       "Plot with title \"Histogram of pvals\""
      ]
     },
     "metadata": {
      "image/png": {
       "height": 420,
       "width": 420
      }
     },
     "output_type": "display_data"
    }
   ],
   "source": [
    "hist(pvals,breaks=seq(0,1,0.05),freq=FALSE)\n",
    "lambda = 0.1\n",
    "pi0=sum(pvals> lambda) /((1-lambda)*m)\n",
    "abline(h= pi0)"
   ]
  },
  {
   "cell_type": "code",
   "execution_count": 55,
   "id": "24692601",
   "metadata": {},
   "outputs": [
    {
     "name": "stdout",
     "output_type": "stream",
     "text": [
      "[1] 0.9326667\n"
     ]
    }
   ],
   "source": [
    "print(pi0)"
   ]
  },
  {
   "cell_type": "code",
   "execution_count": 56,
   "id": "9d876a09",
   "metadata": {},
   "outputs": [
    {
     "data": {
      "image/png": "[encoded data removed]",
      "text/plain": [
       "plot without title"
      ]
     },
     "metadata": {
      "image/png": {
       "height": 420,
       "width": 420
      }
     },
     "output_type": "display_data"
    }
   ],
   "source": [
    "library(qvalue)\n",
    "res <- qvalue(pvals)\n",
    "qvals <- res$qvalues\n",
    "plot(pvals,qvals)"
   ]
  },
  {
   "cell_type": "code",
   "execution_count": 57,
   "id": "23ed25d0",
   "metadata": {},
   "outputs": [
    {
     "data": {
      "text/html": [
       "0.911725065362704"
      ],
      "text/latex": [
       "0.911725065362704"
      ],
      "text/markdown": [
       "0.911725065362704"
      ],
      "text/plain": [
       "[1] 0.9117251"
      ]
     },
     "metadata": {},
     "output_type": "display_data"
    }
   ],
   "source": [
    "res$pi0"
   ]
  },
  {
   "cell_type": "markdown",
   "id": "fcc2d99e",
   "metadata": {},
   "source": [
    "### Exercises P288"
   ]
  },
  {
   "cell_type": "markdown",
   "id": "c038fa84",
   "metadata": {},
   "source": [
    "With these exercises we hope to help you further grasp the concept that p-values are random\n",
    "variables and start laying the ground work for the development of procedures that control error\n",
    "rates. The calculations to compute error rates require us to understand the random behavior of p\u0002values.\n",
    "We are going to ask you to perform some calculations related to introductory probability theory.\n",
    "One particular concept you need to understand is statistical independence. You also will need\n",
    "to know that the probability of two random events that are statistically independent occurring\n",
    "is P(A and B) = P(A)P(B). This is a consequence of the more general formula P(A and B) =\n",
    "P(A)P(B|A)."
   ]
  },
  {
   "cell_type": "markdown",
   "id": "9f1c149c",
   "metadata": {},
   "source": [
    "Q1: Assume the null is true and denote the p-value you would get if you ran a test as P. Define\n",
    "the function f(x) = Pr(P > x) . What does f(x) look like?\n",
    "\n",
    "• A) A uniform distribution.\n",
    "\n",
    "• B) The identity line.\n",
    "\n",
    "• C) A constant at 0.05.\n",
    "\n",
    "• D) P is not a random value."
   ]
  },
  {
   "cell_type": "markdown",
   "id": "1b87f9e3",
   "metadata": {},
   "source": [
    "B"
   ]
  },
  {
   "cell_type": "markdown",
   "id": "8ff162b2",
   "metadata": {},
   "source": [
    "Q2: In the previous exercises, we saw how the probability of incorrectly rejecting the null for at\n",
    "least one of 20 experiments for which the null is true, is well over 5%. Now let’s consider a\n",
    "case in which we run thousands of tests, as we would do in a high throughput experiment.\n",
    "We previously learned that under the null, the probability of a p-value < p is p. If we run\n",
    "8,793 independent tests, what it the probability of incorrectly rejecting at least one of the null\n",
    "hypothesis?"
   ]
  },
  {
   "cell_type": "code",
   "execution_count": 58,
   "id": "e22b5244",
   "metadata": {},
   "outputs": [
    {
     "data": {
      "text/html": [
       "1"
      ],
      "text/latex": [
       "1"
      ],
      "text/markdown": [
       "1"
      ],
      "text/plain": [
       "[1] 1"
      ]
     },
     "metadata": {},
     "output_type": "display_data"
    }
   ],
   "source": [
    "1 - 0.95**8793"
   ]
  },
  {
   "cell_type": "markdown",
   "id": "99e661e6",
   "metadata": {},
   "source": [
    "Q3: Suppose we need to run 8,793 statistical tests and we want to make the probability of a mistake\n",
    "very small, say 5%. Use the answer to Exercise 2 to determine how small we have to change\n",
    "the cutoff, previously 0.05, to lower our probability of at least one mistake to be 5%.\n",
    "The following exercises should help you understand the concept of an error controlling\n",
    "procedure. You can think of it as defining a set of instructions, such as “reject all the null\n",
    "hypothesis for which p-values < 0.0001” or “reject the null hypothesis for the 10 features with\n",
    "smallest p-values”. Then, knowing the p-values are random variables, we use statistical theory\n",
    "to compute how many mistakes, on average, we will make if we follow this procedure. More\n",
    "precisely, we commonly find bounds on these rates, meaning that we show that they are\n",
    "smaller than some predetermined value.\n",
    "As described in the text, we can compute different error rates. The FWER tells us the probability\n",
    "of having at least one false positive. The FDR is the expected rate of rejected null hypothesis.\n",
    "Note 1: the FWER and FDR are not procedures, but error rates. We will review procedures\n",
    "here and use Monte Carlo simulations to estimate their error rates.\n",
    "Note 2: We sometimes use the colloquial term “pick genes that” meaning “reject the null\n",
    "hypothesis for genes that”."
   ]
  },
  {
   "cell_type": "code",
   "execution_count": 59,
   "id": "75fdc2f2",
   "metadata": {},
   "outputs": [
    {
     "data": {
      "text/html": [
       "5.83340666215904e-06"
      ],
      "text/latex": [
       "5.83340666215904e-06"
      ],
      "text/markdown": [
       "5.83340666215904e-06"
      ],
      "text/plain": [
       "[1] 5.833407e-06"
      ]
     },
     "metadata": {},
     "output_type": "display_data"
    }
   ],
   "source": [
    "1 - 0.95**(1/8793)"
   ]
  },
  {
   "cell_type": "markdown",
   "id": "2cf099b6",
   "metadata": {},
   "source": [
    "Q4"
   ]
  },
  {
   "cell_type": "code",
   "execution_count": 60,
   "id": "c26227c7",
   "metadata": {},
   "outputs": [],
   "source": [
    "alphas <- seq(0,0.25,0.01)"
   ]
  },
  {
   "cell_type": "markdown",
   "id": "42880ae2",
   "metadata": {},
   "source": [
    "Which procedure is more conservative Bonferroni’s or Sidek’s?\n",
    "\n",
    "• A) They are the same.\n",
    "\n",
    "• B) Bonferroniâ€™s.\n",
    "\n",
    "• C) Depends on m.\n",
    "\n",
    "• D) Sidek’s."
   ]
  },
  {
   "cell_type": "code",
   "execution_count": 63,
   "id": "6fba1e4b",
   "metadata": {},
   "outputs": [
    {
     "data": {
      "image/png": "[encoded data removed]",
      "text/plain": [
       "plot without title"
      ]
     },
     "metadata": {
      "image/png": {
       "height": 420,
       "width": 420
      }
     },
     "output_type": "display_data"
    }
   ],
   "source": [
    "plot(alphas/m, (1-(1-alphas)^(1/m)))\n",
    "abline(0,1)"
   ]
  },
  {
   "cell_type": "markdown",
   "id": "2a6b1370",
   "metadata": {},
   "source": [
    "B"
   ]
  },
  {
   "cell_type": "markdown",
   "id": "93f50315",
   "metadata": {},
   "source": [
    "Q5:To simulate the p-value results of, say 8,792 t-tests for which the null is true, we don’t actually\n",
    "have to generate the original data. We can generate p-values for a uniform distribution like\n",
    "this: ‘pvals <- runif(8793,0,1)‘. Using what we have learned, set the cutoff using the Bonferroni\n",
    "correction and report back the FWER. Set the seed at 1 and run 10,000 simulation."
   ]
  },
  {
   "cell_type": "code",
   "execution_count": 64,
   "id": "280e595c",
   "metadata": {},
   "outputs": [
    {
     "data": {
      "text/html": [
       "0.0403"
      ],
      "text/latex": [
       "0.0403"
      ],
      "text/markdown": [
       "0.0403"
      ],
      "text/plain": [
       "[1] 0.0403"
      ]
     },
     "metadata": {},
     "output_type": "display_data"
    }
   ],
   "source": [
    "set.seed(1)\n",
    "result=replicate(10000, {\n",
    "  a1=runif(8793,0,1)\n",
    "  a2=sum((a1 * m) < 0.05)\n",
    "  return(a2)\n",
    "})\n",
    "sum(result>0)/length(result)"
   ]
  },
  {
   "cell_type": "markdown",
   "id": "c33b01b2",
   "metadata": {},
   "source": [
    "Q6: Using the same seed, repeat exercise 5, but for Sidek’s cutoff."
   ]
  },
  {
   "cell_type": "code",
   "execution_count": 66,
   "id": "c776604b",
   "metadata": {},
   "outputs": [
    {
     "data": {
      "text/html": [
       "0.0473"
      ],
      "text/latex": [
       "0.0473"
      ],
      "text/markdown": [
       "0.0473"
      ],
      "text/plain": [
       "[1] 0.0473"
      ]
     },
     "metadata": {},
     "output_type": "display_data"
    }
   ],
   "source": [
    "m=8793\n",
    "set.seed(1)\n",
    "result1=replicate(10000, {\n",
    "  a11=runif(8793,0,1)\n",
    "  a21=sum((1-(1-a11)^m) < 0.05)\n",
    "  return(a21)\n",
    "})\n",
    "\n",
    "sum(result1>0)/length(result1)"
   ]
  },
  {
   "cell_type": "markdown",
   "id": "8df5eec3",
   "metadata": {},
   "source": [
    "Q7: In the following exercises, we will define error controlling procedures for experimental data.\n",
    "We will make a list of genes based on q-values. We will also assess your understanding of false\n",
    "positives rates and false negative rates by asking you to create a Monte Carlo simulation.\n",
    "Load the gene expression data:"
   ]
  },
  {
   "cell_type": "code",
   "execution_count": 67,
   "id": "e278c42c",
   "metadata": {},
   "outputs": [],
   "source": [
    "library(GSE5859Subset)\n",
    "data(GSE5859Subset)\n",
    "library(genefilter)\n",
    "?rowttests"
   ]
  },
  {
   "cell_type": "markdown",
   "id": "023e1414",
   "metadata": {},
   "source": [
    "How many genes have p-values smaller than 0.05?"
   ]
  },
  {
   "cell_type": "code",
   "execution_count": 68,
   "id": "26c4c424",
   "metadata": {},
   "outputs": [
    {
     "data": {
      "text/html": [
       "1383"
      ],
      "text/latex": [
       "1383"
      ],
      "text/markdown": [
       "1383"
      ],
      "text/plain": [
       "[1] 1383"
      ]
     },
     "metadata": {},
     "output_type": "display_data"
    }
   ],
   "source": [
    "data=sampleInfo$group\n",
    "p=rowttests(geneExpression, factor(data))$p.value\n",
    "sum(p < 0.05)"
   ]
  },
  {
   "cell_type": "markdown",
   "id": "a0a7f147",
   "metadata": {},
   "source": [
    "Q8: Apply the Bonferroni correction to achieve a FWER of 0.05. How many genes are called\n",
    "significant under this procedure?"
   ]
  },
  {
   "cell_type": "code",
   "execution_count": 70,
   "id": "d78959e4",
   "metadata": {},
   "outputs": [
    {
     "data": {
      "text/html": [
       "10"
      ],
      "text/latex": [
       "10"
      ],
      "text/markdown": [
       "10"
      ],
      "text/plain": [
       "[1] 10"
      ]
     },
     "metadata": {},
     "output_type": "display_data"
    }
   ],
   "source": [
    "sum(p < (0.05/m))"
   ]
  },
  {
   "cell_type": "markdown",
   "id": "4b339739",
   "metadata": {},
   "source": [
    "Q9: The FDR is a property of a list of features, not each specific feature. The q-value relates FDR\n",
    "to individual features. To define the q-value, we order features we tested by p-value, then\n",
    "compute the FDRs for a list with the most significant, the two most significant, the three most\n",
    "significant, etc. . The FDR of the list with the, say, m most significant tests is defined as the\n",
    "q-value of the m-th most significant feature. In other words, the q-value of a feature, is the\n",
    "FDR of the biggest list that includes that gene.\n",
    "In R, we can compute q-values using the p.adjust function with the FDR option. Read the\n",
    "help file for p.adjust and compute how many genes achieve a q-value < 0.05 for our gene\n",
    "expression dataset."
   ]
  },
  {
   "cell_type": "code",
   "execution_count": 71,
   "id": "4d7755a2",
   "metadata": {},
   "outputs": [
    {
     "data": {
      "text/html": [
       "13"
      ],
      "text/latex": [
       "13"
      ],
      "text/markdown": [
       "13"
      ],
      "text/plain": [
       "[1] 13"
      ]
     },
     "metadata": {},
     "output_type": "display_data"
    }
   ],
   "source": [
    "a3=p.adjust(p, method = 'fdr')\n",
    "sum(a3 < 0.05)"
   ]
  },
  {
   "cell_type": "markdown",
   "id": "e4720b00",
   "metadata": {},
   "source": [
    "Q10: Now use the qvalue function, in the Bioconductor qvalue package, to estimate q-values using\n",
    "the procedure described by Storey. How many genes have q-values below 0.05?"
   ]
  },
  {
   "cell_type": "code",
   "execution_count": 73,
   "id": "22bed6e9",
   "metadata": {},
   "outputs": [
    {
     "data": {
      "text/html": [
       "22"
      ],
      "text/latex": [
       "22"
      ],
      "text/markdown": [
       "22"
      ],
      "text/plain": [
       "[1] 22"
      ]
     },
     "metadata": {},
     "output_type": "display_data"
    }
   ],
   "source": [
    "a4=qvalue(p)\n",
    "sum(a4$qvalue < 0.05)"
   ]
  },
  {
   "cell_type": "markdown",
   "id": "c0b05fef",
   "metadata": {},
   "source": [
    "Q11: Read the help file for qvalue and report the estimated proportion of genes for which the null\n",
    "hypothesis is true π0 = m0/m"
   ]
  },
  {
   "cell_type": "code",
   "execution_count": 74,
   "id": "67ba08e2",
   "metadata": {},
   "outputs": [
    {
     "data": {
      "text/html": [
       "0.669573937535607"
      ],
      "text/latex": [
       "0.669573937535607"
      ],
      "text/markdown": [
       "0.669573937535607"
      ],
      "text/plain": [
       "[1] 0.6695739"
      ]
     },
     "metadata": {},
     "output_type": "display_data"
    }
   ],
   "source": [
    "a4$pi0"
   ]
  },
  {
   "cell_type": "markdown",
   "id": "39ae2f5b",
   "metadata": {},
   "source": [
    "Q12: The number of genes passing the q-value <0.05 threshold is larger with the q-value function\n",
    "than the p.adjust difference. Why is this the case? Make a plot of the ratio of these two estimates\n",
    "to help answer the question.\n",
    "\n",
    "• A) One of the two procedures is flawed.\n",
    "\n",
    "• B) The two functions are estimating different things.\n",
    "\n",
    "• C) The qvalue function estimates the proportion of genes for which the null hypothesis\n",
    "is true and provides a less conservative estimate.\n",
    "\n",
    "• D) The qvalue function estimates the proportion of genes for which the null hypothesis\n",
    "is true and provides a more conservative estimate."
   ]
  },
  {
   "cell_type": "code",
   "execution_count": 75,
   "id": "9cfccdbf",
   "metadata": {},
   "outputs": [
    {
     "data": {
      "image/png": "[encoded data removed]",
      "text/plain": [
       "plot without title"
      ]
     },
     "metadata": {
      "image/png": {
       "height": 420,
       "width": 420
      }
     },
     "output_type": "display_data"
    }
   ],
   "source": [
    "plot(a3, a4$qvalues, xlab = 'fdr', ylab = 'qval')\n",
    "abline(0,1)"
   ]
  },
  {
   "cell_type": "markdown",
   "id": "0127a6db",
   "metadata": {},
   "source": [
    "C"
   ]
  },
  {
   "cell_type": "markdown",
   "id": "e298021c",
   "metadata": {},
   "source": [
    "Q13:This exercise and the remaining one are more advanced. Create a Monte Carlo Simulation in\n",
    "which you simulate measurements from 8,793 genes for 24 samples, 12 cases and 12 controls.\n",
    "The for 100 genes create a difference of 1 between cases and controls. You can use the code\n",
    "provided below. Run this experiment 1,000 times with a Monte Carlo simulation. For each\n",
    "instance, compute p-values using a t-test and keep track of the number of false positives and\n",
    "false negatives. Compute the false positive rate and false negative rates if we use Bonferroni,\n",
    "q-values from p.adjust, and q-values from qvalue function. Set the seed to 1 for all three\n",
    "simulations. What is the false positive rate for Bonferroni?"
   ]
  },
  {
   "cell_type": "code",
   "execution_count": 76,
   "id": "156503e9",
   "metadata": {},
   "outputs": [],
   "source": [
    "n <- 24\n",
    "m <- 8793\n",
    "mat <- matrix(rnorm(n*m),m,n)\n",
    "delta <- 1\n",
    "positives <- 500\n",
    "mat[1:positives,1:(n/2)] <- mat[1:positives,1:(n/2)]+delta"
   ]
  },
  {
   "cell_type": "code",
   "execution_count": 80,
   "id": "d44a7043",
   "metadata": {},
   "outputs": [
    {
     "data": {
      "text/html": [
       "<table class=\"dataframe\">\n",
       "<caption>A matrix: 6 × 2 of type dbl</caption>\n",
       "<tbody>\n",
       "\t<tr><td>0</td><td>0.996</td></tr>\n",
       "\t<tr><td>0</td><td>0.996</td></tr>\n",
       "\t<tr><td>0</td><td>0.996</td></tr>\n",
       "\t<tr><td>0</td><td>0.996</td></tr>\n",
       "\t<tr><td>0</td><td>1.000</td></tr>\n",
       "\t<tr><td>0</td><td>1.000</td></tr>\n",
       "</tbody>\n",
       "</table>\n"
      ],
      "text/latex": [
       "A matrix: 6 × 2 of type dbl\n",
       "\\begin{tabular}{ll}\n",
       "\t 0 & 0.996\\\\\n",
       "\t 0 & 0.996\\\\\n",
       "\t 0 & 0.996\\\\\n",
       "\t 0 & 0.996\\\\\n",
       "\t 0 & 1.000\\\\\n",
       "\t 0 & 1.000\\\\\n",
       "\\end{tabular}\n"
      ],
      "text/markdown": [
       "\n",
       "A matrix: 6 × 2 of type dbl\n",
       "\n",
       "| 0 | 0.996 |\n",
       "| 0 | 0.996 |\n",
       "| 0 | 0.996 |\n",
       "| 0 | 0.996 |\n",
       "| 0 | 1.000 |\n",
       "| 0 | 1.000 |\n",
       "\n"
      ],
      "text/plain": [
       "     [,1] [,2] \n",
       "[1,] 0    0.996\n",
       "[2,] 0    0.996\n",
       "[3,] 0    0.996\n",
       "[4,] 0    0.996\n",
       "[5,] 0    1.000\n",
       "[6,] 0    1.000"
      ]
     },
     "metadata": {},
     "output_type": "display_data"
    }
   ],
   "source": [
    "g=c(rep(0,12),rep(1,12))\n",
    "m=8793\n",
    "m1=500\n",
    "N=12\n",
    "m0=m-m1\n",
    "nullHypothesis=c(rep(TRUE,m0),rep(FALSE,m1))\n",
    "delta=1\n",
    "\n",
    "result=replicate(1000, {\n",
    "  controls=matrix(rnorm(N*m),nrow = m, ncol = N)\n",
    "  treatment=matrix(rnorm(N*m),nrow = m, ncol = N)\n",
    "  treatment[!nullHypothesis,] <- \n",
    "    treatment[!nullHypothesis,] + delta\n",
    "  dat=cbind(controls, treatment)\n",
    "  pvals=rowttests(dat, factor(g))$p.value\n",
    "  calls=pvals < (0.05/m)\n",
    "  R=sum(calls)\n",
    "  V=sum(nullHypothesis & calls)\n",
    "  fp=sum(nullHypothesis & calls)/m0 # false positive\n",
    "  fn=sum(!nullHypothesis & !calls)/m1 # false negative\n",
    "  return(c(fp,fn))\n",
    "})\n",
    "result=t(result)\n",
    "head(result)"
   ]
  },
  {
   "cell_type": "code",
   "execution_count": 81,
   "id": "11d23acd",
   "metadata": {},
   "outputs": [
    {
     "data": {
      "text/html": [
       "4.34101049077535e-06"
      ],
      "text/latex": [
       "4.34101049077535e-06"
      ],
      "text/markdown": [
       "4.34101049077535e-06"
      ],
      "text/plain": [
       "[1] 4.34101e-06"
      ]
     },
     "metadata": {},
     "output_type": "display_data"
    }
   ],
   "source": [
    "mean(result[,1])"
   ]
  },
  {
   "cell_type": "markdown",
   "id": "0f0ad044",
   "metadata": {},
   "source": [
    "Q14: What are the false negative rates for Bonferroni?"
   ]
  },
  {
   "cell_type": "code",
   "execution_count": 82,
   "id": "70c16735",
   "metadata": {},
   "outputs": [
    {
     "data": {
      "text/html": [
       "0.995304"
      ],
      "text/latex": [
       "0.995304"
      ],
      "text/markdown": [
       "0.995304"
      ],
      "text/plain": [
       "[1] 0.995304"
      ]
     },
     "metadata": {},
     "output_type": "display_data"
    }
   ],
   "source": [
    "mean(result[,2])"
   ]
  },
  {
   "cell_type": "markdown",
   "id": "7d0ea7fb",
   "metadata": {},
   "source": [
    "Q15:What are the false negative rates for p.adjust?"
   ]
  },
  {
   "cell_type": "code",
   "execution_count": 83,
   "id": "3825ff63",
   "metadata": {},
   "outputs": [
    {
     "data": {
      "text/html": [
       "<table class=\"dataframe\">\n",
       "<caption>A matrix: 6 × 2 of type dbl</caption>\n",
       "<tbody>\n",
       "\t<tr><td>0.0001205836</td><td>0.944</td></tr>\n",
       "\t<tr><td>0.0000000000</td><td>0.998</td></tr>\n",
       "\t<tr><td>0.0002411672</td><td>0.958</td></tr>\n",
       "\t<tr><td>0.0004823345</td><td>0.964</td></tr>\n",
       "\t<tr><td>0.0000000000</td><td>0.990</td></tr>\n",
       "\t<tr><td>0.0001205836</td><td>0.958</td></tr>\n",
       "</tbody>\n",
       "</table>\n"
      ],
      "text/latex": [
       "A matrix: 6 × 2 of type dbl\n",
       "\\begin{tabular}{ll}\n",
       "\t 0.0001205836 & 0.944\\\\\n",
       "\t 0.0000000000 & 0.998\\\\\n",
       "\t 0.0002411672 & 0.958\\\\\n",
       "\t 0.0004823345 & 0.964\\\\\n",
       "\t 0.0000000000 & 0.990\\\\\n",
       "\t 0.0001205836 & 0.958\\\\\n",
       "\\end{tabular}\n"
      ],
      "text/markdown": [
       "\n",
       "A matrix: 6 × 2 of type dbl\n",
       "\n",
       "| 0.0001205836 | 0.944 |\n",
       "| 0.0000000000 | 0.998 |\n",
       "| 0.0002411672 | 0.958 |\n",
       "| 0.0004823345 | 0.964 |\n",
       "| 0.0000000000 | 0.990 |\n",
       "| 0.0001205836 | 0.958 |\n",
       "\n"
      ],
      "text/plain": [
       "     [,1]         [,2] \n",
       "[1,] 0.0001205836 0.944\n",
       "[2,] 0.0000000000 0.998\n",
       "[3,] 0.0002411672 0.958\n",
       "[4,] 0.0004823345 0.964\n",
       "[5,] 0.0000000000 0.990\n",
       "[6,] 0.0001205836 0.958"
      ]
     },
     "metadata": {},
     "output_type": "display_data"
    }
   ],
   "source": [
    "result=replicate(B, {\n",
    "  controls=matrix(rnorm(N*m),nrow = m, ncol = N)\n",
    "  treatment=matrix(rnorm(N*m),nrow = m, ncol = N)\n",
    "  treatment[!nullHypothesis,] <- \n",
    "    treatment[!nullHypothesis,] + delta\n",
    "  dat=cbind(controls, treatment)\n",
    "  pvals=rowttests(dat, factor(g))$p.value\n",
    "  pvals_adjust=p.adjust(pvals, method = 'fdr')\n",
    "  calls=pvals_adjust < 0.05\n",
    "  R=sum(calls)\n",
    "  V=sum(nullHypothesis & calls)\n",
    "  fp=sum(nullHypothesis & calls)/m0 # false positive\n",
    "  fn=sum(!nullHypothesis & !calls)/m1 # false negative\n",
    "  return(c(fp,fn))\n",
    "})\n",
    "result=t(result)\n",
    "head(result)"
   ]
  },
  {
   "cell_type": "code",
   "execution_count": 84,
   "id": "f33d9970",
   "metadata": {},
   "outputs": [
    {
     "data": {
      "text/html": [
       "0.000125889304232485"
      ],
      "text/latex": [
       "0.000125889304232485"
      ],
      "text/markdown": [
       "0.000125889304232485"
      ],
      "text/plain": [
       "[1] 0.0001258893"
      ]
     },
     "metadata": {},
     "output_type": "display_data"
    }
   ],
   "source": [
    "mean(result[,1])"
   ]
  },
  {
   "cell_type": "code",
   "execution_count": 86,
   "id": "0f8d9cd3",
   "metadata": {},
   "outputs": [
    {
     "data": {
      "text/html": [
       "0.963348"
      ],
      "text/latex": [
       "0.963348"
      ],
      "text/markdown": [
       "0.963348"
      ],
      "text/plain": [
       "[1] 0.963348"
      ]
     },
     "metadata": {},
     "output_type": "display_data"
    }
   ],
   "source": [
    "mean(result[,2])"
   ]
  },
  {
   "cell_type": "markdown",
   "id": "385e8c6e",
   "metadata": {},
   "source": [
    "Q17:What are the false negative rates for qvalues?"
   ]
  },
  {
   "cell_type": "code",
   "execution_count": 87,
   "id": "6d93aab5",
   "metadata": {},
   "outputs": [
    {
     "data": {
      "text/html": [
       "<table class=\"dataframe\">\n",
       "<caption>A matrix: 6 × 2 of type dbl</caption>\n",
       "<tbody>\n",
       "\t<tr><td>0.0006029181</td><td>0.950</td></tr>\n",
       "\t<tr><td>0.0001205836</td><td>0.954</td></tr>\n",
       "\t<tr><td>0.0001205836</td><td>0.970</td></tr>\n",
       "\t<tr><td>0.0000000000</td><td>0.948</td></tr>\n",
       "\t<tr><td>0.0000000000</td><td>0.978</td></tr>\n",
       "\t<tr><td>0.0000000000</td><td>0.986</td></tr>\n",
       "</tbody>\n",
       "</table>\n"
      ],
      "text/latex": [
       "A matrix: 6 × 2 of type dbl\n",
       "\\begin{tabular}{ll}\n",
       "\t 0.0006029181 & 0.950\\\\\n",
       "\t 0.0001205836 & 0.954\\\\\n",
       "\t 0.0001205836 & 0.970\\\\\n",
       "\t 0.0000000000 & 0.948\\\\\n",
       "\t 0.0000000000 & 0.978\\\\\n",
       "\t 0.0000000000 & 0.986\\\\\n",
       "\\end{tabular}\n"
      ],
      "text/markdown": [
       "\n",
       "A matrix: 6 × 2 of type dbl\n",
       "\n",
       "| 0.0006029181 | 0.950 |\n",
       "| 0.0001205836 | 0.954 |\n",
       "| 0.0001205836 | 0.970 |\n",
       "| 0.0000000000 | 0.948 |\n",
       "| 0.0000000000 | 0.978 |\n",
       "| 0.0000000000 | 0.986 |\n",
       "\n"
      ],
      "text/plain": [
       "     [,1]         [,2] \n",
       "[1,] 0.0006029181 0.950\n",
       "[2,] 0.0001205836 0.954\n",
       "[3,] 0.0001205836 0.970\n",
       "[4,] 0.0000000000 0.948\n",
       "[5,] 0.0000000000 0.978\n",
       "[6,] 0.0000000000 0.986"
      ]
     },
     "metadata": {},
     "output_type": "display_data"
    }
   ],
   "source": [
    "result=replicate(B, {\n",
    "  controls=matrix(rnorm(N*m),nrow = m, ncol = N)\n",
    "  treatment=matrix(rnorm(N*m),nrow = m, ncol = N)\n",
    "  treatment[!nullHypothesis,] <- \n",
    "    treatment[!nullHypothesis,] + delta\n",
    "  dat=cbind(controls, treatment)\n",
    "  pvals=rowttests(dat, factor(g))$p.value\n",
    "  qvals=qvalue(pvals)$qvalue\n",
    "  calls=qvals < 0.05\n",
    "  R=sum(calls)\n",
    "  V=sum(nullHypothesis & calls)\n",
    "  fp=sum(nullHypothesis & calls)/m0 # false positive\n",
    "  fn=sum(!nullHypothesis & !calls)/m1 # false negative\n",
    "  return(c(fp,fn))\n",
    "})\n",
    "result=t(result)\n",
    "head(result)"
   ]
  },
  {
   "cell_type": "code",
   "execution_count": 88,
   "id": "0cd28c0e",
   "metadata": {},
   "outputs": [
    {
     "data": {
      "text/html": [
       "0.000149282527432775"
      ],
      "text/latex": [
       "0.000149282527432775"
      ],
      "text/markdown": [
       "0.000149282527432775"
      ],
      "text/plain": [
       "[1] 0.0001492825"
      ]
     },
     "metadata": {},
     "output_type": "display_data"
    }
   ],
   "source": [
    "mean(result[,1])"
   ]
  },
  {
   "cell_type": "code",
   "execution_count": 89,
   "id": "9af42d1e",
   "metadata": {},
   "outputs": [
    {
     "data": {
      "text/html": [
       "0.958654"
      ],
      "text/latex": [
       "0.958654"
      ],
      "text/markdown": [
       "0.958654"
      ],
      "text/plain": [
       "[1] 0.958654"
      ]
     },
     "metadata": {},
     "output_type": "display_data"
    }
   ],
   "source": [
    "mean(result[,2])"
   ]
  },
  {
   "cell_type": "markdown",
   "id": "3421e584",
   "metadata": {},
   "source": [
    "## Basic Exploratory Data Analysis"
   ]
  },
  {
   "cell_type": "markdown",
   "id": "1b962031",
   "metadata": {},
   "source": [
    "### Volcano plots"
   ]
  },
  {
   "cell_type": "code",
   "execution_count": 90,
   "id": "55c06550",
   "metadata": {},
   "outputs": [],
   "source": [
    "library(genefilter)\n",
    "library(GSE5859Subset)\n",
    "data(GSE5859Subset)\n",
    "g <- factor(sampleInfo$group)\n",
    "results <- rowttests(geneExpression,g)\n",
    "pvals <- results$p.value"
   ]
  },
  {
   "cell_type": "code",
   "execution_count": 91,
   "id": "996fa2de",
   "metadata": {},
   "outputs": [],
   "source": [
    "m <- nrow(geneExpression)\n",
    "n <- ncol(geneExpression)\n",
    "randomData <- matrix(rnorm(n*m),m,n)\n",
    "nullpvals <- rowttests(randomData,g)$p.value"
   ]
  },
  {
   "cell_type": "code",
   "execution_count": 92,
   "id": "279d6194",
   "metadata": {},
   "outputs": [
    {
     "data": {
      "image/png": "[encoded data removed]",
      "text/plain": [
       "plot without title"
      ]
     },
     "metadata": {
      "image/png": {
       "height": 420,
       "width": 420
      }
     },
     "output_type": "display_data"
    }
   ],
   "source": [
    "plot(results$dm,-log10(results$p.value),\n",
    "xlab=\"Effect size\",ylab=\"- log (base 10) p-values\")"
   ]
  },
  {
   "cell_type": "markdown",
   "id": "b960596b",
   "metadata": {},
   "source": [
    "### p-value Histograms"
   ]
  },
  {
   "cell_type": "code",
   "execution_count": 93,
   "id": "ba61788b",
   "metadata": {},
   "outputs": [
    {
     "data": {
      "image/png": "[encoded data removed]",
      "text/plain": [
       "Plot with title \"Histogram of pvals\""
      ]
     },
     "metadata": {
      "image/png": {
       "height": 420,
       "width": 420
      }
     },
     "output_type": "display_data"
    }
   ],
   "source": [
    "library(rafalib)\n",
    "mypar(1,2)\n",
    "hist(nullpvals,ylim=c(0,1400))\n",
    "hist(pvals,ylim=c(0,1400))"
   ]
  },
  {
   "cell_type": "code",
   "execution_count": 94,
   "id": "654306d9",
   "metadata": {},
   "outputs": [
    {
     "data": {
      "image/png": "[encoded data removed]",
      "text/plain": [
       "Plot with title \"Histogram of permresults$p.value\""
      ]
     },
     "metadata": {
      "image/png": {
       "height": 420,
       "width": 420
      }
     },
     "output_type": "display_data"
    }
   ],
   "source": [
    "permg <- sample(g)\n",
    "permresults <- rowttests(geneExpression,permg)\n",
    "hist(permresults$p.value)"
   ]
  },
  {
   "cell_type": "markdown",
   "id": "811da501",
   "metadata": {},
   "source": [
    "### Data boxplots and histograms"
   ]
  },
  {
   "cell_type": "code",
   "execution_count": 98,
   "id": "cc14ed22",
   "metadata": {},
   "outputs": [],
   "source": [
    "data=load(\"D:\\\\desktop\\\\dataR\\\\GSE5859.rda\")"
   ]
  },
  {
   "cell_type": "code",
   "execution_count": 99,
   "id": "2d28f60d",
   "metadata": {},
   "outputs": [],
   "source": [
    "library(Biobase)\n",
    "library(GSE5859Subset)\n",
    "ge <- exprs(e) ##ge for gene expression\n",
    "ge[,49] <- ge[,49]/log2(exp(1)) ##immitate error"
   ]
  },
  {
   "cell_type": "code",
   "execution_count": 100,
   "id": "b0d1c797",
   "metadata": {},
   "outputs": [
    {
     "data": {
      "image/png": "[encoded data removed]",
      "text/plain": [
       "plot without title"
      ]
     },
     "metadata": {
      "image/png": {
       "height": 420,
       "width": 420
      }
     },
     "output_type": "display_data"
    }
   ],
   "source": [
    "mypar(1,1)\n",
    "boxplot(ge,range=0,names=1:ncol(e),col=ifelse(1:ncol(ge)==49,1,2))"
   ]
  },
  {
   "cell_type": "code",
   "execution_count": 101,
   "id": "02ed35e5",
   "metadata": {},
   "outputs": [
    {
     "data": {
      "image/png": "[encoded data removed]",
      "text/plain": [
       "plot without title"
      ]
     },
     "metadata": {
      "image/png": {
       "height": 420,
       "width": 420
      }
     },
     "output_type": "display_data"
    }
   ],
   "source": [
    "qs <- t(apply(ge,2,quantile,prob=c(0.05,0.25,0.5,0.75,0.95)))\n",
    "matplot(qs,type=\"l\",lty=1)"
   ]
  },
  {
   "cell_type": "code",
   "execution_count": 102,
   "id": "79fb82ca",
   "metadata": {},
   "outputs": [
    {
     "data": {
      "image/png": "[encoded data removed]",
      "text/plain": [
       "Plot with title \"Shistogram of ge\""
      ]
     },
     "metadata": {
      "image/png": {
       "height": 420,
       "width": 420
      }
     },
     "output_type": "display_data"
    }
   ],
   "source": [
    "mypar(1,1)\n",
    "shist(ge,unit=0.5)"
   ]
  },
  {
   "cell_type": "code",
   "execution_count": 104,
   "id": "ecbb3d4d",
   "metadata": {},
   "outputs": [
    {
     "data": {
      "image/png": "[encoded data removed]",
      "text/plain": [
       "plot without title"
      ]
     },
     "metadata": {
      "image/png": {
       "height": 420,
       "width": 420
      }
     },
     "output_type": "display_data"
    }
   ],
   "source": [
    "x <- ge[,1] \n",
    "y <- ge[,2]\n",
    "mypar(1,2)\n",
    "plot(x,y)\n",
    "plot((x+y)/2,x-y)"
   ]
  },
  {
   "cell_type": "code",
   "execution_count": 105,
   "id": "9b927d4f",
   "metadata": {},
   "outputs": [
    {
     "data": {
      "text/html": [
       "0.202546457404709"
      ],
      "text/latex": [
       "0.202546457404709"
      ],
      "text/markdown": [
       "0.202546457404709"
      ],
      "text/plain": [
       "[1] 0.2025465"
      ]
     },
     "metadata": {},
     "output_type": "display_data"
    }
   ],
   "source": [
    "sd(y-x)"
   ]
  },
  {
   "cell_type": "markdown",
   "id": "9727cc31",
   "metadata": {},
   "source": [
    "### Exercises P299"
   ]
  },
  {
   "cell_type": "markdown",
   "id": "2fc49f88",
   "metadata": {},
   "source": [
    "We will be using a handful of Bioconductor packages. These are installed using the function biocLite\n",
    "which you can source from the web:"
   ]
  },
  {
   "cell_type": "code",
   "execution_count": 108,
   "id": "6926fa28",
   "metadata": {},
   "outputs": [
    {
     "name": "stderr",
     "output_type": "stream",
     "text": [
      "Loading required package: affy\n",
      "\n"
     ]
    }
   ],
   "source": [
    "library(rafalib)\n",
    "library(SpikeInSubset)\n",
    "data(mas133)"
   ]
  },
  {
   "cell_type": "code",
   "execution_count": 109,
   "id": "7debc25b",
   "metadata": {},
   "outputs": [
    {
     "data": {
      "image/png": "[encoded data removed]",
      "text/plain": [
       "Plot with title \"corr=0.997\""
      ]
     },
     "metadata": {
      "image/png": {
       "height": 420,
       "width": 420
      }
     },
     "output_type": "display_data"
    }
   ],
   "source": [
    "e <- exprs(mas133)\n",
    "plot(e[,1],e[,2],main=paste0(\"corr=\",signif(cor(e[,1],e[,2]),3)),cex=0.5) \n",
    "k <- 3000\n",
    "b <- 1000 #a buffer\n",
    "polygon(c(-b,k,k,-b),c(-b,-b,k,k),col=\"red\",density=0,border=\"red\")"
   ]
  },
  {
   "cell_type": "markdown",
   "id": "968d4bf7",
   "metadata": {},
   "source": [
    "Q1: What proportion of the points are inside the box?"
   ]
  },
  {
   "cell_type": "code",
   "execution_count": 110,
   "id": "4e7d0826",
   "metadata": {},
   "outputs": [
    {
     "data": {
      "text/html": [
       "21130"
      ],
      "text/latex": [
       "21130"
      ],
      "text/markdown": [
       "21130"
      ],
      "text/plain": [
       "[1] 21130"
      ]
     },
     "metadata": {},
     "output_type": "display_data"
    }
   ],
   "source": [
    "length(which(e[,1] <= k & e[,2]<= k))"
   ]
  },
  {
   "cell_type": "code",
   "execution_count": 111,
   "id": "0743eecd",
   "metadata": {},
   "outputs": [
    {
     "data": {
      "text/html": [
       "<style>\n",
       ".list-inline {list-style: none; margin:0; padding: 0}\n",
       ".list-inline>li {display: inline-block}\n",
       ".list-inline>li:not(:last-child)::after {content: \"\\00b7\"; padding: 0 .5ex}\n",
       "</style>\n",
       "<ol class=list-inline><li>22300</li><li>6</li></ol>\n"
      ],
      "text/latex": [
       "\\begin{enumerate*}\n",
       "\\item 22300\n",
       "\\item 6\n",
       "\\end{enumerate*}\n"
      ],
      "text/markdown": [
       "1. 22300\n",
       "2. 6\n",
       "\n",
       "\n"
      ],
      "text/plain": [
       "[1] 22300     6"
      ]
     },
     "metadata": {},
     "output_type": "display_data"
    }
   ],
   "source": [
    "dim(e)"
   ]
  },
  {
   "cell_type": "code",
   "execution_count": 112,
   "id": "78ea3730",
   "metadata": {},
   "outputs": [
    {
     "data": {
      "text/html": [
       "0.947533632286995"
      ],
      "text/latex": [
       "0.947533632286995"
      ],
      "text/markdown": [
       "0.947533632286995"
      ],
      "text/plain": [
       "[1] 0.9475336"
      ]
     },
     "metadata": {},
     "output_type": "display_data"
    }
   ],
   "source": [
    "21130/22300"
   ]
  },
  {
   "cell_type": "markdown",
   "id": "08b0a982",
   "metadata": {},
   "source": [
    "Q2: Now make the sample plot with log,\n",
    "\n",
    "What is an advantage of taking the log?\n",
    "\n",
    "• A) The tails do not dominate the plot: 95% of data is not in a tiny section of plot.\n",
    "\n",
    "• B) There are less points.\n",
    "\n",
    "• C) There is exponential growth.\n",
    "\n",
    "• D) We always take logs."
   ]
  },
  {
   "cell_type": "code",
   "execution_count": 114,
   "id": "dd73298a",
   "metadata": {},
   "outputs": [
    {
     "data": {
      "image/png": "[encoded data removed]",
      "text/plain": [
       "plot without title"
      ]
     },
     "metadata": {
      "image/png": {
       "height": 420,
       "width": 420
      }
     },
     "output_type": "display_data"
    }
   ],
   "source": [
    "plot(log2(e[,1]),log2(e[,2]))\n",
    "k <- log2(3000) \n",
    "b <- log2(0.5)\n",
    "polygon(c(b,k,k,b),c(b,b,k,k),col=\"red\",density=0,border=\"red\")"
   ]
  },
  {
   "cell_type": "markdown",
   "id": "92b52f47",
   "metadata": {},
   "source": [
    "A"
   ]
  },
  {
   "cell_type": "markdown",
   "id": "56f50b72",
   "metadata": {},
   "source": [
    "Q3: Make an MA-plot:"
   ]
  },
  {
   "cell_type": "code",
   "execution_count": 115,
   "id": "c8fd176b",
   "metadata": {},
   "outputs": [
    {
     "data": {
      "image/png": "[encoded data removed]",
      "text/plain": [
       "plot without title"
      ]
     },
     "metadata": {
      "image/png": {
       "height": 420,
       "width": 420
      }
     },
     "output_type": "display_data"
    }
   ],
   "source": [
    "e <- log2(exprs(mas133))\n",
    "plot((e[,1]+e[,2])/2,e[,2]-e[,1],cex=0.5)"
   ]
  },
  {
   "cell_type": "markdown",
   "id": "1d34c0e1",
   "metadata": {},
   "source": [
    "The two samples we are plotting are replicates (they are random samples from the same batch\n",
    "of RNA). The correlation of the data was 0.997 in the original scale and 0.96 in the log-scale.\n",
    "High correlations are sometimes confused with evidence of replication. However, replication\n",
    "implies we get very small differences between the observations, which is better measured with\n",
    "distance or differences.\n",
    "What is the standard deviation of the log ratios for this comparison?"
   ]
  },
  {
   "cell_type": "code",
   "execution_count": 117,
   "id": "7c08e425",
   "metadata": {},
   "outputs": [
    {
     "data": {
      "text/html": [
       "0.77678866587692"
      ],
      "text/latex": [
       "0.77678866587692"
      ],
      "text/markdown": [
       "0.77678866587692"
      ],
      "text/plain": [
       "[1] 0.7767887"
      ]
     },
     "metadata": {},
     "output_type": "display_data"
    }
   ],
   "source": [
    "sd(e[,2]-e[,1])"
   ]
  },
  {
   "cell_type": "markdown",
   "id": "6392f176",
   "metadata": {},
   "source": [
    "Q4: How many fold changes above 2 do we see?"
   ]
  },
  {
   "cell_type": "code",
   "execution_count": 119,
   "id": "535260cf",
   "metadata": {},
   "outputs": [
    {
     "data": {
      "text/html": [
       "3057"
      ],
      "text/latex": [
       "3057"
      ],
      "text/markdown": [
       "3057"
      ],
      "text/plain": [
       "[1] 3057"
      ]
     },
     "metadata": {},
     "output_type": "display_data"
    }
   ],
   "source": [
    "sum(1<abs(e[,2]-e[,1]))"
   ]
  }
 ],
 "metadata": {
  "kernelspec": {
   "display_name": "R",
   "language": "R",
   "name": "ir"
  },
  "language_info": {
   "codemirror_mode": "r",
   "file_extension": ".r",
   "mimetype": "text/x-r-source",
   "name": "R",
   "pygments_lexer": "r",
   "version": "4.2.1"
  }
 },
 "nbformat": 4,
 "nbformat_minor": 5
}
